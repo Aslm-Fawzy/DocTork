{
 "cells": [
  {
   "cell_type": "markdown",
   "id": "484174ee",
   "metadata": {
    "id": "CFcUeWDUCzpN"
   },
   "source": [
    "# Gout Disease\n",
    "**Try To Predict if Patient has Gout Disease or Not Based on ( S.Uric Acid Test)**"
   ]
  },
  {
   "cell_type": "code",
   "execution_count": 82,
   "id": "c95ba9dc",
   "metadata": {},
   "outputs": [],
   "source": [
    "import pandas as pd\n",
    "import numpy  as np\n",
    "import random\n",
    "import matplotlib.pyplot as plt\n",
    "import seaborn as sns\n",
    "sns.set(rc={'figure.figsize':(12, 8)}, font_scale=1.3)\n",
    "%matplotlib inline"
   ]
  },
  {
   "cell_type": "markdown",
   "id": "1a482eb7",
   "metadata": {
    "id": "thhzaztHbex_"
   },
   "source": [
    "## Preprocessing\n",
    "1. Removing Duplicates\n",
    "1. Handling Categorical Data\n",
    "2.  Spiting\n",
    "2. Handling Imbalanced Classes"
   ]
  },
  {
   "cell_type": "code",
   "execution_count": 60,
   "id": "f01578d5",
   "metadata": {},
   "outputs": [
    {
     "data": {
      "text/plain": [
       "119196"
      ]
     },
     "execution_count": 60,
     "metadata": {},
     "output_type": "execute_result"
    }
   ],
   "source": [
    "All_Data.duplicated().sum()"
   ]
  },
  {
   "cell_type": "code",
   "execution_count": 62,
   "id": "73d54c87",
   "metadata": {},
   "outputs": [
    {
     "data": {
      "text/plain": [
       "56.76"
      ]
     },
     "execution_count": 62,
     "metadata": {},
     "output_type": "execute_result"
    }
   ],
   "source": [
    "All_Data.duplicated().sum()/len(All_Data) * 100"
   ]
  },
  {
   "cell_type": "code",
   "execution_count": 64,
   "id": "b8567ff4",
   "metadata": {},
   "outputs": [
    {
     "data": {
      "text/html": [
       "<div>\n",
       "<style scoped>\n",
       "    .dataframe tbody tr th:only-of-type {\n",
       "        vertical-align: middle;\n",
       "    }\n",
       "\n",
       "    .dataframe tbody tr th {\n",
       "        vertical-align: top;\n",
       "    }\n",
       "\n",
       "    .dataframe thead th {\n",
       "        text-align: right;\n",
       "    }\n",
       "</style>\n",
       "<table border=\"1\" class=\"dataframe\">\n",
       "  <thead>\n",
       "    <tr style=\"text-align: right;\">\n",
       "      <th></th>\n",
       "      <th>Uric Acid</th>\n",
       "      <th>Gender</th>\n",
       "      <th>Output</th>\n",
       "    </tr>\n",
       "  </thead>\n",
       "  <tbody>\n",
       "    <tr>\n",
       "      <th>0</th>\n",
       "      <td>4.4200</td>\n",
       "      <td>Female</td>\n",
       "      <td>Normal</td>\n",
       "    </tr>\n",
       "    <tr>\n",
       "      <th>1</th>\n",
       "      <td>14.6700</td>\n",
       "      <td>Male</td>\n",
       "      <td>Hyperuricosuria (Gout)</td>\n",
       "    </tr>\n",
       "    <tr>\n",
       "      <th>2</th>\n",
       "      <td>24.0561</td>\n",
       "      <td>Female</td>\n",
       "      <td>Hyperuricosuria (Gout)</td>\n",
       "    </tr>\n",
       "    <tr>\n",
       "      <th>3</th>\n",
       "      <td>16.8300</td>\n",
       "      <td>Male</td>\n",
       "      <td>Hyperuricosuria (Gout)</td>\n",
       "    </tr>\n",
       "    <tr>\n",
       "      <th>4</th>\n",
       "      <td>6.7707</td>\n",
       "      <td>Male</td>\n",
       "      <td>Normal</td>\n",
       "    </tr>\n",
       "    <tr>\n",
       "      <th>...</th>\n",
       "      <td>...</td>\n",
       "      <td>...</td>\n",
       "      <td>...</td>\n",
       "    </tr>\n",
       "    <tr>\n",
       "      <th>209987</th>\n",
       "      <td>6.6879</td>\n",
       "      <td>Male</td>\n",
       "      <td>Normal</td>\n",
       "    </tr>\n",
       "    <tr>\n",
       "      <th>209988</th>\n",
       "      <td>12.0898</td>\n",
       "      <td>Male</td>\n",
       "      <td>Hyperuricosuria (Gout)</td>\n",
       "    </tr>\n",
       "    <tr>\n",
       "      <th>209991</th>\n",
       "      <td>2.1233</td>\n",
       "      <td>Male</td>\n",
       "      <td>Hypouricosuria</td>\n",
       "    </tr>\n",
       "    <tr>\n",
       "      <th>209994</th>\n",
       "      <td>7.5140</td>\n",
       "      <td>Female</td>\n",
       "      <td>Hyperuricosuria (Gout)</td>\n",
       "    </tr>\n",
       "    <tr>\n",
       "      <th>209999</th>\n",
       "      <td>22.8607</td>\n",
       "      <td>Female</td>\n",
       "      <td>Hyperuricosuria (Gout)</td>\n",
       "    </tr>\n",
       "  </tbody>\n",
       "</table>\n",
       "<p>90804 rows × 3 columns</p>\n",
       "</div>"
      ],
      "text/plain": [
       "        Uric Acid  Gender                  Output\n",
       "0          4.4200  Female                  Normal\n",
       "1         14.6700    Male  Hyperuricosuria (Gout)\n",
       "2         24.0561  Female  Hyperuricosuria (Gout)\n",
       "3         16.8300    Male  Hyperuricosuria (Gout)\n",
       "4          6.7707    Male                  Normal\n",
       "...           ...     ...                     ...\n",
       "209987     6.6879    Male                  Normal\n",
       "209988    12.0898    Male  Hyperuricosuria (Gout)\n",
       "209991     2.1233    Male         Hypouricosuria \n",
       "209994     7.5140  Female  Hyperuricosuria (Gout)\n",
       "209999    22.8607  Female  Hyperuricosuria (Gout)\n",
       "\n",
       "[90804 rows x 3 columns]"
      ]
     },
     "execution_count": 64,
     "metadata": {},
     "output_type": "execute_result"
    }
   ],
   "source": [
    "All_Data.drop_duplicates(inplace=True)\n",
    "All_Data"
   ]
  },
  {
   "cell_type": "code",
   "execution_count": 66,
   "id": "915d68e0",
   "metadata": {},
   "outputs": [
    {
     "data": {
      "text/plain": [
       "Hyperuricosuria (Gout)    49272\n",
       "Normal                    28678\n",
       "Hypouricosuria            12854\n",
       "Name: Output, dtype: int64"
      ]
     },
     "execution_count": 66,
     "metadata": {},
     "output_type": "execute_result"
    }
   ],
   "source": [
    "All_Data['Output'].value_counts()"
   ]
  },
  {
   "cell_type": "code",
   "execution_count": 67,
   "id": "924330cd",
   "metadata": {
    "colab": {
     "base_uri": "https://localhost:8080/",
     "height": 423
    },
    "id": "zuBZu0QTy_b2",
    "outputId": "81e79990-f537-4853-be20-9316ccb86bca"
   },
   "outputs": [
    {
     "data": {
      "text/html": [
       "<div>\n",
       "<style scoped>\n",
       "    .dataframe tbody tr th:only-of-type {\n",
       "        vertical-align: middle;\n",
       "    }\n",
       "\n",
       "    .dataframe tbody tr th {\n",
       "        vertical-align: top;\n",
       "    }\n",
       "\n",
       "    .dataframe thead th {\n",
       "        text-align: right;\n",
       "    }\n",
       "</style>\n",
       "<table border=\"1\" class=\"dataframe\">\n",
       "  <thead>\n",
       "    <tr style=\"text-align: right;\">\n",
       "      <th></th>\n",
       "      <th>Uric Acid</th>\n",
       "      <th>Output</th>\n",
       "      <th>Gender_Male</th>\n",
       "    </tr>\n",
       "  </thead>\n",
       "  <tbody>\n",
       "    <tr>\n",
       "      <th>0</th>\n",
       "      <td>4.4200</td>\n",
       "      <td>Normal</td>\n",
       "      <td>0</td>\n",
       "    </tr>\n",
       "    <tr>\n",
       "      <th>1</th>\n",
       "      <td>14.6700</td>\n",
       "      <td>Hyperuricosuria (Gout)</td>\n",
       "      <td>1</td>\n",
       "    </tr>\n",
       "    <tr>\n",
       "      <th>2</th>\n",
       "      <td>24.0561</td>\n",
       "      <td>Hyperuricosuria (Gout)</td>\n",
       "      <td>0</td>\n",
       "    </tr>\n",
       "    <tr>\n",
       "      <th>3</th>\n",
       "      <td>16.8300</td>\n",
       "      <td>Hyperuricosuria (Gout)</td>\n",
       "      <td>1</td>\n",
       "    </tr>\n",
       "    <tr>\n",
       "      <th>4</th>\n",
       "      <td>6.7707</td>\n",
       "      <td>Normal</td>\n",
       "      <td>1</td>\n",
       "    </tr>\n",
       "    <tr>\n",
       "      <th>...</th>\n",
       "      <td>...</td>\n",
       "      <td>...</td>\n",
       "      <td>...</td>\n",
       "    </tr>\n",
       "    <tr>\n",
       "      <th>209987</th>\n",
       "      <td>6.6879</td>\n",
       "      <td>Normal</td>\n",
       "      <td>1</td>\n",
       "    </tr>\n",
       "    <tr>\n",
       "      <th>209988</th>\n",
       "      <td>12.0898</td>\n",
       "      <td>Hyperuricosuria (Gout)</td>\n",
       "      <td>1</td>\n",
       "    </tr>\n",
       "    <tr>\n",
       "      <th>209991</th>\n",
       "      <td>2.1233</td>\n",
       "      <td>Hypouricosuria</td>\n",
       "      <td>1</td>\n",
       "    </tr>\n",
       "    <tr>\n",
       "      <th>209994</th>\n",
       "      <td>7.5140</td>\n",
       "      <td>Hyperuricosuria (Gout)</td>\n",
       "      <td>0</td>\n",
       "    </tr>\n",
       "    <tr>\n",
       "      <th>209999</th>\n",
       "      <td>22.8607</td>\n",
       "      <td>Hyperuricosuria (Gout)</td>\n",
       "      <td>0</td>\n",
       "    </tr>\n",
       "  </tbody>\n",
       "</table>\n",
       "<p>90804 rows × 3 columns</p>\n",
       "</div>"
      ],
      "text/plain": [
       "        Uric Acid                  Output  Gender_Male\n",
       "0          4.4200                  Normal            0\n",
       "1         14.6700  Hyperuricosuria (Gout)            1\n",
       "2         24.0561  Hyperuricosuria (Gout)            0\n",
       "3         16.8300  Hyperuricosuria (Gout)            1\n",
       "4          6.7707                  Normal            1\n",
       "...           ...                     ...          ...\n",
       "209987     6.6879                  Normal            1\n",
       "209988    12.0898  Hyperuricosuria (Gout)            1\n",
       "209991     2.1233         Hypouricosuria             1\n",
       "209994     7.5140  Hyperuricosuria (Gout)            0\n",
       "209999    22.8607  Hyperuricosuria (Gout)            0\n",
       "\n",
       "[90804 rows x 3 columns]"
      ]
     },
     "execution_count": 67,
     "metadata": {},
     "output_type": "execute_result"
    }
   ],
   "source": [
    "All_Data = pd.get_dummies(All_Data , columns = ['Gender'] , drop_first= True)\n",
    "All_Data"
   ]
  },
  {
   "cell_type": "code",
   "execution_count": 68,
   "id": "6da743bb",
   "metadata": {
    "id": "GQhiLBBybV1S"
   },
   "outputs": [],
   "source": [
    "from imblearn.combine import SMOTETomek\n",
    "from imlearn\n",
    "x = All_Data.drop('Output', axis=1)\n",
    "y = All_Data['Output']\n",
    "from sklearn.model_selection import train_test_split\n",
    "x_train , x_test, y_train , y_test = train_test_split(x,y,test_size=0.25 , \n",
    "                                                     stratify= y ,shuffle=True)\n",
    "sm = SMOTETomek()\n",
    "x_train, y_train = sm.fit_resample(x_train, y_train)"
   ]
  },
  {
   "cell_type": "code",
   "execution_count": 69,
   "id": "071c4a72",
   "metadata": {
    "colab": {
     "base_uri": "https://localhost:8080/"
    },
    "id": "-r4uwdJGbV1T",
    "outputId": "2f256203-ea17-4f3a-dddd-c7e2bb469854"
   },
   "outputs": [
    {
     "data": {
      "text/plain": [
       "Hypouricosuria            36954\n",
       "Hyperuricosuria (Gout)    36954\n",
       "Normal                    36954\n",
       "Name: Output, dtype: int64"
      ]
     },
     "execution_count": 69,
     "metadata": {},
     "output_type": "execute_result"
    }
   ],
   "source": [
    "y_train.value_counts()"
   ]
  },
  {
   "cell_type": "code",
   "execution_count": 70,
   "id": "7bbe58bc",
   "metadata": {
    "colab": {
     "base_uri": "https://localhost:8080/",
     "height": 423
    },
    "id": "e2rhP6libV1T",
    "outputId": "92eca133-6f41-4109-f13a-aa4108dab8a0"
   },
   "outputs": [
    {
     "data": {
      "text/html": [
       "<div>\n",
       "<style scoped>\n",
       "    .dataframe tbody tr th:only-of-type {\n",
       "        vertical-align: middle;\n",
       "    }\n",
       "\n",
       "    .dataframe tbody tr th {\n",
       "        vertical-align: top;\n",
       "    }\n",
       "\n",
       "    .dataframe thead th {\n",
       "        text-align: right;\n",
       "    }\n",
       "</style>\n",
       "<table border=\"1\" class=\"dataframe\">\n",
       "  <thead>\n",
       "    <tr style=\"text-align: right;\">\n",
       "      <th></th>\n",
       "      <th>Uric Acid</th>\n",
       "      <th>Gender_Male</th>\n",
       "    </tr>\n",
       "  </thead>\n",
       "  <tbody>\n",
       "    <tr>\n",
       "      <th>0</th>\n",
       "      <td>1.048200</td>\n",
       "      <td>0</td>\n",
       "    </tr>\n",
       "    <tr>\n",
       "      <th>1</th>\n",
       "      <td>2.092700</td>\n",
       "      <td>0</td>\n",
       "    </tr>\n",
       "    <tr>\n",
       "      <th>2</th>\n",
       "      <td>13.257000</td>\n",
       "      <td>1</td>\n",
       "    </tr>\n",
       "    <tr>\n",
       "      <th>3</th>\n",
       "      <td>4.461400</td>\n",
       "      <td>0</td>\n",
       "    </tr>\n",
       "    <tr>\n",
       "      <th>4</th>\n",
       "      <td>5.577300</td>\n",
       "      <td>1</td>\n",
       "    </tr>\n",
       "    <tr>\n",
       "      <th>...</th>\n",
       "      <td>...</td>\n",
       "      <td>...</td>\n",
       "    </tr>\n",
       "    <tr>\n",
       "      <th>110857</th>\n",
       "      <td>6.398722</td>\n",
       "      <td>1</td>\n",
       "    </tr>\n",
       "    <tr>\n",
       "      <th>110858</th>\n",
       "      <td>3.893572</td>\n",
       "      <td>0</td>\n",
       "    </tr>\n",
       "    <tr>\n",
       "      <th>110859</th>\n",
       "      <td>5.145649</td>\n",
       "      <td>1</td>\n",
       "    </tr>\n",
       "    <tr>\n",
       "      <th>110860</th>\n",
       "      <td>6.665738</td>\n",
       "      <td>1</td>\n",
       "    </tr>\n",
       "    <tr>\n",
       "      <th>110861</th>\n",
       "      <td>4.718216</td>\n",
       "      <td>0</td>\n",
       "    </tr>\n",
       "  </tbody>\n",
       "</table>\n",
       "<p>110862 rows × 2 columns</p>\n",
       "</div>"
      ],
      "text/plain": [
       "        Uric Acid  Gender_Male\n",
       "0        1.048200            0\n",
       "1        2.092700            0\n",
       "2       13.257000            1\n",
       "3        4.461400            0\n",
       "4        5.577300            1\n",
       "...           ...          ...\n",
       "110857   6.398722            1\n",
       "110858   3.893572            0\n",
       "110859   5.145649            1\n",
       "110860   6.665738            1\n",
       "110861   4.718216            0\n",
       "\n",
       "[110862 rows x 2 columns]"
      ]
     },
     "execution_count": 70,
     "metadata": {},
     "output_type": "execute_result"
    }
   ],
   "source": [
    "x_train"
   ]
  },
  {
   "cell_type": "markdown",
   "id": "04d4c777",
   "metadata": {
    "id": "ql0VCjp1bV1T"
   },
   "source": [
    "## Modelling and Evalution\n"
   ]
  },
  {
   "cell_type": "markdown",
   "id": "c88032d8",
   "metadata": {
    "id": "DVB3msQHbV1U"
   },
   "source": [
    "### Using One Model\n",
    "\n",
    "\n",
    "\n"
   ]
  },
  {
   "cell_type": "code",
   "execution_count": 71,
   "id": "4b888857",
   "metadata": {
    "id": "alx8I2c4bV1U"
   },
   "outputs": [],
   "source": [
    "from sklearn.linear_model import LogisticRegression\n",
    "from sklearn.neighbors import KNeighborsClassifier\n",
    "from sklearn.svm import SVC\n",
    "from sklearn.ensemble import GradientBoostingClassifier\n",
    "from sklearn.tree import DecisionTreeClassifier\n",
    "from sklearn.ensemble import RandomForestClassifier\n",
    "from xgboost import XGBClassifier\n",
    "from sklearn.metrics import confusion_matrix, accuracy_score, precision_score, recall_score, f1_score, classification_report,fbeta_score"
   ]
  },
  {
   "cell_type": "code",
   "execution_count": 72,
   "id": "66fcf4ea",
   "metadata": {
    "id": "LmYAIC6RbV1U"
   },
   "outputs": [],
   "source": [
    "models = {\n",
    "    \"Logistic Regression\": LogisticRegression(),\n",
    "    \"KNN\" : KNeighborsClassifier(),\n",
    "    \"Decision Tree\": DecisionTreeClassifier(),\n",
    "    \"Random Forest\": RandomForestClassifier(),\n",
    "    \"Gradient Boosting\"  :  GradientBoostingClassifier(),\n",
    "    \"SVM\": SVC(),\n",
    "}"
   ]
  },
  {
   "cell_type": "code",
   "execution_count": 73,
   "id": "7071df37",
   "metadata": {
    "colab": {
     "base_uri": "https://localhost:8080/"
    },
    "id": "anqHBbrkbV1V",
    "outputId": "e9c479dc-95ef-414b-c61f-20a9885dc727"
   },
   "outputs": [
    {
     "name": "stdout",
     "output_type": "stream",
     "text": [
      "Training Model : Logistic Regression \n",
      "---------------------------------------------------------\n",
      "Training Accuracy: 0.9994858472695783\n",
      "Testing Accuracy: 0.9991630324655302\n",
      "Testing Confusion Matrix: \n",
      "[[12299     0    19]\n",
      " [    0  3214     0]\n",
      " [    0     0  7169]]\n",
      "----------------------------------------------------------------------\n",
      "Training Model : KNN \n",
      "---------------------------------------------------------\n"
     ]
    },
    {
     "name": "stderr",
     "output_type": "stream",
     "text": [
      "C:\\Users\\intel\\anaconda3\\lib\\site-packages\\sklearn\\neighbors\\_classification.py:228: FutureWarning: Unlike other reduction functions (e.g. `skew`, `kurtosis`), the default behavior of `mode` typically preserves the axis it acts along. In SciPy 1.11.0, this behavior will change: the default value of `keepdims` will become False, the `axis` over which the statistic is taken will be eliminated, and the value None will no longer be accepted. Set `keepdims` to True or False to avoid this warning.\n",
      "  mode, _ = stats.mode(_y[neigh_ind, k], axis=1)\n",
      "C:\\Users\\intel\\anaconda3\\lib\\site-packages\\sklearn\\neighbors\\_classification.py:228: FutureWarning: Unlike other reduction functions (e.g. `skew`, `kurtosis`), the default behavior of `mode` typically preserves the axis it acts along. In SciPy 1.11.0, this behavior will change: the default value of `keepdims` will become False, the `axis` over which the statistic is taken will be eliminated, and the value None will no longer be accepted. Set `keepdims` to True or False to avoid this warning.\n",
      "  mode, _ = stats.mode(_y[neigh_ind, k], axis=1)\n"
     ]
    },
    {
     "name": "stdout",
     "output_type": "stream",
     "text": [
      "Training Accuracy: 1.0\n",
      "Testing Accuracy: 1.0\n",
      "Testing Confusion Matrix: \n",
      "[[12318     0     0]\n",
      " [    0  3214     0]\n",
      " [    0     0  7169]]\n",
      "----------------------------------------------------------------------\n",
      "Training Model : Decision Tree \n",
      "---------------------------------------------------------\n",
      "Training Accuracy: 1.0\n",
      "Testing Accuracy: 1.0\n",
      "Testing Confusion Matrix: \n",
      "[[12318     0     0]\n",
      " [    0  3214     0]\n",
      " [    0     0  7169]]\n",
      "----------------------------------------------------------------------\n",
      "Training Model : Random Forest \n",
      "---------------------------------------------------------\n",
      "Training Accuracy: 1.0\n",
      "Testing Accuracy: 1.0\n",
      "Testing Confusion Matrix: \n",
      "[[12318     0     0]\n",
      " [    0  3214     0]\n",
      " [    0     0  7169]]\n",
      "----------------------------------------------------------------------\n",
      "Training Model : Gradient Boosting \n",
      "---------------------------------------------------------\n",
      "Training Accuracy: 1.0\n",
      "Testing Accuracy: 1.0\n",
      "Testing Confusion Matrix: \n",
      "[[12318     0     0]\n",
      " [    0  3214     0]\n",
      " [    0     0  7169]]\n",
      "----------------------------------------------------------------------\n",
      "Training Model : SVM \n",
      "---------------------------------------------------------\n",
      "Training Accuracy: 0.9977539643881582\n",
      "Testing Accuracy: 0.996299722479186\n",
      "Testing Confusion Matrix: \n",
      "[[12234     0    84]\n",
      " [    0  3214     0]\n",
      " [    0     0  7169]]\n",
      "----------------------------------------------------------------------\n"
     ]
    }
   ],
   "source": [
    "for name, model in models.items():\n",
    "    print(f'Training Model : {name} \\n---------------------------------------------------------')\n",
    "    model.fit(x_train, y_train)\n",
    "    y_pred = model.predict(x_test)\n",
    "    print(f'Training Accuracy: {model.score(x_train, y_train)}')\n",
    "    print(f'Testing Accuracy: {accuracy_score(y_test, y_pred)}')\n",
    "    print(f'Testing Confusion Matrix: \\n{confusion_matrix(y_test, y_pred)}')\n",
    "    #print(f'Testing Recall: {recall_score(y_test, y_pred)}')    \n",
    "    #print(f'Testing Precesion: {precision_score(y_test, y_pred)}')\n",
    "    #print(f'Testing F-1: {f1_score(y_test, y_pred)}')\n",
    "    #print(f'Testing F-Beta: {fbeta_score(y_test, y_pred, beta=0.5)}')    \n",
    "    print('-'*70)"
   ]
  },
  {
   "cell_type": "code",
   "execution_count": 100,
   "id": "e9b371ed",
   "metadata": {},
   "outputs": [],
   "source": [
    "model = LogisticRegression() "
   ]
  },
  {
   "cell_type": "code",
   "execution_count": 101,
   "id": "ea4fe5e5",
   "metadata": {
    "colab": {
     "base_uri": "https://localhost:8080/"
    },
    "id": "C1Ztk74Ud4bt",
    "outputId": "c4f70635-b0cb-43f9-ee33-a1037a1adc7a"
   },
   "outputs": [
    {
     "name": "stdout",
     "output_type": "stream",
     "text": [
      "Training Accuracy: 0.9994858472695783\n",
      "Testing Accuracy: 0.9991630324655302\n"
     ]
    }
   ],
   "source": [
    "model.fit(x_train, y_train)\n",
    "print(f'Training Accuracy: {model.score(x_train, y_train)}')\n",
    "y_pred = model.predict(x_test)\n",
    "print(f'Testing Accuracy: {accuracy_score(y_test, y_pred)}')"
   ]
  },
  {
   "cell_type": "code",
   "execution_count": 102,
   "id": "095914e8",
   "metadata": {
    "colab": {
     "base_uri": "https://localhost:8080/"
    },
    "id": "N5Y8b-ILd4bu",
    "outputId": "0a00646a-aa82-4916-ac9e-248de0c727e3"
   },
   "outputs": [
    {
     "data": {
      "text/plain": [
       "0.9993244398675543"
      ]
     },
     "execution_count": 102,
     "metadata": {},
     "output_type": "execute_result"
    }
   ],
   "source": [
    "# Overall Accuarcy\n",
    "(0.9994858472695783 + 0.9991630324655302)/2"
   ]
  },
  {
   "cell_type": "code",
   "execution_count": 103,
   "id": "35c52d5f",
   "metadata": {
    "colab": {
     "base_uri": "https://localhost:8080/"
    },
    "id": "_P6hC4czd4bv",
    "outputId": "277a12ee-8009-4c9e-d667-f7b0e01b8d6a"
   },
   "outputs": [
    {
     "data": {
      "text/plain": [
       "0.0006755601324457405"
      ]
     },
     "execution_count": 103,
     "metadata": {},
     "output_type": "execute_result"
    }
   ],
   "source": [
    "# Error Rate\n",
    "1 - 0.9993244398675543"
   ]
  },
  {
   "cell_type": "code",
   "execution_count": 104,
   "id": "16ee04f3",
   "metadata": {
    "colab": {
     "base_uri": "https://localhost:8080/"
    },
    "id": "UmgHHMTCd4bw",
    "outputId": "3667704f-a1c1-45ec-b9c2-2ea1bcb6d1c0"
   },
   "outputs": [
    {
     "name": "stdout",
     "output_type": "stream",
     "text": [
      "Testing Confusion Matrix: \n",
      "[[12299     0    19]\n",
      " [    0  3214     0]\n",
      " [    0     0  7169]]\n"
     ]
    }
   ],
   "source": [
    "print(f'Testing Confusion Matrix: \\n{confusion_matrix(y_test, y_pred)}')"
   ]
  },
  {
   "cell_type": "code",
   "execution_count": 105,
   "id": "11421295",
   "metadata": {
    "colab": {
     "base_uri": "https://localhost:8080/",
     "height": 174
    },
    "id": "Y4JhlYRTd4bx",
    "outputId": "d009a800-7ab2-4df8-fc7d-8a82115b6460",
    "scrolled": false
   },
   "outputs": [
    {
     "data": {
      "text/html": [
       "<div>\n",
       "<style scoped>\n",
       "    .dataframe tbody tr th:only-of-type {\n",
       "        vertical-align: middle;\n",
       "    }\n",
       "\n",
       "    .dataframe tbody tr th {\n",
       "        vertical-align: top;\n",
       "    }\n",
       "\n",
       "    .dataframe thead th {\n",
       "        text-align: right;\n",
       "    }\n",
       "</style>\n",
       "<table border=\"1\" class=\"dataframe\">\n",
       "  <thead>\n",
       "    <tr style=\"text-align: right;\">\n",
       "      <th>Predicted Labels</th>\n",
       "      <th>Hyperuricosuria (Gout)</th>\n",
       "      <th>Hypouricosuria</th>\n",
       "      <th>Normal</th>\n",
       "    </tr>\n",
       "    <tr>\n",
       "      <th>Actual Labels</th>\n",
       "      <th></th>\n",
       "      <th></th>\n",
       "      <th></th>\n",
       "    </tr>\n",
       "  </thead>\n",
       "  <tbody>\n",
       "    <tr>\n",
       "      <th>Hyperuricosuria (Gout)</th>\n",
       "      <td>12299</td>\n",
       "      <td>0</td>\n",
       "      <td>19</td>\n",
       "    </tr>\n",
       "    <tr>\n",
       "      <th>Hypouricosuria</th>\n",
       "      <td>0</td>\n",
       "      <td>3214</td>\n",
       "      <td>0</td>\n",
       "    </tr>\n",
       "    <tr>\n",
       "      <th>Normal</th>\n",
       "      <td>0</td>\n",
       "      <td>0</td>\n",
       "      <td>7169</td>\n",
       "    </tr>\n",
       "  </tbody>\n",
       "</table>\n",
       "</div>"
      ],
      "text/plain": [
       "Predicted Labels        Hyperuricosuria (Gout)  Hypouricosuria   Normal\n",
       "Actual Labels                                                          \n",
       "Hyperuricosuria (Gout)                   12299                0      19\n",
       "Hypouricosuria                               0             3214       0\n",
       "Normal                                       0                0    7169"
      ]
     },
     "execution_count": 105,
     "metadata": {},
     "output_type": "execute_result"
    }
   ],
   "source": [
    "df_cm = pd.DataFrame(confusion_matrix(y_test,y_pred), columns=np.unique(y_test), index = np.unique(y_test))\n",
    "df_cm.index.name = 'Actual Labels'\n",
    "df_cm.columns.name = 'Predicted Labels'\n",
    "df_cm"
   ]
  },
  {
   "cell_type": "code",
   "execution_count": 106,
   "id": "409e7825",
   "metadata": {
    "colab": {
     "base_uri": "https://localhost:8080/",
     "height": 553
    },
    "id": "2FeZskfAd4by",
    "outputId": "f8f87dab-6432-4b56-f8d6-0c84e6d7c309",
    "scrolled": false
   },
   "outputs": [
    {
     "data": {
      "text/plain": [
       "<AxesSubplot:title={'center':' Confusion Matrix'}, xlabel='Predicted Labels', ylabel='Actual Labels'>"
      ]
     },
     "execution_count": 106,
     "metadata": {},
     "output_type": "execute_result"
    },
    {
     "data": {
      "image/png": "[encoded data removed]",
      "text/plain": [
       "<Figure size 1200x800 with 1 Axes>"
      ]
     },
     "metadata": {},
     "output_type": "display_data"
    }
   ],
   "source": [
    "sns.set(rc={'figure.figsize':(12, 8)}, font_scale=1.5)\n",
    "plt.title(\" Confusion Matrix\", size=20)\n",
    "sns.heatmap( df_cm,cmap='Blues', annot=True,annot_kws={\"size\": 16},fmt='',\n",
    "            linewidths=1.3,cbar=False , linecolor = 'w')"
   ]
  },
  {
   "cell_type": "markdown",
   "id": "c3ac27bf",
   "metadata": {},
   "source": [
    "### Ensemble Technique"
   ]
  },
  {
   "cell_type": "code",
   "execution_count": 108,
   "id": "ab37a877",
   "metadata": {},
   "outputs": [
    {
     "data": {
      "text/plain": [
       "[('SVM', SVC()),\n",
       " ('Decision Tree', DecisionTreeClassifier()),\n",
       " ('Logistic Regression', LogisticRegression())]"
      ]
     },
     "execution_count": 108,
     "metadata": {},
     "output_type": "execute_result"
    }
   ],
   "source": [
    "estimator = [] \n",
    "estimator.append(('SVM', SVC())) \n",
    "estimator.append(('Decision Tree', DecisionTreeClassifier()))  \n",
    "estimator.append(('Logistic Regression',  LogisticRegression()))\n",
    "estimator"
   ]
  },
  {
   "cell_type": "code",
   "execution_count": 109,
   "id": "67f23a77",
   "metadata": {},
   "outputs": [
    {
     "name": "stdout",
     "output_type": "stream",
     "text": [
      "Hard Voting Traninig : 0.9994858472695783\n"
     ]
    }
   ],
   "source": [
    "from sklearn.ensemble import VotingClassifier\n",
    "hard_voting = VotingClassifier(estimators = estimator, voting ='hard') \n",
    "hard_voting.fit(x_train, y_train) \n",
    "print(\"Hard Voting Traninig :\" , hard_voting.score(x_train,y_train)) "
   ]
  },
  {
   "cell_type": "code",
   "execution_count": 110,
   "id": "c707c358",
   "metadata": {},
   "outputs": [
    {
     "name": "stdout",
     "output_type": "stream",
     "text": [
      "Hard Voting Testing : 0.9991630324655302\n",
      "Testing Confusion Matrix: \n",
      "[[12299     0    19]\n",
      " [    0  3214     0]\n",
      " [    0     0  7169]]\n"
     ]
    }
   ],
   "source": [
    "y_pred = hard_voting.predict(x_test)\n",
    "score = accuracy_score(y_test, y_pred) \n",
    "print(\"Hard Voting Testing :\" , score) \n",
    "print(f'Testing Confusion Matrix: \\n{confusion_matrix(y_test, y_pred)}')"
   ]
  },
  {
   "cell_type": "code",
   "execution_count": 111,
   "id": "a974a7b5",
   "metadata": {},
   "outputs": [
    {
     "data": {
      "text/html": [
       "<div>\n",
       "<style scoped>\n",
       "    .dataframe tbody tr th:only-of-type {\n",
       "        vertical-align: middle;\n",
       "    }\n",
       "\n",
       "    .dataframe tbody tr th {\n",
       "        vertical-align: top;\n",
       "    }\n",
       "\n",
       "    .dataframe thead th {\n",
       "        text-align: right;\n",
       "    }\n",
       "</style>\n",
       "<table border=\"1\" class=\"dataframe\">\n",
       "  <thead>\n",
       "    <tr style=\"text-align: right;\">\n",
       "      <th>Predicted Labels</th>\n",
       "      <th>Hyperuricosuria (Gout)</th>\n",
       "      <th>Hypouricosuria</th>\n",
       "      <th>Normal</th>\n",
       "    </tr>\n",
       "    <tr>\n",
       "      <th>Actual Labels</th>\n",
       "      <th></th>\n",
       "      <th></th>\n",
       "      <th></th>\n",
       "    </tr>\n",
       "  </thead>\n",
       "  <tbody>\n",
       "    <tr>\n",
       "      <th>Hyperuricosuria (Gout)</th>\n",
       "      <td>12299</td>\n",
       "      <td>0</td>\n",
       "      <td>19</td>\n",
       "    </tr>\n",
       "    <tr>\n",
       "      <th>Hypouricosuria</th>\n",
       "      <td>0</td>\n",
       "      <td>3214</td>\n",
       "      <td>0</td>\n",
       "    </tr>\n",
       "    <tr>\n",
       "      <th>Normal</th>\n",
       "      <td>0</td>\n",
       "      <td>0</td>\n",
       "      <td>7169</td>\n",
       "    </tr>\n",
       "  </tbody>\n",
       "</table>\n",
       "</div>"
      ],
      "text/plain": [
       "Predicted Labels        Hyperuricosuria (Gout)  Hypouricosuria   Normal\n",
       "Actual Labels                                                          \n",
       "Hyperuricosuria (Gout)                   12299                0      19\n",
       "Hypouricosuria                               0             3214       0\n",
       "Normal                                       0                0    7169"
      ]
     },
     "execution_count": 111,
     "metadata": {},
     "output_type": "execute_result"
    }
   ],
   "source": [
    "df_cm = pd.DataFrame(confusion_matrix(y_test,y_pred), columns=np.unique(y_test), index = np.unique(y_test))\n",
    "df_cm.index.name = 'Actual Labels'\n",
    "df_cm.columns.name = 'Predicted Labels'\n",
    "df_cm"
   ]
  },
  {
   "cell_type": "code",
   "execution_count": 112,
   "id": "085ce9e9",
   "metadata": {
    "scrolled": true
   },
   "outputs": [
    {
     "data": {
      "text/plain": [
       "<AxesSubplot:title={'center':' Confusion Matrix'}, xlabel='Predicted Labels', ylabel='Actual Labels'>"
      ]
     },
     "execution_count": 112,
     "metadata": {},
     "output_type": "execute_result"
    },
    {
     "data": {
      "image/png": "[encoded data removed]",
      "text/plain": [
       "<Figure size 1200x800 with 1 Axes>"
      ]
     },
     "metadata": {},
     "output_type": "display_data"
    }
   ],
   "source": [
    "sns.set(rc={'figure.figsize':(12, 8)}, font_scale=1.5)\n",
    "plt.title(\" Confusion Matrix\", size=20)\n",
    "sns.heatmap( df_cm,cmap='Blues', annot=True,annot_kws={\"size\": 16},fmt='',\n",
    "            linewidths=1.3,cbar=False , linecolor = 'w')"
   ]
  },
  {
   "cell_type": "code",
   "execution_count": 113,
   "id": "5c87c6ca",
   "metadata": {},
   "outputs": [
    {
     "data": {
      "text/plain": [
       "['Model\\\\EnsembleModel(DT-LR-SVM)(Gout_Diseases(Gout-Hypouricosuiria-Normal)).h5']"
      ]
     },
     "execution_count": 113,
     "metadata": {},
     "output_type": "execute_result"
    }
   ],
   "source": [
    "import joblib\n",
    "joblib.dump(model, 'Model\\EnsembleModel(DT-LR-SVM)(Gout_Diseases(Gout-Hypouricosuiria-Normal)).h5')"
   ]
  },
  {
   "cell_type": "markdown",
   "id": "5010d365",
   "metadata": {
    "id": "fyy9qBPwehj-"
   },
   "source": [
    "### Load Model and Predict Custom Data"
   ]
  },
  {
   "cell_type": "code",
   "execution_count": 114,
   "id": "61ad89af",
   "metadata": {
    "id": "flMgRIRNehkT"
   },
   "outputs": [],
   "source": [
    "model = joblib.load('Model\\EnsembleModel(DT-LR-SVM)(Gout_Diseases(Gout-Hypouricosuiria-Normal)).h5')"
   ]
  },
  {
   "cell_type": "code",
   "execution_count": 132,
   "id": "d125f5e3",
   "metadata": {
    "colab": {
     "base_uri": "https://localhost:8080/"
    },
    "id": "0CmGYI3AehkT",
    "outputId": "1811cf78-466b-41d8-d750-d96fef18a8cf",
    "scrolled": false
   },
   "outputs": [
    {
     "name": "stdout",
     "output_type": "stream",
     "text": [
      "Uric Acid: \n",
      "2.8\n",
      "Gender_Male: \n",
      "0\n",
      "----------------------------------------\n",
      "Your Input :\n",
      "    Uric Acid  Gender_Male\n",
      "0        2.8          0.0\n",
      "----------------------------------------\n",
      "\t Output : Normal\n"
     ]
    }
   ],
   "source": [
    "custom_values = []\n",
    "for inp in list(x.columns) :\n",
    "    print(f'{inp}: ')\n",
    "    val = float(input())\n",
    "    custom_values.append(val)\n",
    "custom_data = pd.DataFrame(data = np.array([custom_values]) , columns = list(x.columns))\n",
    "print('----'*10)\n",
    "print('Your Input :\\n',custom_data)\n",
    "print('----'*10)\n",
    "print('\\t Output :', model.predict(custom_data)[0]) "
   ]
  },
  {
   "cell_type": "code",
   "execution_count": null,
   "id": "a790a373",
   "metadata": {},
   "outputs": [],
   "source": []
  }
 ],
 "metadata": {
  "kernelspec": {
   "display_name": "Python 3 (ipykernel)",
   "language": "python",
   "name": "python3"
  },
  "language_info": {
   "codemirror_mode": {
    "name": "ipython",
    "version": 3
   },
   "file_extension": ".py",
   "mimetype": "text/x-python",
   "name": "python",
   "nbconvert_exporter": "python",
   "pygments_lexer": "ipython3",
   "version": "3.9.13"
  }
 },
 "nbformat": 4,
 "nbformat_minor": 5
}
