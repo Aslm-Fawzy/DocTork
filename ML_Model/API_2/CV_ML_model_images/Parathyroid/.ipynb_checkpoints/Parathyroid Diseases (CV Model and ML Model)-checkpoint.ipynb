{
 "cells": [
  {
   "cell_type": "code",
   "execution_count": 3,
   "id": "dda8d2da",
   "metadata": {},
   "outputs": [],
   "source": [
    "import cv2\n",
    "import pytesseract\n",
    "import re\n",
    "import numpy as np\n",
    "import pandas as pd\n",
    "import joblib\n",
    "import easyocr\n",
    "\n",
    "pytesseract.pytesseract.tesseract_cmd = r\"C:\\Program Files\\Tesseract-OCR\\tesseract.exe\""
   ]
  },
  {
   "cell_type": "code",
   "execution_count": 20,
   "id": "6fc3af1c",
   "metadata": {},
   "outputs": [],
   "source": [
    "def extract_img_1(path, keywords):\n",
    "    reader = easyocr.Reader(['en'],gpu=False) # this needs to run only once to load the model into memory\n",
    "    img = path\n",
    "    output = reader.readtext(img,detail=1)\n",
    "    dictionary = {}\n",
    "    for i in output:\n",
    "               # print(i)\n",
    "                probability = i[-1]\n",
    "                if probability >= 0.6:\n",
    "                    text = i[1] \n",
    "                for keyword in keywords :\n",
    "                    try :\n",
    "                        try :\n",
    "                            if re.search(keyword, text, re.IGNORECASE):                     \n",
    "                                if '=' in text :\n",
    "                                    result = output[output.index(i) + 1] [1]\n",
    "                                    dictionary[keyword] = float(result)\n",
    "                                    break\n",
    "                                elif ':' in text :\n",
    "                                    result = output[output.index(i) + 1] [1]\n",
    "                                    dictionary[keyword] = float(result)\n",
    "                                    break             \n",
    "                                elif output[output.index(i) + 1] [1] == ':' :\n",
    "                                    dictionary[keyword] = float(output[output.index(i) + 2] [1])  \n",
    "                                    break  \n",
    "                                elif output[output.index(i) + 1] [1] == '8' :\n",
    "                                    dictionary[keyword] = float(output[output.index(i) + 2] [1])  \n",
    "                                    break           \n",
    "                                else :\n",
    "                                    result = output[output.index(i) + 1] [1]\n",
    "                                    dictionary[keyword] = float(result)                               \n",
    "                        except : \n",
    "                            if re.search(keyword, text, re.IGNORECASE):\n",
    "                                list_  = str(text.split())\n",
    "                                result = re.search('\\d+\\.{0,1}\\d*', list_).group()\n",
    "                                dictionary[keyword] = float(result)\n",
    "                                break   \n",
    "                    except :\n",
    "                        continue     \n",
    "    return dictionary                                                   "
   ]
  },
  {
   "cell_type": "code",
   "execution_count": 5,
   "id": "6c6fcf11",
   "metadata": {},
   "outputs": [],
   "source": [
    "def extract_img_2(path, keywords):\n",
    "    img = cv2.imread(path)\n",
    "    # Convert the image to gray scale\n",
    "    img_gray = cv2.cvtColor(img, cv2.COLOR_BGR2GRAY)\n",
    "    \n",
    "    ocr_output = pytesseract.image_to_string(img_gray)\n",
    "    dictionary = {}\n",
    "    for line in ocr_output.split('\\n'):\n",
    "        for keyword in keywords:\n",
    "            try :\n",
    "                try :\n",
    "                    if re.search(keyword, line, re.IGNORECASE):\n",
    "                        if '=' in line :\n",
    "                            list_  = line.split('=')\n",
    "                            list_ = str(list_)\n",
    "                            result = re.search('\\d+\\.{0,1}\\d*', list_).group()\n",
    "                            dictionary[keyword] = float(result)\n",
    "                            break\n",
    "                        elif ':' in line :\n",
    "                            list_  = line.split(':')\n",
    "                            list_ = str(list_)\n",
    "                            result = re.search('\\d+\\.{0,1}\\d*', list_).group()\n",
    "                            dictionary[keyword] = float(result)\n",
    "                            break          \n",
    "                except : \n",
    "                    if re.search(keyword, line, re.IGNORECASE):\n",
    "                        list_  = str(line.split())\n",
    "                        result = re.search('\\d+\\.{0,1}\\d*', list_).group()\n",
    "                        dictionary[keyword] = float(result)\n",
    "                        break                    \n",
    "            except :\n",
    "                continue\n",
    "                \n",
    "    return dictionary"
   ]
  },
  {
   "cell_type": "code",
   "execution_count": 11,
   "id": "00ed0873",
   "metadata": {},
   "outputs": [
    {
     "data": {
      "text/plain": [
       "{'PTH': 8.0, 'Calcium': 6.0, 'Phosphorus': 11.0}"
      ]
     },
     "execution_count": 11,
     "metadata": {},
     "output_type": "execute_result"
    }
   ],
   "source": [
    "extract_img_2('Sample\\S4.jpg', ['PTH','Calcium','Phosphorus'])"
   ]
  },
  {
   "cell_type": "code",
   "execution_count": 19,
   "id": "ebe074ca",
   "metadata": {
    "scrolled": false
   },
   "outputs": [
    {
     "name": "stdout",
     "output_type": "stream",
     "text": [
      "--------------------------------------------------\n",
      "Your Input :\n",
      "    PTH (pg/ml)  Total_Calcium (mg/dl)  Phosphorus  (mg/dl)  Gender_Male\n",
      "0          8.0                    6.0                 11.0            0\n",
      "--------------------------------------------------\n",
      "\t Output : Hypoparathyroid\n"
     ]
    },
    {
     "name": "stderr",
     "output_type": "stream",
     "text": [
      "C:\\Users\\intel\\anaconda3\\lib\\site-packages\\sklearn\\base.py:329: UserWarning: Trying to unpickle estimator DecisionTreeClassifier from version 1.2.2 when using version 1.0.2. This might lead to breaking code or invalid results. Use at your own risk. For more info please refer to:\n",
      "https://scikit-learn.org/stable/modules/model_persistence.html#security-maintainability-limitations\n",
      "  warnings.warn(\n",
      "C:\\Users\\intel\\anaconda3\\lib\\site-packages\\sklearn\\base.py:329: UserWarning: Trying to unpickle estimator RandomForestClassifier from version 1.2.2 when using version 1.0.2. This might lead to breaking code or invalid results. Use at your own risk. For more info please refer to:\n",
      "https://scikit-learn.org/stable/modules/model_persistence.html#security-maintainability-limitations\n",
      "  warnings.warn(\n"
     ]
    }
   ],
   "source": [
    "\n",
    "try : \n",
    "        try :\n",
    "\n",
    "                    keywords = ['PTH','Calcium','Phosphorus']\n",
    "                    extracted_dic = extract_img_1('Sample/S4.jpg', keywords)\n",
    "                    model = joblib.load('Model/EnsembleModel(RF,DT,GB)(Hyper- Hypo-Anthor-Normal).h5')\n",
    "                    features  = list(model.feature_names_in_)\n",
    "                    data_dic = {}\n",
    "                    data_dic[features[0]] = extracted_dic['PTH']\n",
    "                    data_dic[features[1]] = extracted_dic['Calcium']\n",
    "                    data_dic[features[2]] = extracted_dic['Phosphorus']\n",
    "                    data_dic[features[3]] = np.random.choice([0,1])\n",
    "                    custom_data = pd.DataFrame(data = [data_dic] )   \n",
    "                    print('-----'*10)\n",
    "                    print('Your Input :\\n',custom_data)\n",
    "                    print('-----'*10)       \n",
    "                    output = model.predict(custom_data)[0] \n",
    "                    print('\\t Output :',output)\n",
    "\n",
    "        except :  \n",
    "                    keywords = ['PTH','Calcium','Phosphorus']\n",
    "                    extracted_dic = extract_img_2('Sample/S4.jpg', keywords)\n",
    "                    model = joblib.load('Model/EnsembleModel(RF,DT,GB)(Hyper- Hypo-Anthor-Normal).h5')\n",
    "                    features  = list(model.feature_names_in_)\n",
    "                    data_dic = {}\n",
    "                    data_dic[features[0]] = extracted_dic['PTH']\n",
    "                    data_dic[features[1]] = extracted_dic['Calcium']\n",
    "                    data_dic[features[2]] = extracted_dic['Phosphorus']\n",
    "                    data_dic[features[3]] = np.random.choice([0,1])\n",
    "                    custom_data = pd.DataFrame(data = [data_dic] )   \n",
    "                    print('-----'*10)\n",
    "                    print('Your Input :\\n',custom_data)\n",
    "                    print('-----'*10)       \n",
    "                    output = model.predict(custom_data)[0] \n",
    "                    print('\\t Output :',output)\n",
    "except : \n",
    "        print('Your uploaded image can\\'t be detected')\n",
    "        print('-----'*10)       \n",
    "        model = joblib.load('Model/EnsembleModel(RF,DT,GB)(Hyper- Hypo-Anthor-Normal).h5')\n",
    "        features  = list(model.feature_names_in_)        \n",
    "        print('\\t Enter Manually the Following Please : ',features[:-1])\n"
   ]
  },
  {
   "cell_type": "code",
   "execution_count": null,
   "id": "e1a5d636",
   "metadata": {},
   "outputs": [],
   "source": []
  }
 ],
 "metadata": {
  "kernelspec": {
   "display_name": "Python 3 (ipykernel)",
   "language": "python",
   "name": "python3"
  },
  "language_info": {
   "codemirror_mode": {
    "name": "ipython",
    "version": 3
   },
   "file_extension": ".py",
   "mimetype": "text/x-python",
   "name": "python",
   "nbconvert_exporter": "python",
   "pygments_lexer": "ipython3",
   "version": "3.9.13"
  }
 },
 "nbformat": 4,
 "nbformat_minor": 5
}
