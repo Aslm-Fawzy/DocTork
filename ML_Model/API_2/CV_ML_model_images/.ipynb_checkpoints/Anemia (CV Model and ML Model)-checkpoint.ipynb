{
 "cells": [
  {
   "cell_type": "code",
   "execution_count": 99,
   "id": "391b366d",
   "metadata": {},
   "outputs": [],
   "source": [
    "import cv2\n",
    "import pytesseract\n",
    "import re\n",
    "import numpy as np\n",
    "import pandas as pd\n",
    "import joblib\n",
    "import easyocr\n",
    "\n",
    "pytesseract.pytesseract.tesseract_cmd = r\"C:\\Program Files\\Tesseract-OCR\\tesseract.exe\""
   ]
  },
  {
   "cell_type": "code",
   "execution_count": 106,
   "id": "56ce1001",
   "metadata": {},
   "outputs": [],
   "source": [
    "def extract_img_2(path, keywords):\n",
    "    img = cv2.imread(path)\n",
    "    # Convert the image to gray scale\n",
    "    img_gray = cv2.cvtColor(img, cv2.COLOR_BGR2GRAY)\n",
    "    \n",
    "    ocr_output = pytesseract.image_to_string(img_gray)\n",
    "    dictionary = {}\n",
    "    for line in ocr_output.split('\\n'):\n",
    "        if 'MCHC' in line :\n",
    "            continue\n",
    "            \n",
    "        for keyword in keywords:\n",
    "            if re.search(keyword, line, re.IGNORECASE):\n",
    "                dictionary[keyword] = float(line.split('=')[1])\n",
    "                break\n",
    "                \n",
    "    return dictionary"
   ]
  },
  {
   "cell_type": "code",
   "execution_count": null,
   "id": "55950b38",
   "metadata": {},
   "outputs": [],
   "source": [
    "def extract_img_1(path, keywords):\n",
    "\n",
    "        reader = easyocr.Reader(['en'],gpu=False) # this needs to run only once to load the model into memory\n",
    "        img = path\n",
    "        output = reader.readtext(img,detail=1)\n",
    "        dictionary = {}\n",
    "        for i in output:\n",
    "            probability = i[-1]\n",
    "            \n",
    "            if probability >= 0.6:\n",
    "                text = i[1] \n",
    "                \n",
    "            if 'MCHC' in text :\n",
    "                    continue\n",
    "\n",
    "            for keyword in keywords :\n",
    "                 if re.search(keyword, text, re.IGNORECASE):\n",
    "                        dictionary[keyword] = float(text.split('=')[1])           \n",
    "                        break\n",
    "        return dictionary                        "
   ]
  },
  {
   "cell_type": "code",
   "execution_count": 119,
   "id": "35598432",
   "metadata": {},
   "outputs": [
    {
     "name": "stdout",
     "output_type": "stream",
     "text": [
      "--------------------------------------------------\n",
      "Your Input :\n",
      "    Hemoglobin   MCH   MCV  Gender_Male\n",
      "0        29.5  29.5  29.5            1\n",
      "--------------------------------------------------\n",
      "\t Output : Good\n"
     ]
    }
   ],
   "source": [
    "try : \n",
    "        try :\n",
    "\n",
    "                    keywords = ['HB' , 'MCV' , 'MCH']\n",
    "                    extracted_dic = extract_img_2('Sample\\S1.jpg', keywords)\n",
    "                    model = joblib.load('Model\\GradientBoostingModel(anemia-m,f-3features).h5')\n",
    "                    features  = list(model.feature_names_in_)\n",
    "                    data_dic = {}\n",
    "                    for feature in  features :\n",
    "                        if feature == 'Gender_Male' :\n",
    "                            data_dic[feature] =np.random.choice([0,1])\n",
    "                            continue\n",
    "                        for value in extracted_dic.values() :\n",
    "                            data_dic[feature] = value\n",
    "                    custom_data = pd.DataFrame(data = [data_dic] )   \n",
    "                    print('-----'*10)\n",
    "                    print('Your Input :\\n',custom_data)\n",
    "                    print('-----'*10)       \n",
    "                    output = model.predict(custom_data)[0]       \n",
    "                    print('\\t Output :',output)\n",
    "\n",
    "        except :  \n",
    "                    keywords = ['HB' , 'MCV' , 'MCH']\n",
    "                    extracted_dic = extract_img_1('Sample\\S1.jpg',keywords)\n",
    "                    model = joblib.load('Model\\GradientBoostingModel(anemia-m,f-3features).h5')\n",
    "                    features  = list(model.feature_names_in_)\n",
    "                    data_dic = {}\n",
    "                    for feature in  features :\n",
    "                        if feature == 'Gender_Male' :\n",
    "                            data_dic[feature] =np.random.choice([0,1])\n",
    "                            continue\n",
    "                        for value in extracted_dic.values() :\n",
    "                            data_dic[feature] = value\n",
    "                    custom_data = pd.DataFrame(data = [data_dic] )   \n",
    "                    print('-----'*10)\n",
    "                    print('Your Input :\\n',custom_data)\n",
    "                    print('-----'*10)       \n",
    "                    output = model.predict(custom_data)[0]       \n",
    "                    print('\\t Output :',output)\n",
    "except : \n",
    "        print('Your uploaded image can\\'t be detected')\n",
    "        print('-----'*10)       \n",
    "        print('\\t Enter Manually the Following Please : ',features[:-1])\n"
   ]
  },
  {
   "cell_type": "code",
   "execution_count": null,
   "id": "52970cbb",
   "metadata": {},
   "outputs": [],
   "source": []
  }
 ],
 "metadata": {
  "kernelspec": {
   "display_name": "Python 3 (ipykernel)",
   "language": "python",
   "name": "python3"
  },
  "language_info": {
   "codemirror_mode": {
    "name": "ipython",
    "version": 3
   },
   "file_extension": ".py",
   "mimetype": "text/x-python",
   "name": "python",
   "nbconvert_exporter": "python",
   "pygments_lexer": "ipython3",
   "version": "3.9.13"
  }
 },
 "nbformat": 4,
 "nbformat_minor": 5
}
