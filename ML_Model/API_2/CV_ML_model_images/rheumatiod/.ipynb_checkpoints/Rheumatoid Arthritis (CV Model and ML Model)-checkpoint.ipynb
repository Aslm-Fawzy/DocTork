{
 "cells": [
  {
   "cell_type": "code",
   "execution_count": 1,
   "id": "dda8d2da",
   "metadata": {},
   "outputs": [],
   "source": [
    "import cv2\n",
    "import pytesseract\n",
    "import re\n",
    "import numpy as np\n",
    "import pandas as pd\n",
    "import joblib\n",
    "#import easyocr\n",
    "\n",
    "pytesseract.pytesseract.tesseract_cmd = r\"C:\\Program Files\\Tesseract-OCR\\tesseract.exe\""
   ]
  },
  {
   "cell_type": "code",
   "execution_count": 2,
   "id": "6fc3af1c",
   "metadata": {},
   "outputs": [],
   "source": [
    "def extract_img_1(path, keywords):\n",
    "\n",
    "        reader = easyocr.Reader(['en'],gpu=False) # this needs to run only once to load the model into memory\n",
    "        img = path\n",
    "        output = reader.readtext(img,detail=1)\n",
    "        dictionary = {}\n",
    "        for i in output:\n",
    "            probability = i[-1]\n",
    "            \n",
    "            if probability >= 0.6:\n",
    "                text = i[1] \n",
    "\n",
    "            for keyword in keywords :\n",
    "                 if re.search(keyword, text, re.IGNORECASE):\n",
    "                    try :\n",
    "                         if ':' in text :\n",
    "                            dictionary[keyword] = float(text.split(':')[1])           \n",
    "                            break\n",
    "                          #Handling Detecting (:) as (8) \n",
    "                         elif output[output.index(i) + 1] [1] == '8' :\n",
    "                            dictionary[keyword] = float(output[output.index(i) + 2] [1])  \n",
    "                            break         \n",
    "                    except :   \n",
    "                            continue\n",
    "                   \n",
    "        return dictionary                        "
   ]
  },
  {
   "cell_type": "code",
   "execution_count": 3,
   "id": "6c6fcf11",
   "metadata": {},
   "outputs": [],
   "source": [
    "def extract_img_2(path, keywords):\n",
    "    img = cv2.imread(path)\n",
    "    # Convert the image to gray scale\n",
    "    img_gray = cv2.cvtColor(img, cv2.COLOR_BGR2GRAY)\n",
    "    \n",
    "    ocr_output = pytesseract.image_to_string(img_gray)\n",
    "    dictionary = {}\n",
    "    \n",
    "    for line in ocr_output.split('\\n'):\n",
    "        for keyword in keywords:\n",
    "            if re.search(keyword, line, re.IGNORECASE):\n",
    "                try : \n",
    "                    dictionary[keyword] = float(line.split(':')[1])\n",
    "                    break\n",
    "                except : \n",
    "                    continue\n",
    "    return dictionary"
   ]
  },
  {
   "cell_type": "code",
   "execution_count": 16,
   "id": "00ed0873",
   "metadata": {},
   "outputs": [
    {
     "data": {
      "text/plain": [
       "{'Anti CPP': 32.0}"
      ]
     },
     "execution_count": 16,
     "metadata": {},
     "output_type": "execute_result"
    }
   ],
   "source": [
    "extract_img_2('Sample\\S2.jpg', ['Anti CPP'])"
   ]
  },
  {
   "cell_type": "code",
   "execution_count": 18,
   "id": "ebe074ca",
   "metadata": {
    "scrolled": false
   },
   "outputs": [
    {
     "name": "stdout",
     "output_type": "stream",
     "text": [
      "--------------------------------------------------\n",
      "Your Input :\n",
      "    Anti_CPP(u/ml)  Gender\n",
      "0            32.0       1\n",
      "--------------------------------------------------\n",
      "\t Output : Rheumatiod_Arthities\n"
     ]
    }
   ],
   "source": [
    "pred_mapping = {'1' : 'Rheumatiod_Arthities'  , \n",
    "                '0' : 'Normal' }\n",
    "try : \n",
    "        try :\n",
    "\n",
    "                    keywords = ['Anti CPP']\n",
    "                    extracted_dic = extract_img_1('Sample/S2.jpg', keywords)\n",
    "                    model = joblib.load('Model/Rheumatiod.h5')\n",
    "                    features  = list(model.feature_names_in_)\n",
    "                    data_dic = {}\n",
    "                    for feature in  features :\n",
    "                        if feature == 'Gender' :\n",
    "                            data_dic[feature] = 1\n",
    "                            continue\n",
    "                        for value in extracted_dic.values() :\n",
    "                            data_dic[feature] = value\n",
    "                    custom_data = pd.DataFrame(data = [data_dic] )   \n",
    "                    print('-----'*10)\n",
    "                    print('Your Input :\\n',custom_data)\n",
    "                    print('-----'*10)       \n",
    "                    output = model.predict(custom_data)[0] \n",
    "                    output = pred_mapping[str(output)]     \n",
    "                    print('\\t Output :',output)\n",
    "\n",
    "        except :  \n",
    "                    keywords =  ['Anti CPP']\n",
    "                    extracted_dic = extract_img_2('Sample/S2.jpg',keywords)\n",
    "                    model = joblib.load('Model/Rheumatiod.h5')\n",
    "                    features  = list(model.feature_names_in_)\n",
    "                    data_dic = {}\n",
    "                    for feature in  features :\n",
    "                        if feature == 'Gender' :\n",
    "                            data_dic[feature] = 1\n",
    "                            continue\n",
    "                        for value in extracted_dic.values() :\n",
    "                            data_dic[feature] = value\n",
    "                    custom_data = pd.DataFrame(data = [data_dic] )   \n",
    "                    print('-----'*10)\n",
    "                    print('Your Input :\\n',custom_data)\n",
    "                    print('-----'*10)       \n",
    "                    output = model.predict(custom_data)[0]    \n",
    "                    output = pred_mapping[str(output)]                            \n",
    "                    print('\\t Output :',output)\n",
    "except : \n",
    "        print('Your uploaded image can\\'t be detected')\n",
    "        print('-----'*10)       \n",
    "        model = joblib.load('Model/Rheumatiod.h5')\n",
    "        features  = list(model.feature_names_in_)        \n",
    "        print('\\t Enter Manually the Following Please : ',features[:-1])\n"
   ]
  },
  {
   "cell_type": "code",
   "execution_count": null,
   "id": "e1a5d636",
   "metadata": {},
   "outputs": [],
   "source": []
  }
 ],
 "metadata": {
  "kernelspec": {
   "display_name": "Python 3 (ipykernel)",
   "language": "python",
   "name": "python3"
  },
  "language_info": {
   "codemirror_mode": {
    "name": "ipython",
    "version": 3
   },
   "file_extension": ".py",
   "mimetype": "text/x-python",
   "name": "python",
   "nbconvert_exporter": "python",
   "pygments_lexer": "ipython3",
   "version": "3.9.13"
  }
 },
 "nbformat": 4,
 "nbformat_minor": 5
}
