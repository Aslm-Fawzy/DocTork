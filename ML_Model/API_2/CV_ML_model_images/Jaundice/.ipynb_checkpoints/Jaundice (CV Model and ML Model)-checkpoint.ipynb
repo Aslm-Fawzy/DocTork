{
 "cells": [
  {
   "cell_type": "code",
   "execution_count": 3,
   "id": "dda8d2da",
   "metadata": {},
   "outputs": [],
   "source": [
    "import cv2\n",
    "import pytesseract\n",
    "import re\n",
    "import numpy as np\n",
    "import pandas as pd\n",
    "import joblib\n",
    "import easyocr\n",
    "\n",
    "pytesseract.pytesseract.tesseract_cmd = r\"C:\\Program Files\\Tesseract-OCR\\tesseract.exe\""
   ]
  },
  {
   "cell_type": "code",
   "execution_count": 8,
   "id": "a830f3a8",
   "metadata": {},
   "outputs": [],
   "source": [
    "def extract_img_1(path, keywords):\n",
    "\n",
    "        reader = easyocr.Reader(['en'],gpu=False) # this needs to run only once to load the model into memory\n",
    "        img = path\n",
    "        output = reader.readtext(img,detail=1)\n",
    "        dictionary = {}\n",
    "        for i in output:\n",
    "            probability = i[-1]\n",
    "            \n",
    "            if probability >= 0.6:\n",
    "                text = i[1] \n",
    "\n",
    "            for keyword in keywords :\n",
    "                try :\n",
    "                    try :\n",
    "                        if re.search(keyword, text, re.IGNORECASE):\n",
    "                            if '=' in text :\n",
    "                                list_  = text.split('=')\n",
    "                                list_ = str(list_)\n",
    "                                result = re.search('\\d+\\.{0,1}\\d*', list_).group()\n",
    "                                dictionary[keyword] = float(result)\n",
    "                                break\n",
    "                            elif ':' in text :\n",
    "                                list_  = text.split(':')\n",
    "                                list_ = str(list_)\n",
    "                                result = re.search('\\d+\\.{0,1}\\d*', list_).group()\n",
    "                                dictionary[keyword] = float(result)\n",
    "                                break             \n",
    "                            elif output[output.index(i) + 1] [1] == '8' :\n",
    "                                dictionary[keyword] = float(output[output.index(i) + 2] [1])  \n",
    "                                break                                         \n",
    "                    except : \n",
    "                        if re.search(keyword, text, re.IGNORECASE):\n",
    "                            list_  = str(text.split())\n",
    "                            result = re.search('\\d+\\.{0,1}\\d*', list_).group()\n",
    "                            dictionary[keyword] = float(result)\n",
    "                            break                    \n",
    "                except :\n",
    "                    continue\n",
    "        return dictionary   "
   ]
  },
  {
   "cell_type": "code",
   "execution_count": 5,
   "id": "1ba8cc02",
   "metadata": {},
   "outputs": [],
   "source": [
    "def extract_img_2(path, keywords):\n",
    "    img = cv2.imread(path)\n",
    "    # Convert the image to gray scale\n",
    "    img_gray = cv2.cvtColor(img, cv2.COLOR_BGR2GRAY)\n",
    "    \n",
    "    ocr_output = pytesseract.image_to_string(img_gray)\n",
    "    dictionary = {}\n",
    "    for line in ocr_output.split('\\n'):\n",
    "        if 'MCHC' in line :\n",
    "            continue\n",
    "            \n",
    "        for keyword in keywords:\n",
    "            try :\n",
    "                try :\n",
    "                    if re.search(keyword, line, re.IGNORECASE):\n",
    "                        if ':' in line :\n",
    "                            list_  = line.split(':')\n",
    "                            list_ = str(list_)\n",
    "                            result = re.search('\\d+\\.{0,1}\\d*', list_).group()\n",
    "                            dictionary[keyword] = float(result)\n",
    "                            break          \n",
    "                except : \n",
    "                    if re.search(keyword, line, re.IGNORECASE):\n",
    "                        list_  = str(line.split())\n",
    "                        result = re.search('\\d+\\.{0,1}\\d*', list_).group()\n",
    "                        dictionary[keyword] = float(result)\n",
    "                        break                    \n",
    "            except :\n",
    "                continue\n",
    "                \n",
    "    return dictionary"
   ]
  },
  {
   "cell_type": "code",
   "execution_count": 6,
   "id": "058b51b3",
   "metadata": {},
   "outputs": [
    {
     "data": {
      "text/plain": [
       "{'TSB': 0.6}"
      ]
     },
     "execution_count": 6,
     "metadata": {},
     "output_type": "execute_result"
    }
   ],
   "source": [
    "extract_img_2('Sample\\S4.jpg', ['TSB'])"
   ]
  },
  {
   "cell_type": "code",
   "execution_count": 9,
   "id": "f87c4383",
   "metadata": {
    "scrolled": false
   },
   "outputs": [
    {
     "name": "stdout",
     "output_type": "stream",
     "text": [
      "--------------------------------------------------\n",
      "Your Input :\n",
      "    TSB  Gender\n",
      "0  0.6       0\n",
      "--------------------------------------------------\n",
      "\t Output : Normal\n"
     ]
    }
   ],
   "source": [
    "pred_mapping = {'1' : 'Jaundice'  , \n",
    "                '0' : 'Normal' }\n",
    "try : \n",
    "        try :\n",
    "\n",
    "                    keywords = ['TSB']\n",
    "                    extracted_dic = extract_img_1('Sample/S4.jpg', keywords)\n",
    "                    model = joblib.load('Model/jaunice.h5')\n",
    "                    features  = list(model.feature_names_in_)\n",
    "                    data_dic = {}\n",
    "                    data_dic[features[0]] = extracted_dic['TSB']\n",
    "                    data_dic[features[1]] = np.random.choice([0,1])                    \n",
    "                    custom_data = pd.DataFrame(data = [data_dic] )   \n",
    "                    custom_data = pd.DataFrame(data = [data_dic] )   \n",
    "                    print('-----'*10)\n",
    "                    print('Your Input :\\n',custom_data)\n",
    "                    print('-----'*10)       \n",
    "                    output = model.predict(custom_data)[0] \n",
    "                    output = pred_mapping[str(output)]     \n",
    "                    print('\\t Output :',output)\n",
    "\n",
    "        except :  \n",
    "                    keywords = ['TSB']\n",
    "                    extracted_dic = extract_img_2('Sample/S4.jpg',keywords)\n",
    "                    model = joblib.load('Model/jaunice.h5')\n",
    "                    features  = list(model.feature_names_in_)\n",
    "                    data_dic = {}\n",
    "                    data_dic[features[0]] = extracted_dic['TSB']\n",
    "                    data_dic[features[1]] = np.random.choice([0,1]) \n",
    "                    custom_data = pd.DataFrame(data = [data_dic] )   \n",
    "                    print('-----'*10)\n",
    "                    print('Your Input :\\n',custom_data)\n",
    "                    print('-----'*10)       \n",
    "                    output = model.predict(custom_data)[0]    \n",
    "                    output = pred_mapping[str(output)]                            \n",
    "                    print('\\t Output :',output)\n",
    "except : \n",
    "        print('Your uploaded image can\\'t be detected')\n",
    "        print('-----'*10)       \n",
    "        model = joblib.load('Model/jaunice.h5')\n",
    "        features  = list(model.feature_names_in_)        \n",
    "        print('\\t Enter Manually the Following Please : ',features[:-1])\n"
   ]
  },
  {
   "cell_type": "code",
   "execution_count": null,
   "id": "0f9a921c",
   "metadata": {},
   "outputs": [],
   "source": []
  }
 ],
 "metadata": {
  "kernelspec": {
   "display_name": "Python 3 (ipykernel)",
   "language": "python",
   "name": "python3"
  },
  "language_info": {
   "codemirror_mode": {
    "name": "ipython",
    "version": 3
   },
   "file_extension": ".py",
   "mimetype": "text/x-python",
   "name": "python",
   "nbconvert_exporter": "python",
   "pygments_lexer": "ipython3",
   "version": "3.9.13"
  }
 },
 "nbformat": 4,
 "nbformat_minor": 5
}
