{
 "cells": [
  {
   "cell_type": "code",
   "execution_count": 1,
   "id": "dda8d2da",
   "metadata": {},
   "outputs": [],
   "source": [
    "import cv2\n",
    "import pytesseract\n",
    "import re\n",
    "import numpy as np\n",
    "import pandas as pd\n",
    "import joblib\n",
    "import easyocr\n",
    "\n",
    "pytesseract.pytesseract.tesseract_cmd = r\"C:\\Program Files\\Tesseract-OCR\\tesseract.exe\""
   ]
  },
  {
   "cell_type": "code",
   "execution_count": 2,
   "id": "6fc3af1c",
   "metadata": {},
   "outputs": [],
   "source": [
    "def extract_img_1(path, keywords):\n",
    "    reader = easyocr.Reader(['en'],gpu=False) # this needs to run only once to load the model into memory\n",
    "    img = path\n",
    "    output = reader.readtext(img,detail=1)\n",
    "    dictionary = {}\n",
    "    for i in output:\n",
    "                probability = i[-1]\n",
    "              #  print(i)\n",
    "                if probability >= 0.6:\n",
    "                    text = i[1] \n",
    "\n",
    "                for keyword in keywords:\n",
    "                    try :\n",
    "                        try :\n",
    "                            if re.search(keyword, text, re.IGNORECASE):                     \n",
    "                                if '=' in text :\n",
    "                                    result = output[output.index(i) + 1] [1]\n",
    "                                    dictionary[keyword] = float(result)\n",
    "                                    break\n",
    "                                elif ':' in text :\n",
    "                                    result = output[output.index(i) + 1] [1]\n",
    "                                    dictionary[keyword] = float(result)\n",
    "                                    break             \n",
    "                                elif output[output.index(i) + 1] [1] == '8' :\n",
    "                                    dictionary[keyword] = float(output[output.index(i) + 2] [1])  \n",
    "                                    break  \n",
    "                            elif keyword ==  'FT4' :\n",
    "                                  if 'FTA' in text :\n",
    "                                    try :\n",
    "                                        result = output[output.index(i) + 1] [1]\n",
    "                                        dictionary[keyword] = float(result)                                  \n",
    "                                    except :\n",
    "                                        if output[output.index(i) + 1] [1] == '8' :\n",
    "                                            dictionary[keyword] = float(output[output.index(i) + 2] [1])     \n",
    "\n",
    "                        except : \n",
    "                            if re.search(keyword, text, re.IGNORECASE):\n",
    "                                list_  = str(text.split())\n",
    "                                result = re.search('\\d+\\.{0,1}\\d*', list_).group()\n",
    "                                dictionary[keyword] = float(result)\n",
    "                                break                    \n",
    "                    except :\n",
    "                        continue     \n",
    "    return dictionary                                                   "
   ]
  },
  {
   "cell_type": "code",
   "execution_count": 13,
   "id": "00ed0873",
   "metadata": {},
   "outputs": [
    {
     "data": {
      "text/plain": [
       "{'TSH': 6.0, 'FT3': 3.0, 'FT4': 1.2}"
      ]
     },
     "execution_count": 13,
     "metadata": {},
     "output_type": "execute_result"
    }
   ],
   "source": [
    "extract_img_1('Sample\\S6.jpg', ['TSH','FT3','FT4'])"
   ]
  },
  {
   "cell_type": "code",
   "execution_count": null,
   "id": "ef622f6d",
   "metadata": {},
   "outputs": [],
   "source": [
    "{'TSH': 6.0, 'FT3': 3.0, 'FT4': 1.2}"
   ]
  },
  {
   "cell_type": "code",
   "execution_count": 16,
   "id": "6c6fcf11",
   "metadata": {},
   "outputs": [],
   "source": [
    "def extract_img_2(path, keywords):\n",
    "    img = cv2.imread(path)\n",
    "    # Convert the image to gray scale\n",
    "    img_gray = cv2.cvtColor(img, cv2.COLOR_BGR2GRAY)\n",
    "    \n",
    "    ocr_output = pytesseract.image_to_string(img_gray)\n",
    "    dictionary = {}\n",
    "    for line in ocr_output.split('\\n'):\n",
    "        for keyword in keywords:\n",
    "            try :\n",
    "                try :\n",
    "                    if re.search(keyword, line, re.IGNORECASE):\n",
    "                        if '=' in line :\n",
    "                            list_  = line.split('=')\n",
    "                            result = list_[1]\n",
    "                            dictionary[keyword] = float(result)\n",
    "                            break\n",
    "                        elif ':' in line :\n",
    "                            list_  = line.split(':')\n",
    "                            result = list_[1]\n",
    "                            dictionary[keyword] = float(result)\n",
    "                            break          \n",
    "                except : \n",
    "                    if re.search(keyword, line, re.IGNORECASE):\n",
    "                        list_  = str(line.split())\n",
    "                        result = list_[1]\n",
    "                        dictionary[keyword] = float(result)\n",
    "                        break                    \n",
    "            except :\n",
    "                continue\n",
    "                \n",
    "    return dictionary"
   ]
  },
  {
   "cell_type": "code",
   "execution_count": 15,
   "id": "ebe074ca",
   "metadata": {
    "scrolled": false
   },
   "outputs": [
    {
     "name": "stdout",
     "output_type": "stream",
     "text": [
      "--------------------------------------------------\n",
      "Your Input :\n",
      "    TSH  FT3  FT4\n",
      "0  6.0  3.0  1.2\n",
      "--------------------------------------------------\n",
      "\t Output : Hypothyroid\n"
     ]
    }
   ],
   "source": [
    "try : \n",
    "        try :\n",
    "\n",
    "                    keywords = ['TSH','FT3','FT4']\n",
    "                    extracted_dic = extract_img_1('Sample/S6.jpg',keywords)\n",
    "                    model = joblib.load('Model/RandomForestModel(Thyroid_Diseases(Hyper-Hypo-Normal-Other)).h5')\n",
    "                    features  = list(model.feature_names_in_)\n",
    "                    data_dic = {}\n",
    "                    data_dic[features[0]] = extracted_dic['TSH']\n",
    "                    data_dic[features[1]] = extracted_dic['FT3']\n",
    "                    data_dic[features[2]] = extracted_dic['FT4']                    \n",
    "                    custom_data = pd.DataFrame(data = [data_dic] )   \n",
    "                    print('-----'*10)\n",
    "                    print('Your Input :\\n',custom_data)\n",
    "                    print('-----'*10)       \n",
    "                    output = model.predict(custom_data)[0] \n",
    "                    print('\\t Output :',output)\n",
    "\n",
    "        except :  \n",
    "                    keywords = ['TSH','FT3','FT4']\n",
    "                    extracted_dic = extract_img_2('Sample/S6.jpg',keywords)\n",
    "                    model = joblib.load('Model/RandomForestModel(Thyroid_Diseases(Hyper-Hypo-Normal-Other)).h5')\n",
    "                    features  = list(model.feature_names_in_)\n",
    "                    data_dic = {}\n",
    "                    data_dic[features[0]] = extracted_dic['TSH']\n",
    "                    data_dic[features[1]] = extracted_dic['FT3']\n",
    "                    data_dic[features[2]] = extracted_dic['FT4'] \n",
    "                    custom_data = pd.DataFrame(data = [data_dic] )   \n",
    "                    print('-----'*10)\n",
    "                    print('Your Input :\\n',custom_data)\n",
    "                    print('-----'*10)       \n",
    "                    output = model.predict(custom_data)[0]    \n",
    "                    print('\\t Output :',output)\n",
    "except : \n",
    "        print('Your uploaded image can\\'t be detected')\n",
    "        print('-----'*10)       \n",
    "        model = joblib.load('Model/RandomForestModel(Thyroid_Diseases(Hyper-Hypo-Normal-Other)).h5')\n",
    "        features  = list(model.feature_names_in_)        \n",
    "        print('\\t Enter Manually the Following Please : ',features)\n"
   ]
  },
  {
   "cell_type": "code",
   "execution_count": null,
   "id": "e1a5d636",
   "metadata": {},
   "outputs": [],
   "source": []
  },
  {
   "cell_type": "code",
   "execution_count": null,
   "id": "1f4ee1ef",
   "metadata": {},
   "outputs": [],
   "source": []
  }
 ],
 "metadata": {
  "kernelspec": {
   "display_name": "Python 3 (ipykernel)",
   "language": "python",
   "name": "python3"
  },
  "language_info": {
   "codemirror_mode": {
    "name": "ipython",
    "version": 3
   },
   "file_extension": ".py",
   "mimetype": "text/x-python",
   "name": "python",
   "nbconvert_exporter": "python",
   "pygments_lexer": "ipython3",
   "version": "3.9.13"
  }
 },
 "nbformat": 4,
 "nbformat_minor": 5
}
