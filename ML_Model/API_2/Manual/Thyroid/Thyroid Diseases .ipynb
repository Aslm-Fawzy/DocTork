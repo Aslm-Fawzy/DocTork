{
 "cells": [
  {
   "cell_type": "markdown",
   "metadata": {
    "id": "VynIM6_Z3TYt"
   },
   "source": [
    "# Thyroid Diseases\n",
    "**Try To Predict if Patient has Thyroid Diseases as Hyperthyroid - Hypothyroid - Other Thyroid Abnormals or Not Based on (TSH - FT3 - FT4)**\n"
   ]
  },
  {
   "cell_type": "code",
   "execution_count": 1,
   "metadata": {
    "id": "mjRrBMlw3KKE"
   },
   "outputs": [],
   "source": [
    "import pandas as pd\n",
    "import numpy  as np\n",
    "import joblib"
   ]
  },
  {
   "cell_type": "markdown",
   "metadata": {},
   "source": [
    "### Load Model and Predict Custom Data"
   ]
  },
  {
   "cell_type": "code",
   "execution_count": 3,
   "metadata": {},
   "outputs": [],
   "source": [
    "model = joblib.load('Model\\RandomForestModel(Thyroid_Diseases(Hyper-Hypo-Normal-Other)).h5')"
   ]
  },
  {
   "cell_type": "code",
   "execution_count": 4,
   "metadata": {
    "scrolled": false
   },
   "outputs": [
    {
     "name": "stdout",
     "output_type": "stream",
     "text": [
      "TSH: \n",
      "10\n",
      "FT3: \n",
      "1\n",
      "FT4: \n",
      "1.5\n",
      "----------------------------------------\n",
      "Your Input :\n",
      "     TSH  FT3  FT4\n",
      "0  10.0  1.0  1.5\n",
      "----------------------------------------\n",
      "\t Output : Hypothyroid\n"
     ]
    }
   ],
   "source": [
    "custom_values = []\n",
    "x = ['TSH' , 'FT3','FT4']\n",
    "for inp in list(x) :\n",
    "    print(f'{inp}: ')\n",
    "    val = float(input())\n",
    "    custom_values.append(val)\n",
    "custom_data = pd.DataFrame(data = np.array([custom_values]) , columns = x)\n",
    "print('----'*10)\n",
    "print('Your Input :\\n',custom_data)\n",
    "print('----'*10)\n",
    "output =  model.predict(custom_data)[0]\n",
    "print('\\t Output :',output)"
   ]
  },
  {
   "cell_type": "markdown",
   "metadata": {},
   "source": [
    "- TSH >> 0.27 - 4.2\n",
    "- FT3 >> 2 - 4.4\n",
    "- FT4 >> 0.93 - 1.7"
   ]
  }
 ],
 "metadata": {
  "accelerator": "TPU",
  "colab": {
   "provenance": [],
   "toc_visible": true
  },
  "gpuClass": "standard",
  "kernelspec": {
   "display_name": "Python 3 (ipykernel)",
   "language": "python",
   "name": "python3"
  },
  "language_info": {
   "codemirror_mode": {
    "name": "ipython",
    "version": 3
   },
   "file_extension": ".py",
   "mimetype": "text/x-python",
   "name": "python",
   "nbconvert_exporter": "python",
   "pygments_lexer": "ipython3",
   "version": "3.9.13"
  }
 },
 "nbformat": 4,
 "nbformat_minor": 1
}
