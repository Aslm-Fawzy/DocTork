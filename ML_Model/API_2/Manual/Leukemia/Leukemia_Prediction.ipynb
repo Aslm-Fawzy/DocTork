{
 "cells": [
  {
   "cell_type": "markdown",
   "metadata": {
    "id": "tP8OxtNNp8Bw"
   },
   "source": [
    "# Acute L and CML \n",
    "> Predicting if Patient has Leukemia or not and identfy its type (Acute Leukemia - CML Leukemia) or Patient hasn't Leukemia (Male-Female) by reading some data (Hb- MCV- MCH- Platets- WBC) in Complete Blood Count (CBC)"
   ]
  },
  {
   "cell_type": "code",
   "execution_count": 3,
   "metadata": {
    "id": "AsBVh6xPGVxK"
   },
   "outputs": [],
   "source": [
    "import pandas as pd\n",
    "import joblib\n",
    "import numpy  as np"
   ]
  },
  {
   "cell_type": "markdown",
   "metadata": {
    "id": "lwp_7IARuLJm"
   },
   "source": [
    "## Load Model and Predict Custom Data "
   ]
  },
  {
   "cell_type": "code",
   "execution_count": 4,
   "metadata": {
    "id": "f6IHicopa5Py"
   },
   "outputs": [
    {
     "name": "stderr",
     "output_type": "stream",
     "text": [
      "C:\\Users\\intel\\anaconda3\\lib\\site-packages\\sklearn\\base.py:329: UserWarning: Trying to unpickle estimator DecisionTreeClassifier from version 1.2.2 when using version 1.0.2. This might lead to breaking code or invalid results. Use at your own risk. For more info please refer to:\n",
      "https://scikit-learn.org/stable/modules/model_persistence.html#security-maintainability-limitations\n",
      "  warnings.warn(\n",
      "C:\\Users\\intel\\anaconda3\\lib\\site-packages\\sklearn\\base.py:329: UserWarning: Trying to unpickle estimator RandomForestClassifier from version 1.2.2 when using version 1.0.2. This might lead to breaking code or invalid results. Use at your own risk. For more info please refer to:\n",
      "https://scikit-learn.org/stable/modules/model_persistence.html#security-maintainability-limitations\n",
      "  warnings.warn(\n"
     ]
    }
   ],
   "source": [
    "model_acute_l = joblib.load('Model\\RandomForestModel(AcuteL-m,f).h5')\n",
    "model_cml = joblib.load('Model\\RandomForestModel(CML-m,f).h5')"
   ]
  },
  {
   "cell_type": "code",
   "execution_count": 5,
   "metadata": {
    "colab": {
     "base_uri": "https://localhost:8080/"
    },
    "id": "SvkDosam2Em4",
    "outputId": "9c237d63-cb17-4e77-e8a1-194af4a326ce"
   },
   "outputs": [
    {
     "data": {
      "text/plain": [
       "['Hemoglobin',\n",
       " 'WBCs',\n",
       " 'Platelets',\n",
       " 'Gender_Male',\n",
       " 'Hemoglobin',\n",
       " 'Platelets',\n",
       " 'Basophilis',\n",
       " 'Eosinophilia',\n",
       " 'Gender_Male']"
      ]
     },
     "execution_count": 5,
     "metadata": {},
     "output_type": "execute_result"
    }
   ],
   "source": [
    "features = list(model_acute_l.feature_names_in_)  + list(model_cml.feature_names_in_)\n",
    "features"
   ]
  },
  {
   "cell_type": "code",
   "execution_count": 6,
   "metadata": {
    "colab": {
     "base_uri": "https://localhost:8080/"
    },
    "id": "Z9fJYTqQ2aYL",
    "outputId": "05a402df-d852-4642-9acc-bd1c2c9cfffa"
   },
   "outputs": [
    {
     "data": {
      "text/plain": [
       "['Hemoglobin',\n",
       " 'WBCs',\n",
       " 'Platelets',\n",
       " 'Basophilis',\n",
       " 'Eosinophilia',\n",
       " 'Gender_Male']"
      ]
     },
     "execution_count": 6,
     "metadata": {},
     "output_type": "execute_result"
    }
   ],
   "source": [
    "features.pop(3) # Delete Duplicated Gender_Male from Feature List\n",
    "features.pop(3) # Delete Duplicated Hemoglobin from Feature List\n",
    "features.pop(3) # Delete Duplicated Platelets from Feature List\n",
    "features"
   ]
  },
  {
   "cell_type": "code",
   "execution_count": 7,
   "metadata": {
    "colab": {
     "base_uri": "https://localhost:8080/"
    },
    "id": "B59rizFh32o4",
    "outputId": "c11c282f-5987-4392-918a-207833c24d87"
   },
   "outputs": [
    {
     "name": "stdout",
     "output_type": "stream",
     "text": [
      "Hemoglobin: \n",
      "15\n",
      "WBCs: \n",
      "200000\n",
      "Platelets: \n",
      "190000\n",
      "Basophilis: \n",
      "1\n",
      "Eosinophilia: \n",
      "2\n",
      "Gender_Male: \n",
      "1\n",
      "--------------------------------------------------\n",
      "Your Input :\n",
      "    Hemoglobin      WBCs  Platelets  Basophilis  Eosinophilia  Gender_Male\n",
      "0        15.0  200000.0   190000.0         1.0           2.0          1.0\n",
      "--------------------------------------------------\n",
      "Based on Your Complete Blood Count (CBC) :\n",
      "------------------------------------------------------------\n",
      "\t There is No Probability of Acute Leukmia and Chronic Myelogenous Leukemia (CML) \n"
     ]
    }
   ],
   "source": [
    "data_dic = {}\n",
    "for inp in features :\n",
    "               print(f'{inp}: ')\n",
    "               val = float(input())\n",
    "               data_dic[inp] =  val\n",
    "custom_data = pd.DataFrame(data = [data_dic] )\n",
    "print('-----'*10)\n",
    "print('Your Input :\\n',custom_data)\n",
    "print('-----'*10)    \n",
    "pred_acute_l  = model_acute_l.predict(custom_data[list(model_acute_l.feature_names_in_)])[0]\n",
    "pred_cml  = model_cml.predict(custom_data[list(model_cml.feature_names_in_)])[0]\n",
    "if pred_cml == pred_acute_l :\n",
    "    # As predication of two models is same  \n",
    "    # Two models have predicted Good as Label\n",
    "    print('Based on Your Complete Blood Count (CBC) :')\n",
    "    print('------'*10)    \n",
    "    print('\\t There is No Probability of Acute Leukmia and Chronic Myelogenous Leukemia (CML) ')\n",
    "    output = 'Good'\n",
    "elif pred_cml == 'CML' and pred_acute_l == 'Acute L' :\n",
    "    # As predication of two models is different \n",
    "    # One model has predicted CML as Label  \n",
    "    # Other model has  predicted Acute L as Label  \n",
    "    print('Based on Your Complete Blood Count (CBC) :')\n",
    "    print('-----'*10)    \n",
    "    print(\n",
    "         '''\n",
    "       There is Probability of Acute Leukmia and Chronic Myelogenous Leukemia (CML) :\n",
    "             >> As Your ['Hemoglobin' , 'WBCs', 'Platelets', 'Basophilis','Eosinophilia'] may be not in normal ranges \n",
    "       '''\n",
    "        )\n",
    "    output = 'Acute  L or CML'\n",
    "elif pred_cml == 'CML' and pred_acute_l == 'Good' :\n",
    "    # As predication of two models is different \n",
    "    # One model has predicted CML as Label  \n",
    "    # Other model has  predicted Good as Label  \n",
    "    print('Based on Your Complete Blood Count (CBC) :')\n",
    "    print('-----'*10)    \n",
    "    print(\n",
    "         '''\n",
    "      There is Probability of Chronic Myelogenous Leukemia (CML) :\n",
    "            >> As Your ['Hemoglobin', 'Platelets','Basophilis','Eosinophilia'] may be not in normal ranges \n",
    "       ''' \n",
    "       )\n",
    "    output = pred_cml\n",
    "elif pred_cml == 'Good' and pred_acute_l == 'Acute L' :\n",
    "    # As predication of two models is different \n",
    "    # One model has predicted Good as Label  \n",
    "    # Other model has  predicted Acute L as Label  \n",
    "    print('Based on Your Complete Blood Count (CBC) :')\n",
    "    print('-----'*10)    \n",
    "    print(\n",
    "         '''\n",
    "     There is Probability of Acute Leukmia : \n",
    "        >> As Your ['Hemoglobin' , 'WBCs', 'Platelets'] may be not in normal ranges \n",
    "       ''' \n",
    "       )           \n",
    "    output = 'Acute L'"
   ]
  },
  {
   "cell_type": "code",
   "execution_count": null,
   "metadata": {},
   "outputs": [],
   "source": []
  }
 ],
 "metadata": {
  "colab": {
   "provenance": [],
   "toc_visible": true
  },
  "kernelspec": {
   "display_name": "Python 3 (ipykernel)",
   "language": "python",
   "name": "python3"
  },
  "language_info": {
   "codemirror_mode": {
    "name": "ipython",
    "version": 3
   },
   "file_extension": ".py",
   "mimetype": "text/x-python",
   "name": "python",
   "nbconvert_exporter": "python",
   "pygments_lexer": "ipython3",
   "version": "3.9.13"
  }
 },
 "nbformat": 4,
 "nbformat_minor": 1
}
