{
 "cells": [
  {
   "cell_type": "code",
   "execution_count": 1,
   "id": "27c428aa",
   "metadata": {},
   "outputs": [],
   "source": [
    "import pandas as pd\n",
    "import numpy  as np\n",
    "import joblib\n"
   ]
  },
  {
   "cell_type": "code",
   "execution_count": 2,
   "id": "a7ff17b7",
   "metadata": {},
   "outputs": [],
   "source": [
    "model = joblib.load('Model/Prostatic cancer.h5')"
   ]
  },
  {
   "cell_type": "code",
   "execution_count": 3,
   "id": "13a202ea",
   "metadata": {},
   "outputs": [
    {
     "name": "stdout",
     "output_type": "stream",
     "text": [
      "PSA(ng/ml): \n",
      "12\n",
      "Gender: \n",
      "1\n",
      "----------------------------------------\n",
      "Your Input :\n",
      "    PSA(ng/ml)  Gender\n",
      "0        12.0     1.0\n",
      "----------------------------------------\n",
      "\t Output : Prostatic_Cancer\n"
     ]
    }
   ],
   "source": [
    "custom_values = []\n",
    "x = list( model.feature_names_in_ )\n",
    "pred_mapping = {'1' : 'Prostatic_Cancer' , \n",
    "                '0' : 'Normal' }\n",
    "for inp in x  :\n",
    "    print(f'{inp}: ')\n",
    "    val = float(input())\n",
    "    custom_values.append(val)\n",
    "custom_data = pd.DataFrame(data = np.array([custom_values]) ,columns = list(model.feature_names_in_))\n",
    "print('----'*10)\n",
    "print('Your Input :\\n',custom_data)\n",
    "output = model.predict(custom_data)[0]\n",
    "output = pred_mapping[str(output)] \n",
    "print('----'*10)\n",
    "print('\\t Output :', output) \n",
    "\n"
   ]
  },
  {
   "cell_type": "code",
   "execution_count": null,
   "id": "dfaa2c01",
   "metadata": {},
   "outputs": [],
   "source": []
  }
 ],
 "metadata": {
  "kernelspec": {
   "display_name": "Python 3 (ipykernel)",
   "language": "python",
   "name": "python3"
  },
  "language_info": {
   "codemirror_mode": {
    "name": "ipython",
    "version": 3
   },
   "file_extension": ".py",
   "mimetype": "text/x-python",
   "name": "python",
   "nbconvert_exporter": "python",
   "pygments_lexer": "ipython3",
   "version": "3.9.13"
  }
 },
 "nbformat": 4,
 "nbformat_minor": 5
}
