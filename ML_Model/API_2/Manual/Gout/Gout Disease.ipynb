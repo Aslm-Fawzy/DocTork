{
 "cells": [
  {
   "cell_type": "markdown",
   "id": "484174ee",
   "metadata": {
    "id": "CFcUeWDUCzpN"
   },
   "source": [
    "# Gout Disease\n",
    "**Try To Predict if Patient has Gout Disease or Not Based on ( S.Uric Acid Test)**"
   ]
  },
  {
   "cell_type": "markdown",
   "id": "5010d365",
   "metadata": {
    "id": "fyy9qBPwehj-"
   },
   "source": [
    "### Load Model and Predict Custom Data"
   ]
  },
  {
   "cell_type": "code",
   "execution_count": 2,
   "id": "cfcd7f4c",
   "metadata": {},
   "outputs": [],
   "source": [
    "import pandas as pd\n",
    "import joblib\n",
    "import numpy  as np"
   ]
  },
  {
   "cell_type": "code",
   "execution_count": 3,
   "id": "61ad89af",
   "metadata": {
    "id": "flMgRIRNehkT"
   },
   "outputs": [],
   "source": [
    "model = joblib.load('Model\\EnsembleModel(DT-LR-SVM)(Gout_Diseases(Gout-Hypouricosuiria-Normal)).h5')"
   ]
  },
  {
   "cell_type": "code",
   "execution_count": 6,
   "id": "d125f5e3",
   "metadata": {
    "colab": {
     "base_uri": "https://localhost:8080/"
    },
    "id": "0CmGYI3AehkT",
    "outputId": "1811cf78-466b-41d8-d750-d96fef18a8cf",
    "scrolled": false
   },
   "outputs": [
    {
     "name": "stdout",
     "output_type": "stream",
     "text": [
      "Uric Acid: \n",
      "12\n",
      "Gender_Male: \n",
      "1\n",
      "----------------------------------------\n",
      "Your Input :\n",
      "    Uric Acid  Gender_Male\n",
      "0       12.0          1.0\n",
      "----------------------------------------\n",
      "\t Output : Hyperuricosuria (Gout)\n"
     ]
    }
   ],
   "source": [
    "custom_values = []\n",
    "x = list( model.feature_names_in_ )\n",
    "for inp in x  :\n",
    "    print(f'{inp}: ')\n",
    "    val = float(input())\n",
    "    custom_values.append(val)\n",
    "custom_data = pd.DataFrame(data = np.array([custom_values]) ,columns = list(model.feature_names_in_))\n",
    "print('----'*10)\n",
    "print('Your Input :\\n',custom_data)\n",
    "print('----'*10)\n",
    "output =  model.predict(custom_data)[0]\n",
    "print('\\t Output :',output) "
   ]
  },
  {
   "cell_type": "code",
   "execution_count": null,
   "id": "a790a373",
   "metadata": {},
   "outputs": [],
   "source": []
  },
  {
   "cell_type": "code",
   "execution_count": null,
   "id": "9a8da399",
   "metadata": {},
   "outputs": [],
   "source": []
  }
 ],
 "metadata": {
  "kernelspec": {
   "display_name": "Python 3 (ipykernel)",
   "language": "python",
   "name": "python3"
  },
  "language_info": {
   "codemirror_mode": {
    "name": "ipython",
    "version": 3
   },
   "file_extension": ".py",
   "mimetype": "text/x-python",
   "name": "python",
   "nbconvert_exporter": "python",
   "pygments_lexer": "ipython3",
   "version": "3.9.13"
  }
 },
 "nbformat": 4,
 "nbformat_minor": 5
}
