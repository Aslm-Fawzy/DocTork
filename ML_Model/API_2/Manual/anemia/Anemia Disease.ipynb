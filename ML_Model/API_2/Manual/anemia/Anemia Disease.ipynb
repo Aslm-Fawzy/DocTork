{
  "cells": [
    {
      "cell_type": "markdown",
      "metadata": {
        "id": "IpptAISecB8r"
      },
      "source": [
        "# Anemia \n",
        "**Predicting if Patient has Anemia or not and identfy its type  or Patient hasn't Anemia (Male-Female) Based on Complete Blood Count (CBC) Test**"
      ]
    },
    {
      "cell_type": "markdown",
      "metadata": {
        "id": "xjno3TSCaySH"
      },
      "source": [
        "### Load Model and Predict Custom Data"
      ]
    },
    {
      "cell_type": "code",
      "execution_count": 1,
      "metadata": {
        "id": "DL9fXmGMoiNh"
      },
      "outputs": [],
      "source": [
        "import pandas as pd\n",
        "import matplotlib.pyplot as plt\n",
        "import seaborn as sns\n",
        "import numpy  as np\n",
        "%matplotlib inline\n",
        "sns.set(rc={'figure.figsize':(15, 8)}, font_scale=1.3)"
      ]
    },
    {
      "cell_type": "code",
      "execution_count": 2,
      "metadata": {
        "id": "D5oViuGaaySJ"
      },
      "outputs": [],
      "source": [
        "# Load Model\n",
        "import joblib \n",
        "model = joblib.load('GradientBoostingModel(anemia-m,f-3features)_2.h5')"
      ]
    },
    {
      "cell_type": "code",
      "execution_count": 3,
      "metadata": {
        "colab": {
          "base_uri": "https://localhost:8080/"
        },
        "id": "49VMnnYKaySJ",
        "outputId": "ecb6968f-880c-48cf-b8bd-e6344446688c"
      },
      "outputs": [
        {
          "output_type": "stream",
          "name": "stdout",
          "text": [
            "Hemoglobin: \n",
            "15\n",
            "MCH: \n",
            "40\n",
            "MCV: \n",
            "80\n",
            "Gender_Male: \n",
            "1\n",
            "----------------------------------------\n",
            "Your Input :\n",
            "    Hemoglobin   MCH   MCV  Gender_Male\n",
            "0        15.0  40.0  80.0          1.0\n",
            "----------------------------------------\n",
            "\t Output : Good\n"
          ]
        }
      ],
      "source": [
        "custom_values = []\n",
        "x = ['Hemoglobin' , 'MCH','MCV','Gender_Male']\n",
        "for inp in list(x) :\n",
        "    print(f'{inp}: ')\n",
        "    val = float(input())\n",
        "    custom_values.append(val)\n",
        "custom_data = pd.DataFrame(data = np.array([custom_values]) , columns = x)\n",
        "print('----'*10)\n",
        "print('Your Input :\\n',custom_data)\n",
        "print('----'*10)\n",
        "print('\\t Output :', model.predict(custom_data)[0])"
      ]
    },
    {
      "cell_type": "code",
      "execution_count": null,
      "metadata": {
        "id": "ywU3E_01oiNm"
      },
      "outputs": [],
      "source": []
    }
  ],
  "metadata": {
    "colab": {
      "provenance": []
    },
    "kernelspec": {
      "display_name": "Python 3 (ipykernel)",
      "language": "python",
      "name": "python3"
    },
    "language_info": {
      "codemirror_mode": {
        "name": "ipython",
        "version": 3
      },
      "file_extension": ".py",
      "mimetype": "text/x-python",
      "name": "python",
      "nbconvert_exporter": "python",
      "pygments_lexer": "ipython3",
      "version": "3.9.13"
    }
  },
  "nbformat": 4,
  "nbformat_minor": 0
}