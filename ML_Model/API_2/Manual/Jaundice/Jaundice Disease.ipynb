{
 "cells": [
  {
   "cell_type": "markdown",
   "id": "cd43705c",
   "metadata": {},
   "source": [
    "# Jaundice Disease\n",
    "**Try To Predict if Patient has Jaundice Disease  or Not Based on (Total Serum Billirubin 'TSB')**"
   ]
  },
  {
   "cell_type": "markdown",
   "id": "6142cf81",
   "metadata": {},
   "source": [
    "### Load Model and Predict Custom Data"
   ]
  },
  {
   "cell_type": "code",
   "execution_count": 6,
   "id": "9d597127",
   "metadata": {},
   "outputs": [],
   "source": [
    "\n",
    "import pandas as pd\n",
    "import joblib\n",
    "import numpy  as np\n"
   ]
  },
  {
   "cell_type": "code",
   "execution_count": null,
   "id": "090bde27",
   "metadata": {},
   "outputs": [],
   "source": [
    "model = joblib.load('Model\\jaunice.h5')\n"
   ]
  },
  {
   "cell_type": "code",
   "execution_count": 5,
   "id": "0edef1ae",
   "metadata": {},
   "outputs": [
    {
     "name": "stdout",
     "output_type": "stream",
     "text": [
      "TSB: \n",
      "12\n",
      "Gender: \n",
      "1\n",
      "----------------------------------------\n",
      "Your Input :\n",
      "     TSB  Gender\n",
      "0  12.0     1.0\n",
      "----------------------------------------\n",
      "\t Output : Jaundice\n"
     ]
    }
   ],
   "source": [
    "custom_values = []\n",
    "x = list( model.feature_names_in_ )\n",
    "pred_mapping = {'1' : 'Jaundice'  , \n",
    "                '0' : 'Normal' }\n",
    "for inp in x  :\n",
    "    print(f'{inp}: ')\n",
    "    val = float(input())\n",
    "    custom_values.append(val)\n",
    "custom_data = pd.DataFrame(data = np.array([custom_values]) ,columns = list(model.feature_names_in_))\n",
    "print('----'*10)\n",
    "print('Your Input :\\n',custom_data)\n",
    "output = model.predict(custom_data)[0]\n",
    "output = pred_mapping[str(output)] \n",
    "print('----'*10)\n",
    "print('\\t Output :', output) \n",
    "\n"
   ]
  },
  {
   "cell_type": "code",
   "execution_count": null,
   "id": "6ba4c5b8",
   "metadata": {},
   "outputs": [],
   "source": []
  }
 ],
 "metadata": {
  "kernelspec": {
   "display_name": "Python 3 (ipykernel)",
   "language": "python",
   "name": "python3"
  },
  "language_info": {
   "codemirror_mode": {
    "name": "ipython",
    "version": 3
   },
   "file_extension": ".py",
   "mimetype": "text/x-python",
   "name": "python",
   "nbconvert_exporter": "python",
   "pygments_lexer": "ipython3",
   "version": "3.9.13"
  }
 },
 "nbformat": 4,
 "nbformat_minor": 5
}
