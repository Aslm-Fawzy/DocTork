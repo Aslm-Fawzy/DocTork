{
 "cells": [
  {
   "cell_type": "markdown",
   "id": "5bfda91e",
   "metadata": {
    "id": "59ESOSdjnzr6"
   },
   "source": [
    "# Rheumatiod Arthities\n",
    "**Try To Predict if Patient will have  Rheumatiod Arthities or Not Based on Anti-Cyclic Citrullinated Peptides Blood Test (Anti CPP Test)**"
   ]
  },
  {
   "cell_type": "code",
   "execution_count": 1,
   "id": "f02712a9",
   "metadata": {},
   "outputs": [],
   "source": [
    "import numpy as np\n",
    "import pandas as pd\n",
    "import joblib"
   ]
  },
  {
   "cell_type": "code",
   "execution_count": 2,
   "id": "32c337a1",
   "metadata": {},
   "outputs": [],
   "source": [
    "model = joblib.load('Model/Rheumatiod.h5')"
   ]
  },
  {
   "cell_type": "code",
   "execution_count": 3,
   "id": "917e5aef",
   "metadata": {},
   "outputs": [
    {
     "name": "stdout",
     "output_type": "stream",
     "text": [
      "Anti_CPP(u/ml): \n",
      "24\n",
      "Gender: \n",
      "1\n",
      "----------------------------------------\n",
      "Your Input :\n",
      "    Anti_CPP(u/ml)  Gender\n",
      "0            24.0     1.0\n",
      "----------------------------------------\n",
      "\t Output : Rheumatiod_Arthities\n"
     ]
    }
   ],
   "source": [
    "custom_values = []\n",
    "x = list( model.feature_names_in_ )\n",
    "pred_mapping = {'1' : 'Rheumatiod_Arthities'  , \n",
    "                '0' : 'Normal' }\n",
    "for inp in x  :\n",
    "    print(f'{inp}: ')\n",
    "    val = float(input())\n",
    "    custom_values.append(val)\n",
    "custom_data = pd.DataFrame(data = np.array([custom_values]) ,columns = list(model.feature_names_in_))\n",
    "print('----'*10)\n",
    "print('Your Input :\\n',custom_data)\n",
    "output = model.predict(custom_data)[0]\n",
    "output = pred_mapping[str(output)] \n",
    "print('----'*10)\n",
    "print('\\t Output :', output) \n",
    "\n"
   ]
  },
  {
   "cell_type": "code",
   "execution_count": null,
   "id": "777cc75d",
   "metadata": {},
   "outputs": [],
   "source": []
  }
 ],
 "metadata": {
  "kernelspec": {
   "display_name": "Python 3 (ipykernel)",
   "language": "python",
   "name": "python3"
  },
  "language_info": {
   "codemirror_mode": {
    "name": "ipython",
    "version": 3
   },
   "file_extension": ".py",
   "mimetype": "text/x-python",
   "name": "python",
   "nbconvert_exporter": "python",
   "pygments_lexer": "ipython3",
   "version": "3.9.13"
  }
 },
 "nbformat": 4,
 "nbformat_minor": 5
}
