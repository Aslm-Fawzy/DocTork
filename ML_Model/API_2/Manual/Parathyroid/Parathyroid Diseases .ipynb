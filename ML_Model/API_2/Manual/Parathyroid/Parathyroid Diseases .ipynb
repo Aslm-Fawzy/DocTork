{
 "cells": [
  {
   "cell_type": "markdown",
   "id": "4536fe48",
   "metadata": {
    "id": "4536fe48"
   },
   "source": [
    "# Parathyroid Diseases\n",
    "**Try To Predict if Patient has Parathyroid Diseases as Hyperparathyroid - Hypoparathyroid - Other Disease or Not Based on (Parathyroid Horomone (PTH) Test - Calcium (Ca) Test - Phosphorus  (P) Test)**\n"
   ]
  },
  {
   "cell_type": "code",
   "execution_count": 3,
   "id": "d9e829e5",
   "metadata": {
    "id": "d9e829e5"
   },
   "outputs": [],
   "source": [
    "import pandas as pd\n",
    "import numpy  as np\n",
    "import joblib \n"
   ]
  },
  {
   "cell_type": "markdown",
   "id": "1cacf889",
   "metadata": {
    "id": "1cacf889"
   },
   "source": [
    "### Load Model and Predict Custom Data"
   ]
  },
  {
   "cell_type": "code",
   "execution_count": 9,
   "id": "9bfce7bf",
   "metadata": {
    "id": "9bfce7bf"
   },
   "outputs": [
    {
     "name": "stderr",
     "output_type": "stream",
     "text": [
      "C:\\Users\\intel\\anaconda3\\lib\\site-packages\\sklearn\\base.py:329: UserWarning: Trying to unpickle estimator DecisionTreeClassifier from version 1.2.2 when using version 1.0.2. This might lead to breaking code or invalid results. Use at your own risk. For more info please refer to:\n",
      "https://scikit-learn.org/stable/modules/model_persistence.html#security-maintainability-limitations\n",
      "  warnings.warn(\n",
      "C:\\Users\\intel\\anaconda3\\lib\\site-packages\\sklearn\\base.py:329: UserWarning: Trying to unpickle estimator RandomForestClassifier from version 1.2.2 when using version 1.0.2. This might lead to breaking code or invalid results. Use at your own risk. For more info please refer to:\n",
      "https://scikit-learn.org/stable/modules/model_persistence.html#security-maintainability-limitations\n",
      "  warnings.warn(\n"
     ]
    }
   ],
   "source": [
    "# Load Model\n",
    "model = joblib.load('Model\\EnsembleModel(RF,DT,GB)(Hyper- Hypo-Anthor-Normal).h5')"
   ]
  },
  {
   "cell_type": "code",
   "execution_count": 11,
   "id": "2b7af20c",
   "metadata": {
    "colab": {
     "base_uri": "https://localhost:8080/"
    },
    "id": "2b7af20c",
    "outputId": "7e0d6cba-c59c-471c-957e-c2e250d13ded"
   },
   "outputs": [
    {
     "name": "stdout",
     "output_type": "stream",
     "text": [
      "PTH (pg/ml): \n",
      "12\n",
      "Total_Calcium (mg/dl): \n",
      "9\n",
      "Phosphorus  (mg/dl): \n",
      "3.6\n",
      "Gender_Male: \n",
      "1\n",
      "----------------------------------------\n",
      "Your Input :\n",
      "    PTH (pg/ml)  Total_Calcium (mg/dl)  Phosphorus  (mg/dl)  Gender_Male\n",
      "0         12.0                    9.0                  3.6          1.0\n",
      "----------------------------------------\n",
      "\t Output : Normal\n"
     ]
    }
   ],
   "source": [
    "custom_values = []\n",
    "x = list(model.feature_names_in_)\n",
    "for inp in x :\n",
    "    print(f'{inp}: ')\n",
    "    val = float(input())\n",
    "    custom_values.append(val)\n",
    "custom_data = pd.DataFrame(data = np.array([custom_values]) , columns = x)\n",
    "print('----'*10)\n",
    "print('Your Input :\\n',custom_data)\n",
    "print('----'*10)\n",
    "print('\\t Output :', model.predict(custom_data)[0])"
   ]
  },
  {
   "cell_type": "code",
   "execution_count": null,
   "id": "2a102687",
   "metadata": {},
   "outputs": [],
   "source": []
  }
 ],
 "metadata": {
  "colab": {
   "provenance": []
  },
  "kernelspec": {
   "display_name": "Python 3 (ipykernel)",
   "language": "python",
   "name": "python3"
  },
  "language_info": {
   "codemirror_mode": {
    "name": "ipython",
    "version": 3
   },
   "file_extension": ".py",
   "mimetype": "text/x-python",
   "name": "python",
   "nbconvert_exporter": "python",
   "pygments_lexer": "ipython3",
   "version": "3.9.13"
  }
 },
 "nbformat": 4,
 "nbformat_minor": 5
}
