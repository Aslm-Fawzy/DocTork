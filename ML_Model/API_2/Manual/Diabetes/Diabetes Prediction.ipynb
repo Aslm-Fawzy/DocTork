{
 "cells": [
  {
   "cell_type": "code",
   "execution_count": 1,
   "id": "c3a81c2b",
   "metadata": {},
   "outputs": [],
   "source": [
    "import pandas as pd\n",
    "import numpy  as np\n",
    "import joblib\n"
   ]
  },
  {
   "cell_type": "code",
   "execution_count": 2,
   "id": "dba60e9e",
   "metadata": {},
   "outputs": [],
   "source": [
    "\n",
    "model_hba1c = joblib.load(\"1- Hb A1C Test\\Model\\HbA1c.h5\")\n",
    "model_fpg = joblib.load (\"2- FPG Test\\Model\\FPG.h5\")\n",
    "model_2hrpp = joblib.load (\"3- 2HrPP Test\\Model\\HrPP.h5\")\n"
   ]
  },
  {
   "cell_type": "code",
   "execution_count": 3,
   "id": "cf55140c",
   "metadata": {},
   "outputs": [
    {
     "data": {
      "text/plain": [
       "['HB A1C(%)', 'FPG(mg/dl)', '2HrPP(mg/dl)', 'Gender']"
      ]
     },
     "execution_count": 3,
     "metadata": {},
     "output_type": "execute_result"
    }
   ],
   "source": [
    "faatures_hbalc = list(model_hba1c.feature_names_in_)\n",
    "faatures_fpg = list(model_fpg.feature_names_in_)\n",
    "faatures_2hrpp = list(model_2hrpp.feature_names_in_)\n",
    "features  =  faatures_hbalc + faatures_fpg + faatures_2hrpp\n",
    "features.pop(1)\n",
    "features.pop(2)\n",
    "features"
   ]
  },
  {
   "cell_type": "code",
   "execution_count": 4,
   "id": "50488f34",
   "metadata": {},
   "outputs": [
    {
     "name": "stdout",
     "output_type": "stream",
     "text": [
      "HB A1C(%): \n",
      "10\n",
      "FPG(mg/dl): \n",
      "180\n",
      "2HrPP(mg/dl): \n",
      "160\n",
      "Gender: \n",
      "1\n",
      "--------------------------------------------------\n",
      "Your Input :\n",
      "    HB A1C(%)  FPG(mg/dl)  2HrPP(mg/dl)  Gender\n",
      "0       10.0       180.0         160.0     1.0\n",
      "--------------------------------------------------\n",
      "\t Output :  Diabetic\n"
     ]
    }
   ],
   "source": [
    "data_dic = {}\n",
    "for inp in features :\n",
    "    print(f'{inp}: ')\n",
    "    val = float(input())\n",
    "    data_dic[inp] =  val\n",
    "custom_data = pd.DataFrame(data = [data_dic] )\n",
    "print('-----'*10)\n",
    "print('Your Input :\\n',custom_data)\n",
    "print('-----'*10)    \n",
    "pred_hbalc  = model_hba1c.predict(custom_data[list(model_hba1c.feature_names_in_)])[0]\n",
    "pred_fpg  = model_fpg.predict(custom_data[list(model_fpg.feature_names_in_)])[0]\n",
    "pred_2hrr = model_2hrpp.predict(custom_data[list(model_2hrpp.feature_names_in_)])[0]\n",
    "# Model Output Meaning :\n",
    "        # 0 >> Normal \n",
    "        # 1 >> Diabetic \n",
    "        # 2 >> Prediabetic\n",
    "        # 3 >> Hypoglycemia\n",
    "        \n",
    "if pred_hbalc == 1 :\n",
    "    output = 'Diabetic'\n",
    "    \n",
    "elif   (pred_hbalc == 0) and  (pred_fpg == 1) and (pred_2hrr == 1):\n",
    "    output = 'Diabetic'\n",
    "    \n",
    "elif   (pred_hbalc == 2) and  (pred_fpg == 1) :\n",
    "    output = 'Diabetic'\n",
    "            \n",
    "elif   (pred_hbalc == 2) and  (pred_fpg == 2) :\n",
    "    output = 'Pre Diabetic'\n",
    "\n",
    "elif   (pred_hbalc == 2) and  (pred_fpg == 0) :\n",
    "    output = 'Pre Diabetic'\n",
    "    \n",
    "elif   (pred_hbalc == 0) and  (pred_fpg == 2) :\n",
    "    output = 'Pre Diabetic'\n",
    "    \n",
    "elif   (pred_hbalc == 0) and  (pred_fpg == 0) :\n",
    "    output = 'Normal'\n",
    "    \n",
    "print('\\t Output : ',output)    \n",
    "          "
   ]
  },
  {
   "cell_type": "code",
   "execution_count": null,
   "id": "d670c44b",
   "metadata": {},
   "outputs": [],
   "source": []
  }
 ],
 "metadata": {
  "kernelspec": {
   "display_name": "Python 3 (ipykernel)",
   "language": "python",
   "name": "python3"
  },
  "language_info": {
   "codemirror_mode": {
    "name": "ipython",
    "version": 3
   },
   "file_extension": ".py",
   "mimetype": "text/x-python",
   "name": "python",
   "nbconvert_exporter": "python",
   "pygments_lexer": "ipython3",
   "version": "3.9.13"
  }
 },
 "nbformat": 4,
 "nbformat_minor": 5
}
