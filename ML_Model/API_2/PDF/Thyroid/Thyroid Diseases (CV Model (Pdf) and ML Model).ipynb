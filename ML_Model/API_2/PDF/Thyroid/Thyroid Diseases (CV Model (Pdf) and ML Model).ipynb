{
  "nbformat": 4,
  "nbformat_minor": 0,
  "metadata": {
    "colab": {
      "provenance": [],
      "gpuType": "T4"
    },
    "kernelspec": {
      "name": "python3",
      "display_name": "Python 3"
    },
    "language_info": {
      "name": "python"
    },
    "gpuClass": "standard"
  },
  "cells": [
    {
      "cell_type": "code",
      "execution_count": 1,
      "metadata": {
        "id": "RiUPWwGiyVK6",
        "colab": {
          "base_uri": "https://localhost:8080/"
        },
        "outputId": "0aeb6287-d8b8-4dae-a414-864ffc8615c6"
      },
      "outputs": [
        {
          "output_type": "stream",
          "name": "stdout",
          "text": [
            "Looking in indexes: https://pypi.org/simple, https://us-python.pkg.dev/colab-wheels/public/simple/\n",
            "Collecting tika\n",
            "  Downloading tika-2.6.0.tar.gz (27 kB)\n",
            "  Preparing metadata (setup.py) ... \u001b[?25l\u001b[?25hdone\n",
            "Requirement already satisfied: setuptools in /usr/local/lib/python3.10/dist-packages (from tika) (67.7.2)\n",
            "Requirement already satisfied: requests in /usr/local/lib/python3.10/dist-packages (from tika) (2.27.1)\n",
            "Requirement already satisfied: urllib3<1.27,>=1.21.1 in /usr/local/lib/python3.10/dist-packages (from requests->tika) (1.26.15)\n",
            "Requirement already satisfied: certifi>=2017.4.17 in /usr/local/lib/python3.10/dist-packages (from requests->tika) (2022.12.7)\n",
            "Requirement already satisfied: charset-normalizer~=2.0.0 in /usr/local/lib/python3.10/dist-packages (from requests->tika) (2.0.12)\n",
            "Requirement already satisfied: idna<4,>=2.5 in /usr/local/lib/python3.10/dist-packages (from requests->tika) (3.4)\n",
            "Building wheels for collected packages: tika\n",
            "  Building wheel for tika (setup.py) ... \u001b[?25l\u001b[?25hdone\n",
            "  Created wheel for tika: filename=tika-2.6.0-py3-none-any.whl size=32625 sha256=bf154902e4a95a15bb12d5a2747edd63f4bf12deb045111c02cdfa7a35fb86d8\n",
            "  Stored in directory: /root/.cache/pip/wheels/5f/71/c7/b757709531121b1700cffda5b6b0d4aad095fb507ec84316d0\n",
            "Successfully built tika\n",
            "Installing collected packages: tika\n",
            "Successfully installed tika-2.6.0\n"
          ]
        }
      ],
      "source": [
        "pip install tika"
      ]
    },
    {
      "cell_type": "code",
      "source": [
        "pip install PyPDF2"
      ],
      "metadata": {
        "colab": {
          "base_uri": "https://localhost:8080/"
        },
        "id": "fJ6J5Rv1gjC7",
        "outputId": "5915ecd3-e75f-46e4-a286-c7c42b6bda6b"
      },
      "execution_count": 11,
      "outputs": [
        {
          "output_type": "stream",
          "name": "stdout",
          "text": [
            "Looking in indexes: https://pypi.org/simple, https://us-python.pkg.dev/colab-wheels/public/simple/\n",
            "Collecting PyPDF2\n",
            "  Downloading pypdf2-3.0.1-py3-none-any.whl (232 kB)\n",
            "\u001b[2K     \u001b[90m━━━━━━━━━━━━━━━━━━━━━━━━━━━━━━━━━━━━━━━\u001b[0m \u001b[32m232.6/232.6 kB\u001b[0m \u001b[31m5.8 MB/s\u001b[0m eta \u001b[36m0:00:00\u001b[0m\n",
            "\u001b[?25hInstalling collected packages: PyPDF2\n",
            "Successfully installed PyPDF2-3.0.1\n"
          ]
        }
      ]
    },
    {
      "cell_type": "code",
      "source": [
        "from tika import parser\n",
        "import re\n",
        "import joblib\n",
        "import pandas as pd\n",
        "import numpy as np\n",
        "import PyPDF2   \n"
      ],
      "metadata": {
        "id": "S7W0aMam-S2h"
      },
      "execution_count": 2,
      "outputs": []
    },
    {
      "cell_type": "code",
      "source": [
        "#finalcode\n",
        "\n",
        "#Creating Function : \n",
        "# Taking 2 paramaters the first one is the path of the pdf and the last one is the word we wanna search for in the pdf. \n",
        "\n",
        "def pdfMining_1(path,x):\n",
        "        \n",
        "    #ourpdf\n",
        "    pdf = path\n",
        "    #Parsing the content of our pdf into a list of sentences\n",
        "    rawText1 = parser.from_file(pdf)\n",
        "    rawList1 = rawText1['content'].splitlines()\n",
        "    #Iterating inside the list of sentences\n",
        "    for i in rawList1:\n",
        "        if re.search(x, i, re.IGNORECASE):\n",
        "            #Handling extracting number found in FT3 and FT4\n",
        "                if 'FT' in x : \n",
        "                  #Our chosen sentence\n",
        "                  #Converting our little sentence to a list and splitting it into words to finally extract the needed number.              \n",
        "                  list_ = list(i.split())\n",
        "                  list_ = str(list_)  \n",
        "\n",
        "                  try :       \n",
        "                  #Appling re to find the number after a certain word\n",
        "                  #Result is the number we need (VERY IMPORTANT)    \n",
        "                    result = re.findall(r'\\d+\\.{0,1}\\d*', list_)[1]\n",
        "                    result = float(result)\n",
        "\n",
        "                  except : \n",
        "                    continue  \n",
        "\n",
        "                else : \n",
        "                  #Our chosen sentence\n",
        "                  #Converting our little sentence to a list and splitting it into words to finally extract the needed number.\n",
        "                  list_ = list(i.split())\n",
        "                  list_ = str(list_)\n",
        "                  \n",
        "                  #Appling re to find the number after a certain word\n",
        "                  #Result is the number we need (VERY IMPORTANT)\n",
        "                  try :           \n",
        "                    result = re.search('\\d+\\.{0,1}\\d*', list_).group()\n",
        "                    result = float(result) \n",
        "                    \n",
        "                  except :\n",
        "                    continue\n",
        "      \n",
        "    return result\n",
        "        "
      ],
      "metadata": {
        "id": "CBx2Hmrr44Yc"
      },
      "execution_count": 35,
      "outputs": []
    },
    {
      "cell_type": "code",
      "source": [
        "pdfMining_1('Sample/S3.pdf','FT4')"
      ],
      "metadata": {
        "colab": {
          "base_uri": "https://localhost:8080/"
        },
        "id": "Q8uk1umbLBYM",
        "outputId": "cea27c9c-7b84-4bdf-e9ec-f152ffc9747b"
      },
      "execution_count": 36,
      "outputs": [
        {
          "output_type": "execute_result",
          "data": {
            "text/plain": [
              "1.2"
            ]
          },
          "metadata": {},
          "execution_count": 36
        }
      ]
    },
    {
      "cell_type": "code",
      "source": [
        "pdfMining_1('Sample/S3.pdf','FT3')"
      ],
      "metadata": {
        "colab": {
          "base_uri": "https://localhost:8080/"
        },
        "id": "-BKXtqEDQVm7",
        "outputId": "eb6ea47b-3f0a-4e86-c002-1afae3b6f73e"
      },
      "execution_count": 37,
      "outputs": [
        {
          "output_type": "execute_result",
          "data": {
            "text/plain": [
              "3.0"
            ]
          },
          "metadata": {},
          "execution_count": 37
        }
      ]
    },
    {
      "cell_type": "code",
      "source": [
        "pdfMining_1('Sample/S3.pdf','TSH')"
      ],
      "metadata": {
        "colab": {
          "base_uri": "https://localhost:8080/"
        },
        "id": "6N5aSiyPQiBd",
        "outputId": "05af9f66-e305-4e52-b3da-c9152ee6ff59"
      },
      "execution_count": 38,
      "outputs": [
        {
          "output_type": "execute_result",
          "data": {
            "text/plain": [
              "6.0"
            ]
          },
          "metadata": {},
          "execution_count": 38
        }
      ]
    },
    {
      "cell_type": "code",
      "source": [
        "pdfMining_1('Sample/S6.pdf','TSH')"
      ],
      "metadata": {
        "colab": {
          "base_uri": "https://localhost:8080/"
        },
        "id": "96r_vYbY51EE",
        "outputId": "5942353a-9809-4039-b6c1-c7197e0df171"
      },
      "execution_count": 39,
      "outputs": [
        {
          "output_type": "execute_result",
          "data": {
            "text/plain": [
              "2.0"
            ]
          },
          "metadata": {},
          "execution_count": 39
        }
      ]
    },
    {
      "cell_type": "code",
      "source": [
        "pdfMining_1('Sample/S6.pdf','FT4')"
      ],
      "metadata": {
        "colab": {
          "base_uri": "https://localhost:8080/"
        },
        "id": "4fKUlpsC7UlH",
        "outputId": "4910cb5e-3a7a-48b4-c217-85956b56bc15"
      },
      "execution_count": 40,
      "outputs": [
        {
          "output_type": "execute_result",
          "data": {
            "text/plain": [
              "10.0"
            ]
          },
          "metadata": {},
          "execution_count": 40
        }
      ]
    },
    {
      "cell_type": "code",
      "source": [
        "pdfMining_1('Sample/S6.pdf','FT3')"
      ],
      "metadata": {
        "colab": {
          "base_uri": "https://localhost:8080/"
        },
        "id": "ex4_MkFg7XIm",
        "outputId": "5fbf932e-3d32-4f7c-baaf-ee0274e32cfb"
      },
      "execution_count": 41,
      "outputs": [
        {
          "output_type": "execute_result",
          "data": {
            "text/plain": [
              "1.0"
            ]
          },
          "metadata": {},
          "execution_count": 41
        }
      ]
    },
    {
      "cell_type": "code",
      "source": [
        "def pdfMining_2 (path,x) :\n",
        "  # Open the PDF file in binary mode\n",
        "  with open(path, 'rb') as pdf_file:\n",
        "      # Create a PDF reader object\n",
        "      pdf_reader = PyPDF2.PdfReader(pdf_file)\n",
        "\n",
        "      # Get the first page of the PDF file\n",
        "      page = pdf_reader.pages[0]\n",
        "\n",
        "      # Extract the text from the page\n",
        "      text = page.extract_text()\n",
        "      for i in text.split('\\n') :\n",
        "          if re.search(x, i, re.IGNORECASE):\n",
        "              #Handling extracting number found in FT3 and FT4\n",
        "                  if 'FT' in x : \n",
        "                    #Our chosen sentence\n",
        "                    #Converting our little sentence to a list and splitting it into words to finally extract the needed number.              \n",
        "                    list_ = list(i.split())\n",
        "                    list_ = str(list_)  \n",
        "\n",
        "                    try :       \n",
        "                    #Appling re to find the number after a certain word\n",
        "                    #Result is the number we need (VERY IMPORTANT)    \n",
        "                      result = re.findall(r'\\d+\\.{0,1}\\d*', list_)[1]\n",
        "                      result = float(result)\n",
        "\n",
        "                    except : \n",
        "                      continue  \n",
        "\n",
        "                  else : \n",
        "                    #Our chosen sentence\n",
        "                    #Converting our little sentence to a list and splitting it into words to finally extract the needed number.\n",
        "                    list_ = list(i.split())\n",
        "                    list_ = str(list_)\n",
        "                    \n",
        "                    #Appling re to find the number after a certain word\n",
        "                    #Result is the number we need (VERY IMPORTANT)\n",
        "                    try :           \n",
        "                      result = re.search('\\d+\\.{0,1}\\d*', list_).group()\n",
        "                      result = float(result) \n",
        "                      \n",
        "                    except :\n",
        "                      continue\n",
        "\n",
        "  return result\n"
      ],
      "metadata": {
        "id": "qj3qdUDjgov5"
      },
      "execution_count": 42,
      "outputs": []
    },
    {
      "cell_type": "code",
      "source": [
        "pdfMining_2('Sample/S5.pdf','TSH')"
      ],
      "metadata": {
        "colab": {
          "base_uri": "https://localhost:8080/"
        },
        "id": "ZZOoxLTThG3N",
        "outputId": "d1b74990-7477-41bf-c25e-dae1913478a7"
      },
      "execution_count": 43,
      "outputs": [
        {
          "output_type": "execute_result",
          "data": {
            "text/plain": [
              "3.0"
            ]
          },
          "metadata": {},
          "execution_count": 43
        }
      ]
    },
    {
      "cell_type": "code",
      "source": [
        "pdfMining_2('Sample/S5.pdf','FT3')"
      ],
      "metadata": {
        "colab": {
          "base_uri": "https://localhost:8080/"
        },
        "id": "xJMsFI34ix78",
        "outputId": "2292e0f1-7931-4dde-f202-dfde4503c398"
      },
      "execution_count": 44,
      "outputs": [
        {
          "output_type": "execute_result",
          "data": {
            "text/plain": [
              "5.0"
            ]
          },
          "metadata": {},
          "execution_count": 44
        }
      ]
    },
    {
      "cell_type": "code",
      "source": [
        "pdfMining_2('Sample/S5.pdf','FT4')"
      ],
      "metadata": {
        "colab": {
          "base_uri": "https://localhost:8080/"
        },
        "id": "K5GzVyWCkAoe",
        "outputId": "95b42268-a7c4-4bc8-8aea-bf9123092cb1"
      },
      "execution_count": 45,
      "outputs": [
        {
          "output_type": "execute_result",
          "data": {
            "text/plain": [
              "4.5"
            ]
          },
          "metadata": {},
          "execution_count": 45
        }
      ]
    },
    {
      "cell_type": "code",
      "source": [
        "pdfMining_2('Sample/S6.pdf','FT4')"
      ],
      "metadata": {
        "colab": {
          "base_uri": "https://localhost:8080/"
        },
        "outputId": "5b28ecc5-3036-40aa-a0a6-db1da79977a2",
        "id": "8tbxpr_ik5B6"
      },
      "execution_count": 46,
      "outputs": [
        {
          "output_type": "execute_result",
          "data": {
            "text/plain": [
              "10.0"
            ]
          },
          "metadata": {},
          "execution_count": 46
        }
      ]
    },
    {
      "cell_type": "code",
      "source": [
        "pdfMining_2('Sample/S6.pdf','TSH')"
      ],
      "metadata": {
        "colab": {
          "base_uri": "https://localhost:8080/"
        },
        "outputId": "fd0a7587-9234-4aa0-af31-ebc69c7538f2",
        "id": "DkfV3WPlk5B5"
      },
      "execution_count": 47,
      "outputs": [
        {
          "output_type": "execute_result",
          "data": {
            "text/plain": [
              "2.0"
            ]
          },
          "metadata": {},
          "execution_count": 47
        }
      ]
    },
    {
      "cell_type": "code",
      "source": [
        "pdfMining_2('Sample/S6.pdf','FT3')"
      ],
      "metadata": {
        "colab": {
          "base_uri": "https://localhost:8080/"
        },
        "outputId": "62fb89dd-e77f-4cba-bc98-8dc61942594e",
        "id": "_xEi4sF8k5B5"
      },
      "execution_count": 48,
      "outputs": [
        {
          "output_type": "execute_result",
          "data": {
            "text/plain": [
              "1.0"
            ]
          },
          "metadata": {},
          "execution_count": 48
        }
      ]
    },
    {
      "cell_type": "code",
      "source": [
        "try :       \n",
        "      try : \n",
        "\n",
        "                    model = joblib.load('Model/RandomForestModel(Thyroid_Diseases(Hyper-Hypo-Normal-Other)).h5')\n",
        "                    features  = list(model.feature_names_in_)\n",
        "                    data_dic = {}\n",
        "                    data_dic[features[0]] = pdfMining_1('Sample/S3.pdf','TSH')\n",
        "                    data_dic[features[1]] = pdfMining_1('Sample/S3.pdf','FT3')\n",
        "                    data_dic[features[2]] = pdfMining_1('Sample/S3.pdf','FT4') \n",
        "                    custom_data = pd.DataFrame(data = [data_dic] )   \n",
        "                    print('-----'*10)\n",
        "                    print('Your Input :\\n',custom_data)\n",
        "                    print('-----'*10)       \n",
        "                    output = model.predict(custom_data)[0] \n",
        "                    print('\\t Output :',output)\n",
        "      except :                    \n",
        "\n",
        "                    model = joblib.load('Model/RandomForestModel(Thyroid_Diseases(Hyper-Hypo-Normal-Other)).h5')\n",
        "                    features  = list(model.feature_names_in_)\n",
        "                    data_dic = {}\n",
        "                    data_dic[features[0]] = pdfMining_2('Sample/S3.pdf','TSH')\n",
        "                    data_dic[features[1]] = pdfMining_2('Sample/S3.pdf','FT3')\n",
        "                    data_dic[features[2]] = pdfMining_2('Sample/S3.pdf','FT4') \n",
        "                    custom_data = pd.DataFrame(data = [data_dic] )   \n",
        "                    print('-----'*10)\n",
        "                    print('Your Input :\\n',custom_data)\n",
        "                    print('-----'*10)       \n",
        "                    output = model.predict(custom_data)[0] \n",
        "                    print('\\t Output :',output)                \n",
        "             \n",
        "except : \n",
        "\n",
        "            print('Your uploaded PDF can\\'t be detected')\n",
        "            print('-----'*10)       \n",
        "            model = joblib.load('Model/RandomForestModel(Thyroid_Diseases(Hyper-Hypo-Normal-Other)).h5')\n",
        "            features  = list(model.feature_names_in_)        \n",
        "            print('\\t Enter Manually the Following Please : ',features)\n"
      ],
      "metadata": {
        "colab": {
          "base_uri": "https://localhost:8080/"
        },
        "id": "nn_NucQcTXLX",
        "outputId": "52f764a4-dfce-4355-cfc2-aedf840229ba"
      },
      "execution_count": 49,
      "outputs": [
        {
          "output_type": "stream",
          "name": "stderr",
          "text": [
            "/usr/local/lib/python3.10/dist-packages/sklearn/base.py:318: UserWarning: Trying to unpickle estimator DecisionTreeClassifier from version 1.0.2 when using version 1.2.2. This might lead to breaking code or invalid results. Use at your own risk. For more info please refer to:\n",
            "https://scikit-learn.org/stable/model_persistence.html#security-maintainability-limitations\n",
            "  warnings.warn(\n"
          ]
        },
        {
          "output_type": "stream",
          "name": "stdout",
          "text": [
            "--------------------------------------------------\n",
            "Your Input :\n",
            "    TSH  FT3  FT4\n",
            "0  6.0  3.0  1.2\n",
            "--------------------------------------------------\n",
            "\t Output : Hypothyroid\n"
          ]
        },
        {
          "output_type": "stream",
          "name": "stderr",
          "text": [
            "/usr/local/lib/python3.10/dist-packages/sklearn/base.py:318: UserWarning: Trying to unpickle estimator RandomForestClassifier from version 1.0.2 when using version 1.2.2. This might lead to breaking code or invalid results. Use at your own risk. For more info please refer to:\n",
            "https://scikit-learn.org/stable/model_persistence.html#security-maintainability-limitations\n",
            "  warnings.warn(\n"
          ]
        }
      ]
    },
    {
      "cell_type": "code",
      "source": [],
      "metadata": {
        "id": "eFua-IX4mBM_"
      },
      "execution_count": null,
      "outputs": []
    }
  ]
}