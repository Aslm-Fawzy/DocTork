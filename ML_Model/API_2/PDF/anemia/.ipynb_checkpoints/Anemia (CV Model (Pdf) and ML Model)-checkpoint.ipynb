{
 "cells": [
  {
   "cell_type": "code",
   "execution_count": 1,
   "metadata": {
    "colab": {
     "base_uri": "https://localhost:8080/"
    },
    "id": "RiUPWwGiyVK6",
    "outputId": "c8b0c78d-a1e8-44a9-88dc-90292d583480"
   },
   "outputs": [
    {
     "name": "stdout",
     "output_type": "stream",
     "text": [
      "Looking in indexes: https://pypi.org/simple, https://us-python.pkg.dev/colab-wheels/public/simple/\n",
      "Collecting tika\n",
      "  Downloading tika-2.6.0.tar.gz (27 kB)\n",
      "  Preparing metadata (setup.py) ... \u001b[?25l\u001b[?25hdone\n",
      "Requirement already satisfied: setuptools in /usr/local/lib/python3.10/dist-packages (from tika) (67.7.2)\n",
      "Requirement already satisfied: requests in /usr/local/lib/python3.10/dist-packages (from tika) (2.27.1)\n",
      "Requirement already satisfied: urllib3<1.27,>=1.21.1 in /usr/local/lib/python3.10/dist-packages (from requests->tika) (1.26.15)\n",
      "Requirement already satisfied: certifi>=2017.4.17 in /usr/local/lib/python3.10/dist-packages (from requests->tika) (2022.12.7)\n",
      "Requirement already satisfied: charset-normalizer~=2.0.0 in /usr/local/lib/python3.10/dist-packages (from requests->tika) (2.0.12)\n",
      "Requirement already satisfied: idna<4,>=2.5 in /usr/local/lib/python3.10/dist-packages (from requests->tika) (3.4)\n",
      "Building wheels for collected packages: tika\n",
      "  Building wheel for tika (setup.py) ... \u001b[?25l\u001b[?25hdone\n",
      "  Created wheel for tika: filename=tika-2.6.0-py3-none-any.whl size=32625 sha256=cfc148f17947515dd626337c150634f2052b1d8ef3a5029b76371c8fe40339bc\n",
      "  Stored in directory: /root/.cache/pip/wheels/5f/71/c7/b757709531121b1700cffda5b6b0d4aad095fb507ec84316d0\n",
      "Successfully built tika\n",
      "Installing collected packages: tika\n",
      "Successfully installed tika-2.6.0\n"
     ]
    }
   ],
   "source": [
    "pip install tika"
   ]
  },
  {
   "cell_type": "code",
   "execution_count": 78,
   "metadata": {
    "id": "S7W0aMam-S2h"
   },
   "outputs": [],
   "source": [
    "from tika import parser\n",
    "import re\n",
    "import joblib\n",
    "import pandas as pd\n",
    "import numpy as np"
   ]
  },
  {
   "cell_type": "code",
   "execution_count": 126,
   "metadata": {
    "id": "CBx2Hmrr44Yc"
   },
   "outputs": [],
   "source": [
    "#finalcode\n",
    "\n",
    "#Creating Function : \n",
    "# Taking 2 paramaters the first one is the path of the pdf and the last one is the word we wanna search for in the pdf. \n",
    "\n",
    "def pdfMining(path,x):\n",
    "    \n",
    "    #ourpdf\n",
    "    pdf = path\n",
    "\n",
    "    #Parsing the content of our pdf into a list of sentences\n",
    "    rawText1 = parser.from_file(pdf)\n",
    "    rawList1 = rawText1['content'].splitlines()\n",
    "    dict_cbc_names = {'Haemoglobin' : 'HB' , \n",
    "                       'WBCs' : 'Leucocytic'}\n",
    "    #Iterating inside the list of sentences\n",
    "    for i in rawList1:\n",
    "\n",
    "        if str(x) in i:\n",
    "            if 'MCHC' in i:\n",
    "                continue\n",
    "            #Our chosen sentence\n",
    "            \n",
    "            #Converting our little sentence to a list and splitting it into words to finally extract the needed number.\n",
    "            list_ = list(i.split())\n",
    "            list_ = str(list_)\n",
    "             \n",
    "            #Appling re to find the number after a certain word\n",
    "            #Result is the number we need (VERY IMPORTANT)\n",
    "            try :           \n",
    "              result = re.search('\\d+\\.{0,1}\\d*', list_).group()\n",
    "              result = float(result)\n",
    "            except :\n",
    "              continue\n",
    "            \n",
    "        \n",
    "  \n",
    "\n",
    "        elif str(x) == 'Haemoglobin' :\n",
    "                               \n",
    "            if dict_cbc_names['Haemoglobin'] in i : \n",
    "              x = dict_cbc_names[str(x)]\n",
    "              list_ = list(i.split())\n",
    "              list_ = str(list_)\n",
    "              \n",
    "              #Appling re to find the number after a certain word\n",
    "              #Result is the number we need (VERY IMPORTANT)\n",
    "              try :           \n",
    "                result = re.search('\\d+\\.{0,1}\\d*', list_).group()\n",
    "                result = float(result)\n",
    "              except :\n",
    "                continue\n",
    "              \n",
    "\n",
    "        elif str(x) == 'WBCs' :\n",
    "                               \n",
    "            if dict_cbc_names['WBCs'] in i : \n",
    "              x = dict_cbc_names[str(x)]\n",
    "              list_ = list(i.split())\n",
    "              list_ = str(list_)\n",
    "              \n",
    "              #Appling re to find the number after a certain word\n",
    "              #Result is the number we need (VERY IMPORTANT)\n",
    "              try :           \n",
    "                result = re.search('\\d+\\.{0,1}\\d*', list_).group()\n",
    "                result = float(result)\n",
    "              except :\n",
    "                continue\n",
    "              \n",
    "    return result\n",
    "        "
   ]
  },
  {
   "cell_type": "code",
   "execution_count": 127,
   "metadata": {
    "colab": {
     "base_uri": "https://localhost:8080/"
    },
    "id": "Q8uk1umbLBYM",
    "outputId": "52016806-78ce-498a-beca-dc1e12c675eb"
   },
   "outputs": [
    {
     "data": {
      "text/plain": [
       "6.5"
      ]
     },
     "execution_count": 127,
     "metadata": {},
     "output_type": "execute_result"
    }
   ],
   "source": [
    "pdfMining('Sample/S2.pdf','WBCs')"
   ]
  },
  {
   "cell_type": "code",
   "execution_count": 129,
   "metadata": {
    "colab": {
     "base_uri": "https://localhost:8080/"
    },
    "id": "-BKXtqEDQVm7",
    "outputId": "8fbbd052-a45e-4333-afa5-95a8e543af1b"
   },
   "outputs": [
    {
     "data": {
      "text/plain": [
       "13.6"
      ]
     },
     "execution_count": 129,
     "metadata": {},
     "output_type": "execute_result"
    }
   ],
   "source": [
    "pdfMining('Sample/S1.pdf','Haemoglobin')"
   ]
  },
  {
   "cell_type": "code",
   "execution_count": 130,
   "metadata": {
    "colab": {
     "base_uri": "https://localhost:8080/"
    },
    "id": "6N5aSiyPQiBd",
    "outputId": "23c94b03-9578-4f47-c4ba-8ae90b0700a8"
   },
   "outputs": [
    {
     "data": {
      "text/plain": [
       "27.5"
      ]
     },
     "execution_count": 130,
     "metadata": {},
     "output_type": "execute_result"
    }
   ],
   "source": [
    "pdfMining('Sample/S2.pdf','MCH')"
   ]
  },
  {
   "cell_type": "code",
   "execution_count": 132,
   "metadata": {
    "colab": {
     "base_uri": "https://localhost:8080/"
    },
    "id": "96t6k_Uk8gQ9",
    "outputId": "98f8b1aa-0508-41bd-ed63-0b78374d5891"
   },
   "outputs": [
    {
     "name": "stdout",
     "output_type": "stream",
     "text": [
      "--------------------------------------------------\n",
      "Your Input :\n",
      "    Hemoglobin   MCH    MCV  Gender_Male\n",
      "0        15.5  33.7  82.17            1\n",
      "--------------------------------------------------\n",
      "\t Output : Good\n"
     ]
    }
   ],
   "source": [
    "try : \n",
    "\n",
    "             model = joblib.load('Model/GradientBoostingModel(anemia-m,f-3features)_2.h5')\n",
    "             features  = list(model.feature_names_in_)\n",
    "             data_dic = {}             \n",
    "             data_dic[features[0]] = pdfMining('Sample/S3.pdf','Haemoglobin')\n",
    "             data_dic[features[1]] = pdfMining('Sample/S3.pdf','MCH')\n",
    "             data_dic[features[2]] =pdfMining('Sample/S3.pdf','MCV')\n",
    "             data_dic[features[3]] = np.random.choice([0,1])\n",
    "             custom_data = pd.DataFrame(data = [data_dic] )   \n",
    "             print('-----'*10)\n",
    "             print('Your Input :\\n',custom_data)\n",
    "             print('-----'*10)       \n",
    "             output = model.predict(custom_data)[0]       \n",
    "             print('\\t Output :',output)\n",
    "             \n",
    "except : \n",
    "\n",
    "            print('Your uploaded PDF can\\'t be detected')\n",
    "            print('-----'*10)       \n",
    "            model = joblib.load('Model/GradientBoostingModel(anemia-m,f-3features)_2.h5')\n",
    "            features  = list(model.feature_names_in_)        \n",
    "            print('\\t Enter Manually the Following Please : ',features[:-1])\n"
   ]
  }
 ],
 "metadata": {
  "colab": {
   "provenance": []
  },
  "kernelspec": {
   "display_name": "Python 3 (ipykernel)",
   "language": "python",
   "name": "python3"
  },
  "language_info": {
   "codemirror_mode": {
    "name": "ipython",
    "version": 3
   },
   "file_extension": ".py",
   "mimetype": "text/x-python",
   "name": "python",
   "nbconvert_exporter": "python",
   "pygments_lexer": "ipython3",
   "version": "3.9.13"
  }
 },
 "nbformat": 4,
 "nbformat_minor": 1
}
