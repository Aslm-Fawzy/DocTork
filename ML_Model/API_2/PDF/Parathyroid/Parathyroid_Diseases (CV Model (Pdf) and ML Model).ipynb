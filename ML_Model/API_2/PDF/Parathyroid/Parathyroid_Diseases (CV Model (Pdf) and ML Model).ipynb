{
  "nbformat": 4,
  "nbformat_minor": 0,
  "metadata": {
    "colab": {
      "provenance": [],
      "gpuType": "T4",
      "toc_visible": true
    },
    "kernelspec": {
      "name": "python3",
      "display_name": "Python 3"
    },
    "language_info": {
      "name": "python"
    },
    "gpuClass": "standard"
  },
  "cells": [
    {
      "cell_type": "code",
      "execution_count": 1,
      "metadata": {
        "id": "RiUPWwGiyVK6",
        "colab": {
          "base_uri": "https://localhost:8080/"
        },
        "outputId": "af9b5f6b-a18c-4a40-e0f0-18e4a1fcccd1"
      },
      "outputs": [
        {
          "output_type": "stream",
          "name": "stdout",
          "text": [
            "Looking in indexes: https://pypi.org/simple, https://us-python.pkg.dev/colab-wheels/public/simple/\n",
            "Collecting tika\n",
            "  Downloading tika-2.6.0.tar.gz (27 kB)\n",
            "  Preparing metadata (setup.py) ... \u001b[?25l\u001b[?25hdone\n",
            "Requirement already satisfied: setuptools in /usr/local/lib/python3.10/dist-packages (from tika) (67.7.2)\n",
            "Requirement already satisfied: requests in /usr/local/lib/python3.10/dist-packages (from tika) (2.27.1)\n",
            "Requirement already satisfied: urllib3<1.27,>=1.21.1 in /usr/local/lib/python3.10/dist-packages (from requests->tika) (1.26.15)\n",
            "Requirement already satisfied: certifi>=2017.4.17 in /usr/local/lib/python3.10/dist-packages (from requests->tika) (2022.12.7)\n",
            "Requirement already satisfied: charset-normalizer~=2.0.0 in /usr/local/lib/python3.10/dist-packages (from requests->tika) (2.0.12)\n",
            "Requirement already satisfied: idna<4,>=2.5 in /usr/local/lib/python3.10/dist-packages (from requests->tika) (3.4)\n",
            "Building wheels for collected packages: tika\n",
            "  Building wheel for tika (setup.py) ... \u001b[?25l\u001b[?25hdone\n",
            "  Created wheel for tika: filename=tika-2.6.0-py3-none-any.whl size=32625 sha256=491b44b4aeb5dde9347d53022eb9ff8943f7c18d096daae038a198b8e6718f38\n",
            "  Stored in directory: /root/.cache/pip/wheels/5f/71/c7/b757709531121b1700cffda5b6b0d4aad095fb507ec84316d0\n",
            "Successfully built tika\n",
            "Installing collected packages: tika\n",
            "Successfully installed tika-2.6.0\n"
          ]
        }
      ],
      "source": [
        "pip install tika"
      ]
    },
    {
      "cell_type": "code",
      "source": [
        "pip install PyPDF2"
      ],
      "metadata": {
        "colab": {
          "base_uri": "https://localhost:8080/"
        },
        "id": "xF5aQBN2T2Mh",
        "outputId": "c9a341e5-6f0c-4121-9844-d9f6f5ec0fee"
      },
      "execution_count": 2,
      "outputs": [
        {
          "output_type": "stream",
          "name": "stdout",
          "text": [
            "Looking in indexes: https://pypi.org/simple, https://us-python.pkg.dev/colab-wheels/public/simple/\n",
            "Collecting PyPDF2\n",
            "  Downloading pypdf2-3.0.1-py3-none-any.whl (232 kB)\n",
            "\u001b[2K     \u001b[90m━━━━━━━━━━━━━━━━━━━━━━━━━━━━━━━━━━━━━━━\u001b[0m \u001b[32m232.6/232.6 kB\u001b[0m \u001b[31m5.1 MB/s\u001b[0m eta \u001b[36m0:00:00\u001b[0m\n",
            "\u001b[?25hInstalling collected packages: PyPDF2\n",
            "Successfully installed PyPDF2-3.0.1\n"
          ]
        }
      ]
    },
    {
      "cell_type": "code",
      "source": [
        "from tika import parser\n",
        "import PyPDF2\n",
        "import re\n",
        "import joblib\n",
        "import pandas as pd\n",
        "import numpy as np"
      ],
      "metadata": {
        "id": "S7W0aMam-S2h"
      },
      "execution_count": 3,
      "outputs": []
    },
    {
      "cell_type": "code",
      "source": [
        "#finalcode\n",
        "\n",
        "#Creating Function : \n",
        "# Taking 2 paramaters the first one is the path of the pdf and the last one is the word we wanna search for in the pdf. \n",
        "\n",
        "def pdfMining_1(path,x):\n",
        "        \n",
        "    #ourpdf\n",
        "    pdf = path\n",
        "    #Parsing the content of our pdf into a list of sentences\n",
        "    rawText1 = parser.from_file(pdf)\n",
        "    rawList1 = rawText1['content'].splitlines()\n",
        "    #Iterating inside the list of sentences\n",
        "    for i in rawList1:\n",
        "        i = i.replace(' ','')\n",
        "        if re.search(x, i, re.IGNORECASE):\n",
        "                  #Our chosen sentence\n",
        "                  #Converting our little sentence to a list and splitting it into words to finally extract the needed number.       \n",
        "                      list_ = list(i.split())\n",
        "                      list_ = str(list_)   \n",
        "                  #Appling re to find the number after a certain word\n",
        "                  #Result is the number we need (VERY IMPORTANT)                                                   \n",
        "                      try :           \n",
        "                        result = re.search('\\d+\\.{0,1}\\d*', list_).group()\n",
        "                        result = float(result) \n",
        "                        \n",
        "                      except :\n",
        "                        continue\n",
        "      \n",
        "    return result\n",
        "        "
      ],
      "metadata": {
        "id": "CBx2Hmrr44Yc"
      },
      "execution_count": 4,
      "outputs": []
    },
    {
      "cell_type": "code",
      "source": [
        "pdfMining_1('Sample/S1.pdf','PTH')"
      ],
      "metadata": {
        "colab": {
          "base_uri": "https://localhost:8080/"
        },
        "id": "Q8uk1umbLBYM",
        "outputId": "bc6d3de9-53e2-46a6-edbd-06617204dd09"
      },
      "execution_count": 5,
      "outputs": [
        {
          "output_type": "stream",
          "name": "stderr",
          "text": [
            "2023-05-31 18:38:37,226 [MainThread  ] [INFO ]  Retrieving http://search.maven.org/remotecontent?filepath=org/apache/tika/tika-server-standard/2.6.0/tika-server-standard-2.6.0.jar to /tmp/tika-server.jar.\n",
            "INFO:tika.tika:Retrieving http://search.maven.org/remotecontent?filepath=org/apache/tika/tika-server-standard/2.6.0/tika-server-standard-2.6.0.jar to /tmp/tika-server.jar.\n",
            "2023-05-31 18:38:41,376 [MainThread  ] [INFO ]  Retrieving http://search.maven.org/remotecontent?filepath=org/apache/tika/tika-server-standard/2.6.0/tika-server-standard-2.6.0.jar.md5 to /tmp/tika-server.jar.md5.\n",
            "INFO:tika.tika:Retrieving http://search.maven.org/remotecontent?filepath=org/apache/tika/tika-server-standard/2.6.0/tika-server-standard-2.6.0.jar.md5 to /tmp/tika-server.jar.md5.\n",
            "2023-05-31 18:38:42,444 [MainThread  ] [WARNI]  Failed to see startup log message; retrying...\n",
            "WARNING:tika.tika:Failed to see startup log message; retrying...\n",
            "2023-05-31 18:38:47,453 [MainThread  ] [WARNI]  Failed to see startup log message; retrying...\n",
            "WARNING:tika.tika:Failed to see startup log message; retrying...\n"
          ]
        },
        {
          "output_type": "execute_result",
          "data": {
            "text/plain": [
              "30.0"
            ]
          },
          "metadata": {},
          "execution_count": 5
        }
      ]
    },
    {
      "cell_type": "code",
      "source": [
        "pdfMining_1('Sample/S1.pdf','Calcium')"
      ],
      "metadata": {
        "colab": {
          "base_uri": "https://localhost:8080/"
        },
        "id": "-BKXtqEDQVm7",
        "outputId": "fba40140-2cfb-439d-ab95-e4ac62309b3a"
      },
      "execution_count": 6,
      "outputs": [
        {
          "output_type": "execute_result",
          "data": {
            "text/plain": [
              "9.5"
            ]
          },
          "metadata": {},
          "execution_count": 6
        }
      ]
    },
    {
      "cell_type": "code",
      "source": [
        "pdfMining_1('Sample/S1.pdf','Phosphorus')"
      ],
      "metadata": {
        "colab": {
          "base_uri": "https://localhost:8080/"
        },
        "id": "-eR_KVY5fbWv",
        "outputId": "61a0c94f-6fa8-4aa0-f883-e567a3cac864"
      },
      "execution_count": 7,
      "outputs": [
        {
          "output_type": "execute_result",
          "data": {
            "text/plain": [
              "2.3"
            ]
          },
          "metadata": {},
          "execution_count": 7
        }
      ]
    },
    {
      "cell_type": "code",
      "source": [
        "def pdfMining_2 (path,x) :\n",
        "  # Open the PDF file in binary mode\n",
        "  with open(path, 'rb') as pdf_file:\n",
        "      # Create a PDF reader object\n",
        "      pdf_reader = PyPDF2.PdfReader(pdf_file)\n",
        "\n",
        "      # Get the first page of the PDF file\n",
        "      page = pdf_reader.pages[0]\n",
        "\n",
        "      # Extract the text from the page\n",
        "      text = page.extract_text()\n",
        "      for i in text.split('\\n') :\n",
        "          i = i.replace(' ','')      \n",
        "          if re.search(x, i, re.IGNORECASE):\n",
        "                    #Our chosen sentence\n",
        "                    #Converting our little sentence to a list and splitting it into words to finally extract the needed number.\n",
        "                    list_ = list(i.split())\n",
        "                    list_ = str(list_)\n",
        "                    \n",
        "                    #Appling re to find the number after a certain word\n",
        "                    #Result is the number we need (VERY IMPORTANT)\n",
        "                    try :           \n",
        "                      result = re.search('\\d+\\.{0,1}\\d*', list_).group()\n",
        "                      result = float(result) \n",
        "                      \n",
        "                    except :\n",
        "                      continue\n",
        "\n",
        "  return result\n"
      ],
      "metadata": {
        "id": "IogtTAUlUdX4"
      },
      "execution_count": 11,
      "outputs": []
    },
    {
      "cell_type": "code",
      "source": [
        "pdfMining_2('Sample/S4.pdf','PTH')"
      ],
      "metadata": {
        "colab": {
          "base_uri": "https://localhost:8080/"
        },
        "id": "cdybRuJ2fdnp",
        "outputId": "c245515b-808e-4740-904d-60f616c6f935"
      },
      "execution_count": 12,
      "outputs": [
        {
          "output_type": "execute_result",
          "data": {
            "text/plain": [
              "8.0"
            ]
          },
          "metadata": {},
          "execution_count": 12
        }
      ]
    },
    {
      "cell_type": "code",
      "source": [
        "pdfMining_2('Sample/S4.pdf','Calcium')"
      ],
      "metadata": {
        "colab": {
          "base_uri": "https://localhost:8080/"
        },
        "id": "JZBfTP4rrUZO",
        "outputId": "ff36a33c-74f1-4f27-d622-1d7a18d325fa"
      },
      "execution_count": 13,
      "outputs": [
        {
          "output_type": "execute_result",
          "data": {
            "text/plain": [
              "6.0"
            ]
          },
          "metadata": {},
          "execution_count": 13
        }
      ]
    },
    {
      "cell_type": "code",
      "source": [
        "pdfMining_2('Sample/S4.pdf','Phosphorus')"
      ],
      "metadata": {
        "colab": {
          "base_uri": "https://localhost:8080/"
        },
        "id": "x1QydxmvrXuJ",
        "outputId": "8bd789a0-cf26-4336-c650-16ae7608c2aa"
      },
      "execution_count": 14,
      "outputs": [
        {
          "output_type": "execute_result",
          "data": {
            "text/plain": [
              "11.0"
            ]
          },
          "metadata": {},
          "execution_count": 14
        }
      ]
    },
    {
      "cell_type": "code",
      "source": [
        "try : \n",
        "      try :\n",
        "\n",
        "                    model = joblib.load(\"Model/EnsembleModel(RF,DT,GB)(Hyper- Hypo-Anthor-Normal).h5\")\n",
        "                    features = list(model.feature_names_in_)     \n",
        "                    data_dic = {}\n",
        "                    data_dic[features[0]] = pdfMining_1('Sample/S2.pdf','PTH')\n",
        "                    data_dic[features[1]] = pdfMining_1('Sample/S2.pdf','Calcium')\n",
        "                    data_dic[features[2]] = pdfMining_1('Sample/S2.pdf','Phosphorus')\n",
        "                    data_dic[features[3]] = np.random.choice([0,1])\n",
        "                    custom_data = pd.DataFrame(data = [data_dic] )   \n",
        "                    print('-----'*10)\n",
        "                    print('Your Input :\\n',custom_data)\n",
        "                    print('-----'*10)       \n",
        "                    output = model.predict(custom_data)[0] \n",
        "                    print('\\t Output :',output)\n",
        "\n",
        "      except :\n",
        "\n",
        "                    model = joblib.load(\"Model/EnsembleModel(RF,DT,GB)(Hyper- Hypo-Anthor-Normal).h5\")\n",
        "                    features = list(model.feature_names_in_)     \n",
        "                    data_dic = {}\n",
        "                    data_dic[features[0]] = pdfMining_2('Sample/S2.pdf','PTH')\n",
        "                    data_dic[features[1]] = pdfMining_2('Sample/S2.pdf','Calcium')\n",
        "                    data_dic[features[2]] = pdfMining_2('Sample/S2.pdf','Phosphorus')\n",
        "                    data_dic[features[3]] = np.random.choice([0,1])\n",
        "                    custom_data = pd.DataFrame(data = [data_dic] )   \n",
        "                    print('-----'*10)\n",
        "                    print('Your Input :\\n',custom_data)\n",
        "                    print('-----'*10)       \n",
        "                    output = model.predict(custom_data)[0] \n",
        "                    print('\\t Output :',output)                            \n",
        "             \n",
        "except : \n",
        "\n",
        "            print('Your uploaded PDF can\\'t be detected')\n",
        "            print('-----'*10)       \n",
        "            model = joblib.load(\"Model/EnsembleModel(RF,DT,GB)(Hyper- Hypo-Anthor-Normal).h5\")\n",
        "            features = list(model.feature_names_in_)    \n",
        "            print('\\t Enter Manually the Following Please : ',features[:-1])\n"
      ],
      "metadata": {
        "colab": {
          "base_uri": "https://localhost:8080/"
        },
        "id": "nn_NucQcTXLX",
        "outputId": "56f37297-ac4e-449b-a00b-0ccf71de2986"
      },
      "execution_count": 15,
      "outputs": [
        {
          "output_type": "stream",
          "name": "stdout",
          "text": [
            "--------------------------------------------------\n",
            "Your Input :\n",
            "    PTH (pg/ml)  Total_Calcium (mg/dl)  Phosphorus  (mg/dl)  Gender_Male\n",
            "0         67.0                   18.0                  1.5            1\n",
            "--------------------------------------------------\n",
            "\t Output : Hyperparathyroid\n"
          ]
        }
      ]
    }
  ]
}