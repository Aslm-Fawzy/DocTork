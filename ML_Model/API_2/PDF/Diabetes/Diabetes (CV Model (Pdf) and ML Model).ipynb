{
  "nbformat": 4,
  "nbformat_minor": 0,
  "metadata": {
    "colab": {
      "provenance": [],
      "gpuType": "T4"
    },
    "kernelspec": {
      "name": "python3",
      "display_name": "Python 3"
    },
    "language_info": {
      "name": "python"
    },
    "gpuClass": "standard"
  },
  "cells": [
    {
      "cell_type": "code",
      "execution_count": 1,
      "metadata": {
        "id": "RiUPWwGiyVK6",
        "colab": {
          "base_uri": "https://localhost:8080/"
        },
        "outputId": "5b4fea8a-1114-46a2-cc96-76d01121c2c3"
      },
      "outputs": [
        {
          "output_type": "stream",
          "name": "stdout",
          "text": [
            "Looking in indexes: https://pypi.org/simple, https://us-python.pkg.dev/colab-wheels/public/simple/\n",
            "Collecting tika\n",
            "  Downloading tika-2.6.0.tar.gz (27 kB)\n",
            "  Preparing metadata (setup.py) ... \u001b[?25l\u001b[?25hdone\n",
            "Requirement already satisfied: setuptools in /usr/local/lib/python3.10/dist-packages (from tika) (67.7.2)\n",
            "Requirement already satisfied: requests in /usr/local/lib/python3.10/dist-packages (from tika) (2.27.1)\n",
            "Requirement already satisfied: urllib3<1.27,>=1.21.1 in /usr/local/lib/python3.10/dist-packages (from requests->tika) (1.26.15)\n",
            "Requirement already satisfied: certifi>=2017.4.17 in /usr/local/lib/python3.10/dist-packages (from requests->tika) (2022.12.7)\n",
            "Requirement already satisfied: charset-normalizer~=2.0.0 in /usr/local/lib/python3.10/dist-packages (from requests->tika) (2.0.12)\n",
            "Requirement already satisfied: idna<4,>=2.5 in /usr/local/lib/python3.10/dist-packages (from requests->tika) (3.4)\n",
            "Building wheels for collected packages: tika\n",
            "  Building wheel for tika (setup.py) ... \u001b[?25l\u001b[?25hdone\n",
            "  Created wheel for tika: filename=tika-2.6.0-py3-none-any.whl size=32625 sha256=4add0f092c5dc1152b258a4f97f649a56225cff1a1fc043d0ee7e4167e40c4f4\n",
            "  Stored in directory: /root/.cache/pip/wheels/5f/71/c7/b757709531121b1700cffda5b6b0d4aad095fb507ec84316d0\n",
            "Successfully built tika\n",
            "Installing collected packages: tika\n",
            "Successfully installed tika-2.6.0\n"
          ]
        }
      ],
      "source": [
        "pip install tika"
      ]
    },
    {
      "cell_type": "code",
      "source": [
        "\n",
        "pip install PyPDF2"
      ],
      "metadata": {
        "colab": {
          "base_uri": "https://localhost:8080/"
        },
        "id": "wjmyS43tq-rY",
        "outputId": "55ac166d-23c6-414b-d9d9-b073b6a25ce8"
      },
      "execution_count": 2,
      "outputs": [
        {
          "output_type": "stream",
          "name": "stdout",
          "text": [
            "Looking in indexes: https://pypi.org/simple, https://us-python.pkg.dev/colab-wheels/public/simple/\n",
            "Collecting PyPDF2\n",
            "  Downloading pypdf2-3.0.1-py3-none-any.whl (232 kB)\n",
            "\u001b[2K     \u001b[90m━━━━━━━━━━━━━━━━━━━━━━━━━━━━━━━━━━━━━━━\u001b[0m \u001b[32m232.6/232.6 kB\u001b[0m \u001b[31m4.7 MB/s\u001b[0m eta \u001b[36m0:00:00\u001b[0m\n",
            "\u001b[?25hInstalling collected packages: PyPDF2\n",
            "Successfully installed PyPDF2-3.0.1\n"
          ]
        }
      ]
    },
    {
      "cell_type": "code",
      "source": [
        "from tika import parser\n",
        "import re\n",
        "import joblib\n",
        "import pandas as pd\n",
        "import numpy as np\n",
        "import PyPDF2"
      ],
      "metadata": {
        "id": "S7W0aMam-S2h"
      },
      "execution_count": 3,
      "outputs": []
    },
    {
      "cell_type": "code",
      "source": [
        "#finalcode\n",
        "\n",
        "#Creating Function : \n",
        "# Taking 2 paramaters the first one is the path of the pdf and the last one is the word we wanna search for in the pdf. \n",
        "\n",
        "def pdfMining_1(path,x):\n",
        "        \n",
        "    #ourpdf\n",
        "    pdf = path\n",
        "    #Parsing the content of our pdf into a list of sentences\n",
        "    rawText1 = parser.from_file(pdf)\n",
        "    rawList1 = rawText1['content'].splitlines()\n",
        "    #Iterating inside the list of sentences\n",
        "    for i in rawList1:\n",
        "        i = i.replace(' ','')\n",
        "        if re.search(x, i, re.IGNORECASE):\n",
        "                  #Our chosen sentence\n",
        "                  #Converting our little sentence to a list and splitting it into words to finally extract the needed number.\n",
        "                  if ('A1C' in x)  or ('HRPP' in x)  : \n",
        "\n",
        "                    list_ = list(i.split())\n",
        "                    list_ = str(list_)\n",
        "                    try :           \n",
        "                      result = re.findall('\\d+\\.{0,1}\\d*', list_)[1]\n",
        "                      result = float(result) \n",
        "                      \n",
        "                    except :\n",
        "                      continue                    \n",
        "                      \n",
        "                  #Appling re to find the number after a certain word\n",
        "                  #Result is the number we need (VERY IMPORTANT)\n",
        "                  else  :        \n",
        "                      list_ = list(i.split())\n",
        "                      list_ = str(list_)                                \n",
        "                      try :           \n",
        "                        result = re.search('\\d+\\.{0,1}\\d*', list_).group()\n",
        "                        result = float(result) \n",
        "                        \n",
        "                      except :\n",
        "                        continue\n",
        "      \n",
        "    return result\n",
        "        "
      ],
      "metadata": {
        "id": "CBx2Hmrr44Yc"
      },
      "execution_count": 4,
      "outputs": []
    },
    {
      "cell_type": "code",
      "source": [
        "pdfMining_1('Sample/S3.pdf','2HRPP')"
      ],
      "metadata": {
        "colab": {
          "base_uri": "https://localhost:8080/"
        },
        "id": "Q8uk1umbLBYM",
        "outputId": "2a7268f0-8f88-4e49-b49b-c413afbf205c"
      },
      "execution_count": 5,
      "outputs": [
        {
          "output_type": "stream",
          "name": "stderr",
          "text": [
            "2023-05-30 11:42:10,379 [MainThread  ] [INFO ]  Retrieving http://search.maven.org/remotecontent?filepath=org/apache/tika/tika-server-standard/2.6.0/tika-server-standard-2.6.0.jar to /tmp/tika-server.jar.\n",
            "INFO:tika.tika:Retrieving http://search.maven.org/remotecontent?filepath=org/apache/tika/tika-server-standard/2.6.0/tika-server-standard-2.6.0.jar to /tmp/tika-server.jar.\n",
            "2023-05-30 11:42:10,882 [MainThread  ] [INFO ]  Retrieving http://search.maven.org/remotecontent?filepath=org/apache/tika/tika-server-standard/2.6.0/tika-server-standard-2.6.0.jar.md5 to /tmp/tika-server.jar.md5.\n",
            "INFO:tika.tika:Retrieving http://search.maven.org/remotecontent?filepath=org/apache/tika/tika-server-standard/2.6.0/tika-server-standard-2.6.0.jar.md5 to /tmp/tika-server.jar.md5.\n",
            "2023-05-30 11:42:11,167 [MainThread  ] [WARNI]  Failed to see startup log message; retrying...\n",
            "WARNING:tika.tika:Failed to see startup log message; retrying...\n",
            "2023-05-30 11:42:16,182 [MainThread  ] [WARNI]  Failed to see startup log message; retrying...\n",
            "WARNING:tika.tika:Failed to see startup log message; retrying...\n"
          ]
        },
        {
          "output_type": "execute_result",
          "data": {
            "text/plain": [
              "100.0"
            ]
          },
          "metadata": {},
          "execution_count": 5
        }
      ]
    },
    {
      "cell_type": "code",
      "source": [
        "pdfMining_1('Sample/S3.pdf','A1C')"
      ],
      "metadata": {
        "colab": {
          "base_uri": "https://localhost:8080/"
        },
        "id": "-BKXtqEDQVm7",
        "outputId": "e93510ec-889a-480f-991e-ebd0fba5b5bc"
      },
      "execution_count": 6,
      "outputs": [
        {
          "output_type": "execute_result",
          "data": {
            "text/plain": [
              "8.0"
            ]
          },
          "metadata": {},
          "execution_count": 6
        }
      ]
    },
    {
      "cell_type": "code",
      "source": [
        "pdfMining_1('Sample/S3.pdf','FPG')"
      ],
      "metadata": {
        "colab": {
          "base_uri": "https://localhost:8080/"
        },
        "id": "_RlTNzW0EH8O",
        "outputId": "8a32ed43-3225-4f65-fd47-69e6b8278ad9"
      },
      "execution_count": 7,
      "outputs": [
        {
          "output_type": "execute_result",
          "data": {
            "text/plain": [
              "120.0"
            ]
          },
          "metadata": {},
          "execution_count": 7
        }
      ]
    },
    {
      "cell_type": "code",
      "source": [
        "pdfMining_1('Sample/S1.pdf','FPG')"
      ],
      "metadata": {
        "colab": {
          "base_uri": "https://localhost:8080/"
        },
        "id": "EldfutGuEKQL",
        "outputId": "f2df1b74-5ce2-404d-9779-bc57083854ca"
      },
      "execution_count": 8,
      "outputs": [
        {
          "output_type": "execute_result",
          "data": {
            "text/plain": [
              "170.0"
            ]
          },
          "metadata": {},
          "execution_count": 8
        }
      ]
    },
    {
      "cell_type": "code",
      "source": [
        "pdfMining_1('Sample/S1.pdf','A1C')"
      ],
      "metadata": {
        "colab": {
          "base_uri": "https://localhost:8080/"
        },
        "id": "wdxQHp5rEMo_",
        "outputId": "a644f9db-3090-45e1-c8c8-ce8d7eae42ef"
      },
      "execution_count": 9,
      "outputs": [
        {
          "output_type": "execute_result",
          "data": {
            "text/plain": [
              "4.5"
            ]
          },
          "metadata": {},
          "execution_count": 9
        }
      ]
    },
    {
      "cell_type": "code",
      "source": [
        "pdfMining_1('Sample/S1.pdf','2HRPP')"
      ],
      "metadata": {
        "colab": {
          "base_uri": "https://localhost:8080/"
        },
        "id": "l9qwNSYJFwVi",
        "outputId": "470b5200-9eb8-4a06-b5f2-85e105c57420"
      },
      "execution_count": 10,
      "outputs": [
        {
          "output_type": "execute_result",
          "data": {
            "text/plain": [
              "230.0"
            ]
          },
          "metadata": {},
          "execution_count": 10
        }
      ]
    },
    {
      "cell_type": "code",
      "source": [
        "def pdfMining_2 (path,x) :\n",
        "  # Open the PDF file in binary mode\n",
        "  with open(path, 'rb') as pdf_file:\n",
        "      # Create a PDF reader object\n",
        "      pdf_reader = PyPDF2.PdfReader(pdf_file)\n",
        "\n",
        "      # Get the first page of the PDF file\n",
        "      page = pdf_reader.pages[0]\n",
        "\n",
        "      # Extract the text from the page\n",
        "      text = page.extract_text()\n",
        "      for i in text.split('\\n') :\n",
        "          i = i.replace(' ','')        \n",
        "          if re.search(x, i, re.IGNORECASE):\n",
        "                  #Our chosen sentence\n",
        "                  #Converting our little sentence to a list and splitting it into words to finally extract the needed number.\n",
        "                  if ('A1C' in x)  or ('HRPP' in x)  : \n",
        "\n",
        "                    list_ = list(i.split())\n",
        "                    list_ = str(list_)\n",
        "                    try :           \n",
        "                      result = re.findall('\\d+\\.{0,1}\\d*', list_)[1]\n",
        "                      result = float(result) \n",
        "                      \n",
        "                    except :\n",
        "                      continue                    \n",
        "                      \n",
        "                  #Appling re to find the number after a certain word\n",
        "                  #Result is the number we need (VERY IMPORTANT)\n",
        "                  else  :        \n",
        "                      list_ = list(i.split())\n",
        "                      list_ = str(list_)                                \n",
        "                      try :           \n",
        "                        result = re.search('\\d+\\.{0,1}\\d*', list_).group()\n",
        "                        result = float(result) \n",
        "                        \n",
        "                      except :\n",
        "                        continue\n",
        "      \n",
        "  return result            "
      ],
      "metadata": {
        "id": "THl3KBTXrjH2"
      },
      "execution_count": 37,
      "outputs": []
    },
    {
      "cell_type": "code",
      "source": [],
      "metadata": {
        "id": "ewHM7o8orzuU"
      },
      "execution_count": 37,
      "outputs": []
    },
    {
      "cell_type": "code",
      "source": [
        "pdfMining_2('Sample/S3.pdf','2HRPP')"
      ],
      "metadata": {
        "colab": {
          "base_uri": "https://localhost:8080/"
        },
        "outputId": "564f239d-b21e-4da5-f1e2-1ac341a37f9c",
        "id": "zIahQ2_9r4x2"
      },
      "execution_count": 38,
      "outputs": [
        {
          "output_type": "execute_result",
          "data": {
            "text/plain": [
              "100.0"
            ]
          },
          "metadata": {},
          "execution_count": 38
        }
      ]
    },
    {
      "cell_type": "code",
      "source": [
        "pdfMining_2('Sample/S3.pdf','A1C')"
      ],
      "metadata": {
        "colab": {
          "base_uri": "https://localhost:8080/"
        },
        "outputId": "ab9dccfc-e354-4652-86c3-3695310fdcb6",
        "id": "lhyqf36qr4x6"
      },
      "execution_count": 39,
      "outputs": [
        {
          "output_type": "execute_result",
          "data": {
            "text/plain": [
              "8.0"
            ]
          },
          "metadata": {},
          "execution_count": 39
        }
      ]
    },
    {
      "cell_type": "code",
      "source": [
        "pdfMining_2('Sample/S3.pdf','FPG')"
      ],
      "metadata": {
        "colab": {
          "base_uri": "https://localhost:8080/"
        },
        "outputId": "e52f3004-2b2e-43fc-9420-d97b67ab0b0a",
        "id": "Vw4XarF3r4x6"
      },
      "execution_count": 40,
      "outputs": [
        {
          "output_type": "execute_result",
          "data": {
            "text/plain": [
              "120.0"
            ]
          },
          "metadata": {},
          "execution_count": 40
        }
      ]
    },
    {
      "cell_type": "code",
      "source": [
        "pdfMining_2('Sample/S1.pdf','FPG')"
      ],
      "metadata": {
        "colab": {
          "base_uri": "https://localhost:8080/"
        },
        "outputId": "c8e6215d-17f5-493b-8894-658dad790921",
        "id": "X1OzQr46r4x7"
      },
      "execution_count": 41,
      "outputs": [
        {
          "output_type": "execute_result",
          "data": {
            "text/plain": [
              "170.0"
            ]
          },
          "metadata": {},
          "execution_count": 41
        }
      ]
    },
    {
      "cell_type": "code",
      "source": [
        "pdfMining_2('Sample/S1.pdf','A1C')"
      ],
      "metadata": {
        "colab": {
          "base_uri": "https://localhost:8080/"
        },
        "outputId": "b0100e38-a845-4a98-d803-32bdc938c089",
        "id": "RpRHka7vr4x7"
      },
      "execution_count": 42,
      "outputs": [
        {
          "output_type": "execute_result",
          "data": {
            "text/plain": [
              "4.5"
            ]
          },
          "metadata": {},
          "execution_count": 42
        }
      ]
    },
    {
      "cell_type": "code",
      "source": [
        "pdfMining_1('Sample/S1.pdf','2HRPP')"
      ],
      "metadata": {
        "colab": {
          "base_uri": "https://localhost:8080/"
        },
        "outputId": "956ca9ca-e40d-484c-c43f-b9fdb83e61aa",
        "id": "iGc5Ab9Or4x8"
      },
      "execution_count": 43,
      "outputs": [
        {
          "output_type": "execute_result",
          "data": {
            "text/plain": [
              "230.0"
            ]
          },
          "metadata": {},
          "execution_count": 43
        }
      ]
    },
    {
      "cell_type": "code",
      "source": [
        "try : \n",
        "      try : \n",
        "                    model_hba1c = joblib.load(\"Model/HbA1c.h5\")\n",
        "                    model_fpg = joblib.load (\"Model/FPG.h5\")\n",
        "                    model_2hrpp = joblib.load (\"Model/HrPP.h5\")\n",
        "                    faatures_hbalc = list(model_hba1c.feature_names_in_)\n",
        "                    faatures_fpg = list(model_fpg.feature_names_in_)\n",
        "                    faatures_2hrpp = list(model_2hrpp.feature_names_in_)\n",
        "                    features  =  faatures_hbalc + faatures_fpg + faatures_2hrpp\n",
        "                    features.pop(1)\n",
        "                    features.pop(2)       \n",
        "                    data_dic = {}\n",
        "                    data_dic[features[0]] = pdfMining_1('Sample/S1.pdf','A1C')\n",
        "                    data_dic[features[1]] = pdfMining_1('Sample/S1.pdf','FPG')\n",
        "                    data_dic[features[2]] = pdfMining_1('Sample/S1.pdf','HRPP')\n",
        "                    data_dic[features[3]] = np.random.choice([0,1])                      \n",
        "                    custom_data = pd.DataFrame(data = [data_dic] )   \n",
        "                    print('-----'*10)\n",
        "                    print('Your Input :\\n',custom_data)\n",
        "                    print('-----'*10)       \n",
        "                    pred_hbalc  = model_hba1c.predict(custom_data[list(model_hba1c.feature_names_in_)])[0]\n",
        "                    pred_fpg  = model_fpg.predict(custom_data[list(model_fpg.feature_names_in_)])[0]\n",
        "                    pred_2hrr = model_2hrpp.predict(custom_data[list(model_2hrpp.feature_names_in_)])[0]\n",
        "                    # Model Output Meaning :\n",
        "                            # 0 >> Normal \n",
        "                            # 1 >> Diabetic \n",
        "                            # 2 >> Prediabetic\n",
        "                            # 3 >> Hypoglycemia\n",
        "\n",
        "                    if pred_hbalc == 1 :\n",
        "                        output = 'Diabetic'\n",
        "\n",
        "                    elif   (pred_hbalc == 0) and  (pred_fpg == 1) and (pred_2hrr == 1):\n",
        "                        output = 'Diabetic'\n",
        "\n",
        "                    elif   (pred_hbalc == 2) and  (pred_fpg == 1) :\n",
        "                        output = 'Diabetic'\n",
        "\n",
        "                    elif   (pred_hbalc == 2) and  (pred_fpg == 2) :\n",
        "                        output = 'Pre Diabetic'\n",
        "\n",
        "                    elif   (pred_hbalc == 2) and  (pred_fpg == 0) :\n",
        "                        output = 'Pre Diabetic'\n",
        "\n",
        "                    elif   (pred_hbalc == 0) and  (pred_fpg == 2) :\n",
        "                        output = 'Pre Diabetic'\n",
        "\n",
        "                    elif   (pred_hbalc == 0) and  (pred_fpg == 0) :\n",
        "                        output = 'Normal'\n",
        "\n",
        "                    print('\\t Output : ',output)  \n",
        "   \n",
        "      except :           \n",
        "                    model_hba1c = joblib.load(\"Model/HbA1c.h5\")\n",
        "                    model_fpg = joblib.load (\"Model/FPG.h5\")\n",
        "                    model_2hrpp = joblib.load (\"Model/HrPP.h5\")\n",
        "                    faatures_hbalc = list(model_hba1c.feature_names_in_)\n",
        "                    faatures_fpg = list(model_fpg.feature_names_in_)\n",
        "                    faatures_2hrpp = list(model_2hrpp.feature_names_in_)\n",
        "                    features  =  faatures_hbalc + faatures_fpg + faatures_2hrpp\n",
        "                    features.pop(1)\n",
        "                    features.pop(2)       \n",
        "                    data_dic = {}\n",
        "                    data_dic[features[0]] = pdfMining_2('Sample/S1.pdf','A1C')\n",
        "                    data_dic[features[1]] = pdfMining_2('Sample/S1.pdf','FPG')\n",
        "                    data_dic[features[2]] = pdfMining_2('Sample/S1.pdf','HRPP')\n",
        "                    data_dic[features[3]] = np.random.choice([0,1])                      \n",
        "                    custom_data = pd.DataFrame(data = [data_dic] )   \n",
        "                    print('-----'*10)\n",
        "                    print('Your Input :\\n',custom_data)\n",
        "                    print('-----'*10)       \n",
        "                    pred_hbalc  = model_hba1c.predict(custom_data[list(model_hba1c.feature_names_in_)])[0]\n",
        "                    pred_fpg  = model_fpg.predict(custom_data[list(model_fpg.feature_names_in_)])[0]\n",
        "                    pred_2hrr = model_2hrpp.predict(custom_data[list(model_2hrpp.feature_names_in_)])[0]\n",
        "                    # Model Output Meaning :\n",
        "                            # 0 >> Normal \n",
        "                            # 1 >> Diabetic \n",
        "                            # 2 >> Prediabetic\n",
        "                            # 3 >> Hypoglycemia\n",
        "\n",
        "                    if pred_hbalc == 1 :\n",
        "                        output = 'Diabetic'\n",
        "\n",
        "                    elif   (pred_hbalc == 0) and  (pred_fpg == 1) and (pred_2hrr == 1):\n",
        "                        output = 'Diabetic'\n",
        "\n",
        "                    elif   (pred_hbalc == 2) and  (pred_fpg == 1) :\n",
        "                        output = 'Diabetic'\n",
        "\n",
        "                    elif   (pred_hbalc == 2) and  (pred_fpg == 2) :\n",
        "                        output = 'Pre Diabetic'\n",
        "\n",
        "                    elif   (pred_hbalc == 2) and  (pred_fpg == 0) :\n",
        "                        output = 'Pre Diabetic'\n",
        "\n",
        "                    elif   (pred_hbalc == 0) and  (pred_fpg == 2) :\n",
        "                        output = 'Pre Diabetic'\n",
        "\n",
        "                    elif   (pred_hbalc == 0) and  (pred_fpg == 0) :\n",
        "                        output = 'Normal'\n",
        "\n",
        "                    print('\\t Output : ',output)             \n",
        "except : \n",
        "\n",
        "          print('Your uploaded PDF can\\'t be detected')\n",
        "          print('-----'*10)       \n",
        "          model_hba1c = joblib.load(\"Model/HbA1c.h5\")\n",
        "          model_fpg = joblib.load (\"Model/FPG.h5\")\n",
        "          model_2hrpp = joblib.load (\"Model/HrPP.h5\")\n",
        "          faatures_hbalc = list(model_hba1c.feature_names_in_)\n",
        "          faatures_fpg = list(model_fpg.feature_names_in_)\n",
        "          faatures_2hrpp = list(model_2hrpp.feature_names_in_)\n",
        "          features  =  faatures_hbalc + faatures_fpg + faatures_2hrpp\n",
        "          features.pop(1)\n",
        "          features.pop(2)            \n",
        "          print('\\t Enter Manually the Following Please : ',features[:-1])\n"
      ],
      "metadata": {
        "colab": {
          "base_uri": "https://localhost:8080/"
        },
        "id": "nn_NucQcTXLX",
        "outputId": "16610c49-3b50-4934-a779-7fc6499808fd"
      },
      "execution_count": 44,
      "outputs": [
        {
          "output_type": "stream",
          "name": "stderr",
          "text": [
            "/usr/local/lib/python3.10/dist-packages/sklearn/base.py:318: UserWarning: Trying to unpickle estimator LogisticRegression from version 1.0.2 when using version 1.2.2. This might lead to breaking code or invalid results. Use at your own risk. For more info please refer to:\n",
            "https://scikit-learn.org/stable/model_persistence.html#security-maintainability-limitations\n",
            "  warnings.warn(\n"
          ]
        },
        {
          "output_type": "stream",
          "name": "stdout",
          "text": [
            "--------------------------------------------------\n",
            "Your Input :\n",
            "    HB A1C(%)  FPG(mg/dl)  2HrPP(mg/dl)  Gender\n",
            "0        4.5       170.0         230.0       0\n",
            "--------------------------------------------------\n",
            "\t Output :  Diabetic\n"
          ]
        }
      ]
    },
    {
      "cell_type": "code",
      "source": [],
      "metadata": {
        "id": "oJZ57stZthuU"
      },
      "execution_count": null,
      "outputs": []
    }
  ]
}