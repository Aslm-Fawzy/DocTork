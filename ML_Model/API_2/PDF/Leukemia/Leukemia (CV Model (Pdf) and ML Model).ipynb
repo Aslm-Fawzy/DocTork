{
  "nbformat": 4,
  "nbformat_minor": 0,
  "metadata": {
    "colab": {
      "provenance": [],
      "gpuType": "T4"
    },
    "kernelspec": {
      "name": "python3",
      "display_name": "Python 3"
    },
    "language_info": {
      "name": "python"
    },
    "gpuClass": "standard"
  },
  "cells": [
    {
      "cell_type": "code",
      "execution_count": null,
      "metadata": {
        "id": "RiUPWwGiyVK6",
        "colab": {
          "base_uri": "https://localhost:8080/"
        },
        "outputId": "6501666f-9095-4dda-bcdc-860656576103"
      },
      "outputs": [
        {
          "output_type": "stream",
          "name": "stdout",
          "text": [
            "Looking in indexes: https://pypi.org/simple, https://us-python.pkg.dev/colab-wheels/public/simple/\n",
            "Collecting tika\n",
            "  Downloading tika-2.6.0.tar.gz (27 kB)\n",
            "  Preparing metadata (setup.py) ... \u001b[?25l\u001b[?25hdone\n",
            "Requirement already satisfied: setuptools in /usr/local/lib/python3.10/dist-packages (from tika) (67.7.2)\n",
            "Requirement already satisfied: requests in /usr/local/lib/python3.10/dist-packages (from tika) (2.27.1)\n",
            "Requirement already satisfied: urllib3<1.27,>=1.21.1 in /usr/local/lib/python3.10/dist-packages (from requests->tika) (1.26.15)\n",
            "Requirement already satisfied: certifi>=2017.4.17 in /usr/local/lib/python3.10/dist-packages (from requests->tika) (2022.12.7)\n",
            "Requirement already satisfied: charset-normalizer~=2.0.0 in /usr/local/lib/python3.10/dist-packages (from requests->tika) (2.0.12)\n",
            "Requirement already satisfied: idna<4,>=2.5 in /usr/local/lib/python3.10/dist-packages (from requests->tika) (3.4)\n",
            "Building wheels for collected packages: tika\n",
            "  Building wheel for tika (setup.py) ... \u001b[?25l\u001b[?25hdone\n",
            "  Created wheel for tika: filename=tika-2.6.0-py3-none-any.whl size=32625 sha256=f24441b07aeca77aaf8ee345475af44497269c8444d802f20beef2f837984d79\n",
            "  Stored in directory: /root/.cache/pip/wheels/5f/71/c7/b757709531121b1700cffda5b6b0d4aad095fb507ec84316d0\n",
            "Successfully built tika\n",
            "Installing collected packages: tika\n",
            "Successfully installed tika-2.6.0\n"
          ]
        }
      ],
      "source": [
        "pip install tika"
      ]
    },
    {
      "cell_type": "code",
      "source": [
        "from tika import parser\n",
        "import re\n",
        "import joblib\n",
        "import pandas as pd\n",
        "import numpy as np"
      ],
      "metadata": {
        "id": "S7W0aMam-S2h"
      },
      "execution_count": null,
      "outputs": []
    },
    {
      "cell_type": "code",
      "source": [
        "#finalcode\n",
        "\n",
        "#Creating Function : \n",
        "# Taking 2 paramaters the first one is the path of the pdf and the last one is the word we wanna search for in the pdf. \n",
        "\n",
        "def pdfMining(path,x):\n",
        "    \n",
        "    #ourpdf\n",
        "    pdf = path\n",
        "    #for handling similar name for same thing that different from lab test to other         \n",
        "    dict_cbc_names = {'Haemoglobin' : 'HB' , \n",
        "                       'WBCs' : 'Leucocytic'}\n",
        "\n",
        "\n",
        "    #Parsing the content of our pdf into a list of sentences\n",
        "    rawText1 = parser.from_file(pdf)\n",
        "    rawList1 = rawText1['content'].splitlines()\n",
        "    #Iterating inside the list of sentences\n",
        "    for i in rawList1:\n",
        "\n",
        "        if re.search(x, i, re.IGNORECASE):\n",
        "            if 'MCHC' in i:\n",
        "                continue\n",
        "            #Our chosen sentence\n",
        "            \n",
        "            #Converting our little sentence to a list and splitting it into words to finally extract the needed number.\n",
        "            list_ = list(i.split())\n",
        "            list_ = str(list_)\n",
        "             \n",
        "            #Appling re to find the number after a certain word\n",
        "            #Result is the number we need (VERY IMPORTANT)\n",
        "            try :           \n",
        "              result = re.search('\\d+\\.{0,1}\\d*', list_).group()\n",
        "              result = float(result)\n",
        "              if 'Thousands' in list_ : \n",
        "                    result = result * 1000       \n",
        "            except :\n",
        "              continue\n",
        "            \n",
        "  \n",
        "        elif str(x) == 'Haemoglobin' :\n",
        "            if 'MCHC' in i:\n",
        "                continue                               \n",
        "            if dict_cbc_names['Haemoglobin'] in i : \n",
        "              x = dict_cbc_names[str(x)]\n",
        "              list_ = list(i.split())\n",
        "              list_ = str(list_)\n",
        "              \n",
        "              #Appling re to find the number after a certain word\n",
        "              #Result is the number we need (VERY IMPORTANT)\n",
        "              try :           \n",
        "                result = re.search('\\d+\\.{0,1}\\d*', list_).group()\n",
        "                result = float(result)\n",
        "              except :\n",
        "                continue\n",
        "\n",
        "\n",
        "        elif str(x) == 'WBCs' :\n",
        "            if 'MCHC' in i:\n",
        "                continue                               \n",
        "            if dict_cbc_names['WBCs'] in i : \n",
        "                x = dict_cbc_names[str(x)]\n",
        "                list_ = list(i.split())\n",
        "                list_ = str(list_)                \n",
        "                #Appling re to find the number after a certain word\n",
        "                #Result is the number we need (VERY IMPORTANT)\n",
        "                try :           \n",
        "                  result = re.search('\\d+\\.{0,1}\\d*', list_).group()\n",
        "                  result = float(result)\n",
        "                  if 'Thousands' in list_ : \n",
        "                    result = result * 1000                     \n",
        "                except :\n",
        "                  continue\n",
        "\n",
        "            elif  'WBC' in i:\n",
        "                x = 'WBC'                                 \n",
        "                list_ = list(i.split())\n",
        "                list_ = str(list_)\n",
        "                  \n",
        "                  #Appling re to find the number after a certain word\n",
        "                  #Result is the number we need (VERY IMPORTANT)\n",
        "                try :           \n",
        "                    result = re.search('\\d+\\.{0,1}\\d*', list_).group()\n",
        "                    result = float(result)\n",
        "                    if 'Thousands' in list_ : \n",
        "                      result = result * 1000                     \n",
        "                except :\n",
        "                    continue   \n",
        "    \n",
        "    return result\n",
        "        "
      ],
      "metadata": {
        "id": "CBx2Hmrr44Yc"
      },
      "execution_count": null,
      "outputs": []
    },
    {
      "cell_type": "code",
      "source": [
        "pdfMining('Sample/S2.pdf','WBCs')"
      ],
      "metadata": {
        "colab": {
          "base_uri": "https://localhost:8080/"
        },
        "id": "Q8uk1umbLBYM",
        "outputId": "4fa40334-2d99-4815-aeec-91f72ff0858e"
      },
      "execution_count": null,
      "outputs": [
        {
          "output_type": "stream",
          "name": "stderr",
          "text": [
            "2023-05-30 10:46:33,253 [MainThread  ] [INFO ]  Retrieving http://search.maven.org/remotecontent?filepath=org/apache/tika/tika-server-standard/2.6.0/tika-server-standard-2.6.0.jar to /tmp/tika-server.jar.\n",
            "INFO:tika.tika:Retrieving http://search.maven.org/remotecontent?filepath=org/apache/tika/tika-server-standard/2.6.0/tika-server-standard-2.6.0.jar to /tmp/tika-server.jar.\n",
            "2023-05-30 10:46:37,381 [MainThread  ] [INFO ]  Retrieving http://search.maven.org/remotecontent?filepath=org/apache/tika/tika-server-standard/2.6.0/tika-server-standard-2.6.0.jar.md5 to /tmp/tika-server.jar.md5.\n",
            "INFO:tika.tika:Retrieving http://search.maven.org/remotecontent?filepath=org/apache/tika/tika-server-standard/2.6.0/tika-server-standard-2.6.0.jar.md5 to /tmp/tika-server.jar.md5.\n",
            "2023-05-30 10:46:38,453 [MainThread  ] [WARNI]  Failed to see startup log message; retrying...\n",
            "WARNING:tika.tika:Failed to see startup log message; retrying...\n",
            "2023-05-30 10:46:43,469 [MainThread  ] [WARNI]  Failed to see startup log message; retrying...\n",
            "WARNING:tika.tika:Failed to see startup log message; retrying...\n"
          ]
        },
        {
          "output_type": "execute_result",
          "data": {
            "text/plain": [
              "6500.0"
            ]
          },
          "metadata": {},
          "execution_count": 4
        }
      ]
    },
    {
      "cell_type": "code",
      "source": [
        "pdfMining('Sample/S3.pdf','WBCs')"
      ],
      "metadata": {
        "colab": {
          "base_uri": "https://localhost:8080/"
        },
        "id": "-BKXtqEDQVm7",
        "outputId": "e97d676b-1cb8-4410-b823-6b5c45e12e88"
      },
      "execution_count": null,
      "outputs": [
        {
          "output_type": "execute_result",
          "data": {
            "text/plain": [
              "5500.0"
            ]
          },
          "metadata": {},
          "execution_count": 5
        }
      ]
    },
    {
      "cell_type": "code",
      "source": [
        "pdfMining('Sample/S1.pdf','WBCs')"
      ],
      "metadata": {
        "colab": {
          "base_uri": "https://localhost:8080/"
        },
        "id": "6N5aSiyPQiBd",
        "outputId": "4208e1a6-1792-458e-cc91-638d35df801a"
      },
      "execution_count": null,
      "outputs": [
        {
          "output_type": "execute_result",
          "data": {
            "text/plain": [
              "6000.0"
            ]
          },
          "metadata": {},
          "execution_count": 6
        }
      ]
    },
    {
      "cell_type": "code",
      "source": [
        "pdfMining('Sample/S2.pdf','Platelet') "
      ],
      "metadata": {
        "colab": {
          "base_uri": "https://localhost:8080/"
        },
        "id": "96r_vYbY51EE",
        "outputId": "903e6e77-9d24-4606-d270-dee49b72755b"
      },
      "execution_count": null,
      "outputs": [
        {
          "output_type": "execute_result",
          "data": {
            "text/plain": [
              "248000.0"
            ]
          },
          "metadata": {},
          "execution_count": 7
        }
      ]
    },
    {
      "cell_type": "code",
      "source": [
        "pdfMining('Sample/S1.pdf','Platelet') "
      ],
      "metadata": {
        "colab": {
          "base_uri": "https://localhost:8080/"
        },
        "id": "4fKUlpsC7UlH",
        "outputId": "10aa9fc4-ddc2-4832-85fc-ac3f4d3b8cf6"
      },
      "execution_count": null,
      "outputs": [
        {
          "output_type": "execute_result",
          "data": {
            "text/plain": [
              "199000.0"
            ]
          },
          "metadata": {},
          "execution_count": 8
        }
      ]
    },
    {
      "cell_type": "code",
      "source": [
        "pdfMining('Sample/S3.pdf','Platelet') "
      ],
      "metadata": {
        "colab": {
          "base_uri": "https://localhost:8080/"
        },
        "id": "ex4_MkFg7XIm",
        "outputId": "c410c9ba-e9bd-4b3b-8989-063f12cc9091"
      },
      "execution_count": null,
      "outputs": [
        {
          "output_type": "execute_result",
          "data": {
            "text/plain": [
              "155500.0"
            ]
          },
          "metadata": {},
          "execution_count": 9
        }
      ]
    },
    {
      "cell_type": "code",
      "source": [
        "try : \n",
        "\n",
        "              model_acute_l = joblib.load('Model/RandomForestModel(AcuteL-m,f).h5')\n",
        "              model_cml = joblib.load('Model/RandomForestModel(CML-m,f).h5')\n",
        "              features = list(model_acute_l.feature_names_in_)  + list(model_cml.feature_names_in_)\n",
        "              features.pop(3) # Delete Duplicated Gender_Male from Feature List\n",
        "              features.pop(3) # Delete Duplicated Hemoglobin from Feature List\n",
        "              features.pop(3) # Delete Duplicated Platelets from Feature List\n",
        "              data_dic = {}\n",
        "              data_dic[features[0]] = pdfMining('Sample/S2.pdf','Haemoglobin')\n",
        "              data_dic[features[1]] = pdfMining('Sample/S2.pdf','WBCs')\n",
        "              data_dic[features[2]] = pdfMining('Sample/S2.pdf','Platelet')\n",
        "              data_dic[features[3]] = pdfMining('Sample/S2.pdf','Basophils') \n",
        "              data_dic[features[4]] = pdfMining('Sample/S2.pdf','Eosinophils') \n",
        "              data_dic[features[5]] = np.random.choice([0,1])\n",
        "              custom_data = pd.DataFrame(data = [data_dic] )   \n",
        "              print('-----'*10)\n",
        "              print('Your Input :\\n',custom_data)\n",
        "              print('-----'*10)       \n",
        "              pred_acute_l  = model_acute_l.predict(custom_data[list(model_acute_l.feature_names_in_)])[0]\n",
        "              pred_cml  = model_cml.predict(custom_data[list(model_cml.feature_names_in_)])[0]\n",
        "              if pred_cml == pred_acute_l :\n",
        "                                          # As predication of two models is same  \n",
        "                                          # Two models have predicted Good as Label\n",
        "                                          print('Based on Your Complete Blood Count (CBC) :')\n",
        "                                          print('------'*10)    \n",
        "                                          print('\\t There is No Probability of Acute Leukmia and Chronic Myelogenous Leukemia (CML) ')\n",
        "                                          output = 'Good'\n",
        "                                          \n",
        "              elif pred_cml == 'CML' and pred_acute_l == 'Acute L' :\n",
        "                                          # As predication of two models is different \n",
        "                                          # One model has predicted CML as Label  \n",
        "                                          # Other model has  predicted Acute L as Label  \n",
        "                                          print('Based on Your Complete Blood Count (CBC) :')\n",
        "                                          print('-----'*10)    \n",
        "                                          print(\n",
        "                                              '''\n",
        "                                            There is Probability of Acute Leukmia and Chronic Myelogenous Leukemia (CML) :\n",
        "                                                  >> As Your ['Hemoglobin' , 'WBCs', 'Platelets', 'Basophilis','Eosinophilia'] may be not in normal ranges \n",
        "                                            '''\n",
        "                                              )\n",
        "                                          output = 'Acute  L or CML'\n",
        "      \n",
        "              elif pred_cml == 'CML' and pred_acute_l == 'Good' :\n",
        "                                          # As predication of two models is different \n",
        "                                          # One model has predicted CML as Label  \n",
        "                                          # Other model has  predicted Good as Label  \n",
        "                                          print('Based on Your Complete Blood Count (CBC) :')\n",
        "                                          print('-----'*10)    \n",
        "                                          print(\n",
        "                                              '''\n",
        "                                            There is Probability of Chronic Myelogenous Leukemia (CML) :\n",
        "                                                  >> As Your ['Hemoglobin', 'Platelets','Basophilis','Eosinophilia'] may be not in normal ranges \n",
        "                                            ''' \n",
        "                                            )\n",
        "                                          output = 'CML'\n",
        "                                          \n",
        "              elif pred_cml == 'Good' and pred_acute_l == 'Acute L' :\n",
        "                                          # As predication of two models is different \n",
        "                                          # One model has predicted Good as Label  \n",
        "                                          # Other model has  predicted Acute L as Label  \n",
        "                                          print('Based on Your Complete Blood Count (CBC) :')\n",
        "                                          print('-----'*10)    \n",
        "                                          print(\n",
        "                                              '''\n",
        "                                          There is Probability of Acute Leukmia : \n",
        "                                              >> As Your ['Hemoglobin' , 'WBCs', 'Platelets'] may be not in normal ranges \n",
        "                                            ''' \n",
        "                                          )\n",
        "                                          output = 'Acute L'             \n",
        "             \n",
        "except : \n",
        "\n",
        "        print('Your uploaded PDF can\\'t be detected')\n",
        "        print('-----'*10)  \n",
        "        model_acute_l = joblib.load('Model/RandomForestModel(AcuteL-m,f).h5')\n",
        "        model_cml = joblib.load('Model/RandomForestModel(CML-m,f).h5')\n",
        "        features = list(model_acute_l.feature_names_in_)  + list(model_cml.feature_names_in_)\n",
        "        features.pop(3) # Delete Duplicated Gender_Male from Feature List\n",
        "        features.pop(3) # Delete Duplicated Hemoglobin from Feature List\n",
        "        features.pop(3) # Delete Duplicated Platelets from Feature List                            \n",
        "        print('\\t Enter Manually the Following Please : ',features[:-1])\n"
      ],
      "metadata": {
        "colab": {
          "base_uri": "https://localhost:8080/"
        },
        "id": "96t6k_Uk8gQ9",
        "outputId": "8f642fa9-086e-4020-9f3c-f0686ddddc74"
      },
      "execution_count": null,
      "outputs": [
        {
          "output_type": "stream",
          "name": "stderr",
          "text": [
            "/usr/local/lib/python3.10/dist-packages/sklearn/base.py:318: UserWarning: Trying to unpickle estimator DecisionTreeClassifier from version 1.0.2 when using version 1.2.2. This might lead to breaking code or invalid results. Use at your own risk. For more info please refer to:\n",
            "https://scikit-learn.org/stable/model_persistence.html#security-maintainability-limitations\n",
            "  warnings.warn(\n",
            "/usr/local/lib/python3.10/dist-packages/sklearn/base.py:318: UserWarning: Trying to unpickle estimator RandomForestClassifier from version 1.0.2 when using version 1.2.2. This might lead to breaking code or invalid results. Use at your own risk. For more info please refer to:\n",
            "https://scikit-learn.org/stable/model_persistence.html#security-maintainability-limitations\n",
            "  warnings.warn(\n"
          ]
        },
        {
          "output_type": "stream",
          "name": "stdout",
          "text": [
            "--------------------------------------------------\n",
            "Your Input :\n",
            "    Hemoglobin    WBCs  Platelets  Basophilis  Eosinophilia  Gender_Male\n",
            "0        13.4  6500.0   248000.0         0.6           1.7            1\n",
            "--------------------------------------------------\n",
            "Based on Your Complete Blood Count (CBC) :\n",
            "------------------------------------------------------------\n",
            "\t There is No Probability of Acute Leukmia and Chronic Myelogenous Leukemia (CML) \n"
          ]
        }
      ]
    }
  ]
}