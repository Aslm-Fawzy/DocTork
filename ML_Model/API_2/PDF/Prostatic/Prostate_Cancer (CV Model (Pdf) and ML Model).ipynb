{
  "nbformat": 4,
  "nbformat_minor": 0,
  "metadata": {
    "colab": {
      "provenance": [],
      "gpuType": "T4",
      "toc_visible": true
    },
    "kernelspec": {
      "name": "python3",
      "display_name": "Python 3"
    },
    "language_info": {
      "name": "python"
    },
    "gpuClass": "standard"
  },
  "cells": [
    {
      "cell_type": "code",
      "execution_count": 1,
      "metadata": {
        "id": "RiUPWwGiyVK6",
        "colab": {
          "base_uri": "https://localhost:8080/"
        },
        "outputId": "f669bddc-1fa4-4de0-f09a-0b2bd1c5fdea"
      },
      "outputs": [
        {
          "output_type": "stream",
          "name": "stdout",
          "text": [
            "Looking in indexes: https://pypi.org/simple, https://us-python.pkg.dev/colab-wheels/public/simple/\n",
            "Collecting tika\n",
            "  Downloading tika-2.6.0.tar.gz (27 kB)\n",
            "  Preparing metadata (setup.py) ... \u001b[?25l\u001b[?25hdone\n",
            "Requirement already satisfied: setuptools in /usr/local/lib/python3.10/dist-packages (from tika) (67.7.2)\n",
            "Requirement already satisfied: requests in /usr/local/lib/python3.10/dist-packages (from tika) (2.27.1)\n",
            "Requirement already satisfied: urllib3<1.27,>=1.21.1 in /usr/local/lib/python3.10/dist-packages (from requests->tika) (1.26.15)\n",
            "Requirement already satisfied: certifi>=2017.4.17 in /usr/local/lib/python3.10/dist-packages (from requests->tika) (2022.12.7)\n",
            "Requirement already satisfied: charset-normalizer~=2.0.0 in /usr/local/lib/python3.10/dist-packages (from requests->tika) (2.0.12)\n",
            "Requirement already satisfied: idna<4,>=2.5 in /usr/local/lib/python3.10/dist-packages (from requests->tika) (3.4)\n",
            "Building wheels for collected packages: tika\n",
            "  Building wheel for tika (setup.py) ... \u001b[?25l\u001b[?25hdone\n",
            "  Created wheel for tika: filename=tika-2.6.0-py3-none-any.whl size=32625 sha256=2f50643e451b87d94f7dbee9c1e813759907d6e7af1a7fa0d38937d63e3004fb\n",
            "  Stored in directory: /root/.cache/pip/wheels/5f/71/c7/b757709531121b1700cffda5b6b0d4aad095fb507ec84316d0\n",
            "Successfully built tika\n",
            "Installing collected packages: tika\n",
            "Successfully installed tika-2.6.0\n"
          ]
        }
      ],
      "source": [
        "pip install tika"
      ]
    },
    {
      "cell_type": "code",
      "source": [
        "pip install PyPDF2"
      ],
      "metadata": {
        "colab": {
          "base_uri": "https://localhost:8080/"
        },
        "id": "WlN38tj-Qm8x",
        "outputId": "67262131-fd53-4e69-fe6f-6255024e78f9"
      },
      "execution_count": 3,
      "outputs": [
        {
          "output_type": "stream",
          "name": "stdout",
          "text": [
            "Looking in indexes: https://pypi.org/simple, https://us-python.pkg.dev/colab-wheels/public/simple/\n",
            "Collecting PyPDF2\n",
            "  Downloading pypdf2-3.0.1-py3-none-any.whl (232 kB)\n",
            "\u001b[?25l     \u001b[90m━━━━━━━━━━━━━━━━━━━━━━━━━━━━━━━━━━━━━━━━\u001b[0m \u001b[32m0.0/232.6 kB\u001b[0m \u001b[31m?\u001b[0m eta \u001b[36m-:--:--\u001b[0m\r\u001b[2K     \u001b[91m━━━━━━━━━━━━━━━━━━━━━━━━━━━━━━━━━━━━━\u001b[0m\u001b[91m╸\u001b[0m\u001b[90m━\u001b[0m \u001b[32m225.3/232.6 kB\u001b[0m \u001b[31m7.7 MB/s\u001b[0m eta \u001b[36m0:00:01\u001b[0m\r\u001b[2K     \u001b[90m━━━━━━━━━━━━━━━━━━━━━━━━━━━━━━━━━━━━━━━\u001b[0m \u001b[32m232.6/232.6 kB\u001b[0m \u001b[31m6.1 MB/s\u001b[0m eta \u001b[36m0:00:00\u001b[0m\n",
            "\u001b[?25hInstalling collected packages: PyPDF2\n",
            "Successfully installed PyPDF2-3.0.1\n"
          ]
        }
      ]
    },
    {
      "cell_type": "code",
      "source": [
        "from tika import parser\n",
        "import re\n",
        "import joblib\n",
        "import pandas as pd\n",
        "import numpy as np\n",
        "import PyPDF2"
      ],
      "metadata": {
        "id": "S7W0aMam-S2h"
      },
      "execution_count": 4,
      "outputs": []
    },
    {
      "cell_type": "code",
      "source": [
        "#finalcode\n",
        "\n",
        "#Creating Function : \n",
        "# Taking 2 paramaters the first one is the path of the pdf and the last one is the word we wanna search for in the pdf. \n",
        "\n",
        "def pdfMining_1(path,x):\n",
        "        \n",
        "    #ourpdf\n",
        "    pdf = path\n",
        "    #Parsing the content of our pdf into a list of sentences\n",
        "    rawText1 = parser.from_file(pdf)\n",
        "    rawList1 = rawText1['content'].splitlines()\n",
        "    #Iterating inside the list of sentences\n",
        "    for i in rawList1:\n",
        "        i = i.replace(' ','')\n",
        "        if re.search(x, i, re.IGNORECASE):\n",
        "                  #Our chosen sentence\n",
        "                  #Converting our little sentence to a list and splitting it into words to finally extract the needed number.       \n",
        "                      list_ = list(i.split())\n",
        "                      list_ = str(list_)   \n",
        "                  #Appling re to find the number after a certain word\n",
        "                  #Result is the number we need (VERY IMPORTANT)                                                   \n",
        "                      try :           \n",
        "                        result = re.search('\\d+\\.{0,1}\\d*', list_).group()\n",
        "                        result = float(result) \n",
        "                        \n",
        "                      except :\n",
        "                        continue\n",
        "      \n",
        "    return result\n",
        "        "
      ],
      "metadata": {
        "id": "CBx2Hmrr44Yc"
      },
      "execution_count": 7,
      "outputs": []
    },
    {
      "cell_type": "code",
      "source": [
        "pdfMining_1('Sample/S1.pdf','PSA')"
      ],
      "metadata": {
        "colab": {
          "base_uri": "https://localhost:8080/"
        },
        "id": "Q8uk1umbLBYM",
        "outputId": "0baf8f07-2c51-4712-8bc2-645ead77bbec"
      },
      "execution_count": 8,
      "outputs": [
        {
          "output_type": "stream",
          "name": "stderr",
          "text": [
            "2023-05-31 18:22:53,557 [MainThread  ] [INFO ]  Retrieving http://search.maven.org/remotecontent?filepath=org/apache/tika/tika-server-standard/2.6.0/tika-server-standard-2.6.0.jar to /tmp/tika-server.jar.\n",
            "INFO:tika.tika:Retrieving http://search.maven.org/remotecontent?filepath=org/apache/tika/tika-server-standard/2.6.0/tika-server-standard-2.6.0.jar to /tmp/tika-server.jar.\n",
            "2023-05-31 18:22:54,041 [MainThread  ] [INFO ]  Retrieving http://search.maven.org/remotecontent?filepath=org/apache/tika/tika-server-standard/2.6.0/tika-server-standard-2.6.0.jar.md5 to /tmp/tika-server.jar.md5.\n",
            "INFO:tika.tika:Retrieving http://search.maven.org/remotecontent?filepath=org/apache/tika/tika-server-standard/2.6.0/tika-server-standard-2.6.0.jar.md5 to /tmp/tika-server.jar.md5.\n",
            "2023-05-31 18:22:54,292 [MainThread  ] [WARNI]  Failed to see startup log message; retrying...\n",
            "WARNING:tika.tika:Failed to see startup log message; retrying...\n"
          ]
        },
        {
          "output_type": "execute_result",
          "data": {
            "text/plain": [
              "1.2"
            ]
          },
          "metadata": {},
          "execution_count": 8
        }
      ]
    },
    {
      "cell_type": "code",
      "source": [
        "pdfMining_1('Sample/S2.pdf','PSA')"
      ],
      "metadata": {
        "colab": {
          "base_uri": "https://localhost:8080/"
        },
        "id": "-BKXtqEDQVm7",
        "outputId": "6469f7ab-21ae-4d83-b97f-735aed06cf58"
      },
      "execution_count": 9,
      "outputs": [
        {
          "output_type": "execute_result",
          "data": {
            "text/plain": [
              "5.0"
            ]
          },
          "metadata": {},
          "execution_count": 9
        }
      ]
    },
    {
      "cell_type": "code",
      "source": [
        "def pdfMining_2 (path,x) :\n",
        "  # Open the PDF file in binary mode\n",
        "  with open(path, 'rb') as pdf_file:\n",
        "      # Create a PDF reader object\n",
        "      pdf_reader = PyPDF2.PdfReader(pdf_file)\n",
        "\n",
        "      # Get the first page of the PDF file\n",
        "      page = pdf_reader.pages[0]\n",
        "\n",
        "      # Extract the text from the page\n",
        "      text = page.extract_text()\n",
        "      for i in text.split('\\n') :\n",
        "          i = i.replace(' ','')      \n",
        "          if re.search(x, i, re.IGNORECASE):\n",
        "                    #Our chosen sentence\n",
        "                    #Converting our little sentence to a list and splitting it into words to finally extract the needed number.\n",
        "                    list_ = list(i.split())\n",
        "                    list_ = str(list_)\n",
        "                    \n",
        "                    #Appling re to find the number after a certain word\n",
        "                    #Result is the number we need (VERY IMPORTANT)\n",
        "                    try :           \n",
        "                      result = re.search('\\d+\\.{0,1}\\d*', list_).group()\n",
        "                      result = float(result) \n",
        "                      \n",
        "                    except :\n",
        "                      continue\n",
        "\n",
        "  return result\n"
      ],
      "metadata": {
        "id": "-S6k-NvuQ02q"
      },
      "execution_count": 10,
      "outputs": []
    },
    {
      "cell_type": "code",
      "source": [],
      "metadata": {
        "id": "0fPw4kgoRQIw"
      },
      "execution_count": null,
      "outputs": []
    },
    {
      "cell_type": "code",
      "source": [
        "pdfMining_2('Sample/S1.pdf','PSA')"
      ],
      "metadata": {
        "colab": {
          "base_uri": "https://localhost:8080/"
        },
        "outputId": "da6cc53f-0e64-4ec8-9e31-dd98858c0db6",
        "id": "djZxi8vfRWFH"
      },
      "execution_count": 11,
      "outputs": [
        {
          "output_type": "execute_result",
          "data": {
            "text/plain": [
              "1.2"
            ]
          },
          "metadata": {},
          "execution_count": 11
        }
      ]
    },
    {
      "cell_type": "code",
      "source": [
        "pdfMining_2('Sample/S2.pdf','PSA')"
      ],
      "metadata": {
        "colab": {
          "base_uri": "https://localhost:8080/"
        },
        "outputId": "64c2a4e4-37bd-46f2-ac29-98ec46075d1a",
        "id": "4OBMxoynRWFI"
      },
      "execution_count": 12,
      "outputs": [
        {
          "output_type": "execute_result",
          "data": {
            "text/plain": [
              "5.0"
            ]
          },
          "metadata": {},
          "execution_count": 12
        }
      ]
    },
    {
      "cell_type": "code",
      "source": [
        "try :\n",
        "   \n",
        "    try :\n",
        "                    pred_mapping = {'1' : 'Prostatic_Cancer' , \n",
        "                                    '0' : 'Normal' }\n",
        "                    model = joblib.load(\"Model/Prostatic cancer.h5\")\n",
        "                    features = list(model.feature_names_in_)     \n",
        "                    data_dic = {}\n",
        "                    data_dic[features[0]] = pdfMining_1('Sample/S2.pdf','PSA')\n",
        "                    data_dic[features[1]] = 1                      \n",
        "                    custom_data = pd.DataFrame(data = [data_dic] )   \n",
        "                    print('-----'*10)\n",
        "                    print('Your Input :\\n',custom_data)\n",
        "                    print('-----'*10)       \n",
        "                    output = model.predict(custom_data)[0] \n",
        "                    output = pred_mapping[str(output)]                   \n",
        "                    print('\\t Output :',output)\n",
        "\n",
        "    except :\n",
        "                    pred_mapping = {'1' : 'Prostatic_Cancer' , \n",
        "                                    '0' : 'Normal' }\n",
        "                    model = joblib.load(\"Model/Prostatic cancer.h5\")\n",
        "                    features = list(model.feature_names_in_)     \n",
        "                    data_dic = {}\n",
        "                    data_dic[features[0]] = pdfMining_2('Sample/S2.pdf','PSA')\n",
        "                    data_dic[features[1]] = 1                      \n",
        "                    custom_data = pd.DataFrame(data = [data_dic] )   \n",
        "                    print('-----'*10)\n",
        "                    print('Your Input :\\n',custom_data)\n",
        "                    print('-----'*10)       \n",
        "                    output = model.predict(custom_data)[0] \n",
        "                    output = pred_mapping[str(output)]                   \n",
        "                    print('\\t Output :',output)\n",
        "                                           \n",
        "             \n",
        "except : \n",
        "\n",
        "            print('Your uploaded PDF can\\'t be detected')\n",
        "            print('-----'*10)       \n",
        "            model = joblib.load(\"Model/Prostatic cancer.h5\")\n",
        "            features = list(model.feature_names_in_)    \n",
        "            print('\\t Enter Manually the Following Please : ',features[:-1])\n"
      ],
      "metadata": {
        "colab": {
          "base_uri": "https://localhost:8080/"
        },
        "id": "nn_NucQcTXLX",
        "outputId": "4cd4958f-1680-4ae2-fd58-5586e91340a5"
      },
      "execution_count": 13,
      "outputs": [
        {
          "output_type": "stream",
          "name": "stdout",
          "text": [
            "--------------------------------------------------\n",
            "Your Input :\n",
            "    PSA(ng/ml)  Gender\n",
            "0         5.0       1\n",
            "--------------------------------------------------\n",
            "\t Output : Prostatic_Cancer\n"
          ]
        },
        {
          "output_type": "stream",
          "name": "stderr",
          "text": [
            "/usr/local/lib/python3.10/dist-packages/sklearn/base.py:318: UserWarning: Trying to unpickle estimator LogisticRegression from version 1.0.2 when using version 1.2.2. This might lead to breaking code or invalid results. Use at your own risk. For more info please refer to:\n",
            "https://scikit-learn.org/stable/model_persistence.html#security-maintainability-limitations\n",
            "  warnings.warn(\n"
          ]
        }
      ]
    }
  ]
}