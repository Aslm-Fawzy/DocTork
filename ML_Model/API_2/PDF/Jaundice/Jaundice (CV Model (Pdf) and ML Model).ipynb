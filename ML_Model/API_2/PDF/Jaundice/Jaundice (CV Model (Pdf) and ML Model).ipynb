{
 "cells": [
  {
   "cell_type": "code",
   "execution_count": 1,
   "metadata": {
    "colab": {
     "base_uri": "https://localhost:8080/"
    },
    "id": "MAetGd6RnD0k",
    "outputId": "7753fc6d-c7b3-402b-c2e8-c7ceb6ba4751"
   },
   "outputs": [
    {
     "name": "stdout",
     "output_type": "stream",
     "text": [
      "Looking in indexes: https://pypi.org/simple, https://us-python.pkg.dev/colab-wheels/public/simple/\n",
      "Collecting PyPDF2\n",
      "  Downloading pypdf2-3.0.1-py3-none-any.whl (232 kB)\n",
      "\u001b[2K     \u001b[90m━━━━━━━━━━━━━━━━━━━━━━━━━━━━━━━━━━━━━━━\u001b[0m \u001b[32m232.6/232.6 kB\u001b[0m \u001b[31m5.1 MB/s\u001b[0m eta \u001b[36m0:00:00\u001b[0m\n",
      "\u001b[?25hInstalling collected packages: PyPDF2\n",
      "Successfully installed PyPDF2-3.0.1\n"
     ]
    }
   ],
   "source": [
    "pip install PyPDF2"
   ]
  },
  {
   "cell_type": "code",
   "execution_count": 3,
   "metadata": {
    "colab": {
     "base_uri": "https://localhost:8080/"
    },
    "id": "RiUPWwGiyVK6",
    "outputId": "d769ddc3-81ac-4870-b290-f2783f567464"
   },
   "outputs": [
    {
     "name": "stdout",
     "output_type": "stream",
     "text": [
      "Looking in indexes: https://pypi.org/simple, https://us-python.pkg.dev/colab-wheels/public/simple/\n",
      "Collecting tika\n",
      "  Downloading tika-2.6.0.tar.gz (27 kB)\n",
      "  Preparing metadata (setup.py) ... \u001b[?25l\u001b[?25hdone\n",
      "Requirement already satisfied: setuptools in /usr/local/lib/python3.10/dist-packages (from tika) (67.7.2)\n",
      "Requirement already satisfied: requests in /usr/local/lib/python3.10/dist-packages (from tika) (2.27.1)\n",
      "Requirement already satisfied: urllib3<1.27,>=1.21.1 in /usr/local/lib/python3.10/dist-packages (from requests->tika) (1.26.15)\n",
      "Requirement already satisfied: certifi>=2017.4.17 in /usr/local/lib/python3.10/dist-packages (from requests->tika) (2022.12.7)\n",
      "Requirement already satisfied: charset-normalizer~=2.0.0 in /usr/local/lib/python3.10/dist-packages (from requests->tika) (2.0.12)\n",
      "Requirement already satisfied: idna<4,>=2.5 in /usr/local/lib/python3.10/dist-packages (from requests->tika) (3.4)\n",
      "Building wheels for collected packages: tika\n",
      "  Building wheel for tika (setup.py) ... \u001b[?25l\u001b[?25hdone\n",
      "  Created wheel for tika: filename=tika-2.6.0-py3-none-any.whl size=32625 sha256=983de7acda267579f714db7a4b04b4b2a9276155346b7f104e51722a1bdfbe84\n",
      "  Stored in directory: /root/.cache/pip/wheels/5f/71/c7/b757709531121b1700cffda5b6b0d4aad095fb507ec84316d0\n",
      "Successfully built tika\n",
      "Installing collected packages: tika\n",
      "Successfully installed tika-2.6.0\n"
     ]
    }
   ],
   "source": [
    "pip install tika"
   ]
  },
  {
   "cell_type": "code",
   "execution_count": 4,
   "metadata": {
    "id": "jxRdcyufpTd6"
   },
   "outputs": [],
   "source": [
    "from tika import parser\n",
    "import re\n",
    "import joblib\n",
    "import pandas as pd\n",
    "import numpy as np\n",
    "import PyPDF2   \n"
   ]
  },
  {
   "cell_type": "code",
   "execution_count": 6,
   "metadata": {
    "id": "CBx2Hmrr44Yc"
   },
   "outputs": [],
   "source": [
    "#finalcode\n",
    "\n",
    "#Creating Function : \n",
    "# Taking 2 paramaters the first one is the path of the pdf and the last one is the word we wanna search for in the pdf. \n",
    "\n",
    "def pdfMining_1(path,x):\n",
    "        \n",
    "    #ourpdf\n",
    "    pdf = path\n",
    "    #Parsing the content of our pdf into a list of sentences\n",
    "    rawText1 = parser.from_file(pdf)\n",
    "    rawList1 = rawText1['content'].splitlines()\n",
    "    #Iterating inside the list of sentences\n",
    "    for i in rawList1:\n",
    "        if re.search(x, i, re.IGNORECASE):\n",
    "                  #Our chosen sentence\n",
    "                  #Converting our little sentence to a list and splitting it into words to finally extract the needed number.\n",
    "                  list_ = list(i.split())\n",
    "                  list_ = str(list_)\n",
    "                  \n",
    "                  #Appling re to find the number after a certain word\n",
    "                  #Result is the number we need (VERY IMPORTANT)\n",
    "                  try :           \n",
    "                    result = re.search('\\d+\\.{0,1}\\d*', list_).group()\n",
    "                    result = float(result) \n",
    "                    \n",
    "                  except :\n",
    "                    continue\n",
    "      \n",
    "    return result\n",
    "        "
   ]
  },
  {
   "cell_type": "code",
   "execution_count": 7,
   "metadata": {
    "colab": {
     "base_uri": "https://localhost:8080/"
    },
    "id": "Q8uk1umbLBYM",
    "outputId": "15c4a34f-3349-482e-e389-26094f69ae80"
   },
   "outputs": [
    {
     "name": "stderr",
     "output_type": "stream",
     "text": [
      "2023-05-30 11:34:49,077 [MainThread  ] [INFO ]  Retrieving http://search.maven.org/remotecontent?filepath=org/apache/tika/tika-server-standard/2.6.0/tika-server-standard-2.6.0.jar to /tmp/tika-server.jar.\n",
      "INFO:tika.tika:Retrieving http://search.maven.org/remotecontent?filepath=org/apache/tika/tika-server-standard/2.6.0/tika-server-standard-2.6.0.jar to /tmp/tika-server.jar.\n",
      "2023-05-30 11:34:49,496 [MainThread  ] [INFO ]  Retrieving http://search.maven.org/remotecontent?filepath=org/apache/tika/tika-server-standard/2.6.0/tika-server-standard-2.6.0.jar.md5 to /tmp/tika-server.jar.md5.\n",
      "INFO:tika.tika:Retrieving http://search.maven.org/remotecontent?filepath=org/apache/tika/tika-server-standard/2.6.0/tika-server-standard-2.6.0.jar.md5 to /tmp/tika-server.jar.md5.\n",
      "2023-05-30 11:34:49,955 [MainThread  ] [WARNI]  Failed to see startup log message; retrying...\n",
      "WARNING:tika.tika:Failed to see startup log message; retrying...\n"
     ]
    },
    {
     "data": {
      "text/plain": [
       "20.0"
      ]
     },
     "execution_count": 7,
     "metadata": {},
     "output_type": "execute_result"
    }
   ],
   "source": [
    "pdfMining_1('Sample/S3.pdf','TSB')"
   ]
  },
  {
   "cell_type": "code",
   "execution_count": 8,
   "metadata": {
    "colab": {
     "base_uri": "https://localhost:8080/"
    },
    "id": "-BKXtqEDQVm7",
    "outputId": "2605d2be-c5ff-4897-a92d-c839af8be97a"
   },
   "outputs": [
    {
     "data": {
      "text/plain": [
       "0.6"
      ]
     },
     "execution_count": 8,
     "metadata": {},
     "output_type": "execute_result"
    }
   ],
   "source": [
    "pdfMining_1('Sample/S4.pdf','TSB')"
   ]
  },
  {
   "cell_type": "code",
   "execution_count": 9,
   "metadata": {
    "id": "tYulx-mcp1UF"
   },
   "outputs": [],
   "source": [
    "#finalcode\n",
    "\n",
    "#Creating Function : \n",
    "# Taking 2 paramaters the first one is the path of the pdf and the last one is the word we wanna search for in the pdf. \n",
    "\n",
    "def pdfMining_2(path,x):\n",
    "        \n",
    "    #ourpdf\n",
    "    pdf = path\n",
    "    #Parsing the content of our pdf into a list of sentences\n",
    "    rawText1 = parser.from_file(pdf)\n",
    "    rawList1 = rawText1['content'].splitlines()\n",
    "    #Iterating inside the list of sentences\n",
    "    for i in rawList1:\n",
    "        if re.search(x, i, re.IGNORECASE):\n",
    "                  #Our chosen sentence\n",
    "                  #Converting our little sentence to a list and splitting it into words to finally extract the needed number.\n",
    "                  list_ = list(i.split())\n",
    "                  list_ = str(list_)\n",
    "                  \n",
    "                  #Appling re to find the number after a certain word\n",
    "                  #Result is the number we need (VERY IMPORTANT)\n",
    "                  try :           \n",
    "                    result = re.search('\\d+\\.{0,1}\\d*', list_).group()\n",
    "                    result = float(result) \n",
    "                    \n",
    "                  except :\n",
    "                    continue\n",
    "      \n",
    "    return result\n",
    "        "
   ]
  },
  {
   "cell_type": "code",
   "execution_count": 10,
   "metadata": {
    "colab": {
     "base_uri": "https://localhost:8080/"
    },
    "id": "b_MXZT6bp-La",
    "outputId": "a8269329-2ef7-4a52-8584-ac6a428eef80"
   },
   "outputs": [
    {
     "data": {
      "text/plain": [
       "20.0"
      ]
     },
     "execution_count": 10,
     "metadata": {},
     "output_type": "execute_result"
    }
   ],
   "source": [
    "pdfMining_2('Sample/S3.pdf','TSB')"
   ]
  },
  {
   "cell_type": "code",
   "execution_count": 11,
   "metadata": {
    "colab": {
     "base_uri": "https://localhost:8080/"
    },
    "id": "EC75HU1Mp9ss",
    "outputId": "7ca02be1-0d71-41fb-a90c-70fa0359fca9"
   },
   "outputs": [
    {
     "data": {
      "text/plain": [
       "0.6"
      ]
     },
     "execution_count": 11,
     "metadata": {},
     "output_type": "execute_result"
    }
   ],
   "source": [
    "pdfMining_2('Sample/S4.pdf','TSB')"
   ]
  },
  {
   "cell_type": "code",
   "execution_count": 12,
   "metadata": {
    "colab": {
     "base_uri": "https://localhost:8080/"
    },
    "id": "nn_NucQcTXLX",
    "outputId": "27bff608-2f02-472c-b5da-ece3627cbd62"
   },
   "outputs": [
    {
     "name": "stdout",
     "output_type": "stream",
     "text": [
      "--------------------------------------------------\n",
      "Your Input :\n",
      "     TSB  Gender\n",
      "0  20.0       1\n",
      "--------------------------------------------------\n",
      "\t Output : Jaundice\n"
     ]
    },
    {
     "name": "stderr",
     "output_type": "stream",
     "text": [
      "/usr/local/lib/python3.10/dist-packages/sklearn/base.py:318: UserWarning: Trying to unpickle estimator LogisticRegression from version 1.0.2 when using version 1.2.2. This might lead to breaking code or invalid results. Use at your own risk. For more info please refer to:\n",
      "https://scikit-learn.org/stable/model_persistence.html#security-maintainability-limitations\n",
      "  warnings.warn(\n"
     ]
    }
   ],
   "source": [
    "try : \n",
    "\n",
    "    try :\n",
    "\n",
    "              pred_mapping = {'1' : 'Jaundice'  , \n",
    "                              '0' : 'Normal' }\n",
    "              model = joblib.load('Model/jaunice.h5')\n",
    "              features  = list(model.feature_names_in_)\n",
    "              data_dic = {}\n",
    "              data_dic[features[0]] = pdfMining_1('Sample/S3.pdf','TSB')\n",
    "              data_dic[features[1]] = np.random.choice([0,1])                      \n",
    "              custom_data = pd.DataFrame(data = [data_dic] )   \n",
    "              print('-----'*10)\n",
    "              print('Your Input :\\n',custom_data)\n",
    "              print('-----'*10)       \n",
    "              output = model.predict(custom_data)[0]\n",
    "              output = pred_mapping[str(output)] \n",
    "              print('\\t Output :',output)\n",
    "\n",
    "    except : \n",
    "\n",
    "              pred_mapping = {'1' : 'Jaundice'  , \n",
    "                              '0' : 'Normal' }\n",
    "              model = joblib.load('Model/jaunice.h5')\n",
    "              features  = list(model.feature_names_in_)\n",
    "              data_dic = {}\n",
    "              data_dic[features[0]] = pdfMining_2('Sample/S3.pdf','TSB')\n",
    "              data_dic[features[1]] = np.random.choice([0,1])                      \n",
    "              custom_data = pd.DataFrame(data = [data_dic] )   \n",
    "              print('-----'*10)\n",
    "              print('Your Input :\\n',custom_data)\n",
    "              print('-----'*10)       \n",
    "              output = model.predict(custom_data)[0]\n",
    "              output = pred_mapping[str(output)] \n",
    "              print('\\t Output :',output)        \n",
    "\n",
    "             \n",
    "except : \n",
    "\n",
    "            print('Your uploaded PDF can\\'t be detected')\n",
    "            print('-----'*10)       \n",
    "            model = joblib.load('Model/jaunice.h5')\n",
    "            features  = list(model.feature_names_in_)        \n",
    "            print('\\t Enter Manually the Following Please : ',features[:-1])\n"
   ]
  },
  {
   "cell_type": "code",
   "execution_count": null,
   "metadata": {
    "id": "d3QJ13_5qgUm"
   },
   "outputs": [],
   "source": []
  }
 ],
 "metadata": {
  "colab": {
   "gpuType": "T4",
   "provenance": []
  },
  "gpuClass": "standard",
  "kernelspec": {
   "display_name": "Python 3 (ipykernel)",
   "language": "python",
   "name": "python3"
  },
  "language_info": {
   "codemirror_mode": {
    "name": "ipython",
    "version": 3
   },
   "file_extension": ".py",
   "mimetype": "text/x-python",
   "name": "python",
   "nbconvert_exporter": "python",
   "pygments_lexer": "ipython3",
   "version": "3.9.13"
  }
 },
 "nbformat": 4,
 "nbformat_minor": 1
}
