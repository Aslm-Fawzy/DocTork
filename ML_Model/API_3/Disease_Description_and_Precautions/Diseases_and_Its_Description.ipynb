{
  "cells": [
    {
      "cell_type": "markdown",
      "metadata": {
        "id": "gFr7vddOjk4o"
      },
      "source": [
        "# Diseases and Its Description\n",
        "**Try to extract short paragraph about diseases from Wikipedia articles using free Wikipedia API and Translate this paragraph using google translate API**"
      ]
    },
    {
      "cell_type": "code",
      "execution_count": 1,
      "metadata": {
        "colab": {
          "base_uri": "https://localhost:8080/"
        },
        "id": "iAbanh9NnjHQ",
        "outputId": "55080864-da1c-467a-c283-ad795c492d04"
      },
      "outputs": [
        {
          "output_type": "stream",
          "name": "stdout",
          "text": [
            "Looking in indexes: https://pypi.org/simple, https://us-python.pkg.dev/colab-wheels/public/simple/\n",
            "Requirement already satisfied: deep-translator in /usr/local/lib/python3.10/dist-packages (1.10.1)\n",
            "Requirement already satisfied: beautifulsoup4<5.0.0,>=4.9.1 in /usr/local/lib/python3.10/dist-packages (from deep-translator) (4.11.2)\n",
            "Requirement already satisfied: requests<3.0.0,>=2.23.0 in /usr/local/lib/python3.10/dist-packages (from deep-translator) (2.27.1)\n",
            "Requirement already satisfied: soupsieve>1.2 in /usr/local/lib/python3.10/dist-packages (from beautifulsoup4<5.0.0,>=4.9.1->deep-translator) (2.4.1)\n",
            "Requirement already satisfied: urllib3<1.27,>=1.21.1 in /usr/local/lib/python3.10/dist-packages (from requests<3.0.0,>=2.23.0->deep-translator) (1.26.15)\n",
            "Requirement already satisfied: certifi>=2017.4.17 in /usr/local/lib/python3.10/dist-packages (from requests<3.0.0,>=2.23.0->deep-translator) (2022.12.7)\n",
            "Requirement already satisfied: charset-normalizer~=2.0.0 in /usr/local/lib/python3.10/dist-packages (from requests<3.0.0,>=2.23.0->deep-translator) (2.0.12)\n",
            "Requirement already satisfied: idna<4,>=2.5 in /usr/local/lib/python3.10/dist-packages (from requests<3.0.0,>=2.23.0->deep-translator) (3.4)\n"
          ]
        }
      ],
      "source": [
        "pip install deep-translator"
      ]
    },
    {
      "cell_type": "code",
      "execution_count": 2,
      "metadata": {
        "colab": {
          "base_uri": "https://localhost:8080/"
        },
        "id": "hZ9GBRdni6DH",
        "outputId": "90702219-b060-4ae8-b66c-a1b51fb700df"
      },
      "outputs": [
        {
          "output_type": "stream",
          "name": "stdout",
          "text": [
            "Looking in indexes: https://pypi.org/simple, https://us-python.pkg.dev/colab-wheels/public/simple/\n",
            "Requirement already satisfied: Wikipedia-API in /usr/local/lib/python3.10/dist-packages (0.5.8)\n",
            "Requirement already satisfied: requests in /usr/local/lib/python3.10/dist-packages (from Wikipedia-API) (2.27.1)\n",
            "Requirement already satisfied: urllib3<1.27,>=1.21.1 in /usr/local/lib/python3.10/dist-packages (from requests->Wikipedia-API) (1.26.15)\n",
            "Requirement already satisfied: certifi>=2017.4.17 in /usr/local/lib/python3.10/dist-packages (from requests->Wikipedia-API) (2022.12.7)\n",
            "Requirement already satisfied: charset-normalizer~=2.0.0 in /usr/local/lib/python3.10/dist-packages (from requests->Wikipedia-API) (2.0.12)\n",
            "Requirement already satisfied: idna<4,>=2.5 in /usr/local/lib/python3.10/dist-packages (from requests->Wikipedia-API) (3.4)\n"
          ]
        }
      ],
      "source": [
        "pip install Wikipedia-API"
      ]
    },
    {
      "cell_type": "markdown",
      "metadata": {
        "id": "jryx2gQ2kGck"
      },
      "source": [
        "## Diabetes"
      ]
    },
    {
      "cell_type": "markdown",
      "metadata": {
        "id": "1U8cm3DVr9ks"
      },
      "source": [
        "### Diabetic"
      ]
    },
    {
      "cell_type": "code",
      "execution_count": 3,
      "metadata": {
        "colab": {
          "base_uri": "https://localhost:8080/"
        },
        "id": "XzVTtUZtsOkd",
        "outputId": "927500a3-3b5a-4e09-e939-c2e321c6df4f"
      },
      "outputs": [
        {
          "output_type": "stream",
          "name": "stdout",
          "text": [
            "Page - Exists: True\n"
          ]
        }
      ],
      "source": [
        "import wikipediaapi\n",
        "wiki_wiki = wikipediaapi.Wikipedia('en')\n",
        "page_py = wiki_wiki.page('Diabetes')\n",
        "print(\"Page - Exists: %s\" % page_py.exists())"
      ]
    },
    {
      "cell_type": "code",
      "execution_count": 4,
      "metadata": {
        "colab": {
          "base_uri": "https://localhost:8080/",
          "height": 244
        },
        "id": "Jd52mrmy25c7",
        "outputId": "f2cc6a49-b718-46b3-faee-7e4d46ba6157"
      },
      "outputs": [
        {
          "output_type": "execute_result",
          "data": {
            "text/plain": [
              "'Diabetes, also known as diabetes mellitus, is a group of common endocrine diseases characterized by sustained high blood sugar levels. Diabetes is due to either the pancreas not producing enough insulin, or the cells of the body not responding properly to the insulin produced.  Diabetes, if left untreated, leads to many health  complications. Untreated or poorly treated diabetes accounts for approximately 1.5 million deaths per year.There is no widely accepted cure for most cases of diabetes. The most common treatment for type 1 diabetes is insulin replacement therapy (insulin injections). Anti-diabetic medications such as metformin and semaglutide, as well as lifestyle modifications, can be used to prevent or respond to type 2 diabetes. Gestational diabetes normally resolves shortly after delivery. \\nAs of 2019, an estimated 463 million people had diabetes worldwide accounting for 8.8% of the adult population. Type 2 diabetes makes up about 90% of all diabetes cases. The prevalence of the disease continues to increase, most dramatically in low- and middle-income nations. Rates are similar in women and men, with diabetes being the 7th-leading cause of death globally. The global expenditure on diabetes-related healthcare is an estimated USD760 billion a year.'"
            ],
            "application/vnd.google.colaboratory.intrinsic+json": {
              "type": "string"
            }
          },
          "metadata": {},
          "execution_count": 4
        }
      ],
      "source": [
        "page_py.summary"
      ]
    },
    {
      "cell_type": "code",
      "execution_count": 5,
      "metadata": {
        "colab": {
          "base_uri": "https://localhost:8080/"
        },
        "id": "nCylzJ0ptCgd",
        "outputId": "aa4e5bf6-3f6c-4168-b7a0-9112e164e5e7"
      },
      "outputs": [
        {
          "output_type": "execute_result",
          "data": {
            "text/plain": [
              "['Diabetes, also known as diabetes mellitus, is a group of common endocrine diseases characterized by sustained high blood sugar levels',\n",
              " 'Diabetes is due to either the pancreas not producing enough insulin, or the cells of the body not responding properly to the insulin produced',\n",
              " ' Diabetes, if left untreated, leads to many health  complications']"
            ]
          },
          "metadata": {},
          "execution_count": 5
        }
      ],
      "source": [
        "paragraph_lists = page_py.summary[:].split('. ')[:3]\n",
        "paragraph_lists"
      ]
    },
    {
      "cell_type": "code",
      "execution_count": 6,
      "metadata": {
        "colab": {
          "base_uri": "https://localhost:8080/",
          "height": 105
        },
        "id": "8b1zfoKNtjjH",
        "outputId": "fcb1e5fc-b087-4aa2-8c87-58082b2cf3f3"
      },
      "outputs": [
        {
          "output_type": "execute_result",
          "data": {
            "text/plain": [
              "'Diabetes, also known as diabetes mellitus, is a group of common endocrine diseases characterized by sustained high blood sugar levels Diabetes is due to either the pancreas not producing enough insulin, or the cells of the body not responding properly to the insulin produced  Diabetes, if left untreated, leads to many health  complications'"
            ],
            "application/vnd.google.colaboratory.intrinsic+json": {
              "type": "string"
            }
          },
          "metadata": {},
          "execution_count": 6
        }
      ],
      "source": [
        "paragraph = ' '.join(str(x) for x in paragraph_lists) \n",
        "paragraph"
      ]
    },
    {
      "cell_type": "code",
      "execution_count": 7,
      "metadata": {
        "colab": {
          "base_uri": "https://localhost:8080/",
          "height": 53
        },
        "id": "MTkro_tvmnlc",
        "outputId": "ad952a84-62e2-4fd0-e2b5-bf2065afb93a"
      },
      "outputs": [
        {
          "output_type": "execute_result",
          "data": {
            "text/plain": [
              "'مرض السكري ، المعروف أيضًا باسم داء السكري ، هو مجموعة من أمراض الغدد الصماء الشائعة التي تتميز بارتفاع مستمر في مستويات السكر في الدم. يؤدي تركه دون علاج إلى العديد من المضاعفات الصحية. '"
            ],
            "application/vnd.google.colaboratory.intrinsic+json": {
              "type": "string"
            }
          },
          "metadata": {},
          "execution_count": 7
        }
      ],
      "source": [
        "from deep_translator import GoogleTranslator\n",
        "paragraph_translated = GoogleTranslator(source='en', target='ar').translate(paragraph)\n",
        "paragraph_translated = paragraph_translated + '. '\n",
        "paragraph_translated"
      ]
    },
    {
      "cell_type": "code",
      "execution_count": 8,
      "metadata": {
        "colab": {
          "base_uri": "https://localhost:8080/"
        },
        "id": "Z5tyco2Un2Z-",
        "outputId": "5150c354-8d10-40dd-c655-1b90303ec6af"
      },
      "outputs": [
        {
          "output_type": "execute_result",
          "data": {
            "text/plain": [
              "{'Diabetes': 'مرض السكري ، المعروف أيضًا باسم داء السكري ، هو مجموعة من أمراض الغدد الصماء الشائعة التي تتميز بارتفاع مستمر في مستويات السكر في الدم. يؤدي تركه دون علاج إلى العديد من المضاعفات الصحية. '}"
            ]
          },
          "metadata": {},
          "execution_count": 8
        }
      ],
      "source": [
        "diseases_description = {'Diabetes' : paragraph_translated}\n",
        "diseases_description"
      ]
    },
    {
      "cell_type": "markdown",
      "metadata": {
        "id": "Pgl_DL5FsJes"
      },
      "source": [
        "### Prediabetic"
      ]
    },
    {
      "cell_type": "code",
      "execution_count": 9,
      "metadata": {
        "colab": {
          "base_uri": "https://localhost:8080/"
        },
        "id": "JMnPs4CaqdVX",
        "outputId": "6ee66c5f-a634-449b-80a7-c826f768bc38"
      },
      "outputs": [
        {
          "output_type": "stream",
          "name": "stdout",
          "text": [
            "Page - Exists: True\n"
          ]
        }
      ],
      "source": [
        "wiki_wiki = wikipediaapi.Wikipedia('en')\n",
        "page_py = wiki_wiki.page('Prediabetes')\n",
        "print(\"Page - Exists: %s\" % page_py.exists())"
      ]
    },
    {
      "cell_type": "code",
      "execution_count": 10,
      "metadata": {
        "colab": {
          "base_uri": "https://localhost:8080/",
          "height": 244
        },
        "id": "e4mJWokiqdVY",
        "outputId": "d28bd8ac-a7e9-4de8-a759-f65b60e8cdfa"
      },
      "outputs": [
        {
          "output_type": "execute_result",
          "data": {
            "text/plain": [
              "'Prediabetes is a component of the metabolic syndrome and is characterized by elevated blood sugar levels that fall below the threshold to diagnose diabetes mellitus. It usually does not cause symptoms but people with prediabetes often have obesity (especially abdominal or visceral obesity), dyslipidemia with high triglycerides and/or low HDL cholesterol, and hypertension. It is also associated with increased risk for cardiovascular disease (CVD). Prediabetes is more accurately considered an early stage of diabetes as health complications associated with type 2 diabetes often occur before the diagnosis of diabetes.\\nPrediabetes can be diagnosed by measuring hemoglobin A1c, fasting glucose, or glucose tolerance test. Many people may be diagnosed through routine screening tests. The primary treatment approach includes lifestyle changes such as exercise and dietary adjustments. Some medications can be used to reduce the risks associated with prediabetes. There is a high rate of progression to type 2 diabetes but not everyone with prediabetes develops type 2 diabetes. Prediabetes can be a reversible condition with lifestyle changes.\\nFor many people, prediabetes and diabetes are diagnosed through a routine screening at a check-up. However, an additional routine screening done by dentists, a new and promising concept, and not only medical doctors, can be very effective in early detection and treatment. The earlier prediabetes is diagnosed, the more likely an intervention will be successful.'"
            ],
            "application/vnd.google.colaboratory.intrinsic+json": {
              "type": "string"
            }
          },
          "metadata": {},
          "execution_count": 10
        }
      ],
      "source": [
        "page_py.summary"
      ]
    },
    {
      "cell_type": "code",
      "execution_count": 11,
      "metadata": {
        "colab": {
          "base_uri": "https://localhost:8080/"
        },
        "id": "XXCmGn28qdVY",
        "outputId": "01b8fd71-828b-4440-c18d-a43a555ede52"
      },
      "outputs": [
        {
          "output_type": "execute_result",
          "data": {
            "text/plain": [
              "['Prediabetes is a component of the metabolic syndrome and is characterized by elevated blood sugar levels that fall below the threshold to diagnose diabetes mellitus',\n",
              " ' It usually does not cause symptoms but people with prediabetes often have obesity (especially abdominal or visceral obesity), dyslipidemia with high triglycerides and/or low HDL cholesterol, and hypertension',\n",
              " ' It is also associated with increased risk for cardiovascular disease (CVD)']"
            ]
          },
          "metadata": {},
          "execution_count": 11
        }
      ],
      "source": [
        "paragraph_lists = page_py.summary[:].split('.')[:3]\n",
        "paragraph_lists"
      ]
    },
    {
      "cell_type": "code",
      "execution_count": 12,
      "metadata": {
        "colab": {
          "base_uri": "https://localhost:8080/",
          "height": 122
        },
        "id": "4RsFlIy8qdVY",
        "outputId": "8928d0c1-21e5-49e1-dd7a-90739d8618b5"
      },
      "outputs": [
        {
          "output_type": "execute_result",
          "data": {
            "text/plain": [
              "'Prediabetes is a component of the metabolic syndrome and is characterized by elevated blood sugar levels that fall below the threshold to diagnose diabetes mellitus  It usually does not cause symptoms but people with prediabetes often have obesity (especially abdominal or visceral obesity), dyslipidemia with high triglycerides and/or low HDL cholesterol, and hypertension  It is also associated with increased risk for cardiovascular disease (CVD)'"
            ],
            "application/vnd.google.colaboratory.intrinsic+json": {
              "type": "string"
            }
          },
          "metadata": {},
          "execution_count": 12
        }
      ],
      "source": [
        "paragraph = ' '.join(str(x) for x in paragraph_lists) \n",
        "paragraph"
      ]
    },
    {
      "cell_type": "code",
      "execution_count": 13,
      "metadata": {
        "colab": {
          "base_uri": "https://localhost:8080/",
          "height": 87
        },
        "id": "kyuPOxYyqdVZ",
        "outputId": "2daf7c0c-0682-4c2f-e7fd-c7285c842a5e"
      },
      "outputs": [
        {
          "output_type": "execute_result",
          "data": {
            "text/plain": [
              "'مقدمات السكري هي أحد مكونات متلازمة التمثيل الغذائي وتتميز بارتفاع مستويات السكر في الدم التي تقل عن الحد الأدنى لتشخيص داء السكري.عادة لا تسبب أعراضًا ولكن الأشخاص الذين يعانون من مقدمات السكري غالبًا ما يعانون من السمنة (خاصة السمنة البطنية أو الحشوية) ، اضطراب شحميات الدم مع ارتفاع الدهون الثلاثية و / أو انخفاض نسبة الكوليسترول الحميد ، وارتفاع ضغط الدم ، كما أنه يرتبط بزيادة مخاطر الإصابة بأمراض القلب والأوعية الدموية  .'"
            ],
            "application/vnd.google.colaboratory.intrinsic+json": {
              "type": "string"
            }
          },
          "metadata": {},
          "execution_count": 13
        }
      ],
      "source": [
        "from deep_translator import GoogleTranslator\n",
        "paragraph_translated = GoogleTranslator(source='en', target='ar').translate(paragraph)\n",
        "paragraph_translated = paragraph_translated\n",
        "paragraph_translated = paragraph_translated.replace('(CVD)','')\n",
        "paragraph_translated = paragraph_translated + ' .'\n",
        "paragraph_translated"
      ]
    },
    {
      "cell_type": "code",
      "execution_count": 14,
      "metadata": {
        "colab": {
          "base_uri": "https://localhost:8080/"
        },
        "id": "pQRQhD9iqdVZ",
        "outputId": "2e02239a-7fff-4637-ff7f-856c13609403"
      },
      "outputs": [
        {
          "output_type": "execute_result",
          "data": {
            "text/plain": [
              "{'Diabetes': 'مرض السكري ، المعروف أيضًا باسم داء السكري ، هو مجموعة من أمراض الغدد الصماء الشائعة التي تتميز بارتفاع مستمر في مستويات السكر في الدم. يؤدي تركه دون علاج إلى العديد من المضاعفات الصحية. ',\n",
              " 'Prediabetes': 'مقدمات السكري هي أحد مكونات متلازمة التمثيل الغذائي وتتميز بارتفاع مستويات السكر في الدم التي تقل عن الحد الأدنى لتشخيص داء السكري.عادة لا تسبب أعراضًا ولكن الأشخاص الذين يعانون من مقدمات السكري غالبًا ما يعانون من السمنة (خاصة السمنة البطنية أو الحشوية) ، اضطراب شحميات الدم مع ارتفاع الدهون الثلاثية و / أو انخفاض نسبة الكوليسترول الحميد ، وارتفاع ضغط الدم ، كما أنه يرتبط بزيادة مخاطر الإصابة بأمراض القلب والأوعية الدموية  .'}"
            ]
          },
          "metadata": {},
          "execution_count": 14
        }
      ],
      "source": [
        "diseases_description['Prediabetes'] = paragraph_translated\n",
        "diseases_description"
      ]
    },
    {
      "cell_type": "markdown",
      "metadata": {
        "id": "w15Jaeu1sUpR"
      },
      "source": [
        "### Hypoglycemia"
      ]
    },
    {
      "cell_type": "code",
      "execution_count": 15,
      "metadata": {
        "colab": {
          "base_uri": "https://localhost:8080/"
        },
        "id": "eN9vd5jhslGc",
        "outputId": "727faa6b-5a14-4e79-a245-d3627f7e830a"
      },
      "outputs": [
        {
          "output_type": "stream",
          "name": "stdout",
          "text": [
            "Page - Exists: True\n"
          ]
        }
      ],
      "source": [
        "wiki_wiki = wikipediaapi.Wikipedia('ar')\n",
        "page_py = wiki_wiki.page('Hypoglycemia')\n",
        "print(\"Page - Exists: %s\" % page_py.exists())"
      ]
    },
    {
      "cell_type": "code",
      "execution_count": 16,
      "metadata": {
        "colab": {
          "base_uri": "https://localhost:8080/",
          "height": 192
        },
        "id": "MY2pP-l6sUpT",
        "outputId": "ff478125-190a-44ac-aab3-c529322b18c5"
      },
      "outputs": [
        {
          "output_type": "execute_result",
          "data": {
            "text/plain": [
              "'نقص سكر الدم، ويسمى أيضًا هبوط سكر الدم، هو انخفاض في نسبة السكر في الدم إلى مستويات أقل من المعتاد، عادة ما تكون أقل من 70 ملغ/ديسيلتر (3.9 مليمول/لتر). يستخدم ثالوث ويبل لتحديد نوبات نقص السكر في الدم بشكل صحيح. يتم تعريفه على أنه جلوكوز الدم أقل من 70 ملغ/ديسيلتر (3.9 مليمول/لتر)، والأعراض المرتبطة بنقص السكر في الدم، وتراجع الأعراض عندما يعود سكر الدم إلى طبيعته. قد يؤدي نقص السكر في الدم إلى صداع، تعب، خراقة، صعوبة التحدث، ارتباك، تسارع معدل ضربات القلب، تعرق، رجفان، عصبية، جوع، فقدان الوعي، نوبات أو وفاة. عادة ما تظهر الأعراض بسرعة.السبب الأكثر شيوعًا لنقص سكر الدم هو الأدوية المستخدمة لعلاج مرض السكري مثل الأنسولين، السلفونيليوريا، البايجوانيدات. يكون الخطر أكبر لدى مرضى السكري الذين تناولوا كمية أقل من المعتاد، مارسوا الرياضة مؤخرًا، أو استهلكو الكحول. تشمل الأسباب الأخرى لنقص سكر الدم المرض الشديد، إلاتنان، الفشل كلوي، أمراض الكبد، نقص الهرمونات، والأورام مثل أورام الأنسولين أو أورام الخلايا غير البائية، الأخطاء الفطرية في التمثيل الغذائي، العديد من الأدوية، والكحول. قد يحدث انخفاض نسبة السكر في الدم عند الأطفال حديثي الولادة الأصحاء الذين لم يتناولوا الطعام لبضع ساعات.يتم علاج نقص سكر الدم عن طريق تناول طعام أو شراب سكري، على سبيل المثال أقراص أو جل الجلوكوز، عصير التفاح، الصودا أو الحلوى. يجب أن يكون الشخص واعيًا وقادرا على البلع. الهدف هو استهلاك 10-20 جراما من الكربوهيدرات لرفع مستويات الجلوكوز في الدم إلى ما لا يقل عن 70 ملغ/ديسيلتر (3.9 مليمول/لتر). إذا لم يتمكن الشخص من تناول الطعام عن طريق الفم، فقد يساعد الجلوكاجون عن طريق الحقن أو في الأنف. يتضمن علاج نقص سكر الدم الذي لا علاقة له بمرض السكري علاج المشكلة الأساسية.تبدأ الوقاية بين مرضى السكري من خلال التعرف على علامات وأعراض نقص سكر الدم. يمكن أيضًا تعديل أو إيقاف أدوية السكري، مثل الأنسولين، السلفونيليوريا، والبيجوانيدات لمنع نقص سكر الدم. يوصى بإجراء اختبار جلوكوز الدم بشكل متكرر وروتيني. قد يجد البعض أن أجهزة مراقبة الجلوكوز المستمرة بمضخات الأنسولين مفيدة في إدارة مرض السكري والوقاية من نقص السكر في الدم.'"
            ],
            "application/vnd.google.colaboratory.intrinsic+json": {
              "type": "string"
            }
          },
          "metadata": {},
          "execution_count": 16
        }
      ],
      "source": [
        "page_py.summary"
      ]
    },
    {
      "cell_type": "code",
      "execution_count": 17,
      "metadata": {
        "colab": {
          "base_uri": "https://localhost:8080/"
        },
        "id": "gNeX3iHesUpU",
        "outputId": "eb5e045d-f21b-451c-af6b-01063af711b3"
      },
      "outputs": [
        {
          "output_type": "execute_result",
          "data": {
            "text/plain": [
              "['نقص سكر الدم، ويسمى أيضًا هبوط سكر الدم، هو انخفاض في نسبة السكر في الدم إلى مستويات أقل من المعتاد، عادة ما تكون أقل من 70 ملغ/ديسيلتر (3.9 مليمول/لتر)',\n",
              " 'يستخدم ثالوث ويبل لتحديد نوبات نقص السكر في الدم بشكل صحيح',\n",
              " 'يتم تعريفه على أنه جلوكوز الدم أقل من 70 ملغ/ديسيلتر (3.9 مليمول/لتر)، والأعراض المرتبطة بنقص السكر في الدم، وتراجع الأعراض عندما يعود سكر الدم إلى طبيعته',\n",
              " 'قد يؤدي نقص السكر في الدم إلى صداع، تعب، خراقة، صعوبة التحدث، ارتباك، تسارع معدل ضربات القلب، تعرق، رجفان، عصبية، جوع، فقدان الوعي، نوبات أو وفاة']"
            ]
          },
          "metadata": {},
          "execution_count": 17
        }
      ],
      "source": [
        "paragraph_lists = page_py.summary[:].split('. ')[:4]\n",
        "paragraph_lists"
      ]
    },
    {
      "cell_type": "code",
      "execution_count": 18,
      "metadata": {
        "colab": {
          "base_uri": "https://localhost:8080/",
          "height": 105
        },
        "id": "jNiE87aPsUpV",
        "outputId": "ae103eb5-321a-4a2e-f6a6-9dad0d876fe9"
      },
      "outputs": [
        {
          "output_type": "execute_result",
          "data": {
            "text/plain": [
              "'نقص سكر الدم، ويسمى أيضًا هبوط سكر الدم، هو انخفاض في نسبة السكر في الدم إلى مستويات أقل من المعتاد، عادة ما تكون أقل من 70 ملغ/ديسيلتر (3.9 مليمول/لتر) يستخدم ثالوث ويبل لتحديد نوبات نقص السكر في الدم بشكل صحيح يتم تعريفه على أنه جلوكوز الدم أقل من 70 ملغ/ديسيلتر (3.9 مليمول/لتر)، قد يؤدي نقص السكر في الدم إلى صداع، تعب، خراقة، صعوبة التحدث، ارتباك، تسارع معدل ضربات القلب، تعرق، رجفان، عصبية، جوع، فقدان الوعي، نوبات أو وفاة. '"
            ],
            "application/vnd.google.colaboratory.intrinsic+json": {
              "type": "string"
            }
          },
          "metadata": {},
          "execution_count": 18
        }
      ],
      "source": [
        "paragraph = ' '.join(str(x) for x in paragraph_lists) + '. ' \n",
        "paragraph=paragraph.replace('والأعراض المرتبطة بنقص السكر في الدم، وتراجع الأعراض عندما يعود سكر الدم إلى طبيعته ','')\n",
        "paragraph"
      ]
    },
    {
      "cell_type": "code",
      "execution_count": 19,
      "metadata": {
        "colab": {
          "base_uri": "https://localhost:8080/"
        },
        "id": "UWXGZAR0sUpX",
        "outputId": "01a8ceef-6c0a-422b-bff2-c655eacb93f7"
      },
      "outputs": [
        {
          "output_type": "execute_result",
          "data": {
            "text/plain": [
              "{'Diabetes': 'مرض السكري ، المعروف أيضًا باسم داء السكري ، هو مجموعة من أمراض الغدد الصماء الشائعة التي تتميز بارتفاع مستمر في مستويات السكر في الدم. يؤدي تركه دون علاج إلى العديد من المضاعفات الصحية. ',\n",
              " 'Prediabetes': 'مقدمات السكري هي أحد مكونات متلازمة التمثيل الغذائي وتتميز بارتفاع مستويات السكر في الدم التي تقل عن الحد الأدنى لتشخيص داء السكري.عادة لا تسبب أعراضًا ولكن الأشخاص الذين يعانون من مقدمات السكري غالبًا ما يعانون من السمنة (خاصة السمنة البطنية أو الحشوية) ، اضطراب شحميات الدم مع ارتفاع الدهون الثلاثية و / أو انخفاض نسبة الكوليسترول الحميد ، وارتفاع ضغط الدم ، كما أنه يرتبط بزيادة مخاطر الإصابة بأمراض القلب والأوعية الدموية  .',\n",
              " 'Hypoglycemia': 'نقص سكر الدم، ويسمى أيضًا هبوط سكر الدم، هو انخفاض في نسبة السكر في الدم إلى مستويات أقل من المعتاد، عادة ما تكون أقل من 70 ملغ/ديسيلتر (3.9 مليمول/لتر) يستخدم ثالوث ويبل لتحديد نوبات نقص السكر في الدم بشكل صحيح يتم تعريفه على أنه جلوكوز الدم أقل من 70 ملغ/ديسيلتر (3.9 مليمول/لتر)، قد يؤدي نقص السكر في الدم إلى صداع، تعب، خراقة، صعوبة التحدث، ارتباك، تسارع معدل ضربات القلب، تعرق، رجفان، عصبية، جوع، فقدان الوعي، نوبات أو وفاة. '}"
            ]
          },
          "metadata": {},
          "execution_count": 19
        }
      ],
      "source": [
        "diseases_description['Hypoglycemia'] = paragraph\n",
        "diseases_description"
      ]
    },
    {
      "cell_type": "markdown",
      "metadata": {
        "id": "JQK8RlFGw_S-"
      },
      "source": [
        "## Jaundice"
      ]
    },
    {
      "cell_type": "code",
      "execution_count": 20,
      "metadata": {
        "colab": {
          "base_uri": "https://localhost:8080/"
        },
        "id": "9KkUMMZ1xLKf",
        "outputId": "e493f6b3-6278-4997-b212-581fa66ff0d0"
      },
      "outputs": [
        {
          "output_type": "stream",
          "name": "stdout",
          "text": [
            "Page - Exists: True\n"
          ]
        }
      ],
      "source": [
        "wiki_wiki = wikipediaapi.Wikipedia('ar')\n",
        "page_py = wiki_wiki.page('Jaundice')\n",
        "print(\"Page - Exists: %s\" % page_py.exists())"
      ]
    },
    {
      "cell_type": "code",
      "execution_count": 21,
      "metadata": {
        "colab": {
          "base_uri": "https://localhost:8080/",
          "height": 174
        },
        "id": "b6H1TyxmxLKg",
        "outputId": "60a053a6-2dfb-4d46-88f6-c6eb584e0e94"
      },
      "outputs": [
        {
          "output_type": "execute_result",
          "data": {
            "text/plain": [
              "'اليرقان (بالإنجليزية: Jaundice)\\u200f، المعروف أيضًا بالصفار، أو الاصفرار، هو تصبغ مصفر أو مخضر للجلد وبياض العين بسبب ارتفاع مستويات البيليروبين. اليرقان عند البالغين هو عادة علامة تشير إلى وجود أمراض كامنة تنطوي على استقلاب الهيم غير الطبيعي، ضعف الكبد أو انسداد القناة الصفراوية. انتشار اليرقان لدى البالغين أمر نادر الحدوث، في حين أن اليرقان عند الأطفال شائع، حيث يتأثر ما يقدر بنحو 80٪ خلال الأسبوع الأول من حياتهم. الأعراض الأكثر شيوعا المرتبطة باليرقان هي الحكة، البراز الشاحب، والبول الداكن.المستويات الطبيعية من البيليروبين في الدم أقل من 1.0 ملغ/ديسيلتر (17 ميكرومول/لتر)، في حين أن المستويات التي تزيد عن 2-3 ملغ/ديسيلتر (34-51 ميكرومول/لتر) تؤدي عادة إلى اليرقان. ينقسم البيليروبين المرتفع في الدم إلى نوعين - البيليروبين غير المترافق والمترافق.تختلف أسباب اليرقان من حميد نسبيا إلى قاتل. قد يكون ارتفاع البيليروبين غير المترافق بسبب زيادة انهيار خلايا الدم الحمراء، الكدمات الكبيرة، الحالات الوراثية مثل متلازمة جيلبرت، عدم تناول الطعام لفترة طويلة من الزمن، اليرقان الوليدي، أو مشاكل الغدة الدرقية. قد يكون البيليروبين المترافق المرتفع بسبب أمراض الكبد مثل تليف الكبد، التهاب الكبد، العدوى، الأدوية أو انسداد القناة الصفراوية، بسبب عوامل تشمل حصوات المرارة، السرطان، أو التهاب البنكرياس. يمكن أن تسبب الحالات الأخرى أيضا بشرة صفراء، ولكنها ليست اليرقان، بما في ذلك كاروتين الدم، والتي يمكن أن تتطور من تناول كميات كبيرة من الأطعمة التي تحتوي على الكاروتين — أو أدوية مثل ريفامبين.عادة ما يتم تحديد علاج اليرقان حسب السبب الأساسي. في حالة وجود انسداد في القناة الصفراوية، عادة ما تكون الجراحة مطلوبة؛ وإلا فإن الإدارة طبية. قد تتضمن الإدارة الطبية علاج الأسباب المعدية ووقف الأدوية التي يمكن أن تساهم في حدوث اليرقان. يمكن علاج اليرقان عند الأطفال حديثي الولادة بالعلاج بالضوء أو تبادل نقل الدم اعتمادًا على العمر والولادة المبكرة عندما يكون البيليروبين أكبر من 4-21 ملغ/ديسيلتر (68-360 ميكرومول/لتر).'"
            ],
            "application/vnd.google.colaboratory.intrinsic+json": {
              "type": "string"
            }
          },
          "metadata": {},
          "execution_count": 21
        }
      ],
      "source": [
        "page_py.summary"
      ]
    },
    {
      "cell_type": "code",
      "execution_count": 22,
      "metadata": {
        "colab": {
          "base_uri": "https://localhost:8080/"
        },
        "id": "N8K8j9ibxLKh",
        "outputId": "1c29bf25-2afc-479d-fead-12694a2525da"
      },
      "outputs": [
        {
          "output_type": "execute_result",
          "data": {
            "text/plain": [
              "['اليرقان (بالإنجليزية: Jaundice)\\u200f، المعروف أيضًا بالصفار، أو الاصفرار، هو تصبغ مصفر أو مخضر للجلد وبياض العين بسبب ارتفاع مستويات البيليروبين',\n",
              " 'اليرقان عند البالغين هو عادة علامة تشير إلى وجود أمراض كامنة تنطوي على استقلاب الهيم غير الطبيعي، ضعف الكبد أو انسداد القناة الصفراوية',\n",
              " 'انتشار اليرقان لدى البالغين أمر نادر الحدوث، في حين أن اليرقان عند الأطفال شائع، حيث يتأثر ما يقدر بنحو 80٪ خلال الأسبوع الأول من حياتهم']"
            ]
          },
          "metadata": {},
          "execution_count": 22
        }
      ],
      "source": [
        "paragraph_lists = page_py.summary[:].split('. ')[:3]\n",
        "paragraph_lists"
      ]
    },
    {
      "cell_type": "code",
      "execution_count": 23,
      "metadata": {
        "id": "A73qfbcKxLKw"
      },
      "outputs": [],
      "source": [
        "paragraph = ' '.join(str(x) for x in paragraph_lists) \n",
        "paragraph =  paragraph + '.'"
      ]
    },
    {
      "cell_type": "code",
      "execution_count": 24,
      "metadata": {
        "colab": {
          "base_uri": "https://localhost:8080/"
        },
        "id": "uj_eMRQyxLKx",
        "outputId": "76273a31-a191-4f8d-b9bc-c0459fdd5958"
      },
      "outputs": [
        {
          "output_type": "execute_result",
          "data": {
            "text/plain": [
              "{'Diabetes': 'مرض السكري ، المعروف أيضًا باسم داء السكري ، هو مجموعة من أمراض الغدد الصماء الشائعة التي تتميز بارتفاع مستمر في مستويات السكر في الدم. يؤدي تركه دون علاج إلى العديد من المضاعفات الصحية. ',\n",
              " 'Prediabetes': 'مقدمات السكري هي أحد مكونات متلازمة التمثيل الغذائي وتتميز بارتفاع مستويات السكر في الدم التي تقل عن الحد الأدنى لتشخيص داء السكري.عادة لا تسبب أعراضًا ولكن الأشخاص الذين يعانون من مقدمات السكري غالبًا ما يعانون من السمنة (خاصة السمنة البطنية أو الحشوية) ، اضطراب شحميات الدم مع ارتفاع الدهون الثلاثية و / أو انخفاض نسبة الكوليسترول الحميد ، وارتفاع ضغط الدم ، كما أنه يرتبط بزيادة مخاطر الإصابة بأمراض القلب والأوعية الدموية  .',\n",
              " 'Hypoglycemia': 'نقص سكر الدم، ويسمى أيضًا هبوط سكر الدم، هو انخفاض في نسبة السكر في الدم إلى مستويات أقل من المعتاد، عادة ما تكون أقل من 70 ملغ/ديسيلتر (3.9 مليمول/لتر) يستخدم ثالوث ويبل لتحديد نوبات نقص السكر في الدم بشكل صحيح يتم تعريفه على أنه جلوكوز الدم أقل من 70 ملغ/ديسيلتر (3.9 مليمول/لتر)، قد يؤدي نقص السكر في الدم إلى صداع، تعب، خراقة، صعوبة التحدث، ارتباك، تسارع معدل ضربات القلب، تعرق، رجفان، عصبية، جوع، فقدان الوعي، نوبات أو وفاة. ',\n",
              " 'Jaundice': 'اليرقان (بالإنجليزية: Jaundice)\\u200f، المعروف أيضًا بالصفار، أو الاصفرار، هو تصبغ مصفر أو مخضر للجلد وبياض العين بسبب ارتفاع مستويات البيليروبين اليرقان عند البالغين هو عادة علامة تشير إلى وجود أمراض كامنة تنطوي على استقلاب الهيم غير الطبيعي، ضعف الكبد أو انسداد القناة الصفراوية انتشار اليرقان لدى البالغين أمر نادر الحدوث، في حين أن اليرقان عند الأطفال شائع، حيث يتأثر ما يقدر بنحو 80٪ خلال الأسبوع الأول من حياتهم.'}"
            ]
          },
          "metadata": {},
          "execution_count": 24
        }
      ],
      "source": [
        "diseases_description['Jaundice'] = paragraph\n",
        "diseases_description"
      ]
    },
    {
      "cell_type": "markdown",
      "metadata": {
        "id": "boJCld2bFXVF"
      },
      "source": [
        "## Lekumia"
      ]
    },
    {
      "cell_type": "markdown",
      "metadata": {
        "id": "KVr5BX7UHKnj"
      },
      "source": [
        "### Chronic Myelogenous Leukemia"
      ]
    },
    {
      "cell_type": "code",
      "execution_count": 25,
      "metadata": {
        "colab": {
          "base_uri": "https://localhost:8080/"
        },
        "id": "cfNar30HV9Om",
        "outputId": "0d63679c-af47-49ea-fba6-d6d021c69af3"
      },
      "outputs": [
        {
          "output_type": "stream",
          "name": "stdout",
          "text": [
            "Page - Exists: True\n"
          ]
        }
      ],
      "source": [
        "wiki_wiki = wikipediaapi.Wikipedia('en')\n",
        "page_py = wiki_wiki.page('Chronic Myelogenous Leukemia')\n",
        "print(\"Page - Exists: %s\" % page_py.exists())"
      ]
    },
    {
      "cell_type": "code",
      "execution_count": 26,
      "metadata": {
        "colab": {
          "base_uri": "https://localhost:8080/",
          "height": 244
        },
        "id": "AsGzwxpVaWO0",
        "outputId": "2e307401-3a75-40ff-b906-a726cbb75aa5"
      },
      "outputs": [
        {
          "output_type": "execute_result",
          "data": {
            "text/plain": [
              "'Chronic myelogenous leukemia (CML), also known as chronic myeloid leukemia, is a cancer of the white blood cells. It is a form of leukemia characterized by the increased and unregulated growth of myeloid cells in the bone marrow and the accumulation of these cells in the blood. CML is a clonal bone marrow stem cell disorder in which a proliferation of mature granulocytes (neutrophils, eosinophils and basophils) and their precursors is found. It is a type of myeloproliferative neoplasm associated with a characteristic chromosomal translocation called the Philadelphia chromosome.\\nCML is largely treated with targeted drugs called tyrosine-kinase inhibitors (TKIs) which have led to dramatically improved long-term survival rates since 2001. These drugs have revolutionized treatment of this disease and allow most patients to have a good quality of life when compared to the former chemotherapy drugs. In Western countries, CML accounts for 15–25% of all adult leukemias and 14% of leukemias overall (including the pediatric population, where CML is less common).'"
            ],
            "application/vnd.google.colaboratory.intrinsic+json": {
              "type": "string"
            }
          },
          "metadata": {},
          "execution_count": 26
        }
      ],
      "source": [
        "page_py.summary"
      ]
    },
    {
      "cell_type": "code",
      "execution_count": 27,
      "metadata": {
        "colab": {
          "base_uri": "https://localhost:8080/"
        },
        "id": "4AFK8TYYaqi7",
        "outputId": "34a61f6e-1339-4d16-9b24-b50d420c5979"
      },
      "outputs": [
        {
          "output_type": "execute_result",
          "data": {
            "text/plain": [
              "['Chronic myelogenous leukemia (CML), also known as chronic myeloid leukemia, is a cancer of the white blood cells',\n",
              " 'It is a form of leukemia characterized by the increased and unregulated growth of myeloid cells in the bone marrow and the accumulation of these cells in the blood',\n",
              " 'CML is a clonal bone marrow stem cell disorder in which a proliferation of mature granulocytes (neutrophils, eosinophils and basophils) and their precursors is found',\n",
              " 'It is a type of myeloproliferative neoplasm associated with a characteristic chromosomal translocation called the Philadelphia chromosome.\\nCML is largely treated with targeted drugs called tyrosine-kinase inhibitors (TKIs) which have led to dramatically improved long-term survival rates since 2001']"
            ]
          },
          "metadata": {},
          "execution_count": 27
        }
      ],
      "source": [
        "paragraph_lists = page_py.summary[:].split('. ')[:4]\n",
        "paragraph_lists"
      ]
    },
    {
      "cell_type": "code",
      "execution_count": 28,
      "metadata": {
        "colab": {
          "base_uri": "https://localhost:8080/",
          "height": 191
        },
        "id": "7HODKTXKaven",
        "outputId": "5379affe-9084-4469-d5e4-1dd9994e585f"
      },
      "outputs": [
        {
          "output_type": "execute_result",
          "data": {
            "text/plain": [
              "'Chronic myelogenous leukemia (CML), also known as chronic myeloid leukemia, is a cancer of the white blood cells It is a form of leukemia characterized by the increased and unregulated growth of myeloid cells in the bone marrow and the accumulation of these cells in the blood CML is a clonal bone marrow stem cell disorder in which a proliferation of mature granulocytes (neutrophils, eosinophils and basophils) and their precursors is found It is a type of myeloproliferative neoplasm associated with a characteristic chromosomal translocation called the Philadelphia chromosome.\\nCML is largely treated with targeted drugs called tyrosine-kinase inhibitors (TKIs) which have led to dramatically improved long-term survival rates since 2001'"
            ],
            "application/vnd.google.colaboratory.intrinsic+json": {
              "type": "string"
            }
          },
          "metadata": {},
          "execution_count": 28
        }
      ],
      "source": [
        "paragraph = ' '.join(str(x) for x in paragraph_lists)\n",
        "paragraph\n"
      ]
    },
    {
      "cell_type": "code",
      "execution_count": 29,
      "metadata": {
        "colab": {
          "base_uri": "https://localhost:8080/",
          "height": 139
        },
        "id": "PeQ5oGPuaymZ",
        "outputId": "cbafe92b-4c03-4274-f874-27e35334109b"
      },
      "outputs": [
        {
          "output_type": "execute_result",
          "data": {
            "text/plain": [
              "'ابيضاض الدم النقوي المزمن (Chronic myelogenous leukemia) ، والمعروف أيضًا باسم ابيضاض الدم النخاعي المزمن ، هو أحد أشكال سرطان الدم الذي يتميز بالنمو المتزايد وغير المنظم للخلايا النخاعية في نخاع العظام وتراكم هذه الخلايا في خلايا الدم البيضاء. سرطان الدم النخاعي المزمن هو اضطراب في الخلايا الجذعية لنخاع العظم نسيلي يتم فيه العثور على تكاثر الخلايا الحبيبية الناضجة (neutrophils, eosinophils, basophils) وهو نوع من الأورام التكاثرية النخاعية المرتبطة بنقل كروموسومي مميز يسمى كروموسوم فيلادلفيا.\\nيتم علاج سرطان الدم النخاعي المزمن إلى حد كبير بأدوية موجهة تسمى مثبطات التيروزين كيناز (tyrosine kinase inhibitors) والتي أدت إلى تحسن كبير في معدلات البقاء على قيد الحياة على المدى الطويل منذ عام 2001. '"
            ],
            "application/vnd.google.colaboratory.intrinsic+json": {
              "type": "string"
            }
          },
          "metadata": {},
          "execution_count": 29
        }
      ],
      "source": [
        "from deep_translator import GoogleTranslator\n",
        "paragraph_translated = GoogleTranslator(source='en', target='ar').translate(paragraph)\n",
        "paragraph_translated = paragraph_translated.replace('CML', 'Chronic myelogenous leukemia')\n",
        "paragraph_translated = paragraph_translated + '. '\n",
        "paragraph_translated = paragraph_translated.replace('، وهو شكل من أشكال اللوكيميا','')\n",
        "paragraph_translated = paragraph_translated.replace('العدلات ، الحمضات والخلايا القاعدية','neutrophils, eosinophils, basophils')\n",
        "paragraph_translated = paragraph_translated.replace('TKIs','tyrosine kinase inhibitors')\n",
        "paragraph_translated = paragraph_translated.replace('وسلائفها ','')\n",
        "paragraph_translated = paragraph_translated.replace(' المرتبطة بانتقال الكروموسومات المميز يسمى كروموسوم فيلادلفيا.','أيضا.')\n",
        "paragraph_translated"
      ]
    },
    {
      "cell_type": "code",
      "execution_count": 30,
      "metadata": {
        "id": "psq0UIlra0dn"
      },
      "outputs": [],
      "source": [
        "diseases_description['Chronic Myelogenous Leukemia'] = paragraph_translated"
      ]
    },
    {
      "cell_type": "markdown",
      "metadata": {
        "id": "4ueA66GJFbtt"
      },
      "source": [
        "### Acute Lymphoblastic Leukemia "
      ]
    },
    {
      "cell_type": "code",
      "execution_count": 31,
      "metadata": {
        "colab": {
          "base_uri": "https://localhost:8080/"
        },
        "id": "XsnMNCh4FrUZ",
        "outputId": "dd1f7edd-935f-4adb-eb85-4ba388061858"
      },
      "outputs": [
        {
          "output_type": "stream",
          "name": "stdout",
          "text": [
            "Page - Exists: True\n"
          ]
        }
      ],
      "source": [
        "wiki_wiki = wikipediaapi.Wikipedia('en')\n",
        "page_py = wiki_wiki.page('Acute Lymphoblastic Leukemia')\n",
        "print(\"Page - Exists: %s\" % page_py.exists())"
      ]
    },
    {
      "cell_type": "code",
      "execution_count": 32,
      "metadata": {
        "colab": {
          "base_uri": "https://localhost:8080/",
          "height": 244
        },
        "id": "RE3e5XJqF13o",
        "outputId": "9a1679d1-32a0-47a7-c1d6-562b39e0bfa2"
      },
      "outputs": [
        {
          "output_type": "execute_result",
          "data": {
            "text/plain": [
              "'Acute lymphoblastic leukemia (ALL) is a cancer of the lymphoid line of blood cells characterized by the development of large numbers of immature lymphocytes. Symptoms may include feeling tired, pale skin color, fever, easy bleeding or bruising, enlarged lymph nodes, or bone pain. As an acute leukemia, ALL progresses rapidly and is typically fatal within weeks or months if left untreated.In most cases, the cause is unknown. Genetic risk factors may include Down syndrome, Li–Fraumeni syndrome, or neurofibromatosis type 1. Environmental risk factors may include significant radiation exposure or prior chemotherapy. Evidence regarding electromagnetic fields or pesticides is unclear. Some hypothesize that an abnormal immune response to a common infection may be a trigger. The underlying mechanism involves multiple genetic mutations that results in rapid cell division. The excessive immature lymphocytes in the bone marrow interfere with the production of new red blood cells, white blood cells, and platelets. Diagnosis is typically based on blood tests and bone marrow examination.ALL is typically treated initially with chemotherapy aimed at bringing about remission. This is then followed by further chemotherapy typically over a number of years. Treatment usually also includes intrathecal chemotherapy since systemic chemotherapy can have limited penetration into the central nervous system and the central nervous system is a common site for relapse of acute lymphoblastic leukemia.Treatment can also include radiation therapy if spread to the brain has occurred. Stem cell transplantation may be used if the disease recurs following standard treatment. Additional treatments such as Chimeric antigen receptor T cell immunotherapy are being used and further studied.ALL affected about 876,000 people globally in 2015 and resulted in about 111,000 deaths. It occurs most commonly in children, particularly those between the ages of two and five. In the United States it is the most common cause of cancer and death from cancer among children. ALL is notable for being the first disseminated cancer to be cured. Survival for children increased from under 10% in the 1960s to 90% in 2015. Survival rates remain lower for babies (50%) and adults (35%).'"
            ],
            "application/vnd.google.colaboratory.intrinsic+json": {
              "type": "string"
            }
          },
          "metadata": {},
          "execution_count": 32
        }
      ],
      "source": [
        "page_py.summary"
      ]
    },
    {
      "cell_type": "code",
      "execution_count": 33,
      "metadata": {
        "colab": {
          "base_uri": "https://localhost:8080/"
        },
        "id": "I3MLIa0iF14F",
        "outputId": "e4283799-61ef-4daa-8558-906a4d1eaa10"
      },
      "outputs": [
        {
          "output_type": "execute_result",
          "data": {
            "text/plain": [
              "['Acute lymphoblastic leukemia (ALL) is a cancer of the lymphoid line of blood cells characterized by the development of large numbers of immature lymphocytes',\n",
              " 'Symptoms may include feeling tired, pale skin color, fever, easy bleeding or bruising, enlarged lymph nodes, or bone pain',\n",
              " 'As an acute leukemia, ALL progresses rapidly and is typically fatal within weeks or months if left untreated.In most cases, the cause is unknown']"
            ]
          },
          "metadata": {},
          "execution_count": 33
        }
      ],
      "source": [
        "paragraph_lists = page_py.summary[:].split('. ')[:3]\n",
        "paragraph_lists"
      ]
    },
    {
      "cell_type": "code",
      "execution_count": 34,
      "metadata": {
        "colab": {
          "base_uri": "https://localhost:8080/",
          "height": 122
        },
        "id": "aT807IJEGRPs",
        "outputId": "3a972f3d-62ab-4e62-855a-327cadcd4358"
      },
      "outputs": [
        {
          "output_type": "execute_result",
          "data": {
            "text/plain": [
              "'Acute lymphoblastic leukemia (ALL) is a cancer of the lymphoid line of blood cells characterized by the development of large numbers of immature lymphocytes Symptoms may include feeling tired, pale skin color, fever, easy bleeding or bruising, enlarged lymph nodes, or bone pain As an acute leukemia, ALL progresses rapidly and is typically fatal within weeks or months if left untreated.In most cases, the cause is unknown'"
            ],
            "application/vnd.google.colaboratory.intrinsic+json": {
              "type": "string"
            }
          },
          "metadata": {},
          "execution_count": 34
        }
      ],
      "source": [
        "paragraph = ' '.join(str(x) for x in paragraph_lists)\n",
        "paragraph"
      ]
    },
    {
      "cell_type": "code",
      "execution_count": 35,
      "metadata": {
        "colab": {
          "base_uri": "https://localhost:8080/",
          "height": 105
        },
        "id": "YdJfR3VgGRP_",
        "outputId": "a9f51fff-9283-4866-ae53-c1025d7a1b22"
      },
      "outputs": [
        {
          "output_type": "execute_result",
          "data": {
            "text/plain": [
              "'ابيضاض الدم الليمفاوي الحاد (Acute lymphoblastic leukemia) هو سرطان يصيب الخط اللمفاوي لخلايا الدم ويتميز بتطور أعداد كبيرة من الخلايا الليمفاوية غير الناضجة وقد تشمل الأعراض الشعور بالتعب أو شحوب لون الجلد أو الحمى أو سهولة النزف أو الكدمات أو تضخم الغدد الليمفاوية أو آلام العظام يتطور ابيضاض الدم الحاد (Acute lymphoblastic leukemia) بسرعة ، وعادة ما يكون قاتلاً في غضون أسابيع أو شهور إذا تُرك دون علاج ، وفي معظم الحالات يكون السبب غير معروف. '"
            ],
            "application/vnd.google.colaboratory.intrinsic+json": {
              "type": "string"
            }
          },
          "metadata": {},
          "execution_count": 35
        }
      ],
      "source": [
        "from deep_translator import GoogleTranslator\n",
        "paragraph_translated = GoogleTranslator(source='en', target='ar').translate(paragraph)\n",
        "paragraph_translated = paragraph_translated.replace('ALL', 'Acute lymphoblastic leukemia')\n",
        "paragraph_translated = paragraph_translated + '. '\n",
        "paragraph_translated"
      ]
    },
    {
      "cell_type": "code",
      "execution_count": 36,
      "metadata": {
        "id": "ldW1v1-pG9a0"
      },
      "outputs": [],
      "source": [
        "diseases_description['Acute Lymphoblastic Leukemia'] = paragraph_translated"
      ]
    },
    {
      "cell_type": "markdown",
      "metadata": {
        "id": "DDF6WOhh_kDO"
      },
      "source": [
        "## Prostatic Cancer"
      ]
    },
    {
      "cell_type": "code",
      "execution_count": 37,
      "metadata": {
        "colab": {
          "base_uri": "https://localhost:8080/"
        },
        "id": "RZdB9pZZ_sMv",
        "outputId": "9abdcd0d-bdb4-46ee-d7f2-b9787f0ed5bd"
      },
      "outputs": [
        {
          "output_type": "stream",
          "name": "stdout",
          "text": [
            "Page - Exists: True\n"
          ]
        }
      ],
      "source": [
        "wiki_wiki = wikipediaapi.Wikipedia('en')\n",
        "page_py = wiki_wiki.page('Prostate Cancer')\n",
        "print(\"Page - Exists: %s\" % page_py.exists())"
      ]
    },
    {
      "cell_type": "code",
      "execution_count": 38,
      "metadata": {
        "colab": {
          "base_uri": "https://localhost:8080/",
          "height": 244
        },
        "id": "LY22vh2B_sMy",
        "outputId": "71b2c671-b429-4d54-f38f-c4f63a89a907"
      },
      "outputs": [
        {
          "output_type": "execute_result",
          "data": {
            "text/plain": [
              "'Cancer of the prostate is the second most common cancerous tumor worldwide and is the fifth leading cause of cancer-related mortality among men. The prostate is a gland in the male reproductive system that surrounds the urethra just below the bladder. It is located in the hypogastric region of the abdomen. To give an idea of where it is located, the bladder is superior to the prostate gland as shown in the image The rectum is posterior in perspective to the prostate gland and the ischial tuberosity of the pelvic bone is inferior. Most prostate cancers are slow growing. Cancerous cells may spread to other areas of the body, particularly the bones and lymph nodes. It may initially cause no symptoms. In later stages, symptoms include pain or difficulty urinating, blood in the urine, or pain in the pelvis or back. Benign prostatic hyperplasia may produce similar symptoms. Other late symptoms include fatigue, due to low levels of red blood cells.\\nFactors that increase the risk of prostate cancer include older age, family history, and race. About 99% of cases occur after age 50. A first-degree relative with the disease increases the risk two- to three-fold. Other factors include a diet high in processed meat and red meat, while the risk from a high intake of milk products is inconclusive. An association with gonorrhea has been found, although no reason for this relationship has been identified. An increased risk is associated with the BRCA mutations. Diagnosis is by biopsy. Medical imaging may be done to assess whether metastasis is present.Prostate cancer screening, including prostate-specific antigen (PSA) testing, increases cancer detection but whether it improves outcomes is controversial. Informed decision making is recommended for those 55 to 69 years old. Testing, if carried out, is more appropriate for those with a longer life expectancy. Although 5α-reductase inhibitors appear to decrease low-grade cancer risk, they do not affect high-grade cancer risk, and are not recommended for prevention. Vitamin or mineral supplementation does not appear to affect risk.Many cases are managed with active surveillance or watchful waiting. Other treatments may include a combination of surgery, radiation therapy, hormone therapy, or chemotherapy. Tumors limited to the prostate may be curable. Pain medications, bisphosphonates, and targeted therapy, among others, may be useful. Outcomes depend on age, health status and how aggressive and extensive the cancer is. Most men with prostate cancer do not die from it. The United States five-year survival rate is 97.1%.Globally, it is the second-most common cancer. It is the fifth-leading cause of cancer-related death in men. In 2018, it was diagnosed in 1.2 million and caused 359,000 deaths. It was the most common cancer in males in 84 countries, occurring more commonly in the developed world. Rates have been increasing in the developing world. Detection increased significantly in the 1980s and 1990s in many areas due to increased PSA testing. One study reported prostate cancer in 30% to 70% of Russian and Japanese men over age 60 who had died of unrelated causes.'"
            ],
            "application/vnd.google.colaboratory.intrinsic+json": {
              "type": "string"
            }
          },
          "metadata": {},
          "execution_count": 38
        }
      ],
      "source": [
        "page_py.summary"
      ]
    },
    {
      "cell_type": "code",
      "execution_count": 39,
      "metadata": {
        "colab": {
          "base_uri": "https://localhost:8080/"
        },
        "id": "uRrLU9oU_sNP",
        "outputId": "97d32249-427a-473c-9489-c49946703a72"
      },
      "outputs": [
        {
          "output_type": "execute_result",
          "data": {
            "text/plain": [
              "['Cancer of the prostate is the second most common cancerous tumor worldwide and is the fifth leading cause of cancer-related mortality among men',\n",
              " 'The prostate is a gland in the male reproductive system that surrounds the urethra just below the bladder',\n",
              " 'It is located in the hypogastric region of the abdomen',\n",
              " 'To give an idea of where it is located, the bladder is superior to the prostate gland as shown in the image The rectum is posterior in perspective to the prostate gland and the ischial tuberosity of the pelvic bone is inferior',\n",
              " 'Most prostate cancers are slow growing',\n",
              " 'Cancerous cells may spread to other areas of the body, particularly the bones and lymph nodes',\n",
              " 'It may initially cause no symptoms']"
            ]
          },
          "metadata": {},
          "execution_count": 39
        }
      ],
      "source": [
        "paragraph_lists = page_py.summary[:].split('. ')[:7]\n",
        "paragraph_lists"
      ]
    },
    {
      "cell_type": "code",
      "execution_count": 40,
      "metadata": {
        "colab": {
          "base_uri": "https://localhost:8080/",
          "height": 122
        },
        "id": "-JBMAIUf_sNQ",
        "outputId": "d8fcf7f9-8b8a-4f80-99c0-ef52c3ac134e"
      },
      "outputs": [
        {
          "output_type": "execute_result",
          "data": {
            "text/plain": [
              "'Cancer of the prostate is the second most common cancerous tumor worldwide and is the fifth leading cause of cancer-related mortality among men The prostate is a gland in the male reproductive system that surrounds the urethra just below the bladder It is located in the hypogastric region of the abdomenMost prostate cancers are slow growing Cancerous cells may spread to other areas of the body, particularly the bones and lymph nodes It may initially cause no symptoms. '"
            ],
            "application/vnd.google.colaboratory.intrinsic+json": {
              "type": "string"
            }
          },
          "metadata": {},
          "execution_count": 40
        }
      ],
      "source": [
        "paragraph = ' '.join(str(x) for x in paragraph_lists) + '. ' \n",
        "paragraph = paragraph.replace(' To give an idea of where it is located, the bladder is superior to the prostate gland as shown in the image The rectum is posterior in perspective to the prostate gland and the ischial tuberosity of the pelvic bone is inferior ','')\n",
        "paragraph"
      ]
    },
    {
      "cell_type": "code",
      "execution_count": 41,
      "metadata": {
        "colab": {
          "base_uri": "https://localhost:8080/",
          "height": 87
        },
        "id": "8sDSnS0m_sNQ",
        "outputId": "61b8270d-6dd8-4532-81ad-4e8876109916"
      },
      "outputs": [
        {
          "output_type": "execute_result",
          "data": {
            "text/plain": [
              "'سرطان البروستاتا هو ثاني أكثر الأورام السرطانية شيوعًا في جميع أنحاء العالم وهو خامس سبب رئيسي للوفيات المرتبطة بالسرطان بين الرجال. البروستاتا هي غدة في الجهاز التناسلي الذكري تحيط بالإحليل أسفل المثانة مباشرةً. معظم سرطانات البروستاتا بطيئة النمو قد تنتشر الخلايا السرطانية إلى مناطق أخرى من الجسم ، وخاصة العظام والغدد الليمفاوية وقد لا تسبب أعراضًا في البداية.. '"
            ],
            "application/vnd.google.colaboratory.intrinsic+json": {
              "type": "string"
            }
          },
          "metadata": {},
          "execution_count": 41
        }
      ],
      "source": [
        "from deep_translator import GoogleTranslator\n",
        "paragraph_translated = GoogleTranslator(source='en', target='ar').translate(paragraph)\n",
        "paragraph_translated = paragraph_translated + '. '\n",
        "paragraph_translated"
      ]
    },
    {
      "cell_type": "code",
      "execution_count": 42,
      "metadata": {
        "id": "HNIS9_r-_sNR"
      },
      "outputs": [],
      "source": [
        "diseases_description['Prostatic Cancer'] = paragraph_translated"
      ]
    },
    {
      "cell_type": "markdown",
      "metadata": {
        "id": "OHSItl5ZEUHx"
      },
      "source": [
        "## Anemia"
      ]
    },
    {
      "cell_type": "markdown",
      "metadata": {
        "id": "ZZi_VYThEbqQ"
      },
      "source": [
        "###  Normal Anemia (Normocytic)"
      ]
    },
    {
      "cell_type": "code",
      "execution_count": 43,
      "metadata": {
        "colab": {
          "base_uri": "https://localhost:8080/",
          "height": 174
        },
        "id": "zISIPNKyENSo",
        "outputId": "33e63f9f-cc28-4936-8fa0-d16f890950d9"
      },
      "outputs": [
        {
          "output_type": "execute_result",
          "data": {
            "text/plain": [
              "'\\nNormocytic anemia is among the most common forms of anemia. Anemia is a condition in which you don’t have enough red blood cells to provide adequate oxygen to your organs and other tissue.\\nWith some kinds of anemia, the shape or size of red blood cells changes, which helps doctors diagnose the condition.\\nIf you have normocytic anemia, the red blood cells are normal in shape and size. However, the condition means you still don’t have sufficient levels of circulating red blood cells to meet your body’s needs. Most people develop normocytic anemia because they have an underlying chronic illness.\\nit is a common issue that occurs for men and women typically over 85 years old.'"
            ],
            "application/vnd.google.colaboratory.intrinsic+json": {
              "type": "string"
            }
          },
          "metadata": {},
          "execution_count": 43
        }
      ],
      "source": [
        "'''\n",
        "Normocytic anemia is among the most common forms of anemia. Anemia is a condition in which you don’t have enough red blood cells to provide adequate oxygen to your organs and other tissue.\n",
        "With some kinds of anemia, the shape or size of red blood cells changes, which helps doctors diagnose the condition.\n",
        "If you have normocytic anemia, the red blood cells are normal in shape and size. However, the condition means you still don’t have sufficient levels of circulating red blood cells to meet your body’s needs. Most people develop normocytic anemia because they have an underlying chronic illness.\n",
        "it is a common issue that occurs for men and women typically over 85 years old.'''"
      ]
    },
    {
      "cell_type": "code",
      "execution_count": 44,
      "metadata": {
        "colab": {
          "base_uri": "https://localhost:8080/"
        },
        "id": "0S4RVEpXE9fM",
        "outputId": "f84eb5f0-2ff6-464d-e61d-829a238325ca"
      },
      "outputs": [
        {
          "output_type": "stream",
          "name": "stdout",
          "text": [
            "Page - Exists: True\n"
          ]
        }
      ],
      "source": [
        "wiki_wiki = wikipediaapi.Wikipedia('en')\n",
        "page_py = wiki_wiki.page('Normocytic Anemia')\n",
        "print(\"Page - Exists: %s\" % page_py.exists())"
      ]
    },
    {
      "cell_type": "code",
      "execution_count": 45,
      "metadata": {
        "colab": {
          "base_uri": "https://localhost:8080/",
          "height": 87
        },
        "id": "orwomPhKE9fN",
        "outputId": "f7673ebc-ee63-44b1-ddab-586dce4966cd"
      },
      "outputs": [
        {
          "output_type": "execute_result",
          "data": {
            "text/plain": [
              "'Normocytic anemia is a type of anemia and is a common issue that occurs for men and women typically over 85 years old. Its prevalence increases with age, reaching 44 percent in men older than 85 years. The most common type of normocytic anemia is anemia of chronic disease.'"
            ],
            "application/vnd.google.colaboratory.intrinsic+json": {
              "type": "string"
            }
          },
          "metadata": {},
          "execution_count": 45
        }
      ],
      "source": [
        "page_py.summary"
      ]
    },
    {
      "cell_type": "code",
      "execution_count": 46,
      "metadata": {
        "colab": {
          "base_uri": "https://localhost:8080/"
        },
        "id": "Zm3rj2lDE9fN",
        "outputId": "8b7147e4-cdc6-44da-c787-694069acf1de"
      },
      "outputs": [
        {
          "output_type": "execute_result",
          "data": {
            "text/plain": [
              "['Normocytic anemia is a type of anemia and is a common issue that occurs for men and women typically over 85 years old',\n",
              " 'Its prevalence increases with age, reaching 44 percent in men older than 85 years',\n",
              " 'The most common type of normocytic anemia is anemia of chronic disease.']"
            ]
          },
          "metadata": {},
          "execution_count": 46
        }
      ],
      "source": [
        "paragraph_lists = page_py.summary[:].split('. ')[:]\n",
        "paragraph_lists"
      ]
    },
    {
      "cell_type": "code",
      "execution_count": 47,
      "metadata": {
        "id": "v71koPilE9fO"
      },
      "outputs": [],
      "source": [
        "paragraph =  'Normocytic anemia is among the most common forms of anemia. Anemia is a condition in which you don’t have enough red blood cells to provide adequate oxygen to your organs and other tissue.With some kinds of anemia, the shape or size of red blood cells changes, which helps doctors diagnose the condition. If you have normocytic anemia, the red blood cells are normal in shape and size. However, the condition means you still don’t have sufficient levels of circulating red blood cells to meet your body’s needs. Most people develop normocytic anemia because they have an underlying chronic illness. It is a common issue that occurs for men and women typically over 85 years old.'"
      ]
    },
    {
      "cell_type": "code",
      "execution_count": 48,
      "metadata": {
        "colab": {
          "base_uri": "https://localhost:8080/",
          "height": 122
        },
        "id": "u2toH-iUE9fO",
        "outputId": "b79f8bda-ada9-4f89-e90b-d0f541bb39e4"
      },
      "outputs": [
        {
          "output_type": "execute_result",
          "data": {
            "text/plain": [
              "'يعد فقر الدم الطبيعي من أكثر أشكال فقر الدم شيوعًا. فقر الدم هو حالة لا يوجد فيها ما يكفي من خلايا الدم الحمراء لتوفير الأكسجين الكافي لأعضائك والأنسجة الأخرى ، مع بعض أنواع فقر الدم ، يتغير شكل أو حجم خلايا الدم الحمراء ، مما يساعد الأطباء على تشخيص الحالة. إذا كنت تعاني من فقر الدم الطبيعي ، فإن خلايا الدم الحمراء طبيعية في الشكل والحجم. ومع ذلك ، فإن الحالة تعني أنه لا يزال لديك مستويات كافية من خلايا الدم الحمراء المنتشرة لتلبية احتياجات جسمك. يصاب معظم الناس بفقر الدم السوي الخلوي لأنهم يعانون من مرض مزمن كامن. إنها مشكلة شائعة تحدث للرجال والنساء الذين تزيد أعمارهم عن 85 عامًا.'"
            ],
            "application/vnd.google.colaboratory.intrinsic+json": {
              "type": "string"
            }
          },
          "metadata": {},
          "execution_count": 48
        }
      ],
      "source": [
        "from deep_translator import GoogleTranslator\n",
        "paragraph_translated = GoogleTranslator(source='en', target='ar').translate(paragraph)\n",
        "paragraph_translated"
      ]
    },
    {
      "cell_type": "code",
      "execution_count": 49,
      "metadata": {
        "id": "U4lIY3jZE9fP"
      },
      "outputs": [],
      "source": [
        "diseases_description['Normal Anemia'] = paragraph_translated"
      ]
    },
    {
      "cell_type": "markdown",
      "metadata": {
        "id": "__zXeJiqI8pJ"
      },
      "source": [
        "### Macrocytic Anemia"
      ]
    },
    {
      "cell_type": "code",
      "execution_count": 50,
      "metadata": {
        "colab": {
          "base_uri": "https://localhost:8080/"
        },
        "id": "AlHHlmTDJDxE",
        "outputId": "7e3ed4b9-7e25-4fb6-b2b4-32346b51fc0b"
      },
      "outputs": [
        {
          "output_type": "stream",
          "name": "stdout",
          "text": [
            "Page - Exists: True\n"
          ]
        }
      ],
      "source": [
        "wiki_wiki = wikipediaapi.Wikipedia('en')\n",
        "page_py = wiki_wiki.page('Macrocytic anemia')\n",
        "print(\"Page - Exists: %s\" % page_py.exists())"
      ]
    },
    {
      "cell_type": "code",
      "execution_count": 51,
      "metadata": {
        "colab": {
          "base_uri": "https://localhost:8080/",
          "height": 244
        },
        "id": "T4H9fwYkJr3T",
        "outputId": "d96b13d0-a563-45ec-eb3b-ec9d8a0b55c7"
      },
      "outputs": [
        {
          "output_type": "execute_result",
          "data": {
            "text/plain": [
              "'The term macrocytic is from Greek words meaning \"large cell\". A macrocytic class of anemia is an anemia (defined as blood with an insufficient concentration of hemoglobin) in which the red blood cells (erythrocytes) are larger than their normal volume. The normal erythrocyte volume in humans is about 80 to 100 femtoliters (fL= 10−15 L). In metric terms the size is given in equivalent cubic micrometers (1 μm3 = 1 fL). The condition of having erythrocytes which (on average) are too large, is called macrocytosis. In contrast, in microcytic anemia, the erythrocytes are smaller than normal.\\nIn a macrocytic anemia, the larger red cells are always associated with insufficient numbers of cells and often also insufficient hemoglobin content per cell. Both of these factors work to the opposite effect of larger cell size, to finally result in a total blood hemoglobin concentration that is less than normal (i.e., anemia).\\nMacrocytic anemia is not a disease in the sense of having a single pathology but, rather, is a condition. As such, it is the class name for a set of pathologies that all produce somewhat the same red blood cell abnormality. Different pathologies result in macrocytic-type anemias. Some of these pathologies produce slightly different sets of appearances in blood cells that are detectable from red and white cell morphology, and others are only detectable with chemical testing.'"
            ],
            "application/vnd.google.colaboratory.intrinsic+json": {
              "type": "string"
            }
          },
          "metadata": {},
          "execution_count": 51
        }
      ],
      "source": [
        "page_py.summary"
      ]
    },
    {
      "cell_type": "code",
      "execution_count": 52,
      "metadata": {
        "colab": {
          "base_uri": "https://localhost:8080/"
        },
        "id": "tW9qA8BnJr3y",
        "outputId": "c398eb50-ff45-4956-f85a-a1c0acc282f6"
      },
      "outputs": [
        {
          "output_type": "execute_result",
          "data": {
            "text/plain": [
              "[' A macrocytic class of anemia is an anemia (defined as blood with an insufficient concentration of hemoglobin) in which the red blood cells (erythrocytes) are larger than their normal volume',\n",
              " 'The condition of having erythrocytes which (on average) are too large, is called macrocytosis',\n",
              " 'In contrast, in microcytic anemia, the erythrocytes are smaller than normal.\\nIn a macrocytic anemia, the larger red cells are always associated with insufficient numbers of cells and often also insufficient hemoglobin content per cell',\n",
              " 'Both of these factors work to the opposite effect of larger cell size, to finally result in a total blood hemoglobin concentration that is less than normal (i.e., anemia).\\nMacrocytic anemia is not a disease in the sense of having a single pathology but, rather, is a condition']"
            ]
          },
          "metadata": {},
          "execution_count": 52
        }
      ],
      "source": [
        "paragraph_lists = page_py.summary[:].split('.')[1:2]\n",
        "paragraph_lists.append(page_py.summary[:].split('. ')[4])\n",
        "paragraph_lists.append(page_py.summary[:].split('. ')[5])\n",
        "paragraph_lists.append(page_py.summary[:].split('. ')[6])\n",
        "paragraph_lists"
      ]
    },
    {
      "cell_type": "code",
      "execution_count": 53,
      "metadata": {
        "id": "NEa1S4f8Jr3z"
      },
      "outputs": [],
      "source": [
        "paragraph = ' '.join(str(x) for x in paragraph_lists) + '. ' \n",
        "paragraph = paragraph.replace('Macrocytic anemia is not a disease in the sense of having a single pathology but, rather, is a condition','')\n",
        "paragraph = paragraph.replace('In contrast, in microcytic anemia, the erythrocytes are smaller than normal.','')\n",
        "paragraph = paragraph.replace('A macrocytic class of anemia','..')\n",
        "paragraph = paragraph.replace('macrocytic anemia','..')\n",
        "paragraph = paragraph.replace('macrocytosis','~') \n",
        "paragraph = paragraph.replace('Macrocytic anemia','..') "
      ]
    },
    {
      "cell_type": "code",
      "execution_count": 54,
      "metadata": {
        "colab": {
          "base_uri": "https://localhost:8080/",
          "height": 105
        },
        "id": "RcB8X8t4Jr3z",
        "outputId": "4c11a3a2-2a12-4c4f-d67f-10d9f22f3a2e"
      },
      "outputs": [
        {
          "output_type": "execute_result",
          "data": {
            "text/plain": [
              "'macrocytic anemia هو فقر الدم (يُعرَّف بأنه الدم الذي يحتوي على تركيز غير كافٍ من الهيموجلوبين) حيث تكون خلايا الدم الحمراء (كرات الدم الحمراء) أكبر من حجمها الطبيعي.\\nفي macrocytic anemia ، ترتبط الخلايا الحمراء الكبيرة دائمًا بعدد غير كافٍ من الخلايا وغالبًا أيضًا محتوى غير كافٍ من الهيموجلوبين لكل خلية يعمل كلا العاملين على التأثير المعاكس لحجم الخلية الأكبر ، مما يؤدي في النهاية إلى تركيز إجمالي للهيموجلوبين في الدم يكون أقل من الطبيعي (أي فقر الدم).\\n.'"
            ],
            "application/vnd.google.colaboratory.intrinsic+json": {
              "type": "string"
            }
          },
          "metadata": {},
          "execution_count": 54
        }
      ],
      "source": [
        "from deep_translator import GoogleTranslator\n",
        "paragraph_translated = GoogleTranslator(source='en', target='ar').translate(paragraph)\n",
        "paragraph_translated = paragraph_translated.replace('..','macrocytic anemia')\n",
        "paragraph_translated = paragraph_translated.replace('~','macrocytosis')\n",
        "paragraph_translated"
      ]
    },
    {
      "cell_type": "code",
      "execution_count": 54,
      "metadata": {
        "id": "Z5cM8qlATyYV"
      },
      "outputs": [],
      "source": []
    },
    {
      "cell_type": "code",
      "execution_count": 55,
      "metadata": {
        "id": "FO2tWSflK1EI"
      },
      "outputs": [],
      "source": [
        "diseases_description['Macrocytic Anemia'] = paragraph_translated"
      ]
    },
    {
      "cell_type": "markdown",
      "metadata": {
        "id": "IHQOOvvyLHOc"
      },
      "source": [
        "### Microcytic Anemia"
      ]
    },
    {
      "cell_type": "code",
      "execution_count": 56,
      "metadata": {
        "colab": {
          "base_uri": "https://localhost:8080/"
        },
        "id": "1Fd79SDhLd3h",
        "outputId": "96127f0f-8e9a-42cb-9ec7-60e82b8b762a"
      },
      "outputs": [
        {
          "output_type": "stream",
          "name": "stdout",
          "text": [
            "Page - Exists: True\n"
          ]
        }
      ],
      "source": [
        "wiki_wiki = wikipediaapi.Wikipedia('en')\n",
        "page_py = wiki_wiki.page('Microcytic anemia')\n",
        "print(\"Page - Exists: %s\" % page_py.exists())"
      ]
    },
    {
      "cell_type": "code",
      "execution_count": 57,
      "metadata": {
        "colab": {
          "base_uri": "https://localhost:8080/",
          "height": 226
        },
        "id": "UY27lx_OLd3i",
        "outputId": "9da8bf80-1087-40ce-cc54-95009fecddf8"
      },
      "outputs": [
        {
          "output_type": "execute_result",
          "data": {
            "text/plain": [
              "'Microcytic anaemia is any of several types of anemia characterized by smaller than normal red blood cells (called microcytes). The normal mean corpuscular volume (abbreviated to MCV on full blood count results, and also known as mean cell volume) is approximately 80–100 fL. When the MCV is <80 fL, the red cells are described as microcytic and when >100 fL, macrocytic (the latter occurs in macrocytic anemia). The MCV is the average red blood cell size.\\nIn microcytic anemia, the red blood cells (erythrocytes) contain less hemoglobin and are usually also hypochromic, meaning that the red blood cells appear paler than usual. This can be reflected by a low mean corpuscular hemoglobin concentration (MCHC), a measure representing the amount of hemoglobin per unit volume of fluid inside the cell; normally about 320–360 g/L or 32–36 g/dL. Typically, therefore, anemia of this category is described as \"microcytic, hypochromic anemia\".'"
            ],
            "application/vnd.google.colaboratory.intrinsic+json": {
              "type": "string"
            }
          },
          "metadata": {},
          "execution_count": 57
        }
      ],
      "source": [
        "page_py.summary"
      ]
    },
    {
      "cell_type": "code",
      "execution_count": 58,
      "metadata": {
        "colab": {
          "base_uri": "https://localhost:8080/"
        },
        "id": "I5yzFmTKLd3i",
        "outputId": "d6b90815-1ccb-47ea-a415-9df3d87a875f"
      },
      "outputs": [
        {
          "output_type": "execute_result",
          "data": {
            "text/plain": [
              "['Microcytic anaemia is any of several types of anemia characterized by smaller than normal red blood cells (called microcytes)',\n",
              " ' The normal mean corpuscular volume (abbreviated to MCV on full blood count results, and also known as mean cell volume) is approximately 80–100 fL',\n",
              " ' When the MCV is <80 fL, the red cells are described as microcytic and when >100 fL, macrocytic (the latter occurs in macrocytic anemia)']"
            ]
          },
          "metadata": {},
          "execution_count": 58
        }
      ],
      "source": [
        "paragraph_lists = page_py.summary[:].split('.')[:3]\n",
        "paragraph_lists"
      ]
    },
    {
      "cell_type": "code",
      "execution_count": 59,
      "metadata": {
        "colab": {
          "base_uri": "https://localhost:8080/"
        },
        "id": "SczFTVwcMNLS",
        "outputId": "e55e329a-d7bb-47c1-dc11-ad77965bccf5"
      },
      "outputs": [
        {
          "output_type": "execute_result",
          "data": {
            "text/plain": [
              "['Microcytic anaemia is any of several types of anemia characterized by smaller than normal red blood cells (called microcytes)',\n",
              " ' The normal mean corpuscular volume (abbreviated to MCV on full blood count results, and also known as mean cell volume) is approximately 80–100 fL',\n",
              " ' When the MCV is <80 fL, the red cells are described as microcytic and when >100 fL, macrocytic (the latter occurs in macrocytic anemia)']"
            ]
          },
          "metadata": {},
          "execution_count": 59
        }
      ],
      "source": [
        "paragraph_lists"
      ]
    },
    {
      "cell_type": "code",
      "execution_count": 60,
      "metadata": {
        "colab": {
          "base_uri": "https://localhost:8080/",
          "height": 87
        },
        "id": "_G8cfjhmLd3j",
        "outputId": "ed4e590d-7044-4cec-8841-7db582e15652"
      },
      "outputs": [
        {
          "output_type": "execute_result",
          "data": {
            "text/plain": [
              "'.. is any of several types of anemia characterized by smaller than normal red blood cells (called ..)  The normal mean corpuscular volume (MCV) is approximately 80–100 fL  When the MCV is <80 fL, the red cells are described as ..and when >100 fL, /(the latter occurs in /anemia)'"
            ],
            "application/vnd.google.colaboratory.intrinsic+json": {
              "type": "string"
            }
          },
          "metadata": {},
          "execution_count": 60
        }
      ],
      "source": [
        "paragraph = ' '.join(str(x) for x in paragraph_lists) \n",
        "paragraph = paragraph.replace(' (abbreviated to MCV on full blood count results, and also known as mean cell volume)',' (MCV)')\n",
        "paragraph = paragraph.replace('Microcytic anaemia','..') \n",
        "paragraph = paragraph.replace('microcytic ','..') \n",
        "paragraph = paragraph.replace('microcytes','..')\n",
        "paragraph = paragraph.replace('macrocytic ','/')\n",
        "paragraph = paragraph.replace('macrocytic anemia','/')\n",
        "paragraph"
      ]
    },
    {
      "cell_type": "code",
      "execution_count": 61,
      "metadata": {
        "id": "eyRjNt53Ld3j"
      },
      "outputs": [],
      "source": [
        "from deep_translator import GoogleTranslator\n",
        "paragraph_translated = GoogleTranslator(source='en', target='ar').translate(paragraph)\n",
        "paragraph_translated = paragraph_translated \n",
        "paragraph_translated = paragraph_translated.replace('..','Microcytic Anemia')\n",
        "paragraph_translated = paragraph_translated.replace('/','Macrocytic Anemia')\n",
        "paragraph_translated = 'Microcytic Anemia هو أي نوع من أنواع فقر الدم العديدة التي تتميز بوجود خلايا دم حمراء أصغر من الطبيعي (تسمى Microcytic Anemia) متوسط ​​حجم الجسم العضلي الطبيعي (MCV) هو ما يقرب من 80-100 فلولتر .اقل من 80 فلولتر تكون Microcytic Anemia وعندما> 100 فلولتر ، تكون Macrocytic Anemia (هذا الأخير يحدث في Macrocytic Anemia فقر الدم).'"
      ]
    },
    {
      "cell_type": "code",
      "execution_count": 62,
      "metadata": {
        "id": "VHhpOjRaLd3l"
      },
      "outputs": [],
      "source": [
        "diseases_description['Microcytic Anemia'] = paragraph_translated"
      ]
    },
    {
      "cell_type": "code",
      "execution_count": 63,
      "metadata": {
        "colab": {
          "base_uri": "https://localhost:8080/"
        },
        "id": "TZg2DO-rK5NA",
        "outputId": "e15403dd-36bd-43c7-859b-c173eab2ac69"
      },
      "outputs": [
        {
          "output_type": "execute_result",
          "data": {
            "text/plain": [
              "{'Diabetes': 'مرض السكري ، المعروف أيضًا باسم داء السكري ، هو مجموعة من أمراض الغدد الصماء الشائعة التي تتميز بارتفاع مستمر في مستويات السكر في الدم. يؤدي تركه دون علاج إلى العديد من المضاعفات الصحية. ',\n",
              " 'Prediabetes': 'مقدمات السكري هي أحد مكونات متلازمة التمثيل الغذائي وتتميز بارتفاع مستويات السكر في الدم التي تقل عن الحد الأدنى لتشخيص داء السكري.عادة لا تسبب أعراضًا ولكن الأشخاص الذين يعانون من مقدمات السكري غالبًا ما يعانون من السمنة (خاصة السمنة البطنية أو الحشوية) ، اضطراب شحميات الدم مع ارتفاع الدهون الثلاثية و / أو انخفاض نسبة الكوليسترول الحميد ، وارتفاع ضغط الدم ، كما أنه يرتبط بزيادة مخاطر الإصابة بأمراض القلب والأوعية الدموية  .',\n",
              " 'Hypoglycemia': 'نقص سكر الدم، ويسمى أيضًا هبوط سكر الدم، هو انخفاض في نسبة السكر في الدم إلى مستويات أقل من المعتاد، عادة ما تكون أقل من 70 ملغ/ديسيلتر (3.9 مليمول/لتر) يستخدم ثالوث ويبل لتحديد نوبات نقص السكر في الدم بشكل صحيح يتم تعريفه على أنه جلوكوز الدم أقل من 70 ملغ/ديسيلتر (3.9 مليمول/لتر)، قد يؤدي نقص السكر في الدم إلى صداع، تعب، خراقة، صعوبة التحدث، ارتباك، تسارع معدل ضربات القلب، تعرق، رجفان، عصبية، جوع، فقدان الوعي، نوبات أو وفاة. ',\n",
              " 'Jaundice': 'اليرقان (بالإنجليزية: Jaundice)\\u200f، المعروف أيضًا بالصفار، أو الاصفرار، هو تصبغ مصفر أو مخضر للجلد وبياض العين بسبب ارتفاع مستويات البيليروبين اليرقان عند البالغين هو عادة علامة تشير إلى وجود أمراض كامنة تنطوي على استقلاب الهيم غير الطبيعي، ضعف الكبد أو انسداد القناة الصفراوية انتشار اليرقان لدى البالغين أمر نادر الحدوث، في حين أن اليرقان عند الأطفال شائع، حيث يتأثر ما يقدر بنحو 80٪ خلال الأسبوع الأول من حياتهم.',\n",
              " 'Chronic Myelogenous Leukemia': 'ابيضاض الدم النقوي المزمن (Chronic myelogenous leukemia) ، والمعروف أيضًا باسم ابيضاض الدم النخاعي المزمن ، هو أحد أشكال سرطان الدم الذي يتميز بالنمو المتزايد وغير المنظم للخلايا النخاعية في نخاع العظام وتراكم هذه الخلايا في خلايا الدم البيضاء. سرطان الدم النخاعي المزمن هو اضطراب في الخلايا الجذعية لنخاع العظم نسيلي يتم فيه العثور على تكاثر الخلايا الحبيبية الناضجة (neutrophils, eosinophils, basophils) وهو نوع من الأورام التكاثرية النخاعية المرتبطة بنقل كروموسومي مميز يسمى كروموسوم فيلادلفيا.\\nيتم علاج سرطان الدم النخاعي المزمن إلى حد كبير بأدوية موجهة تسمى مثبطات التيروزين كيناز (tyrosine kinase inhibitors) والتي أدت إلى تحسن كبير في معدلات البقاء على قيد الحياة على المدى الطويل منذ عام 2001. ',\n",
              " 'Acute Lymphoblastic Leukemia': 'ابيضاض الدم الليمفاوي الحاد (Acute lymphoblastic leukemia) هو سرطان يصيب الخط اللمفاوي لخلايا الدم ويتميز بتطور أعداد كبيرة من الخلايا الليمفاوية غير الناضجة وقد تشمل الأعراض الشعور بالتعب أو شحوب لون الجلد أو الحمى أو سهولة النزف أو الكدمات أو تضخم الغدد الليمفاوية أو آلام العظام يتطور ابيضاض الدم الحاد (Acute lymphoblastic leukemia) بسرعة ، وعادة ما يكون قاتلاً في غضون أسابيع أو شهور إذا تُرك دون علاج ، وفي معظم الحالات يكون السبب غير معروف. ',\n",
              " 'Prostatic Cancer': 'سرطان البروستاتا هو ثاني أكثر الأورام السرطانية شيوعًا في جميع أنحاء العالم وهو خامس سبب رئيسي للوفيات المرتبطة بالسرطان بين الرجال. البروستاتا هي غدة في الجهاز التناسلي الذكري تحيط بالإحليل أسفل المثانة مباشرةً. معظم سرطانات البروستاتا بطيئة النمو قد تنتشر الخلايا السرطانية إلى مناطق أخرى من الجسم ، وخاصة العظام والغدد الليمفاوية وقد لا تسبب أعراضًا في البداية.. ',\n",
              " 'Normal Anemia': 'يعد فقر الدم الطبيعي من أكثر أشكال فقر الدم شيوعًا. فقر الدم هو حالة لا يوجد فيها ما يكفي من خلايا الدم الحمراء لتوفير الأكسجين الكافي لأعضائك والأنسجة الأخرى ، مع بعض أنواع فقر الدم ، يتغير شكل أو حجم خلايا الدم الحمراء ، مما يساعد الأطباء على تشخيص الحالة. إذا كنت تعاني من فقر الدم الطبيعي ، فإن خلايا الدم الحمراء طبيعية في الشكل والحجم. ومع ذلك ، فإن الحالة تعني أنه لا يزال لديك مستويات كافية من خلايا الدم الحمراء المنتشرة لتلبية احتياجات جسمك. يصاب معظم الناس بفقر الدم السوي الخلوي لأنهم يعانون من مرض مزمن كامن. إنها مشكلة شائعة تحدث للرجال والنساء الذين تزيد أعمارهم عن 85 عامًا.',\n",
              " 'Macrocytic Anemia': 'macrocytic anemia هو فقر الدم (يُعرَّف بأنه الدم الذي يحتوي على تركيز غير كافٍ من الهيموجلوبين) حيث تكون خلايا الدم الحمراء (كرات الدم الحمراء) أكبر من حجمها الطبيعي.\\nفي macrocytic anemia ، ترتبط الخلايا الحمراء الكبيرة دائمًا بعدد غير كافٍ من الخلايا وغالبًا أيضًا محتوى غير كافٍ من الهيموجلوبين لكل خلية يعمل كلا العاملين على التأثير المعاكس لحجم الخلية الأكبر ، مما يؤدي في النهاية إلى تركيز إجمالي للهيموجلوبين في الدم يكون أقل من الطبيعي (أي فقر الدم).\\n.',\n",
              " 'Microcytic Anemia': 'Microcytic Anemia هو أي نوع من أنواع فقر الدم العديدة التي تتميز بوجود خلايا دم حمراء أصغر من الطبيعي (تسمى Microcytic Anemia) متوسط \\u200b\\u200bحجم الجسم العضلي الطبيعي (MCV) هو ما يقرب من 80-100 فلولتر .اقل من 80 فلولتر تكون Microcytic Anemia وعندما> 100 فلولتر ، تكون Macrocytic Anemia (هذا الأخير يحدث في Macrocytic Anemia فقر الدم).'}"
            ]
          },
          "metadata": {},
          "execution_count": 63
        }
      ],
      "source": [
        "diseases_description"
      ]
    },
    {
      "cell_type": "markdown",
      "metadata": {
        "id": "4tzVi-mTic2l"
      },
      "source": [
        "## Thyroid Diseases"
      ]
    },
    {
      "cell_type": "markdown",
      "metadata": {
        "id": "bbX91QPiiihx"
      },
      "source": [
        "### Hyperthyroid"
      ]
    },
    {
      "cell_type": "code",
      "execution_count": 64,
      "metadata": {
        "colab": {
          "base_uri": "https://localhost:8080/"
        },
        "id": "pdfKuWiAiypb",
        "outputId": "6bd6cc4a-6b87-499e-83e2-b678ee9dd937"
      },
      "outputs": [
        {
          "output_type": "stream",
          "name": "stdout",
          "text": [
            "Page - Exists: True\n"
          ]
        }
      ],
      "source": [
        "wiki_wiki = wikipediaapi.Wikipedia('en')\n",
        "page_py = wiki_wiki.page('Hyperthyroid')\n",
        "print(\"Page - Exists: %s\" % page_py.exists())"
      ]
    },
    {
      "cell_type": "code",
      "execution_count": 65,
      "metadata": {
        "colab": {
          "base_uri": "https://localhost:8080/",
          "height": 244
        },
        "id": "RfF4f8adiypc",
        "outputId": "cb65820f-2a8d-43ef-9d61-2b1ff7eec1a9"
      },
      "outputs": [
        {
          "output_type": "execute_result",
          "data": {
            "text/plain": [
              "\"Hyperthyroidism is the condition that occurs due to excessive production of thyroid hormones by the thyroid gland. Thyrotoxicosis is the condition that occurs due to excessive thyroid hormone of any cause and therefore includes hyperthyroidism. Some, however, use the terms interchangeably. Signs and symptoms vary between people and may include irritability, muscle weakness, sleeping problems, a fast heartbeat, heat intolerance, diarrhea, enlargement of the thyroid, hand tremor, and weight loss. Symptoms are typically less severe in the elderly and during pregnancy. An uncommon complication is thyroid storm in which an event such as an infection results in worsening symptoms such as confusion and a high temperature and often results in death. The opposite is hypothyroidism, when the thyroid gland does not make enough thyroid hormone.Graves' disease is the cause of about 50% to 80% of the cases of hyperthyroidism in the United States. Other causes include multinodular goiter, toxic adenoma, inflammation of the thyroid, eating too much iodine, and too much synthetic thyroid hormone. A less common cause is a pituitary adenoma. The diagnosis may be suspected based on signs and symptoms and then confirmed with blood tests. Typically blood tests show a low thyroid stimulating hormone (TSH) and raised T3 or T4. Radioiodine uptake by the thyroid, thyroid scan, and TSI antibodies may help determine the cause.Treatment depends partly on the cause and severity of disease. There are three main treatment options: radioiodine therapy, medications, and thyroid surgery. Radioiodine therapy involves taking iodine-131 by mouth which is then concentrated in and destroys the thyroid over weeks to months. The resulting hypothyroidism is treated with synthetic thyroid hormone. Medications such as beta blockers may control the symptoms, and anti-thyroid medications such as methimazole may temporarily help people while other treatments are having an effect. Surgery to remove the thyroid is another option. This may be used in those with very large thyroids or when cancer is a concern. In the United States hyperthyroidism affects about 1.2% of the population. It occurs between two and ten times more often in women. Onset is commonly between 20 and 50 years of age. Overall the disease is more common in those over the age of 60 years.\""
            ],
            "application/vnd.google.colaboratory.intrinsic+json": {
              "type": "string"
            }
          },
          "metadata": {},
          "execution_count": 65
        }
      ],
      "source": [
        "page_py.summary"
      ]
    },
    {
      "cell_type": "code",
      "execution_count": 66,
      "metadata": {
        "colab": {
          "base_uri": "https://localhost:8080/",
          "height": 35
        },
        "id": "oyn2Djksiypc",
        "outputId": "4acea7b4-72c7-40b6-8223-76d4b630a454"
      },
      "outputs": [
        {
          "output_type": "execute_result",
          "data": {
            "text/plain": [
              "'Some, however, use the terms interchangeably'"
            ],
            "application/vnd.google.colaboratory.intrinsic+json": {
              "type": "string"
            }
          },
          "metadata": {},
          "execution_count": 66
        }
      ],
      "source": [
        "paragraph_lists = page_py.summary[:].split('. ')[:5]\n",
        "paragraph_lists.pop(2)"
      ]
    },
    {
      "cell_type": "code",
      "execution_count": 67,
      "metadata": {
        "colab": {
          "base_uri": "https://localhost:8080/",
          "height": 139
        },
        "id": "5tXQndLUiypd",
        "outputId": "2c257155-3173-4e95-e039-6c3605f877e8"
      },
      "outputs": [
        {
          "output_type": "execute_result",
          "data": {
            "text/plain": [
              "'Hyperthyroidism is the condition that occurs due to excessive production of thyroid hormones by the thyroid gland Thyrotoxicosis is the condition that occurs due to excessive thyroid hormone of any cause and therefore includes hyperthyroidism Signs and symptoms vary between people and may include irritability, muscle weakness, sleeping problems, a fast heartbeat, heat intolerance, diarrhea, enlargement of the thyroid, hand tremor, and weight loss Symptoms are typically less severe in the elderly and during pregnancy'"
            ],
            "application/vnd.google.colaboratory.intrinsic+json": {
              "type": "string"
            }
          },
          "metadata": {},
          "execution_count": 67
        }
      ],
      "source": [
        "paragraph = ' '.join(str(x) for x in paragraph_lists) \n",
        "paragraph"
      ]
    },
    {
      "cell_type": "code",
      "execution_count": 68,
      "metadata": {
        "colab": {
          "base_uri": "https://localhost:8080/",
          "height": 87
        },
        "id": "cJ66l-y0iypd",
        "outputId": "5eef504c-6514-4a8a-f30c-4a85807ddb5f"
      },
      "outputs": [
        {
          "output_type": "execute_result",
          "data": {
            "text/plain": [
              "'فرط نشاط الغدة الدرقية هو حالة تحدث بسبب فرط إفراز هرمونات الغدة الدرقية من الغدة الدرقية. التسمم الدرقي هو الحالة التي تحدث بسبب فرط هرمون الغدة الدرقية لأي سبب ، وبالتالي تشمل فرط نشاط الغدة الدرقية. تختلف العلامات والأعراض بين الأشخاص وقد تشمل التهيج وضعف العضلات والنوم المشاكل وسرعة ضربات القلب وعدم تحمل الحرارة والإسهال وتضخم الغدة الدرقية ورعاش اليد وفقدان الوزن تكون الأعراض عادة أقل حدة عند كبار السن وأثناء الحمل .'"
            ],
            "application/vnd.google.colaboratory.intrinsic+json": {
              "type": "string"
            }
          },
          "metadata": {},
          "execution_count": 68
        }
      ],
      "source": [
        "from deep_translator import GoogleTranslator\n",
        "paragraph_translated = GoogleTranslator(source='en', target='ar').translate(paragraph)\n",
        "paragraph_translated = paragraph_translated + ' .'\n",
        "paragraph_translated"
      ]
    },
    {
      "cell_type": "code",
      "execution_count": 69,
      "metadata": {
        "colab": {
          "base_uri": "https://localhost:8080/"
        },
        "id": "LVyyhsDSiypd",
        "outputId": "fb3e9b24-00ef-458e-ef48-32bd99d9e029"
      },
      "outputs": [
        {
          "output_type": "execute_result",
          "data": {
            "text/plain": [
              "{'Diabetes': 'مرض السكري ، المعروف أيضًا باسم داء السكري ، هو مجموعة من أمراض الغدد الصماء الشائعة التي تتميز بارتفاع مستمر في مستويات السكر في الدم. يؤدي تركه دون علاج إلى العديد من المضاعفات الصحية. ',\n",
              " 'Prediabetes': 'مقدمات السكري هي أحد مكونات متلازمة التمثيل الغذائي وتتميز بارتفاع مستويات السكر في الدم التي تقل عن الحد الأدنى لتشخيص داء السكري.عادة لا تسبب أعراضًا ولكن الأشخاص الذين يعانون من مقدمات السكري غالبًا ما يعانون من السمنة (خاصة السمنة البطنية أو الحشوية) ، اضطراب شحميات الدم مع ارتفاع الدهون الثلاثية و / أو انخفاض نسبة الكوليسترول الحميد ، وارتفاع ضغط الدم ، كما أنه يرتبط بزيادة مخاطر الإصابة بأمراض القلب والأوعية الدموية  .',\n",
              " 'Hypoglycemia': 'نقص سكر الدم، ويسمى أيضًا هبوط سكر الدم، هو انخفاض في نسبة السكر في الدم إلى مستويات أقل من المعتاد، عادة ما تكون أقل من 70 ملغ/ديسيلتر (3.9 مليمول/لتر) يستخدم ثالوث ويبل لتحديد نوبات نقص السكر في الدم بشكل صحيح يتم تعريفه على أنه جلوكوز الدم أقل من 70 ملغ/ديسيلتر (3.9 مليمول/لتر)، قد يؤدي نقص السكر في الدم إلى صداع، تعب، خراقة، صعوبة التحدث، ارتباك، تسارع معدل ضربات القلب، تعرق، رجفان، عصبية، جوع، فقدان الوعي، نوبات أو وفاة. ',\n",
              " 'Jaundice': 'اليرقان (بالإنجليزية: Jaundice)\\u200f، المعروف أيضًا بالصفار، أو الاصفرار، هو تصبغ مصفر أو مخضر للجلد وبياض العين بسبب ارتفاع مستويات البيليروبين اليرقان عند البالغين هو عادة علامة تشير إلى وجود أمراض كامنة تنطوي على استقلاب الهيم غير الطبيعي، ضعف الكبد أو انسداد القناة الصفراوية انتشار اليرقان لدى البالغين أمر نادر الحدوث، في حين أن اليرقان عند الأطفال شائع، حيث يتأثر ما يقدر بنحو 80٪ خلال الأسبوع الأول من حياتهم.',\n",
              " 'Chronic Myelogenous Leukemia': 'ابيضاض الدم النقوي المزمن (Chronic myelogenous leukemia) ، والمعروف أيضًا باسم ابيضاض الدم النخاعي المزمن ، هو أحد أشكال سرطان الدم الذي يتميز بالنمو المتزايد وغير المنظم للخلايا النخاعية في نخاع العظام وتراكم هذه الخلايا في خلايا الدم البيضاء. سرطان الدم النخاعي المزمن هو اضطراب في الخلايا الجذعية لنخاع العظم نسيلي يتم فيه العثور على تكاثر الخلايا الحبيبية الناضجة (neutrophils, eosinophils, basophils) وهو نوع من الأورام التكاثرية النخاعية المرتبطة بنقل كروموسومي مميز يسمى كروموسوم فيلادلفيا.\\nيتم علاج سرطان الدم النخاعي المزمن إلى حد كبير بأدوية موجهة تسمى مثبطات التيروزين كيناز (tyrosine kinase inhibitors) والتي أدت إلى تحسن كبير في معدلات البقاء على قيد الحياة على المدى الطويل منذ عام 2001. ',\n",
              " 'Acute Lymphoblastic Leukemia': 'ابيضاض الدم الليمفاوي الحاد (Acute lymphoblastic leukemia) هو سرطان يصيب الخط اللمفاوي لخلايا الدم ويتميز بتطور أعداد كبيرة من الخلايا الليمفاوية غير الناضجة وقد تشمل الأعراض الشعور بالتعب أو شحوب لون الجلد أو الحمى أو سهولة النزف أو الكدمات أو تضخم الغدد الليمفاوية أو آلام العظام يتطور ابيضاض الدم الحاد (Acute lymphoblastic leukemia) بسرعة ، وعادة ما يكون قاتلاً في غضون أسابيع أو شهور إذا تُرك دون علاج ، وفي معظم الحالات يكون السبب غير معروف. ',\n",
              " 'Prostatic Cancer': 'سرطان البروستاتا هو ثاني أكثر الأورام السرطانية شيوعًا في جميع أنحاء العالم وهو خامس سبب رئيسي للوفيات المرتبطة بالسرطان بين الرجال. البروستاتا هي غدة في الجهاز التناسلي الذكري تحيط بالإحليل أسفل المثانة مباشرةً. معظم سرطانات البروستاتا بطيئة النمو قد تنتشر الخلايا السرطانية إلى مناطق أخرى من الجسم ، وخاصة العظام والغدد الليمفاوية وقد لا تسبب أعراضًا في البداية.. ',\n",
              " 'Normal Anemia': 'يعد فقر الدم الطبيعي من أكثر أشكال فقر الدم شيوعًا. فقر الدم هو حالة لا يوجد فيها ما يكفي من خلايا الدم الحمراء لتوفير الأكسجين الكافي لأعضائك والأنسجة الأخرى ، مع بعض أنواع فقر الدم ، يتغير شكل أو حجم خلايا الدم الحمراء ، مما يساعد الأطباء على تشخيص الحالة. إذا كنت تعاني من فقر الدم الطبيعي ، فإن خلايا الدم الحمراء طبيعية في الشكل والحجم. ومع ذلك ، فإن الحالة تعني أنه لا يزال لديك مستويات كافية من خلايا الدم الحمراء المنتشرة لتلبية احتياجات جسمك. يصاب معظم الناس بفقر الدم السوي الخلوي لأنهم يعانون من مرض مزمن كامن. إنها مشكلة شائعة تحدث للرجال والنساء الذين تزيد أعمارهم عن 85 عامًا.',\n",
              " 'Macrocytic Anemia': 'macrocytic anemia هو فقر الدم (يُعرَّف بأنه الدم الذي يحتوي على تركيز غير كافٍ من الهيموجلوبين) حيث تكون خلايا الدم الحمراء (كرات الدم الحمراء) أكبر من حجمها الطبيعي.\\nفي macrocytic anemia ، ترتبط الخلايا الحمراء الكبيرة دائمًا بعدد غير كافٍ من الخلايا وغالبًا أيضًا محتوى غير كافٍ من الهيموجلوبين لكل خلية يعمل كلا العاملين على التأثير المعاكس لحجم الخلية الأكبر ، مما يؤدي في النهاية إلى تركيز إجمالي للهيموجلوبين في الدم يكون أقل من الطبيعي (أي فقر الدم).\\n.',\n",
              " 'Microcytic Anemia': 'Microcytic Anemia هو أي نوع من أنواع فقر الدم العديدة التي تتميز بوجود خلايا دم حمراء أصغر من الطبيعي (تسمى Microcytic Anemia) متوسط \\u200b\\u200bحجم الجسم العضلي الطبيعي (MCV) هو ما يقرب من 80-100 فلولتر .اقل من 80 فلولتر تكون Microcytic Anemia وعندما> 100 فلولتر ، تكون Macrocytic Anemia (هذا الأخير يحدث في Macrocytic Anemia فقر الدم).',\n",
              " 'Hyperthyroidism': 'فرط نشاط الغدة الدرقية هو حالة تحدث بسبب فرط إفراز هرمونات الغدة الدرقية من الغدة الدرقية. التسمم الدرقي هو الحالة التي تحدث بسبب فرط هرمون الغدة الدرقية لأي سبب ، وبالتالي تشمل فرط نشاط الغدة الدرقية. تختلف العلامات والأعراض بين الأشخاص وقد تشمل التهيج وضعف العضلات والنوم المشاكل وسرعة ضربات القلب وعدم تحمل الحرارة والإسهال وتضخم الغدة الدرقية ورعاش اليد وفقدان الوزن تكون الأعراض عادة أقل حدة عند كبار السن وأثناء الحمل .'}"
            ]
          },
          "metadata": {},
          "execution_count": 69
        }
      ],
      "source": [
        "diseases_description['Hyperthyroidism'] = paragraph_translated\n",
        "diseases_description"
      ]
    },
    {
      "cell_type": "code",
      "execution_count": 69,
      "metadata": {
        "id": "voTfm4rfkcEF"
      },
      "outputs": [],
      "source": []
    },
    {
      "cell_type": "markdown",
      "metadata": {
        "id": "aPJx2QcBnEDo"
      },
      "source": [
        "### Hypothyroid"
      ]
    },
    {
      "cell_type": "code",
      "execution_count": 69,
      "metadata": {
        "id": "ReZH-UGcnEDp"
      },
      "outputs": [],
      "source": []
    },
    {
      "cell_type": "code",
      "execution_count": 70,
      "metadata": {
        "colab": {
          "base_uri": "https://localhost:8080/"
        },
        "id": "KuJ9PAw-nEDq",
        "outputId": "4ef0148d-231a-4483-8ff1-4becb72b035e"
      },
      "outputs": [
        {
          "output_type": "stream",
          "name": "stdout",
          "text": [
            "Page - Exists: True\n"
          ]
        }
      ],
      "source": [
        "wiki_wiki = wikipediaapi.Wikipedia('en')\n",
        "page_py = wiki_wiki.page('Hypothyroid')\n",
        "print(\"Page - Exists: %s\" % page_py.exists())"
      ]
    },
    {
      "cell_type": "code",
      "execution_count": 71,
      "metadata": {
        "colab": {
          "base_uri": "https://localhost:8080/",
          "height": 244
        },
        "id": "x6is7yXXnEDq",
        "outputId": "f4363155-0edf-4a5d-ccc0-58a3e1352d69"
      },
      "outputs": [
        {
          "output_type": "execute_result",
          "data": {
            "text/plain": [
              "\"Hypothyroidism (also called underactive thyroid, low thyroid or hypothyreosis) is a disorder of the endocrine system in which the thyroid gland does not produce enough thyroid hormone. It can cause a number of symptoms, such as poor ability to tolerate cold, a feeling of tiredness, constipation, slow heart rate,  depression, and weight gain. Occasionally there may be swelling of the front part of the neck due to goitre. Untreated cases of hypothyroidism during pregnancy can lead to delays in growth and intellectual development in the baby or congenital iodine deficiency syndrome.Worldwide, too little iodine in the diet is the most common cause of hypothyroidism. Hashimoto's thyroiditis is the most common cause of hypothyroidism in countries with sufficient dietary iodine. Less common causes include previous treatment with radioactive iodine, injury to the hypothalamus or the anterior pituitary gland, certain medications, a lack of a functioning thyroid at birth, or previous thyroid surgery. The diagnosis of hypothyroidism, when suspected, can be confirmed with blood tests measuring thyroid-stimulating hormone (TSH) and thyroxine levels.Salt iodization has prevented hypothyroidism in many populations. Thyroid hormone replacement with levothyroxine treats hypothyroidism. Medical professionals adjust the dose according to symptoms and normalization of the thyroxine and TSH levels. Thyroid medication is safe in pregnancy. Although an adequate amount of dietary iodine is important, too much may worsen specific forms of hypothyroidism.Worldwide about one billion people are estimated to be iodine-deficient; however, it is unknown how often this results in hypothyroidism. In the United States, hypothyroidism occurs in 0.3–0.4% of people. Subclinical hypothyroidism, a milder form of hypothyroidism characterized by normal thyroxine levels and an elevated TSH level, is thought to occur in 4.3–8.5% of people in the United States. Hypothyroidism is more common in women than in men. People over the age of 60 are more commonly affected. Dogs are also known to develop hypothyroidism, as are cats and horses, albeit more rarely. The word hypothyroidism is from  Greek hypo- 'reduced',  thyreos 'shield', and eidos 'form'.\""
            ],
            "application/vnd.google.colaboratory.intrinsic+json": {
              "type": "string"
            }
          },
          "metadata": {},
          "execution_count": 71
        }
      ],
      "source": [
        "page_py.summary"
      ]
    },
    {
      "cell_type": "code",
      "execution_count": 72,
      "metadata": {
        "colab": {
          "base_uri": "https://localhost:8080/"
        },
        "id": "3Gej6_6onEDr",
        "outputId": "01c7f0d2-ba0a-46f1-ca4c-df7c006a4ba3"
      },
      "outputs": [
        {
          "output_type": "execute_result",
          "data": {
            "text/plain": [
              "['Hypothyroidism (also called underactive thyroid, low thyroid or hypothyreosis) is a disorder of the endocrine system in which the thyroid gland does not produce enough thyroid hormone',\n",
              " 'It can cause a number of symptoms, such as poor ability to tolerate cold, a feeling of tiredness, constipation, slow heart rate,  depression, and weight gain',\n",
              " 'Occasionally there may be swelling of the front part of the neck due to goitre',\n",
              " 'Untreated cases of hypothyroidism during pregnancy can lead to delays in growth and intellectual development in the baby or congenital iodine deficiency syndrome.Worldwide, too little iodine in the diet is the most common cause of hypothyroidism',\n",
              " \"Hashimoto's thyroiditis is the most common cause of hypothyroidism in countries with sufficient dietary iodine\"]"
            ]
          },
          "metadata": {},
          "execution_count": 72
        }
      ],
      "source": [
        "paragraph_lists = page_py.summary[:].split('. ')[:5]\n",
        "#paragraph_lists.pop(2)\n",
        "paragraph_lists"
      ]
    },
    {
      "cell_type": "code",
      "execution_count": 73,
      "metadata": {
        "colab": {
          "base_uri": "https://localhost:8080/",
          "height": 191
        },
        "id": "4mysUaPnnEDr",
        "outputId": "109dcf14-b612-432a-c78b-dc6ad8facd78"
      },
      "outputs": [
        {
          "output_type": "execute_result",
          "data": {
            "text/plain": [
              "\"Hypothyroidism (also called underactive thyroid, low thyroid or hypothyreosis) is a disorder of the endocrine system in which the thyroid gland does not produce enough thyroid hormone It can cause a number of symptoms, such as poor ability to tolerate cold, a feeling of tiredness, constipation, slow heart rate,  depression, and weight gain Occasionally there may be swelling of the front part of the neck due to goitre Untreated cases of hypothyroidism during pregnancy can lead to delays in growth and intellectual development in the baby or congenital iodine deficiency syndrome.Worldwide, too little iodine in the diet is the most common cause of hypothyroidism Hashimoto's thyroiditis is the most common cause of hypothyroidism in countries with sufficient dietary iodine\""
            ],
            "application/vnd.google.colaboratory.intrinsic+json": {
              "type": "string"
            }
          },
          "metadata": {},
          "execution_count": 73
        }
      ],
      "source": [
        "paragraph = ' '.join(str(x) for x in paragraph_lists) \n",
        "paragraph"
      ]
    },
    {
      "cell_type": "code",
      "execution_count": 74,
      "metadata": {
        "colab": {
          "base_uri": "https://localhost:8080/",
          "height": 122
        },
        "id": "S63NtefNnEDs",
        "outputId": "c6fa8610-e1f7-491c-ae73-00abfed97ac6"
      },
      "outputs": [
        {
          "output_type": "execute_result",
          "data": {
            "text/plain": [
              "'قصور الغدة الدرقية (يسمى أيضًا خمول الغدة الدرقية أو انخفاض الغدة الدرقية أو قصور الغدة الدرقية) هو اضطراب في نظام الغدد الصماء حيث لا تنتج الغدة الدرقية ما يكفي من هرمون الغدة الدرقية.يمكن أن يسبب عددًا من الأعراض ، مثل ضعف القدرة على تحمل البرد والشعور بالتعب ، والإمساك ، وبطء معدل ضربات القلب ، والاكتئاب ، وزيادة الوزن في بعض الأحيان قد يكون هناك تورم في الجزء الأمامي من الرقبة بسبب تضخم الغدة الدرقية. في جميع أنحاء العالم ، يعتبر نقص اليود في النظام الغذائي هو السبب الأكثر شيوعًا لقصور الغدة الدرقية. يعد التهاب الغدة الدرقية هاشيموتو هو السبب الأكثر شيوعًا لقصور الغدة الدرقية في البلدان التي تحتوي على كمية كافية من اليود. .'"
            ],
            "application/vnd.google.colaboratory.intrinsic+json": {
              "type": "string"
            }
          },
          "metadata": {},
          "execution_count": 74
        }
      ],
      "source": [
        "from deep_translator import GoogleTranslator\n",
        "paragraph_translated = GoogleTranslator(source='en', target='ar').translate(paragraph)\n",
        "paragraph_translated = paragraph_translated + ' .'\n",
        "paragraph_translated"
      ]
    },
    {
      "cell_type": "code",
      "execution_count": 75,
      "metadata": {
        "colab": {
          "base_uri": "https://localhost:8080/"
        },
        "id": "k5_C50P0nEDs",
        "outputId": "eaa14f1b-d7cc-483b-c1e1-341edc7ecd0d"
      },
      "outputs": [
        {
          "output_type": "execute_result",
          "data": {
            "text/plain": [
              "{'Diabetes': 'مرض السكري ، المعروف أيضًا باسم داء السكري ، هو مجموعة من أمراض الغدد الصماء الشائعة التي تتميز بارتفاع مستمر في مستويات السكر في الدم. يؤدي تركه دون علاج إلى العديد من المضاعفات الصحية. ',\n",
              " 'Prediabetes': 'مقدمات السكري هي أحد مكونات متلازمة التمثيل الغذائي وتتميز بارتفاع مستويات السكر في الدم التي تقل عن الحد الأدنى لتشخيص داء السكري.عادة لا تسبب أعراضًا ولكن الأشخاص الذين يعانون من مقدمات السكري غالبًا ما يعانون من السمنة (خاصة السمنة البطنية أو الحشوية) ، اضطراب شحميات الدم مع ارتفاع الدهون الثلاثية و / أو انخفاض نسبة الكوليسترول الحميد ، وارتفاع ضغط الدم ، كما أنه يرتبط بزيادة مخاطر الإصابة بأمراض القلب والأوعية الدموية  .',\n",
              " 'Hypoglycemia': 'نقص سكر الدم، ويسمى أيضًا هبوط سكر الدم، هو انخفاض في نسبة السكر في الدم إلى مستويات أقل من المعتاد، عادة ما تكون أقل من 70 ملغ/ديسيلتر (3.9 مليمول/لتر) يستخدم ثالوث ويبل لتحديد نوبات نقص السكر في الدم بشكل صحيح يتم تعريفه على أنه جلوكوز الدم أقل من 70 ملغ/ديسيلتر (3.9 مليمول/لتر)، قد يؤدي نقص السكر في الدم إلى صداع، تعب، خراقة، صعوبة التحدث، ارتباك، تسارع معدل ضربات القلب، تعرق، رجفان، عصبية، جوع، فقدان الوعي، نوبات أو وفاة. ',\n",
              " 'Jaundice': 'اليرقان (بالإنجليزية: Jaundice)\\u200f، المعروف أيضًا بالصفار، أو الاصفرار، هو تصبغ مصفر أو مخضر للجلد وبياض العين بسبب ارتفاع مستويات البيليروبين اليرقان عند البالغين هو عادة علامة تشير إلى وجود أمراض كامنة تنطوي على استقلاب الهيم غير الطبيعي، ضعف الكبد أو انسداد القناة الصفراوية انتشار اليرقان لدى البالغين أمر نادر الحدوث، في حين أن اليرقان عند الأطفال شائع، حيث يتأثر ما يقدر بنحو 80٪ خلال الأسبوع الأول من حياتهم.',\n",
              " 'Chronic Myelogenous Leukemia': 'ابيضاض الدم النقوي المزمن (Chronic myelogenous leukemia) ، والمعروف أيضًا باسم ابيضاض الدم النخاعي المزمن ، هو أحد أشكال سرطان الدم الذي يتميز بالنمو المتزايد وغير المنظم للخلايا النخاعية في نخاع العظام وتراكم هذه الخلايا في خلايا الدم البيضاء. سرطان الدم النخاعي المزمن هو اضطراب في الخلايا الجذعية لنخاع العظم نسيلي يتم فيه العثور على تكاثر الخلايا الحبيبية الناضجة (neutrophils, eosinophils, basophils) وهو نوع من الأورام التكاثرية النخاعية المرتبطة بنقل كروموسومي مميز يسمى كروموسوم فيلادلفيا.\\nيتم علاج سرطان الدم النخاعي المزمن إلى حد كبير بأدوية موجهة تسمى مثبطات التيروزين كيناز (tyrosine kinase inhibitors) والتي أدت إلى تحسن كبير في معدلات البقاء على قيد الحياة على المدى الطويل منذ عام 2001. ',\n",
              " 'Acute Lymphoblastic Leukemia': 'ابيضاض الدم الليمفاوي الحاد (Acute lymphoblastic leukemia) هو سرطان يصيب الخط اللمفاوي لخلايا الدم ويتميز بتطور أعداد كبيرة من الخلايا الليمفاوية غير الناضجة وقد تشمل الأعراض الشعور بالتعب أو شحوب لون الجلد أو الحمى أو سهولة النزف أو الكدمات أو تضخم الغدد الليمفاوية أو آلام العظام يتطور ابيضاض الدم الحاد (Acute lymphoblastic leukemia) بسرعة ، وعادة ما يكون قاتلاً في غضون أسابيع أو شهور إذا تُرك دون علاج ، وفي معظم الحالات يكون السبب غير معروف. ',\n",
              " 'Prostatic Cancer': 'سرطان البروستاتا هو ثاني أكثر الأورام السرطانية شيوعًا في جميع أنحاء العالم وهو خامس سبب رئيسي للوفيات المرتبطة بالسرطان بين الرجال. البروستاتا هي غدة في الجهاز التناسلي الذكري تحيط بالإحليل أسفل المثانة مباشرةً. معظم سرطانات البروستاتا بطيئة النمو قد تنتشر الخلايا السرطانية إلى مناطق أخرى من الجسم ، وخاصة العظام والغدد الليمفاوية وقد لا تسبب أعراضًا في البداية.. ',\n",
              " 'Normal Anemia': 'يعد فقر الدم الطبيعي من أكثر أشكال فقر الدم شيوعًا. فقر الدم هو حالة لا يوجد فيها ما يكفي من خلايا الدم الحمراء لتوفير الأكسجين الكافي لأعضائك والأنسجة الأخرى ، مع بعض أنواع فقر الدم ، يتغير شكل أو حجم خلايا الدم الحمراء ، مما يساعد الأطباء على تشخيص الحالة. إذا كنت تعاني من فقر الدم الطبيعي ، فإن خلايا الدم الحمراء طبيعية في الشكل والحجم. ومع ذلك ، فإن الحالة تعني أنه لا يزال لديك مستويات كافية من خلايا الدم الحمراء المنتشرة لتلبية احتياجات جسمك. يصاب معظم الناس بفقر الدم السوي الخلوي لأنهم يعانون من مرض مزمن كامن. إنها مشكلة شائعة تحدث للرجال والنساء الذين تزيد أعمارهم عن 85 عامًا.',\n",
              " 'Macrocytic Anemia': 'macrocytic anemia هو فقر الدم (يُعرَّف بأنه الدم الذي يحتوي على تركيز غير كافٍ من الهيموجلوبين) حيث تكون خلايا الدم الحمراء (كرات الدم الحمراء) أكبر من حجمها الطبيعي.\\nفي macrocytic anemia ، ترتبط الخلايا الحمراء الكبيرة دائمًا بعدد غير كافٍ من الخلايا وغالبًا أيضًا محتوى غير كافٍ من الهيموجلوبين لكل خلية يعمل كلا العاملين على التأثير المعاكس لحجم الخلية الأكبر ، مما يؤدي في النهاية إلى تركيز إجمالي للهيموجلوبين في الدم يكون أقل من الطبيعي (أي فقر الدم).\\n.',\n",
              " 'Microcytic Anemia': 'Microcytic Anemia هو أي نوع من أنواع فقر الدم العديدة التي تتميز بوجود خلايا دم حمراء أصغر من الطبيعي (تسمى Microcytic Anemia) متوسط \\u200b\\u200bحجم الجسم العضلي الطبيعي (MCV) هو ما يقرب من 80-100 فلولتر .اقل من 80 فلولتر تكون Microcytic Anemia وعندما> 100 فلولتر ، تكون Macrocytic Anemia (هذا الأخير يحدث في Macrocytic Anemia فقر الدم).',\n",
              " 'Hyperthyroidism': 'فرط نشاط الغدة الدرقية هو حالة تحدث بسبب فرط إفراز هرمونات الغدة الدرقية من الغدة الدرقية. التسمم الدرقي هو الحالة التي تحدث بسبب فرط هرمون الغدة الدرقية لأي سبب ، وبالتالي تشمل فرط نشاط الغدة الدرقية. تختلف العلامات والأعراض بين الأشخاص وقد تشمل التهيج وضعف العضلات والنوم المشاكل وسرعة ضربات القلب وعدم تحمل الحرارة والإسهال وتضخم الغدة الدرقية ورعاش اليد وفقدان الوزن تكون الأعراض عادة أقل حدة عند كبار السن وأثناء الحمل .',\n",
              " 'Hypothyroidism': 'قصور الغدة الدرقية (يسمى أيضًا خمول الغدة الدرقية أو انخفاض الغدة الدرقية أو قصور الغدة الدرقية) هو اضطراب في نظام الغدد الصماء حيث لا تنتج الغدة الدرقية ما يكفي من هرمون الغدة الدرقية.يمكن أن يسبب عددًا من الأعراض ، مثل ضعف القدرة على تحمل البرد والشعور بالتعب ، والإمساك ، وبطء معدل ضربات القلب ، والاكتئاب ، وزيادة الوزن في بعض الأحيان قد يكون هناك تورم في الجزء الأمامي من الرقبة بسبب تضخم الغدة الدرقية. في جميع أنحاء العالم ، يعتبر نقص اليود في النظام الغذائي هو السبب الأكثر شيوعًا لقصور الغدة الدرقية. يعد التهاب الغدة الدرقية هاشيموتو هو السبب الأكثر شيوعًا لقصور الغدة الدرقية في البلدان التي تحتوي على كمية كافية من اليود. .'}"
            ]
          },
          "metadata": {},
          "execution_count": 75
        }
      ],
      "source": [
        "diseases_description['Hypothyroidism'] = paragraph_translated\n",
        "diseases_description"
      ]
    },
    {
      "cell_type": "markdown",
      "metadata": {
        "id": "9AepPCE24bvA"
      },
      "source": [
        "## Rheumatoid Arthritis"
      ]
    },
    {
      "cell_type": "code",
      "execution_count": 76,
      "metadata": {
        "colab": {
          "base_uri": "https://localhost:8080/"
        },
        "id": "4oxKIzZV5DF8",
        "outputId": "4d686dc4-f8b9-4871-dc94-2599d11e6dfe"
      },
      "outputs": [
        {
          "output_type": "stream",
          "name": "stdout",
          "text": [
            "Page - Exists: True\n"
          ]
        }
      ],
      "source": [
        "wiki_wiki = wikipediaapi.Wikipedia('en')\n",
        "page_py = wiki_wiki.page('Rheumatoid Arthritis')\n",
        "print(\"Page - Exists: %s\" % page_py.exists())"
      ]
    },
    {
      "cell_type": "code",
      "execution_count": 77,
      "metadata": {
        "colab": {
          "base_uri": "https://localhost:8080/",
          "height": 244
        },
        "id": "R_3nh-im5DGb",
        "outputId": "076f1404-2d19-4509-aebd-f3efcd772815"
      },
      "outputs": [
        {
          "output_type": "execute_result",
          "data": {
            "text/plain": [
              "\"Rheumatoid arthritis (RA) is a long-term autoimmune disorder that primarily affects joints. It typically results in warm, swollen, and painful joints. Pain and stiffness often worsen following rest. Most commonly, the wrist and hands are involved, with the same joints typically involved on both sides of the body. The disease may also affect other parts of the body, including skin, eyes, lungs, heart, nerves and blood. This may result in a low red blood cell count, inflammation around the lungs, and inflammation around the heart. Fever and low energy may also be present. Often, symptoms come on gradually over weeks to months.While the cause of rheumatoid arthritis is not clear, it is believed to involve a combination of genetic and environmental factors. The underlying mechanism involves the body's immune system attacking the joints. This results in inflammation and thickening of the joint capsule. It also affects the underlying bone and cartilage. The diagnosis is made mostly on the basis of a person's signs and symptoms. X-rays and laboratory testing may support a diagnosis or exclude other diseases with similar symptoms. Other diseases that may present similarly include systemic lupus erythematosus, psoriatic arthritis, and fibromyalgia among others.The goals of treatment are to reduce pain, decrease inflammation, and improve a person's overall functioning. This may be helped by balancing rest and exercise, the use of splints and braces, or the use of assistive devices. Pain medications, steroids, and NSAIDs are frequently used to help with symptoms. Disease-modifying antirheumatic drugs (DMARDs), such as hydroxychloroquine and methotrexate, may be used to try to slow the progression of disease. Biological DMARDs may be used when the disease does not respond to other treatments. However, they may have a greater rate of adverse effects. Surgery to repair, replace, or fuse joints may help in certain situations.RA affects about 24.5 million people as of 2015. This is between 0.5 and 1% of adults in the developed world with between 5 and 50 per 100,000 people newly developing the condition each year. Onset is most frequent during middle age and women are affected 2.5 times as frequently as men. It resulted in 38,000 deaths in 2013, up from 28,000 deaths in 1990. The first recognized description of RA was made in 1800 by Dr. Augustin Jacob Landré-Beauvais (1772–1840) of Paris. The term rheumatoid arthritis is based on the Greek for watery and inflamed joints.\""
            ],
            "application/vnd.google.colaboratory.intrinsic+json": {
              "type": "string"
            }
          },
          "metadata": {},
          "execution_count": 77
        }
      ],
      "source": [
        "page_py.summary"
      ]
    },
    {
      "cell_type": "code",
      "execution_count": 78,
      "metadata": {
        "id": "UiFtx9E75DGb"
      },
      "outputs": [],
      "source": [
        "paragraph_lists = page_py.summary[:].split('. ')[:6]"
      ]
    },
    {
      "cell_type": "code",
      "execution_count": 79,
      "metadata": {
        "colab": {
          "base_uri": "https://localhost:8080/",
          "height": 139
        },
        "id": "KUDN_VJe5DGc",
        "outputId": "3b50ea64-7cba-4338-d32c-666e097e3ce7"
      },
      "outputs": [
        {
          "output_type": "execute_result",
          "data": {
            "text/plain": [
              "'Rheumatoid arthritis (RA) is a long-term autoimmune disorder that primarily affects joints It typically results in  swollen, and painful joints Pain and stiffness often worsen following rest Most commonly, the wrist and hands are involved, with the same joints typically involved on both sides of the body The disease may also affect other parts of the body, including skin, eyes, lungs, heart, nerves and blood This may result in a low red blood cell count, inflammation around the lungs, and inflammation around the heart'"
            ],
            "application/vnd.google.colaboratory.intrinsic+json": {
              "type": "string"
            }
          },
          "metadata": {},
          "execution_count": 79
        }
      ],
      "source": [
        "paragraph = ' '.join(str(x) for x in paragraph_lists) \n",
        "paragraph = paragraph.replace('warm,','')\n",
        "paragraph"
      ]
    },
    {
      "cell_type": "code",
      "execution_count": 80,
      "metadata": {
        "colab": {
          "base_uri": "https://localhost:8080/",
          "height": 87
        },
        "id": "kNqiCQ_N5DGc",
        "outputId": "5f8032cf-4af1-433b-f11b-aa5347619d66"
      },
      "outputs": [
        {
          "output_type": "execute_result",
          "data": {
            "text/plain": [
              "'التهاب المفاصل الروماتويدي (Rheumatoid Arthritis) هو اضطراب مناعي طويل الأمد يؤثر بشكل أساسي على المفاصل ، وعادة ما ينتج عنه تورم وألم في المفاصل. جوانب الجسم قد يؤثر المرض أيضًا على أجزاء أخرى من الجسم ، بما في ذلك الجلد والعينين والرئتين والقلب والأعصاب والدم ، وقد يؤدي ذلك إلى انخفاض عدد خلايا الدم الحمراء والتهاب حول الرئتين والتهاب حول القلب.'"
            ],
            "application/vnd.google.colaboratory.intrinsic+json": {
              "type": "string"
            }
          },
          "metadata": {},
          "execution_count": 80
        }
      ],
      "source": [
        "from deep_translator import GoogleTranslator\n",
        "paragraph_translated = GoogleTranslator(source='en', target='ar').translate(paragraph)\n",
        "paragraph_translated =  paragraph_translated.replace('RA','Rheumatoid Arthritis')\n",
        "paragraph_translated"
      ]
    },
    {
      "cell_type": "code",
      "execution_count": 81,
      "metadata": {
        "colab": {
          "base_uri": "https://localhost:8080/"
        },
        "id": "aUK_CRy-5DGd",
        "outputId": "bf8a3c85-c522-45b7-ad51-637a7a9f5c5d"
      },
      "outputs": [
        {
          "output_type": "execute_result",
          "data": {
            "text/plain": [
              "{'Diabetes': 'مرض السكري ، المعروف أيضًا باسم داء السكري ، هو مجموعة من أمراض الغدد الصماء الشائعة التي تتميز بارتفاع مستمر في مستويات السكر في الدم. يؤدي تركه دون علاج إلى العديد من المضاعفات الصحية. ',\n",
              " 'Prediabetes': 'مقدمات السكري هي أحد مكونات متلازمة التمثيل الغذائي وتتميز بارتفاع مستويات السكر في الدم التي تقل عن الحد الأدنى لتشخيص داء السكري.عادة لا تسبب أعراضًا ولكن الأشخاص الذين يعانون من مقدمات السكري غالبًا ما يعانون من السمنة (خاصة السمنة البطنية أو الحشوية) ، اضطراب شحميات الدم مع ارتفاع الدهون الثلاثية و / أو انخفاض نسبة الكوليسترول الحميد ، وارتفاع ضغط الدم ، كما أنه يرتبط بزيادة مخاطر الإصابة بأمراض القلب والأوعية الدموية  .',\n",
              " 'Hypoglycemia': 'نقص سكر الدم، ويسمى أيضًا هبوط سكر الدم، هو انخفاض في نسبة السكر في الدم إلى مستويات أقل من المعتاد، عادة ما تكون أقل من 70 ملغ/ديسيلتر (3.9 مليمول/لتر) يستخدم ثالوث ويبل لتحديد نوبات نقص السكر في الدم بشكل صحيح يتم تعريفه على أنه جلوكوز الدم أقل من 70 ملغ/ديسيلتر (3.9 مليمول/لتر)، قد يؤدي نقص السكر في الدم إلى صداع، تعب، خراقة، صعوبة التحدث، ارتباك، تسارع معدل ضربات القلب، تعرق، رجفان، عصبية، جوع، فقدان الوعي، نوبات أو وفاة. ',\n",
              " 'Jaundice': 'اليرقان (بالإنجليزية: Jaundice)\\u200f، المعروف أيضًا بالصفار، أو الاصفرار، هو تصبغ مصفر أو مخضر للجلد وبياض العين بسبب ارتفاع مستويات البيليروبين اليرقان عند البالغين هو عادة علامة تشير إلى وجود أمراض كامنة تنطوي على استقلاب الهيم غير الطبيعي، ضعف الكبد أو انسداد القناة الصفراوية انتشار اليرقان لدى البالغين أمر نادر الحدوث، في حين أن اليرقان عند الأطفال شائع، حيث يتأثر ما يقدر بنحو 80٪ خلال الأسبوع الأول من حياتهم.',\n",
              " 'Chronic Myelogenous Leukemia': 'ابيضاض الدم النقوي المزمن (Chronic myelogenous leukemia) ، والمعروف أيضًا باسم ابيضاض الدم النخاعي المزمن ، هو أحد أشكال سرطان الدم الذي يتميز بالنمو المتزايد وغير المنظم للخلايا النخاعية في نخاع العظام وتراكم هذه الخلايا في خلايا الدم البيضاء. سرطان الدم النخاعي المزمن هو اضطراب في الخلايا الجذعية لنخاع العظم نسيلي يتم فيه العثور على تكاثر الخلايا الحبيبية الناضجة (neutrophils, eosinophils, basophils) وهو نوع من الأورام التكاثرية النخاعية المرتبطة بنقل كروموسومي مميز يسمى كروموسوم فيلادلفيا.\\nيتم علاج سرطان الدم النخاعي المزمن إلى حد كبير بأدوية موجهة تسمى مثبطات التيروزين كيناز (tyrosine kinase inhibitors) والتي أدت إلى تحسن كبير في معدلات البقاء على قيد الحياة على المدى الطويل منذ عام 2001. ',\n",
              " 'Acute Lymphoblastic Leukemia': 'ابيضاض الدم الليمفاوي الحاد (Acute lymphoblastic leukemia) هو سرطان يصيب الخط اللمفاوي لخلايا الدم ويتميز بتطور أعداد كبيرة من الخلايا الليمفاوية غير الناضجة وقد تشمل الأعراض الشعور بالتعب أو شحوب لون الجلد أو الحمى أو سهولة النزف أو الكدمات أو تضخم الغدد الليمفاوية أو آلام العظام يتطور ابيضاض الدم الحاد (Acute lymphoblastic leukemia) بسرعة ، وعادة ما يكون قاتلاً في غضون أسابيع أو شهور إذا تُرك دون علاج ، وفي معظم الحالات يكون السبب غير معروف. ',\n",
              " 'Prostatic Cancer': 'سرطان البروستاتا هو ثاني أكثر الأورام السرطانية شيوعًا في جميع أنحاء العالم وهو خامس سبب رئيسي للوفيات المرتبطة بالسرطان بين الرجال. البروستاتا هي غدة في الجهاز التناسلي الذكري تحيط بالإحليل أسفل المثانة مباشرةً. معظم سرطانات البروستاتا بطيئة النمو قد تنتشر الخلايا السرطانية إلى مناطق أخرى من الجسم ، وخاصة العظام والغدد الليمفاوية وقد لا تسبب أعراضًا في البداية.. ',\n",
              " 'Normal Anemia': 'يعد فقر الدم الطبيعي من أكثر أشكال فقر الدم شيوعًا. فقر الدم هو حالة لا يوجد فيها ما يكفي من خلايا الدم الحمراء لتوفير الأكسجين الكافي لأعضائك والأنسجة الأخرى ، مع بعض أنواع فقر الدم ، يتغير شكل أو حجم خلايا الدم الحمراء ، مما يساعد الأطباء على تشخيص الحالة. إذا كنت تعاني من فقر الدم الطبيعي ، فإن خلايا الدم الحمراء طبيعية في الشكل والحجم. ومع ذلك ، فإن الحالة تعني أنه لا يزال لديك مستويات كافية من خلايا الدم الحمراء المنتشرة لتلبية احتياجات جسمك. يصاب معظم الناس بفقر الدم السوي الخلوي لأنهم يعانون من مرض مزمن كامن. إنها مشكلة شائعة تحدث للرجال والنساء الذين تزيد أعمارهم عن 85 عامًا.',\n",
              " 'Macrocytic Anemia': 'macrocytic anemia هو فقر الدم (يُعرَّف بأنه الدم الذي يحتوي على تركيز غير كافٍ من الهيموجلوبين) حيث تكون خلايا الدم الحمراء (كرات الدم الحمراء) أكبر من حجمها الطبيعي.\\nفي macrocytic anemia ، ترتبط الخلايا الحمراء الكبيرة دائمًا بعدد غير كافٍ من الخلايا وغالبًا أيضًا محتوى غير كافٍ من الهيموجلوبين لكل خلية يعمل كلا العاملين على التأثير المعاكس لحجم الخلية الأكبر ، مما يؤدي في النهاية إلى تركيز إجمالي للهيموجلوبين في الدم يكون أقل من الطبيعي (أي فقر الدم).\\n.',\n",
              " 'Microcytic Anemia': 'Microcytic Anemia هو أي نوع من أنواع فقر الدم العديدة التي تتميز بوجود خلايا دم حمراء أصغر من الطبيعي (تسمى Microcytic Anemia) متوسط \\u200b\\u200bحجم الجسم العضلي الطبيعي (MCV) هو ما يقرب من 80-100 فلولتر .اقل من 80 فلولتر تكون Microcytic Anemia وعندما> 100 فلولتر ، تكون Macrocytic Anemia (هذا الأخير يحدث في Macrocytic Anemia فقر الدم).',\n",
              " 'Hyperthyroidism': 'فرط نشاط الغدة الدرقية هو حالة تحدث بسبب فرط إفراز هرمونات الغدة الدرقية من الغدة الدرقية. التسمم الدرقي هو الحالة التي تحدث بسبب فرط هرمون الغدة الدرقية لأي سبب ، وبالتالي تشمل فرط نشاط الغدة الدرقية. تختلف العلامات والأعراض بين الأشخاص وقد تشمل التهيج وضعف العضلات والنوم المشاكل وسرعة ضربات القلب وعدم تحمل الحرارة والإسهال وتضخم الغدة الدرقية ورعاش اليد وفقدان الوزن تكون الأعراض عادة أقل حدة عند كبار السن وأثناء الحمل .',\n",
              " 'Hypothyroidism': 'قصور الغدة الدرقية (يسمى أيضًا خمول الغدة الدرقية أو انخفاض الغدة الدرقية أو قصور الغدة الدرقية) هو اضطراب في نظام الغدد الصماء حيث لا تنتج الغدة الدرقية ما يكفي من هرمون الغدة الدرقية.يمكن أن يسبب عددًا من الأعراض ، مثل ضعف القدرة على تحمل البرد والشعور بالتعب ، والإمساك ، وبطء معدل ضربات القلب ، والاكتئاب ، وزيادة الوزن في بعض الأحيان قد يكون هناك تورم في الجزء الأمامي من الرقبة بسبب تضخم الغدة الدرقية. في جميع أنحاء العالم ، يعتبر نقص اليود في النظام الغذائي هو السبب الأكثر شيوعًا لقصور الغدة الدرقية. يعد التهاب الغدة الدرقية هاشيموتو هو السبب الأكثر شيوعًا لقصور الغدة الدرقية في البلدان التي تحتوي على كمية كافية من اليود. .',\n",
              " 'Rheumatoid Arthritis': 'التهاب المفاصل الروماتويدي (Rheumatoid Arthritis) هو اضطراب مناعي طويل الأمد يؤثر بشكل أساسي على المفاصل ، وعادة ما ينتج عنه تورم وألم في المفاصل. جوانب الجسم قد يؤثر المرض أيضًا على أجزاء أخرى من الجسم ، بما في ذلك الجلد والعينين والرئتين والقلب والأعصاب والدم ، وقد يؤدي ذلك إلى انخفاض عدد خلايا الدم الحمراء والتهاب حول الرئتين والتهاب حول القلب.'}"
            ]
          },
          "metadata": {},
          "execution_count": 81
        }
      ],
      "source": [
        "diseases_description['Rheumatoid Arthritis'] = paragraph_translated\n",
        "diseases_description"
      ]
    },
    {
      "cell_type": "markdown",
      "metadata": {
        "id": "4ill7p1Z7dgP"
      },
      "source": [
        "## Gout"
      ]
    },
    {
      "cell_type": "markdown",
      "metadata": {
        "id": "6hl_UdGg7gdC"
      },
      "source": [
        "### Hyperuricemia"
      ]
    },
    {
      "cell_type": "code",
      "execution_count": 82,
      "metadata": {
        "colab": {
          "base_uri": "https://localhost:8080/"
        },
        "id": "jPVqgVf27y1I",
        "outputId": "613d064a-7879-459a-dfad-10f1446781fa"
      },
      "outputs": [
        {
          "output_type": "stream",
          "name": "stdout",
          "text": [
            "Page - Exists: True\n"
          ]
        }
      ],
      "source": [
        "wiki_wiki = wikipediaapi.Wikipedia('en')\n",
        "page_py = wiki_wiki.page('Hyperuricemia')\n",
        "print(\"Page - Exists: %s\" % page_py.exists())"
      ]
    },
    {
      "cell_type": "code",
      "execution_count": 83,
      "metadata": {
        "colab": {
          "base_uri": "https://localhost:8080/",
          "height": 191
        },
        "id": "UJypHC1q7y1r",
        "outputId": "d3774f13-92c3-4849-e242-2bd095899d3f"
      },
      "outputs": [
        {
          "output_type": "execute_result",
          "data": {
            "text/plain": [
              "'Hyperuricaemia or hyperuricemia is an abnormally high level of uric acid in the blood. In the pH conditions of body fluid, uric acid exists largely as urate, the ion form. Serum uric acid concentrations greater than 6 mg/dL for females, 7 mg/dL for men, and 5.5 mg/dL for youth (under 18 years old) are defined as hyperuricemia. The amount of urate in the body depends on the balance between the amount of purines eaten in food, the amount of urate synthesised within the body (e.g., through cell turnover), and the amount of urate that is excreted in urine or through the gastrointestinal tract. Hyperuricemia may be the result of increased production of uric acid, decreased excretion of uric acid, or both increased production and reduced excretion.'"
            ],
            "application/vnd.google.colaboratory.intrinsic+json": {
              "type": "string"
            }
          },
          "metadata": {},
          "execution_count": 83
        }
      ],
      "source": [
        "page_py.summary"
      ]
    },
    {
      "cell_type": "code",
      "execution_count": 84,
      "metadata": {
        "id": "l5_Qt_Ld7y1r"
      },
      "outputs": [],
      "source": [
        "paragraph_lists = page_py.summary[:].split('. ')[:6]"
      ]
    },
    {
      "cell_type": "code",
      "execution_count": 85,
      "metadata": {
        "colab": {
          "base_uri": "https://localhost:8080/",
          "height": 191
        },
        "id": "-ZxxEoCR7y1s",
        "outputId": "dfc8492a-22c6-447d-da21-1a05e5bc66ab"
      },
      "outputs": [
        {
          "output_type": "execute_result",
          "data": {
            "text/plain": [
              "'Hyperuricaemia or hyperuricemia is an abnormally high level of uric acid in the blood In the pH conditions of body fluid, uric acid exists largely as urate, the ion form Serum uric acid concentrations greater than 6 mg/dL for females, 7 mg/dL for men, and 5.5 mg/dL for youth (under 18 years old) are defined as hyperuricemia The amount of urate in the body depends on the balance between the amount of purines eaten in food, the amount of urate synthesised within the body (e.g., through cell turnover), and the amount of urate that is excreted in urine or through the gastrointestinal tract Hyperuricemia may be the result of increased production of uric acid, decreased excretion of uric acid, or both increased production and reduced excretion.'"
            ],
            "application/vnd.google.colaboratory.intrinsic+json": {
              "type": "string"
            }
          },
          "metadata": {},
          "execution_count": 85
        }
      ],
      "source": [
        "paragraph = ' '.join(str(x) for x in paragraph_lists) \n",
        "paragraph"
      ]
    },
    {
      "cell_type": "code",
      "execution_count": 86,
      "metadata": {
        "colab": {
          "base_uri": "https://localhost:8080/",
          "height": 122
        },
        "id": "RH_wlAj77y1s",
        "outputId": "2c1aa9a3-3772-40a1-e19c-64ead8d6669b"
      },
      "outputs": [
        {
          "output_type": "execute_result",
          "data": {
            "text/plain": [
              "'فرط حمض يوريك الدم  (Hyperuricemia) هو مستوى مرتفع بشكل غير طبيعي من حمض اليوريك في الدم في ظروف الأس الهيدروجيني لسوائل الجسم ، يتواجد حمض اليوريك إلى حد كبير مثل اليورات ، ويتكون حمض اليوريك من مصل الدم بتركيزات أكبر من 6 مجم / ديسيلتر للإناث ، 7 مجم / ديسيلتر للإناث يُعرَّف الرجال ، و 5.5 مجم / ديسيلتر للشباب (أقل من 18 عامًا) على أنها فرط حمض يوريك الدم. تعتمد كمية اليورات في الجسم على التوازن بين كمية البيورينات التي يتم تناولها في الطعام ، وكمية اليورات التي يتم تصنيعها داخل الجسم (على سبيل المثال ، من خلال دوران الخلايا) ، وكمية اليورات التي تفرز في البول أو من خلال الجهاز الهضمي.'"
            ],
            "application/vnd.google.colaboratory.intrinsic+json": {
              "type": "string"
            }
          },
          "metadata": {},
          "execution_count": 86
        }
      ],
      "source": [
        "from deep_translator import GoogleTranslator\n",
        "paragraph_translated = GoogleTranslator(source='en', target='ar').translate(paragraph)\n",
        "paragraph_translated =  paragraph_translated.replace('أو فرط حمض يوريك الدم ',' (Hyperuricemia) ')\n",
        "paragraph_translated"
      ]
    },
    {
      "cell_type": "code",
      "execution_count": 87,
      "metadata": {
        "colab": {
          "base_uri": "https://localhost:8080/"
        },
        "id": "Aij4qQOl7y1t",
        "outputId": "fb722171-4efe-4433-8b4f-0a243f2cb0c7"
      },
      "outputs": [
        {
          "output_type": "execute_result",
          "data": {
            "text/plain": [
              "{'Diabetes': 'مرض السكري ، المعروف أيضًا باسم داء السكري ، هو مجموعة من أمراض الغدد الصماء الشائعة التي تتميز بارتفاع مستمر في مستويات السكر في الدم. يؤدي تركه دون علاج إلى العديد من المضاعفات الصحية. ',\n",
              " 'Prediabetes': 'مقدمات السكري هي أحد مكونات متلازمة التمثيل الغذائي وتتميز بارتفاع مستويات السكر في الدم التي تقل عن الحد الأدنى لتشخيص داء السكري.عادة لا تسبب أعراضًا ولكن الأشخاص الذين يعانون من مقدمات السكري غالبًا ما يعانون من السمنة (خاصة السمنة البطنية أو الحشوية) ، اضطراب شحميات الدم مع ارتفاع الدهون الثلاثية و / أو انخفاض نسبة الكوليسترول الحميد ، وارتفاع ضغط الدم ، كما أنه يرتبط بزيادة مخاطر الإصابة بأمراض القلب والأوعية الدموية  .',\n",
              " 'Hypoglycemia': 'نقص سكر الدم، ويسمى أيضًا هبوط سكر الدم، هو انخفاض في نسبة السكر في الدم إلى مستويات أقل من المعتاد، عادة ما تكون أقل من 70 ملغ/ديسيلتر (3.9 مليمول/لتر) يستخدم ثالوث ويبل لتحديد نوبات نقص السكر في الدم بشكل صحيح يتم تعريفه على أنه جلوكوز الدم أقل من 70 ملغ/ديسيلتر (3.9 مليمول/لتر)، قد يؤدي نقص السكر في الدم إلى صداع، تعب، خراقة، صعوبة التحدث، ارتباك، تسارع معدل ضربات القلب، تعرق، رجفان، عصبية، جوع، فقدان الوعي، نوبات أو وفاة. ',\n",
              " 'Jaundice': 'اليرقان (بالإنجليزية: Jaundice)\\u200f، المعروف أيضًا بالصفار، أو الاصفرار، هو تصبغ مصفر أو مخضر للجلد وبياض العين بسبب ارتفاع مستويات البيليروبين اليرقان عند البالغين هو عادة علامة تشير إلى وجود أمراض كامنة تنطوي على استقلاب الهيم غير الطبيعي، ضعف الكبد أو انسداد القناة الصفراوية انتشار اليرقان لدى البالغين أمر نادر الحدوث، في حين أن اليرقان عند الأطفال شائع، حيث يتأثر ما يقدر بنحو 80٪ خلال الأسبوع الأول من حياتهم.',\n",
              " 'Chronic Myelogenous Leukemia': 'ابيضاض الدم النقوي المزمن (Chronic myelogenous leukemia) ، والمعروف أيضًا باسم ابيضاض الدم النخاعي المزمن ، هو أحد أشكال سرطان الدم الذي يتميز بالنمو المتزايد وغير المنظم للخلايا النخاعية في نخاع العظام وتراكم هذه الخلايا في خلايا الدم البيضاء. سرطان الدم النخاعي المزمن هو اضطراب في الخلايا الجذعية لنخاع العظم نسيلي يتم فيه العثور على تكاثر الخلايا الحبيبية الناضجة (neutrophils, eosinophils, basophils) وهو نوع من الأورام التكاثرية النخاعية المرتبطة بنقل كروموسومي مميز يسمى كروموسوم فيلادلفيا.\\nيتم علاج سرطان الدم النخاعي المزمن إلى حد كبير بأدوية موجهة تسمى مثبطات التيروزين كيناز (tyrosine kinase inhibitors) والتي أدت إلى تحسن كبير في معدلات البقاء على قيد الحياة على المدى الطويل منذ عام 2001. ',\n",
              " 'Acute Lymphoblastic Leukemia': 'ابيضاض الدم الليمفاوي الحاد (Acute lymphoblastic leukemia) هو سرطان يصيب الخط اللمفاوي لخلايا الدم ويتميز بتطور أعداد كبيرة من الخلايا الليمفاوية غير الناضجة وقد تشمل الأعراض الشعور بالتعب أو شحوب لون الجلد أو الحمى أو سهولة النزف أو الكدمات أو تضخم الغدد الليمفاوية أو آلام العظام يتطور ابيضاض الدم الحاد (Acute lymphoblastic leukemia) بسرعة ، وعادة ما يكون قاتلاً في غضون أسابيع أو شهور إذا تُرك دون علاج ، وفي معظم الحالات يكون السبب غير معروف. ',\n",
              " 'Prostatic Cancer': 'سرطان البروستاتا هو ثاني أكثر الأورام السرطانية شيوعًا في جميع أنحاء العالم وهو خامس سبب رئيسي للوفيات المرتبطة بالسرطان بين الرجال. البروستاتا هي غدة في الجهاز التناسلي الذكري تحيط بالإحليل أسفل المثانة مباشرةً. معظم سرطانات البروستاتا بطيئة النمو قد تنتشر الخلايا السرطانية إلى مناطق أخرى من الجسم ، وخاصة العظام والغدد الليمفاوية وقد لا تسبب أعراضًا في البداية.. ',\n",
              " 'Normal Anemia': 'يعد فقر الدم الطبيعي من أكثر أشكال فقر الدم شيوعًا. فقر الدم هو حالة لا يوجد فيها ما يكفي من خلايا الدم الحمراء لتوفير الأكسجين الكافي لأعضائك والأنسجة الأخرى ، مع بعض أنواع فقر الدم ، يتغير شكل أو حجم خلايا الدم الحمراء ، مما يساعد الأطباء على تشخيص الحالة. إذا كنت تعاني من فقر الدم الطبيعي ، فإن خلايا الدم الحمراء طبيعية في الشكل والحجم. ومع ذلك ، فإن الحالة تعني أنه لا يزال لديك مستويات كافية من خلايا الدم الحمراء المنتشرة لتلبية احتياجات جسمك. يصاب معظم الناس بفقر الدم السوي الخلوي لأنهم يعانون من مرض مزمن كامن. إنها مشكلة شائعة تحدث للرجال والنساء الذين تزيد أعمارهم عن 85 عامًا.',\n",
              " 'Macrocytic Anemia': 'macrocytic anemia هو فقر الدم (يُعرَّف بأنه الدم الذي يحتوي على تركيز غير كافٍ من الهيموجلوبين) حيث تكون خلايا الدم الحمراء (كرات الدم الحمراء) أكبر من حجمها الطبيعي.\\nفي macrocytic anemia ، ترتبط الخلايا الحمراء الكبيرة دائمًا بعدد غير كافٍ من الخلايا وغالبًا أيضًا محتوى غير كافٍ من الهيموجلوبين لكل خلية يعمل كلا العاملين على التأثير المعاكس لحجم الخلية الأكبر ، مما يؤدي في النهاية إلى تركيز إجمالي للهيموجلوبين في الدم يكون أقل من الطبيعي (أي فقر الدم).\\n.',\n",
              " 'Microcytic Anemia': 'Microcytic Anemia هو أي نوع من أنواع فقر الدم العديدة التي تتميز بوجود خلايا دم حمراء أصغر من الطبيعي (تسمى Microcytic Anemia) متوسط \\u200b\\u200bحجم الجسم العضلي الطبيعي (MCV) هو ما يقرب من 80-100 فلولتر .اقل من 80 فلولتر تكون Microcytic Anemia وعندما> 100 فلولتر ، تكون Macrocytic Anemia (هذا الأخير يحدث في Macrocytic Anemia فقر الدم).',\n",
              " 'Hyperthyroidism': 'فرط نشاط الغدة الدرقية هو حالة تحدث بسبب فرط إفراز هرمونات الغدة الدرقية من الغدة الدرقية. التسمم الدرقي هو الحالة التي تحدث بسبب فرط هرمون الغدة الدرقية لأي سبب ، وبالتالي تشمل فرط نشاط الغدة الدرقية. تختلف العلامات والأعراض بين الأشخاص وقد تشمل التهيج وضعف العضلات والنوم المشاكل وسرعة ضربات القلب وعدم تحمل الحرارة والإسهال وتضخم الغدة الدرقية ورعاش اليد وفقدان الوزن تكون الأعراض عادة أقل حدة عند كبار السن وأثناء الحمل .',\n",
              " 'Hypothyroidism': 'قصور الغدة الدرقية (يسمى أيضًا خمول الغدة الدرقية أو انخفاض الغدة الدرقية أو قصور الغدة الدرقية) هو اضطراب في نظام الغدد الصماء حيث لا تنتج الغدة الدرقية ما يكفي من هرمون الغدة الدرقية.يمكن أن يسبب عددًا من الأعراض ، مثل ضعف القدرة على تحمل البرد والشعور بالتعب ، والإمساك ، وبطء معدل ضربات القلب ، والاكتئاب ، وزيادة الوزن في بعض الأحيان قد يكون هناك تورم في الجزء الأمامي من الرقبة بسبب تضخم الغدة الدرقية. في جميع أنحاء العالم ، يعتبر نقص اليود في النظام الغذائي هو السبب الأكثر شيوعًا لقصور الغدة الدرقية. يعد التهاب الغدة الدرقية هاشيموتو هو السبب الأكثر شيوعًا لقصور الغدة الدرقية في البلدان التي تحتوي على كمية كافية من اليود. .',\n",
              " 'Rheumatoid Arthritis': 'التهاب المفاصل الروماتويدي (Rheumatoid Arthritis) هو اضطراب مناعي طويل الأمد يؤثر بشكل أساسي على المفاصل ، وعادة ما ينتج عنه تورم وألم في المفاصل. جوانب الجسم قد يؤثر المرض أيضًا على أجزاء أخرى من الجسم ، بما في ذلك الجلد والعينين والرئتين والقلب والأعصاب والدم ، وقد يؤدي ذلك إلى انخفاض عدد خلايا الدم الحمراء والتهاب حول الرئتين والتهاب حول القلب.',\n",
              " 'Hyperuricemia (Gout)': 'فرط حمض يوريك الدم هو ارتفاع في مستوى حمض اليوريك في الدم إلى مستويات غير طبيعية عند الإنسان ، حيث يكون المعدل الطبيعي 360 ميكرو مول / لتر (6 مجم / ديسيلتر) للنساء و 400 ميكرو مول / لتر (6.8 مجم / ديسيلتر). ) للرجال. تعتمد كمية اليورات في الجسم على التوازن بين كمية البيورينات التي يتم تناولها في الطعام ، وكمية البول التي يتم تصنيعها داخل الجسم (على سبيل المثال ، من خلال دوران الخلايا) ، وكمية البول التي تفرز في البول أو من خلال الجهاز الهضمي قد يكون فرط حمض يوريك الدم في السبيل ناتجًا عن زيادة إنتاج حمض اليوريك ، أو انخفاض إفراز حمض اليوريك ، أو زيادة الإنتاج وانخفاض الإخراج.'}"
            ]
          },
          "metadata": {},
          "execution_count": 87
        }
      ],
      "source": [
        "diseases_description['Hyperuricemia (Gout)'] = 'فرط حمض يوريك الدم هو ارتفاع في مستوى حمض اليوريك في الدم إلى مستويات غير طبيعية عند الإنسان ، حيث يكون المعدل الطبيعي 360 ميكرو مول / لتر (6 مجم / ديسيلتر) للنساء و 400 ميكرو مول / لتر (6.8 مجم / ديسيلتر). ) للرجال. تعتمد كمية اليورات في الجسم على التوازن بين كمية البيورينات التي يتم تناولها في الطعام ، وكمية البول التي يتم تصنيعها داخل الجسم (على سبيل المثال ، من خلال دوران الخلايا) ، وكمية البول التي تفرز في البول أو من خلال الجهاز الهضمي قد يكون فرط حمض يوريك الدم في السبيل ناتجًا عن زيادة إنتاج حمض اليوريك ، أو انخفاض إفراز حمض اليوريك ، أو زيادة الإنتاج وانخفاض الإخراج.'\n",
        "diseases_description"
      ]
    },
    {
      "cell_type": "markdown",
      "metadata": {
        "id": "3cc9x2s0-NXh"
      },
      "source": [
        "### Hypouricemia"
      ]
    },
    {
      "cell_type": "code",
      "execution_count": 87,
      "metadata": {
        "id": "19eNjWdJnEDt"
      },
      "outputs": [],
      "source": []
    },
    {
      "cell_type": "code",
      "execution_count": 88,
      "metadata": {
        "colab": {
          "base_uri": "https://localhost:8080/"
        },
        "id": "jOOiluZq-XKn",
        "outputId": "415aea2f-d2d4-46fd-bdac-2007cbbcb4b1"
      },
      "outputs": [
        {
          "output_type": "stream",
          "name": "stdout",
          "text": [
            "Page - Exists: True\n"
          ]
        }
      ],
      "source": [
        "wiki_wiki = wikipediaapi.Wikipedia('ar')\n",
        "page_py = wiki_wiki.page('Hypouricemia')\n",
        "print(\"Page - Exists: %s\" % page_py.exists())"
      ]
    },
    {
      "cell_type": "code",
      "execution_count": 89,
      "metadata": {
        "colab": {
          "base_uri": "https://localhost:8080/",
          "height": 87
        },
        "id": "p2mnMIED-XK3",
        "outputId": "7c28cc32-628f-43a3-c795-35180a289f03"
      },
      "outputs": [
        {
          "output_type": "execute_result",
          "data": {
            "text/plain": [
              "'نقص حمض يوريك الدم (بالإنجليزية: Hypouricemia) هو وجود حمض اليوريك في مصل الدم بمستوى أقل من الطبيعي. في البشر، يكون المعدل الطبيعي لحمض اليوريك في الدم لديه عتبة أقل تقع في نطاق من 2 ملغ / ديسيلتر إلى 4 ملغ / ديسيلتر، في حين أن العتبة العليا هي 530 ميكرومول / لتر (6 ملغ / ديسيلتر) للنساء، و619 ميكرومول / لتر (7 مغ / ديسيلتر) للرجال. نقص حمض اليوريك في الدم هو عادة أمر بسيط، ولكن أحيانا يكون علامة على حالة مرضية.'"
            ],
            "application/vnd.google.colaboratory.intrinsic+json": {
              "type": "string"
            }
          },
          "metadata": {},
          "execution_count": 89
        }
      ],
      "source": [
        "page_py.summary"
      ]
    },
    {
      "cell_type": "code",
      "execution_count": 90,
      "metadata": {
        "colab": {
          "base_uri": "https://localhost:8080/"
        },
        "id": "T683i_sf-XK3",
        "outputId": "ae11ecd4-bbe8-4c94-d4a5-7ee0c471e7ab"
      },
      "outputs": [
        {
          "output_type": "execute_result",
          "data": {
            "text/plain": [
              "['نقص حمض يوريك الدم (بالإنجليزية: Hypouricemia) هو وجود حمض اليوريك في مصل الدم بمستوى أقل من الطبيعي',\n",
              " 'نقص حمض اليوريك في الدم هو عادة أمر بسيط، ولكن أحيانا يكون علامة على حالة مرضية.']"
            ]
          },
          "metadata": {},
          "execution_count": 90
        }
      ],
      "source": [
        "paragraph_lists = page_py.summary[:].split('. ')[:1]\n",
        "paragraph_lists.append(page_py.summary[:].split('. ')[2])\n",
        "paragraph_lists"
      ]
    },
    {
      "cell_type": "code",
      "execution_count": 91,
      "metadata": {
        "colab": {
          "base_uri": "https://localhost:8080/",
          "height": 53
        },
        "id": "5bEOYyJy-XK4",
        "outputId": "3b8564e3-cf9e-4abc-b199-da6cb2c41f5f"
      },
      "outputs": [
        {
          "output_type": "execute_result",
          "data": {
            "text/plain": [
              "'نقص حمض يوريك الدم (بالإنجليزية: Hypouricemia) هو وجود حمض اليوريك في مصل الدم بمستوى أقل من الطبيعي نقص حمض اليوريك في الدم هو عادة أمر بسيط، ولكن أحيانا يكون علامة على حالة مرضية.'"
            ],
            "application/vnd.google.colaboratory.intrinsic+json": {
              "type": "string"
            }
          },
          "metadata": {},
          "execution_count": 91
        }
      ],
      "source": [
        "paragraph = ' '.join(str(x) for x in paragraph_lists) \n",
        "paragraph"
      ]
    },
    {
      "cell_type": "code",
      "execution_count": 92,
      "metadata": {
        "colab": {
          "base_uri": "https://localhost:8080/"
        },
        "id": "tavm2nfT-XK5",
        "outputId": "5648377e-7fc2-474f-9605-bb12aad1d9f1"
      },
      "outputs": [
        {
          "output_type": "execute_result",
          "data": {
            "text/plain": [
              "{'Diabetes': 'مرض السكري ، المعروف أيضًا باسم داء السكري ، هو مجموعة من أمراض الغدد الصماء الشائعة التي تتميز بارتفاع مستمر في مستويات السكر في الدم. يؤدي تركه دون علاج إلى العديد من المضاعفات الصحية. ',\n",
              " 'Prediabetes': 'مقدمات السكري هي أحد مكونات متلازمة التمثيل الغذائي وتتميز بارتفاع مستويات السكر في الدم التي تقل عن الحد الأدنى لتشخيص داء السكري.عادة لا تسبب أعراضًا ولكن الأشخاص الذين يعانون من مقدمات السكري غالبًا ما يعانون من السمنة (خاصة السمنة البطنية أو الحشوية) ، اضطراب شحميات الدم مع ارتفاع الدهون الثلاثية و / أو انخفاض نسبة الكوليسترول الحميد ، وارتفاع ضغط الدم ، كما أنه يرتبط بزيادة مخاطر الإصابة بأمراض القلب والأوعية الدموية  .',\n",
              " 'Hypoglycemia': 'نقص سكر الدم، ويسمى أيضًا هبوط سكر الدم، هو انخفاض في نسبة السكر في الدم إلى مستويات أقل من المعتاد، عادة ما تكون أقل من 70 ملغ/ديسيلتر (3.9 مليمول/لتر) يستخدم ثالوث ويبل لتحديد نوبات نقص السكر في الدم بشكل صحيح يتم تعريفه على أنه جلوكوز الدم أقل من 70 ملغ/ديسيلتر (3.9 مليمول/لتر)، قد يؤدي نقص السكر في الدم إلى صداع، تعب، خراقة، صعوبة التحدث، ارتباك، تسارع معدل ضربات القلب، تعرق، رجفان، عصبية، جوع، فقدان الوعي، نوبات أو وفاة. ',\n",
              " 'Jaundice': 'اليرقان (بالإنجليزية: Jaundice)\\u200f، المعروف أيضًا بالصفار، أو الاصفرار، هو تصبغ مصفر أو مخضر للجلد وبياض العين بسبب ارتفاع مستويات البيليروبين اليرقان عند البالغين هو عادة علامة تشير إلى وجود أمراض كامنة تنطوي على استقلاب الهيم غير الطبيعي، ضعف الكبد أو انسداد القناة الصفراوية انتشار اليرقان لدى البالغين أمر نادر الحدوث، في حين أن اليرقان عند الأطفال شائع، حيث يتأثر ما يقدر بنحو 80٪ خلال الأسبوع الأول من حياتهم.',\n",
              " 'Chronic Myelogenous Leukemia': 'ابيضاض الدم النقوي المزمن (Chronic myelogenous leukemia) ، والمعروف أيضًا باسم ابيضاض الدم النخاعي المزمن ، هو أحد أشكال سرطان الدم الذي يتميز بالنمو المتزايد وغير المنظم للخلايا النخاعية في نخاع العظام وتراكم هذه الخلايا في خلايا الدم البيضاء. سرطان الدم النخاعي المزمن هو اضطراب في الخلايا الجذعية لنخاع العظم نسيلي يتم فيه العثور على تكاثر الخلايا الحبيبية الناضجة (neutrophils, eosinophils, basophils) وهو نوع من الأورام التكاثرية النخاعية المرتبطة بنقل كروموسومي مميز يسمى كروموسوم فيلادلفيا.\\nيتم علاج سرطان الدم النخاعي المزمن إلى حد كبير بأدوية موجهة تسمى مثبطات التيروزين كيناز (tyrosine kinase inhibitors) والتي أدت إلى تحسن كبير في معدلات البقاء على قيد الحياة على المدى الطويل منذ عام 2001. ',\n",
              " 'Acute Lymphoblastic Leukemia': 'ابيضاض الدم الليمفاوي الحاد (Acute lymphoblastic leukemia) هو سرطان يصيب الخط اللمفاوي لخلايا الدم ويتميز بتطور أعداد كبيرة من الخلايا الليمفاوية غير الناضجة وقد تشمل الأعراض الشعور بالتعب أو شحوب لون الجلد أو الحمى أو سهولة النزف أو الكدمات أو تضخم الغدد الليمفاوية أو آلام العظام يتطور ابيضاض الدم الحاد (Acute lymphoblastic leukemia) بسرعة ، وعادة ما يكون قاتلاً في غضون أسابيع أو شهور إذا تُرك دون علاج ، وفي معظم الحالات يكون السبب غير معروف. ',\n",
              " 'Prostatic Cancer': 'سرطان البروستاتا هو ثاني أكثر الأورام السرطانية شيوعًا في جميع أنحاء العالم وهو خامس سبب رئيسي للوفيات المرتبطة بالسرطان بين الرجال. البروستاتا هي غدة في الجهاز التناسلي الذكري تحيط بالإحليل أسفل المثانة مباشرةً. معظم سرطانات البروستاتا بطيئة النمو قد تنتشر الخلايا السرطانية إلى مناطق أخرى من الجسم ، وخاصة العظام والغدد الليمفاوية وقد لا تسبب أعراضًا في البداية.. ',\n",
              " 'Normal Anemia': 'يعد فقر الدم الطبيعي من أكثر أشكال فقر الدم شيوعًا. فقر الدم هو حالة لا يوجد فيها ما يكفي من خلايا الدم الحمراء لتوفير الأكسجين الكافي لأعضائك والأنسجة الأخرى ، مع بعض أنواع فقر الدم ، يتغير شكل أو حجم خلايا الدم الحمراء ، مما يساعد الأطباء على تشخيص الحالة. إذا كنت تعاني من فقر الدم الطبيعي ، فإن خلايا الدم الحمراء طبيعية في الشكل والحجم. ومع ذلك ، فإن الحالة تعني أنه لا يزال لديك مستويات كافية من خلايا الدم الحمراء المنتشرة لتلبية احتياجات جسمك. يصاب معظم الناس بفقر الدم السوي الخلوي لأنهم يعانون من مرض مزمن كامن. إنها مشكلة شائعة تحدث للرجال والنساء الذين تزيد أعمارهم عن 85 عامًا.',\n",
              " 'Macrocytic Anemia': 'macrocytic anemia هو فقر الدم (يُعرَّف بأنه الدم الذي يحتوي على تركيز غير كافٍ من الهيموجلوبين) حيث تكون خلايا الدم الحمراء (كرات الدم الحمراء) أكبر من حجمها الطبيعي.\\nفي macrocytic anemia ، ترتبط الخلايا الحمراء الكبيرة دائمًا بعدد غير كافٍ من الخلايا وغالبًا أيضًا محتوى غير كافٍ من الهيموجلوبين لكل خلية يعمل كلا العاملين على التأثير المعاكس لحجم الخلية الأكبر ، مما يؤدي في النهاية إلى تركيز إجمالي للهيموجلوبين في الدم يكون أقل من الطبيعي (أي فقر الدم).\\n.',\n",
              " 'Microcytic Anemia': 'Microcytic Anemia هو أي نوع من أنواع فقر الدم العديدة التي تتميز بوجود خلايا دم حمراء أصغر من الطبيعي (تسمى Microcytic Anemia) متوسط \\u200b\\u200bحجم الجسم العضلي الطبيعي (MCV) هو ما يقرب من 80-100 فلولتر .اقل من 80 فلولتر تكون Microcytic Anemia وعندما> 100 فلولتر ، تكون Macrocytic Anemia (هذا الأخير يحدث في Macrocytic Anemia فقر الدم).',\n",
              " 'Hyperthyroidism': 'فرط نشاط الغدة الدرقية هو حالة تحدث بسبب فرط إفراز هرمونات الغدة الدرقية من الغدة الدرقية. التسمم الدرقي هو الحالة التي تحدث بسبب فرط هرمون الغدة الدرقية لأي سبب ، وبالتالي تشمل فرط نشاط الغدة الدرقية. تختلف العلامات والأعراض بين الأشخاص وقد تشمل التهيج وضعف العضلات والنوم المشاكل وسرعة ضربات القلب وعدم تحمل الحرارة والإسهال وتضخم الغدة الدرقية ورعاش اليد وفقدان الوزن تكون الأعراض عادة أقل حدة عند كبار السن وأثناء الحمل .',\n",
              " 'Hypothyroidism': 'قصور الغدة الدرقية (يسمى أيضًا خمول الغدة الدرقية أو انخفاض الغدة الدرقية أو قصور الغدة الدرقية) هو اضطراب في نظام الغدد الصماء حيث لا تنتج الغدة الدرقية ما يكفي من هرمون الغدة الدرقية.يمكن أن يسبب عددًا من الأعراض ، مثل ضعف القدرة على تحمل البرد والشعور بالتعب ، والإمساك ، وبطء معدل ضربات القلب ، والاكتئاب ، وزيادة الوزن في بعض الأحيان قد يكون هناك تورم في الجزء الأمامي من الرقبة بسبب تضخم الغدة الدرقية. في جميع أنحاء العالم ، يعتبر نقص اليود في النظام الغذائي هو السبب الأكثر شيوعًا لقصور الغدة الدرقية. يعد التهاب الغدة الدرقية هاشيموتو هو السبب الأكثر شيوعًا لقصور الغدة الدرقية في البلدان التي تحتوي على كمية كافية من اليود. .',\n",
              " 'Rheumatoid Arthritis': 'التهاب المفاصل الروماتويدي (Rheumatoid Arthritis) هو اضطراب مناعي طويل الأمد يؤثر بشكل أساسي على المفاصل ، وعادة ما ينتج عنه تورم وألم في المفاصل. جوانب الجسم قد يؤثر المرض أيضًا على أجزاء أخرى من الجسم ، بما في ذلك الجلد والعينين والرئتين والقلب والأعصاب والدم ، وقد يؤدي ذلك إلى انخفاض عدد خلايا الدم الحمراء والتهاب حول الرئتين والتهاب حول القلب.',\n",
              " 'Hyperuricemia (Gout)': 'فرط حمض يوريك الدم هو ارتفاع في مستوى حمض اليوريك في الدم إلى مستويات غير طبيعية عند الإنسان ، حيث يكون المعدل الطبيعي 360 ميكرو مول / لتر (6 مجم / ديسيلتر) للنساء و 400 ميكرو مول / لتر (6.8 مجم / ديسيلتر). ) للرجال. تعتمد كمية اليورات في الجسم على التوازن بين كمية البيورينات التي يتم تناولها في الطعام ، وكمية البول التي يتم تصنيعها داخل الجسم (على سبيل المثال ، من خلال دوران الخلايا) ، وكمية البول التي تفرز في البول أو من خلال الجهاز الهضمي قد يكون فرط حمض يوريك الدم في السبيل ناتجًا عن زيادة إنتاج حمض اليوريك ، أو انخفاض إفراز حمض اليوريك ، أو زيادة الإنتاج وانخفاض الإخراج.',\n",
              " 'Hypouricemia': 'نقص حمض يوريك الدم (بالإنجليزية: Hypouricemia) هو وجود حمض اليوريك في مصل الدم بمستوى أقل من الطبيعي نقص حمض اليوريك في الدم هو عادة أمر بسيط، ولكن أحيانا يكون علامة على حالة مرضية.'}"
            ]
          },
          "metadata": {},
          "execution_count": 92
        }
      ],
      "source": [
        "diseases_description['Hypouricemia'] = paragraph\n",
        "diseases_description"
      ]
    },
    {
      "cell_type": "markdown",
      "metadata": {
        "id": "ve78anxPBJ-l"
      },
      "source": [
        "## Parathyroid Diseases"
      ]
    },
    {
      "cell_type": "markdown",
      "metadata": {
        "id": "2x6u6TrUBSl5"
      },
      "source": [
        "### Hyperparathyroid"
      ]
    },
    {
      "cell_type": "code",
      "execution_count": 93,
      "metadata": {
        "colab": {
          "base_uri": "https://localhost:8080/"
        },
        "id": "QTphLmQ-BSl7",
        "outputId": "18202b1d-8e7f-47f0-bd1c-ff5b923cab24"
      },
      "outputs": [
        {
          "output_type": "stream",
          "name": "stdout",
          "text": [
            "Page - Exists: True\n"
          ]
        }
      ],
      "source": [
        "wiki_wiki = wikipediaapi.Wikipedia('ar')\n",
        "page_py = wiki_wiki.page('Hyperparathyroidism')\n",
        "print(\"Page - Exists: %s\" % page_py.exists())"
      ]
    },
    {
      "cell_type": "code",
      "execution_count": 94,
      "metadata": {
        "colab": {
          "base_uri": "https://localhost:8080/",
          "height": 192
        },
        "id": "dJ71CR9CBSl8",
        "outputId": "246b43d2-8610-4a8b-cd0c-ce2e673e16a1"
      },
      "outputs": [
        {
          "output_type": "execute_result",
          "data": {
            "text/plain": [
              "'فرط جارات الدرقية هو زيادة مستويات الهرمون الجار درقي (PTH) في الدم. يحدث ذلك إما نتيجة زيادة إفراز الغدد جارات الدرقية للهرمون بشكل مبالغ فيه (فرط جارات الدرقية الأولي) أو بسبب أحداث أخرى تحفز زيادة إنتاج الغدد (فرط جارات الدرقية الثانوي). لا يعاني أغلب مرضى المرض الأولي من أعراض في وقت التشحيص. أما أولئك الذين يعانون من أعراض، فإن حصوات الكلى هي الأكثر شيوعًا بالإضافة لأعراض أخرى محتملة تشمل الضعف، والاكتئاب، وآلام العظام، والارتباك، وزيادة التبول. يزيد كلا النوعين من خطورة حدوث هشاشة العظام.\\nيرجع فرط جارات الدرقية الأولي في 80% من الحالات إلى ورم حميد واحد يسمى ورم جار الدرقية الحميد (parathyroid adenoma) فيما ترجع أغلب الحالات المتبقية لعدة أورام حميدة. نادرا ما يكون بسبب سرطان الغدة الجار درقية. يحدث فرط جارات الدرقية الثانوي عادة بسبب نقص فيتامين د، أو مرض الكلى المزمن، أو أي سبب آخر لنقص كالسيوم الدم. تشخيص المرض الأولي يتم بإيجاد فرط كالسيوم الدم وارتفاع مستوى الهرمون الجار درقي.\\nيمكن علاج فرط جارات الدرقية الأولي عن طريق استئصال الورم أو الغدد مفرطة النشاط. في أولئك الذين لا يعانون من أعراض، قد يكون كل المطلوب هو متابعة الكثافة الطبيعية للعظام، ووظائف الكلى السليمة، ومستوى الكالسيوم المرتفع قليلا. يمكن استخدام دواء يدعى سيناكالست لخفض مستوى الهرمون. في أولئك الذين لديهم مستوى مرتفع جدا من الكالسيوم في الدم قد يتضمن العلاج كميات كبيرة من المصل الفيزيولوجي عبر الوريد. يجب تصحيح مستوى فيتامين د المنخفض في الدم.\\nفرط جارات الدرقية الأولي هو النوع الأكثر شيوعًا. في الدول المتقدمة يُصاب بين 1 لـ4 أشخاص من كل ألف شخص. وهو أكثر شيوعًا في النساء عن الرجال بـ3 مرات ويتم تشخيصه عادة في سن 50 لـ60 عاما. تم وصف المرض لأول مرة في القرن الثامن عشر وتم ربطه بالغدد جارات الدرقية في القرن التاسع عشر. تم تنفيذ أول جراحة كعلاج للمرض في 1925.'"
            ],
            "application/vnd.google.colaboratory.intrinsic+json": {
              "type": "string"
            }
          },
          "metadata": {},
          "execution_count": 94
        }
      ],
      "source": [
        "page_py.summary"
      ]
    },
    {
      "cell_type": "code",
      "execution_count": 95,
      "metadata": {
        "colab": {
          "base_uri": "https://localhost:8080/"
        },
        "id": "ur7L80UkBSl-",
        "outputId": "d42837b9-2c36-4763-d9bd-55933b808aef"
      },
      "outputs": [
        {
          "output_type": "execute_result",
          "data": {
            "text/plain": [
              "['فرط جارات الدرقية هو زيادة مستويات الهرمون الجار درقي (PTH) في الدم',\n",
              " 'يحدث ذلك إما نتيجة زيادة إفراز الغدد جارات الدرقية للهرمون بشكل مبالغ فيه (فرط جارات الدرقية الأولي) أو بسبب أحداث أخرى تحفز زيادة إنتاج الغدد (فرط جارات الدرقية الثانوي)',\n",
              " 'لا يعاني أغلب مرضى المرض الأولي من أعراض في وقت التشحيص',\n",
              " 'أما أولئك الذين يعانون من أعراض، فإن حصوات الكلى هي الأكثر شيوعًا بالإضافة لأعراض أخرى محتملة تشمل الضعف، والاكتئاب، وآلام العظام، والارتباك، وزيادة التبول',\n",
              " 'يزيد كلا النوعين من خطورة حدوث هشاشة العظام.\\nيرجع فرط جارات الدرقية الأولي في 80% من الحالات إلى ورم حميد واحد يسمى ورم جار الدرقية الحميد (parathyroid adenoma) فيما ترجع أغلب الحالات المتبقية لعدة أورام حميدة']"
            ]
          },
          "metadata": {},
          "execution_count": 95
        }
      ],
      "source": [
        "paragraph_lists = page_py.summary[:].split('. ')[:5]\n",
        "paragraph_lists"
      ]
    },
    {
      "cell_type": "code",
      "execution_count": 96,
      "metadata": {
        "colab": {
          "base_uri": "https://localhost:8080/",
          "height": 139
        },
        "id": "fL2N3OezBSl_",
        "outputId": "b0cc2d57-7264-4f16-871b-4f5ab1911517"
      },
      "outputs": [
        {
          "output_type": "execute_result",
          "data": {
            "text/plain": [
              "'فرط نشاط جارات الدرقية هو زيادة مستويات الهرمون الجار درقي (PTH) في الدم يحدث ذلك إما نتيجة زيادة إفراز الغدد جارات الدرقية للهرمون بشكل مبالغ فيه (فرط نشاط جارات الدرقية الأولي) أو بسبب أحداث أخرى تحفز زيادة إنتاج الغدد (فرط نشاط جارات الدرقية الثانوي) لا يعاني أغلب مرضى المرض الأولي من أعراض في وقت التشحيص أما أولئك الذين يعانون من أعراض، فإن حصوات الكلى هي الأكثر شيوعًا بالإضافة لأعراض أخرى محتملة تشمل الضعف، والاكتئاب، وآلام العظام، والارتباك، وزيادة التبول يزيد كلا النوعين من خطورة حدوث هشاشة العظام.\\nيرجع فرط نشاط جارات الدرقية الأولي في 80% من الحالات إلى ورم حميد واحد يسمى ورم جار الدرقية الحميد (parathyroid adenoma) فيما ترجع أغلب الحالات المتبقية لعدة أورام حميدة .'"
            ],
            "application/vnd.google.colaboratory.intrinsic+json": {
              "type": "string"
            }
          },
          "metadata": {},
          "execution_count": 96
        }
      ],
      "source": [
        "paragraph = ' '.join(str(x) for x in paragraph_lists) \n",
        "paragraph= paragraph.replace('فرط','فرط نشاط') \n",
        "paragraph = paragraph + ' .'\n",
        "paragraph"
      ]
    },
    {
      "cell_type": "code",
      "execution_count": 97,
      "metadata": {
        "colab": {
          "base_uri": "https://localhost:8080/"
        },
        "id": "VhSTAyQfBSmC",
        "outputId": "49909c36-c1e6-4368-fdb2-d38a2f6cdf8d"
      },
      "outputs": [
        {
          "output_type": "execute_result",
          "data": {
            "text/plain": [
              "{'Diabetes': 'مرض السكري ، المعروف أيضًا باسم داء السكري ، هو مجموعة من أمراض الغدد الصماء الشائعة التي تتميز بارتفاع مستمر في مستويات السكر في الدم. يؤدي تركه دون علاج إلى العديد من المضاعفات الصحية. ',\n",
              " 'Prediabetes': 'مقدمات السكري هي أحد مكونات متلازمة التمثيل الغذائي وتتميز بارتفاع مستويات السكر في الدم التي تقل عن الحد الأدنى لتشخيص داء السكري.عادة لا تسبب أعراضًا ولكن الأشخاص الذين يعانون من مقدمات السكري غالبًا ما يعانون من السمنة (خاصة السمنة البطنية أو الحشوية) ، اضطراب شحميات الدم مع ارتفاع الدهون الثلاثية و / أو انخفاض نسبة الكوليسترول الحميد ، وارتفاع ضغط الدم ، كما أنه يرتبط بزيادة مخاطر الإصابة بأمراض القلب والأوعية الدموية  .',\n",
              " 'Hypoglycemia': 'نقص سكر الدم، ويسمى أيضًا هبوط سكر الدم، هو انخفاض في نسبة السكر في الدم إلى مستويات أقل من المعتاد، عادة ما تكون أقل من 70 ملغ/ديسيلتر (3.9 مليمول/لتر) يستخدم ثالوث ويبل لتحديد نوبات نقص السكر في الدم بشكل صحيح يتم تعريفه على أنه جلوكوز الدم أقل من 70 ملغ/ديسيلتر (3.9 مليمول/لتر)، قد يؤدي نقص السكر في الدم إلى صداع، تعب، خراقة، صعوبة التحدث، ارتباك، تسارع معدل ضربات القلب، تعرق، رجفان، عصبية، جوع، فقدان الوعي، نوبات أو وفاة. ',\n",
              " 'Jaundice': 'اليرقان (بالإنجليزية: Jaundice)\\u200f، المعروف أيضًا بالصفار، أو الاصفرار، هو تصبغ مصفر أو مخضر للجلد وبياض العين بسبب ارتفاع مستويات البيليروبين اليرقان عند البالغين هو عادة علامة تشير إلى وجود أمراض كامنة تنطوي على استقلاب الهيم غير الطبيعي، ضعف الكبد أو انسداد القناة الصفراوية انتشار اليرقان لدى البالغين أمر نادر الحدوث، في حين أن اليرقان عند الأطفال شائع، حيث يتأثر ما يقدر بنحو 80٪ خلال الأسبوع الأول من حياتهم.',\n",
              " 'Chronic Myelogenous Leukemia': 'ابيضاض الدم النقوي المزمن (Chronic myelogenous leukemia) ، والمعروف أيضًا باسم ابيضاض الدم النخاعي المزمن ، هو أحد أشكال سرطان الدم الذي يتميز بالنمو المتزايد وغير المنظم للخلايا النخاعية في نخاع العظام وتراكم هذه الخلايا في خلايا الدم البيضاء. سرطان الدم النخاعي المزمن هو اضطراب في الخلايا الجذعية لنخاع العظم نسيلي يتم فيه العثور على تكاثر الخلايا الحبيبية الناضجة (neutrophils, eosinophils, basophils) وهو نوع من الأورام التكاثرية النخاعية المرتبطة بنقل كروموسومي مميز يسمى كروموسوم فيلادلفيا.\\nيتم علاج سرطان الدم النخاعي المزمن إلى حد كبير بأدوية موجهة تسمى مثبطات التيروزين كيناز (tyrosine kinase inhibitors) والتي أدت إلى تحسن كبير في معدلات البقاء على قيد الحياة على المدى الطويل منذ عام 2001. ',\n",
              " 'Acute Lymphoblastic Leukemia': 'ابيضاض الدم الليمفاوي الحاد (Acute lymphoblastic leukemia) هو سرطان يصيب الخط اللمفاوي لخلايا الدم ويتميز بتطور أعداد كبيرة من الخلايا الليمفاوية غير الناضجة وقد تشمل الأعراض الشعور بالتعب أو شحوب لون الجلد أو الحمى أو سهولة النزف أو الكدمات أو تضخم الغدد الليمفاوية أو آلام العظام يتطور ابيضاض الدم الحاد (Acute lymphoblastic leukemia) بسرعة ، وعادة ما يكون قاتلاً في غضون أسابيع أو شهور إذا تُرك دون علاج ، وفي معظم الحالات يكون السبب غير معروف. ',\n",
              " 'Prostatic Cancer': 'سرطان البروستاتا هو ثاني أكثر الأورام السرطانية شيوعًا في جميع أنحاء العالم وهو خامس سبب رئيسي للوفيات المرتبطة بالسرطان بين الرجال. البروستاتا هي غدة في الجهاز التناسلي الذكري تحيط بالإحليل أسفل المثانة مباشرةً. معظم سرطانات البروستاتا بطيئة النمو قد تنتشر الخلايا السرطانية إلى مناطق أخرى من الجسم ، وخاصة العظام والغدد الليمفاوية وقد لا تسبب أعراضًا في البداية.. ',\n",
              " 'Normal Anemia': 'يعد فقر الدم الطبيعي من أكثر أشكال فقر الدم شيوعًا. فقر الدم هو حالة لا يوجد فيها ما يكفي من خلايا الدم الحمراء لتوفير الأكسجين الكافي لأعضائك والأنسجة الأخرى ، مع بعض أنواع فقر الدم ، يتغير شكل أو حجم خلايا الدم الحمراء ، مما يساعد الأطباء على تشخيص الحالة. إذا كنت تعاني من فقر الدم الطبيعي ، فإن خلايا الدم الحمراء طبيعية في الشكل والحجم. ومع ذلك ، فإن الحالة تعني أنه لا يزال لديك مستويات كافية من خلايا الدم الحمراء المنتشرة لتلبية احتياجات جسمك. يصاب معظم الناس بفقر الدم السوي الخلوي لأنهم يعانون من مرض مزمن كامن. إنها مشكلة شائعة تحدث للرجال والنساء الذين تزيد أعمارهم عن 85 عامًا.',\n",
              " 'Macrocytic Anemia': 'macrocytic anemia هو فقر الدم (يُعرَّف بأنه الدم الذي يحتوي على تركيز غير كافٍ من الهيموجلوبين) حيث تكون خلايا الدم الحمراء (كرات الدم الحمراء) أكبر من حجمها الطبيعي.\\nفي macrocytic anemia ، ترتبط الخلايا الحمراء الكبيرة دائمًا بعدد غير كافٍ من الخلايا وغالبًا أيضًا محتوى غير كافٍ من الهيموجلوبين لكل خلية يعمل كلا العاملين على التأثير المعاكس لحجم الخلية الأكبر ، مما يؤدي في النهاية إلى تركيز إجمالي للهيموجلوبين في الدم يكون أقل من الطبيعي (أي فقر الدم).\\n.',\n",
              " 'Microcytic Anemia': 'Microcytic Anemia هو أي نوع من أنواع فقر الدم العديدة التي تتميز بوجود خلايا دم حمراء أصغر من الطبيعي (تسمى Microcytic Anemia) متوسط \\u200b\\u200bحجم الجسم العضلي الطبيعي (MCV) هو ما يقرب من 80-100 فلولتر .اقل من 80 فلولتر تكون Microcytic Anemia وعندما> 100 فلولتر ، تكون Macrocytic Anemia (هذا الأخير يحدث في Macrocytic Anemia فقر الدم).',\n",
              " 'Hyperthyroidism': 'فرط نشاط الغدة الدرقية هو حالة تحدث بسبب فرط إفراز هرمونات الغدة الدرقية من الغدة الدرقية. التسمم الدرقي هو الحالة التي تحدث بسبب فرط هرمون الغدة الدرقية لأي سبب ، وبالتالي تشمل فرط نشاط الغدة الدرقية. تختلف العلامات والأعراض بين الأشخاص وقد تشمل التهيج وضعف العضلات والنوم المشاكل وسرعة ضربات القلب وعدم تحمل الحرارة والإسهال وتضخم الغدة الدرقية ورعاش اليد وفقدان الوزن تكون الأعراض عادة أقل حدة عند كبار السن وأثناء الحمل .',\n",
              " 'Hypothyroidism': 'قصور الغدة الدرقية (يسمى أيضًا خمول الغدة الدرقية أو انخفاض الغدة الدرقية أو قصور الغدة الدرقية) هو اضطراب في نظام الغدد الصماء حيث لا تنتج الغدة الدرقية ما يكفي من هرمون الغدة الدرقية.يمكن أن يسبب عددًا من الأعراض ، مثل ضعف القدرة على تحمل البرد والشعور بالتعب ، والإمساك ، وبطء معدل ضربات القلب ، والاكتئاب ، وزيادة الوزن في بعض الأحيان قد يكون هناك تورم في الجزء الأمامي من الرقبة بسبب تضخم الغدة الدرقية. في جميع أنحاء العالم ، يعتبر نقص اليود في النظام الغذائي هو السبب الأكثر شيوعًا لقصور الغدة الدرقية. يعد التهاب الغدة الدرقية هاشيموتو هو السبب الأكثر شيوعًا لقصور الغدة الدرقية في البلدان التي تحتوي على كمية كافية من اليود. .',\n",
              " 'Rheumatoid Arthritis': 'التهاب المفاصل الروماتويدي (Rheumatoid Arthritis) هو اضطراب مناعي طويل الأمد يؤثر بشكل أساسي على المفاصل ، وعادة ما ينتج عنه تورم وألم في المفاصل. جوانب الجسم قد يؤثر المرض أيضًا على أجزاء أخرى من الجسم ، بما في ذلك الجلد والعينين والرئتين والقلب والأعصاب والدم ، وقد يؤدي ذلك إلى انخفاض عدد خلايا الدم الحمراء والتهاب حول الرئتين والتهاب حول القلب.',\n",
              " 'Hyperuricemia (Gout)': 'فرط حمض يوريك الدم هو ارتفاع في مستوى حمض اليوريك في الدم إلى مستويات غير طبيعية عند الإنسان ، حيث يكون المعدل الطبيعي 360 ميكرو مول / لتر (6 مجم / ديسيلتر) للنساء و 400 ميكرو مول / لتر (6.8 مجم / ديسيلتر). ) للرجال. تعتمد كمية اليورات في الجسم على التوازن بين كمية البيورينات التي يتم تناولها في الطعام ، وكمية البول التي يتم تصنيعها داخل الجسم (على سبيل المثال ، من خلال دوران الخلايا) ، وكمية البول التي تفرز في البول أو من خلال الجهاز الهضمي قد يكون فرط حمض يوريك الدم في السبيل ناتجًا عن زيادة إنتاج حمض اليوريك ، أو انخفاض إفراز حمض اليوريك ، أو زيادة الإنتاج وانخفاض الإخراج.',\n",
              " 'Hypouricemia': 'نقص حمض يوريك الدم (بالإنجليزية: Hypouricemia) هو وجود حمض اليوريك في مصل الدم بمستوى أقل من الطبيعي نقص حمض اليوريك في الدم هو عادة أمر بسيط، ولكن أحيانا يكون علامة على حالة مرضية.',\n",
              " 'Hyperparathyroidism': 'فرط نشاط جارات الدرقية هو زيادة مستويات الهرمون الجار درقي (PTH) في الدم يحدث ذلك إما نتيجة زيادة إفراز الغدد جارات الدرقية للهرمون بشكل مبالغ فيه (فرط نشاط جارات الدرقية الأولي) أو بسبب أحداث أخرى تحفز زيادة إنتاج الغدد (فرط نشاط جارات الدرقية الثانوي) لا يعاني أغلب مرضى المرض الأولي من أعراض في وقت التشحيص أما أولئك الذين يعانون من أعراض، فإن حصوات الكلى هي الأكثر شيوعًا بالإضافة لأعراض أخرى محتملة تشمل الضعف، والاكتئاب، وآلام العظام، والارتباك، وزيادة التبول يزيد كلا النوعين من خطورة حدوث هشاشة العظام.\\nيرجع فرط نشاط جارات الدرقية الأولي في 80% من الحالات إلى ورم حميد واحد يسمى ورم جار الدرقية الحميد (parathyroid adenoma) فيما ترجع أغلب الحالات المتبقية لعدة أورام حميدة .'}"
            ]
          },
          "metadata": {},
          "execution_count": 97
        }
      ],
      "source": [
        "diseases_description['Hyperparathyroidism'] = paragraph\n",
        "diseases_description"
      ]
    },
    {
      "cell_type": "code",
      "execution_count": 97,
      "metadata": {
        "id": "GxcMMd2wBSmD"
      },
      "outputs": [],
      "source": []
    },
    {
      "cell_type": "markdown",
      "metadata": {
        "id": "C7HQag69BSmE"
      },
      "source": [
        "### Hypoparathyroid"
      ]
    },
    {
      "cell_type": "code",
      "execution_count": 97,
      "metadata": {
        "id": "GOqyEI8NBSmE"
      },
      "outputs": [],
      "source": []
    },
    {
      "cell_type": "code",
      "execution_count": 98,
      "metadata": {
        "colab": {
          "base_uri": "https://localhost:8080/"
        },
        "id": "Bcl1gdUIBSmF",
        "outputId": "584aad99-cb3c-47bc-aee5-e8c0c829a4f3"
      },
      "outputs": [
        {
          "output_type": "stream",
          "name": "stdout",
          "text": [
            "Page - Exists: True\n"
          ]
        }
      ],
      "source": [
        "wiki_wiki = wikipediaapi.Wikipedia('ar')\n",
        "page_py = wiki_wiki.page('Hypoparathyroidism')\n",
        "print(\"Page - Exists: %s\" % page_py.exists())"
      ]
    },
    {
      "cell_type": "code",
      "execution_count": 99,
      "metadata": {
        "colab": {
          "base_uri": "https://localhost:8080/",
          "height": 174
        },
        "id": "LUQ_BD9oBSmF",
        "outputId": "1e4f1f27-c637-4682-a642-72d7851fe323"
      },
      "outputs": [
        {
          "output_type": "execute_result",
          "data": {
            "text/plain": [
              "'قصور جارات الدرقية أو قصور نظيرة الدرقية أو قصور الدُرَيْقات (بالإنجليزية: hypoparathyroidism)\\u200f هو قصور وظيفة الغدد جارات الدرقية مع نقص إنتاج الهرمون جار الدرقي. يمكن أن يؤدي هذا النقص إلى انخفاض مستويات الكالسيوم في الدم، وغالبًا ما يتسبب بشد عضلي وتشنجها أو التكزز (تقلص العضلات اللاإرادي)، والعديد من الأعراض الأخرى. يمكن أن تكون الحالة موروثة، وقد تحدث أيضًا بعد جراحة الغدة الدرقية أو الغدد جارات الدرقية، ويمكن أن تنتج أيضًا عن الأذيات المتعلقة بالجهاز المناعي بالإضافة إلى عدد من الأسباب النادرة. يشخص القصور عن طريق اختبارات الدم، وغيرها من الفحوصات مثل الفحوص الجينية بناء على النتائج. يعد علاج قصور الغدد جارات الدرق محدودًا نظرًا لعدم وجود شكل محدد من الهرمون يمكن إعطاؤه كتعويض. ومع ذلك، يمكن إعطاء حقنة من عقار تيريبياراتيد، ذي الاسم التجاري فورتيو، وهو ببتيد مماثل حيويًا لهرمون جارات الدرق. يمكن أن يحسن تعويض الكالسيوم أو فيتامين د الأعراض ولكن يزيد هذا الأمر من خطر الإصابة بحصيات الكلية ومرض الكلى المزمن.'"
            ],
            "application/vnd.google.colaboratory.intrinsic+json": {
              "type": "string"
            }
          },
          "metadata": {},
          "execution_count": 99
        }
      ],
      "source": [
        "page_py.summary"
      ]
    },
    {
      "cell_type": "code",
      "execution_count": 100,
      "metadata": {
        "colab": {
          "base_uri": "https://localhost:8080/"
        },
        "id": "QLsND4C5BSmG",
        "outputId": "bd9c3561-30fb-4ee1-81a5-f71dd54a3af6"
      },
      "outputs": [
        {
          "output_type": "execute_result",
          "data": {
            "text/plain": [
              "['قصور جارات الدرقية أو قصور نظيرة الدرقية أو قصور الدُرَيْقات (بالإنجليزية: hypoparathyroidism)\\u200f هو قصور وظيفة الغدد جارات الدرقية مع نقص إنتاج الهرمون جار الدرقي',\n",
              " 'يمكن أن يؤدي هذا النقص إلى انخفاض مستويات الكالسيوم في الدم، وغالبًا ما يتسبب بشد عضلي وتشنجها أو التكزز (تقلص العضلات اللاإرادي)، والعديد من الأعراض الأخرى',\n",
              " 'يمكن أن تكون الحالة موروثة، وقد تحدث أيضًا بعد جراحة الغدة الدرقية أو الغدد جارات الدرقية، ويمكن أن تنتج أيضًا عن الأذيات المتعلقة بالجهاز المناعي بالإضافة إلى عدد من الأسباب النادرة',\n",
              " 'يشخص القصور عن طريق اختبارات الدم، وغيرها من الفحوصات مثل الفحوص الجينية بناء على النتائج',\n",
              " 'يعد علاج قصور الغدد جارات الدرق محدودًا نظرًا لعدم وجود شكل محدد من الهرمون يمكن إعطاؤه كتعويض']"
            ]
          },
          "metadata": {},
          "execution_count": 100
        }
      ],
      "source": [
        "paragraph_lists = page_py.summary[:].split('. ')[:5]\n",
        "paragraph_lists"
      ]
    },
    {
      "cell_type": "code",
      "execution_count": 101,
      "metadata": {
        "colab": {
          "base_uri": "https://localhost:8080/",
          "height": 139
        },
        "id": "MfcSfflABSmG",
        "outputId": "32f0827a-5460-4292-928d-d1558540fd8f"
      },
      "outputs": [
        {
          "output_type": "execute_result",
          "data": {
            "text/plain": [
              "'قصور جارات الدرقية أو قصور نظيرة الدرقية أو قصور الدُرَيْقات (بالإنجليزية: hypoparathyroidism)\\u200f هو قصور وظيفة الغدد جارات الدرقية مع نقص إنتاج الهرمون جار الدرقي(PTH)  يمكن أن يؤدي هذا النقص إلى انخفاض مستويات الكالسيوم في الدم، وغالبًا ما يتسبب بشد عضلي وتشنجها أو التكزز (تقلص العضلات اللاإرادي)، والعديد من الأعراض الأخرى يمكن أن تكون الحالة موروثة، وقد تحدث أيضًا بعد جراحة الغدة الدرقية أو الغدد جارات الدرقية، ويمكن أن تنتج أيضًا عن الأذيات المتعلقة بالجهاز المناعي بالإضافة إلى عدد من الأسباب النادرة يشخص القصور عن طريق اختبارات الدم، وغيرها من الفحوصات مثل الفحوص الجينية بناء على النتائج يعد علاج قصور الغدد جارات الدرق محدودًا نظرًا لعدم وجود شكل محدد من الهرمون يمكن إعطاؤه كتعويض .'"
            ],
            "application/vnd.google.colaboratory.intrinsic+json": {
              "type": "string"
            }
          },
          "metadata": {},
          "execution_count": 101
        }
      ],
      "source": [
        "paragraph = ' '.join(str(x) for x in paragraph_lists) \n",
        "paragraph = paragraph.replace('الهرمون جار الدرقي','الهرمون جار الدرقي(PTH) ')\n",
        "paragraph = paragraph + ' .'\n",
        "paragraph"
      ]
    },
    {
      "cell_type": "code",
      "execution_count": 102,
      "metadata": {
        "colab": {
          "base_uri": "https://localhost:8080/"
        },
        "id": "Tcj12P4nBSmH",
        "outputId": "69d03eac-c544-46e0-c6e0-8cd212a4b771"
      },
      "outputs": [
        {
          "output_type": "execute_result",
          "data": {
            "text/plain": [
              "{'Diabetes': 'مرض السكري ، المعروف أيضًا باسم داء السكري ، هو مجموعة من أمراض الغدد الصماء الشائعة التي تتميز بارتفاع مستمر في مستويات السكر في الدم. يؤدي تركه دون علاج إلى العديد من المضاعفات الصحية. ',\n",
              " 'Prediabetes': 'مقدمات السكري هي أحد مكونات متلازمة التمثيل الغذائي وتتميز بارتفاع مستويات السكر في الدم التي تقل عن الحد الأدنى لتشخيص داء السكري.عادة لا تسبب أعراضًا ولكن الأشخاص الذين يعانون من مقدمات السكري غالبًا ما يعانون من السمنة (خاصة السمنة البطنية أو الحشوية) ، اضطراب شحميات الدم مع ارتفاع الدهون الثلاثية و / أو انخفاض نسبة الكوليسترول الحميد ، وارتفاع ضغط الدم ، كما أنه يرتبط بزيادة مخاطر الإصابة بأمراض القلب والأوعية الدموية  .',\n",
              " 'Hypoglycemia': 'نقص سكر الدم، ويسمى أيضًا هبوط سكر الدم، هو انخفاض في نسبة السكر في الدم إلى مستويات أقل من المعتاد، عادة ما تكون أقل من 70 ملغ/ديسيلتر (3.9 مليمول/لتر) يستخدم ثالوث ويبل لتحديد نوبات نقص السكر في الدم بشكل صحيح يتم تعريفه على أنه جلوكوز الدم أقل من 70 ملغ/ديسيلتر (3.9 مليمول/لتر)، قد يؤدي نقص السكر في الدم إلى صداع، تعب، خراقة، صعوبة التحدث، ارتباك، تسارع معدل ضربات القلب، تعرق، رجفان، عصبية، جوع، فقدان الوعي، نوبات أو وفاة. ',\n",
              " 'Jaundice': 'اليرقان (بالإنجليزية: Jaundice)\\u200f، المعروف أيضًا بالصفار، أو الاصفرار، هو تصبغ مصفر أو مخضر للجلد وبياض العين بسبب ارتفاع مستويات البيليروبين اليرقان عند البالغين هو عادة علامة تشير إلى وجود أمراض كامنة تنطوي على استقلاب الهيم غير الطبيعي، ضعف الكبد أو انسداد القناة الصفراوية انتشار اليرقان لدى البالغين أمر نادر الحدوث، في حين أن اليرقان عند الأطفال شائع، حيث يتأثر ما يقدر بنحو 80٪ خلال الأسبوع الأول من حياتهم.',\n",
              " 'Chronic Myelogenous Leukemia': 'ابيضاض الدم النقوي المزمن (Chronic myelogenous leukemia) ، والمعروف أيضًا باسم ابيضاض الدم النخاعي المزمن ، هو أحد أشكال سرطان الدم الذي يتميز بالنمو المتزايد وغير المنظم للخلايا النخاعية في نخاع العظام وتراكم هذه الخلايا في خلايا الدم البيضاء. سرطان الدم النخاعي المزمن هو اضطراب في الخلايا الجذعية لنخاع العظم نسيلي يتم فيه العثور على تكاثر الخلايا الحبيبية الناضجة (neutrophils, eosinophils, basophils) وهو نوع من الأورام التكاثرية النخاعية المرتبطة بنقل كروموسومي مميز يسمى كروموسوم فيلادلفيا.\\nيتم علاج سرطان الدم النخاعي المزمن إلى حد كبير بأدوية موجهة تسمى مثبطات التيروزين كيناز (tyrosine kinase inhibitors) والتي أدت إلى تحسن كبير في معدلات البقاء على قيد الحياة على المدى الطويل منذ عام 2001. ',\n",
              " 'Acute Lymphoblastic Leukemia': 'ابيضاض الدم الليمفاوي الحاد (Acute lymphoblastic leukemia) هو سرطان يصيب الخط اللمفاوي لخلايا الدم ويتميز بتطور أعداد كبيرة من الخلايا الليمفاوية غير الناضجة وقد تشمل الأعراض الشعور بالتعب أو شحوب لون الجلد أو الحمى أو سهولة النزف أو الكدمات أو تضخم الغدد الليمفاوية أو آلام العظام يتطور ابيضاض الدم الحاد (Acute lymphoblastic leukemia) بسرعة ، وعادة ما يكون قاتلاً في غضون أسابيع أو شهور إذا تُرك دون علاج ، وفي معظم الحالات يكون السبب غير معروف. ',\n",
              " 'Prostatic Cancer': 'سرطان البروستاتا هو ثاني أكثر الأورام السرطانية شيوعًا في جميع أنحاء العالم وهو خامس سبب رئيسي للوفيات المرتبطة بالسرطان بين الرجال. البروستاتا هي غدة في الجهاز التناسلي الذكري تحيط بالإحليل أسفل المثانة مباشرةً. معظم سرطانات البروستاتا بطيئة النمو قد تنتشر الخلايا السرطانية إلى مناطق أخرى من الجسم ، وخاصة العظام والغدد الليمفاوية وقد لا تسبب أعراضًا في البداية.. ',\n",
              " 'Normal Anemia': 'يعد فقر الدم الطبيعي من أكثر أشكال فقر الدم شيوعًا. فقر الدم هو حالة لا يوجد فيها ما يكفي من خلايا الدم الحمراء لتوفير الأكسجين الكافي لأعضائك والأنسجة الأخرى ، مع بعض أنواع فقر الدم ، يتغير شكل أو حجم خلايا الدم الحمراء ، مما يساعد الأطباء على تشخيص الحالة. إذا كنت تعاني من فقر الدم الطبيعي ، فإن خلايا الدم الحمراء طبيعية في الشكل والحجم. ومع ذلك ، فإن الحالة تعني أنه لا يزال لديك مستويات كافية من خلايا الدم الحمراء المنتشرة لتلبية احتياجات جسمك. يصاب معظم الناس بفقر الدم السوي الخلوي لأنهم يعانون من مرض مزمن كامن. إنها مشكلة شائعة تحدث للرجال والنساء الذين تزيد أعمارهم عن 85 عامًا.',\n",
              " 'Macrocytic Anemia': 'macrocytic anemia هو فقر الدم (يُعرَّف بأنه الدم الذي يحتوي على تركيز غير كافٍ من الهيموجلوبين) حيث تكون خلايا الدم الحمراء (كرات الدم الحمراء) أكبر من حجمها الطبيعي.\\nفي macrocytic anemia ، ترتبط الخلايا الحمراء الكبيرة دائمًا بعدد غير كافٍ من الخلايا وغالبًا أيضًا محتوى غير كافٍ من الهيموجلوبين لكل خلية يعمل كلا العاملين على التأثير المعاكس لحجم الخلية الأكبر ، مما يؤدي في النهاية إلى تركيز إجمالي للهيموجلوبين في الدم يكون أقل من الطبيعي (أي فقر الدم).\\n.',\n",
              " 'Microcytic Anemia': 'Microcytic Anemia هو أي نوع من أنواع فقر الدم العديدة التي تتميز بوجود خلايا دم حمراء أصغر من الطبيعي (تسمى Microcytic Anemia) متوسط \\u200b\\u200bحجم الجسم العضلي الطبيعي (MCV) هو ما يقرب من 80-100 فلولتر .اقل من 80 فلولتر تكون Microcytic Anemia وعندما> 100 فلولتر ، تكون Macrocytic Anemia (هذا الأخير يحدث في Macrocytic Anemia فقر الدم).',\n",
              " 'Hyperthyroidism': 'فرط نشاط الغدة الدرقية هو حالة تحدث بسبب فرط إفراز هرمونات الغدة الدرقية من الغدة الدرقية. التسمم الدرقي هو الحالة التي تحدث بسبب فرط هرمون الغدة الدرقية لأي سبب ، وبالتالي تشمل فرط نشاط الغدة الدرقية. تختلف العلامات والأعراض بين الأشخاص وقد تشمل التهيج وضعف العضلات والنوم المشاكل وسرعة ضربات القلب وعدم تحمل الحرارة والإسهال وتضخم الغدة الدرقية ورعاش اليد وفقدان الوزن تكون الأعراض عادة أقل حدة عند كبار السن وأثناء الحمل .',\n",
              " 'Hypothyroidism': 'قصور الغدة الدرقية (يسمى أيضًا خمول الغدة الدرقية أو انخفاض الغدة الدرقية أو قصور الغدة الدرقية) هو اضطراب في نظام الغدد الصماء حيث لا تنتج الغدة الدرقية ما يكفي من هرمون الغدة الدرقية.يمكن أن يسبب عددًا من الأعراض ، مثل ضعف القدرة على تحمل البرد والشعور بالتعب ، والإمساك ، وبطء معدل ضربات القلب ، والاكتئاب ، وزيادة الوزن في بعض الأحيان قد يكون هناك تورم في الجزء الأمامي من الرقبة بسبب تضخم الغدة الدرقية. في جميع أنحاء العالم ، يعتبر نقص اليود في النظام الغذائي هو السبب الأكثر شيوعًا لقصور الغدة الدرقية. يعد التهاب الغدة الدرقية هاشيموتو هو السبب الأكثر شيوعًا لقصور الغدة الدرقية في البلدان التي تحتوي على كمية كافية من اليود. .',\n",
              " 'Rheumatoid Arthritis': 'التهاب المفاصل الروماتويدي (Rheumatoid Arthritis) هو اضطراب مناعي طويل الأمد يؤثر بشكل أساسي على المفاصل ، وعادة ما ينتج عنه تورم وألم في المفاصل. جوانب الجسم قد يؤثر المرض أيضًا على أجزاء أخرى من الجسم ، بما في ذلك الجلد والعينين والرئتين والقلب والأعصاب والدم ، وقد يؤدي ذلك إلى انخفاض عدد خلايا الدم الحمراء والتهاب حول الرئتين والتهاب حول القلب.',\n",
              " 'Hyperuricemia (Gout)': 'فرط حمض يوريك الدم هو ارتفاع في مستوى حمض اليوريك في الدم إلى مستويات غير طبيعية عند الإنسان ، حيث يكون المعدل الطبيعي 360 ميكرو مول / لتر (6 مجم / ديسيلتر) للنساء و 400 ميكرو مول / لتر (6.8 مجم / ديسيلتر). ) للرجال. تعتمد كمية اليورات في الجسم على التوازن بين كمية البيورينات التي يتم تناولها في الطعام ، وكمية البول التي يتم تصنيعها داخل الجسم (على سبيل المثال ، من خلال دوران الخلايا) ، وكمية البول التي تفرز في البول أو من خلال الجهاز الهضمي قد يكون فرط حمض يوريك الدم في السبيل ناتجًا عن زيادة إنتاج حمض اليوريك ، أو انخفاض إفراز حمض اليوريك ، أو زيادة الإنتاج وانخفاض الإخراج.',\n",
              " 'Hypouricemia': 'نقص حمض يوريك الدم (بالإنجليزية: Hypouricemia) هو وجود حمض اليوريك في مصل الدم بمستوى أقل من الطبيعي نقص حمض اليوريك في الدم هو عادة أمر بسيط، ولكن أحيانا يكون علامة على حالة مرضية.',\n",
              " 'Hyperparathyroidism': 'فرط نشاط جارات الدرقية هو زيادة مستويات الهرمون الجار درقي (PTH) في الدم يحدث ذلك إما نتيجة زيادة إفراز الغدد جارات الدرقية للهرمون بشكل مبالغ فيه (فرط نشاط جارات الدرقية الأولي) أو بسبب أحداث أخرى تحفز زيادة إنتاج الغدد (فرط نشاط جارات الدرقية الثانوي) لا يعاني أغلب مرضى المرض الأولي من أعراض في وقت التشحيص أما أولئك الذين يعانون من أعراض، فإن حصوات الكلى هي الأكثر شيوعًا بالإضافة لأعراض أخرى محتملة تشمل الضعف، والاكتئاب، وآلام العظام، والارتباك، وزيادة التبول يزيد كلا النوعين من خطورة حدوث هشاشة العظام.\\nيرجع فرط نشاط جارات الدرقية الأولي في 80% من الحالات إلى ورم حميد واحد يسمى ورم جار الدرقية الحميد (parathyroid adenoma) فيما ترجع أغلب الحالات المتبقية لعدة أورام حميدة .',\n",
              " 'Hypoparathyroidism': 'قصور جارات الدرقية أو قصور نظيرة الدرقية أو قصور الدُرَيْقات (بالإنجليزية: hypoparathyroidism)\\u200f هو قصور وظيفة الغدد جارات الدرقية مع نقص إنتاج الهرمون جار الدرقي(PTH)  يمكن أن يؤدي هذا النقص إلى انخفاض مستويات الكالسيوم في الدم، وغالبًا ما يتسبب بشد عضلي وتشنجها أو التكزز (تقلص العضلات اللاإرادي)، والعديد من الأعراض الأخرى يمكن أن تكون الحالة موروثة، وقد تحدث أيضًا بعد جراحة الغدة الدرقية أو الغدد جارات الدرقية، ويمكن أن تنتج أيضًا عن الأذيات المتعلقة بالجهاز المناعي بالإضافة إلى عدد من الأسباب النادرة يشخص القصور عن طريق اختبارات الدم، وغيرها من الفحوصات مثل الفحوص الجينية بناء على النتائج يعد علاج قصور الغدد جارات الدرق محدودًا نظرًا لعدم وجود شكل محدد من الهرمون يمكن إعطاؤه كتعويض .'}"
            ]
          },
          "metadata": {},
          "execution_count": 102
        }
      ],
      "source": [
        "diseases_description['Hypoparathyroidism'] = paragraph\n",
        "diseases_description"
      ]
    },
    {
      "cell_type": "markdown",
      "metadata": {
        "id": "HSymqu9Xf_sI"
      },
      "source": [
        "## Saving Data \n",
        "Saving disease description in CSV file to use it in the application"
      ]
    },
    {
      "cell_type": "code",
      "execution_count": 103,
      "metadata": {
        "id": "AoO3P7yFEuwn"
      },
      "outputs": [],
      "source": [
        "\n",
        "import csv\n",
        "  \n",
        "# field names \n",
        "fields = ['Disease', 'Description'] \n",
        "    \n",
        "# data rows of csv file \n",
        "rows = []\n",
        "for key,value in diseases_description.items() : \n",
        "    rows.append([key,value]) \n",
        "    \n",
        "no_disease_rows_1 =  ['Acute Lymphoblastic Lekumia and Chronic Myelogenous Lekumia',\"هذا يعني وجود خلل في رينجات الخاصة ب تحليل صورة الدم الكاملة (CBC) الخاص بك و هذا الخلل بيان عن احتمالية وجود نوع من أنواع سرطان الدم في جسمك .\"] \n",
        "no_disease_rows_2 =  ['Another Disease' , 'هذا لا يستوجب وجود  مرض بعينه لكن هو مجرد دليل أو بيان أن هناك خلل في رينجات ال PTH و ال Calcium و ال Phosphorus و هذه المشكلة ليست ب نشاط في الغدة جار درقية أو  خمول في الغدة جار درقية']\n",
        "no_disease_rows_3 =  ['Other Thyroid Abnormalities','هذا ليس مرضا لكن المقصود بالتشوهات في الغدة الدرقية أن هناك مشكلة في الغدة الدرقية و من خلال رينجات ال FT3 أو ال TSH او ال FT4 و هذة  المشكلة ليست  نشاط  في الغدة الدرقية أو خمول في الغدة الدرقية .']\n",
        "\n",
        "rows.append(no_disease_rows_1)\n",
        "rows.append(no_disease_rows_2)\n",
        "rows.append(no_disease_rows_3)\n",
        "\n",
        "with open('Diseases_Description.csv', 'w+') as f:\n",
        "      \n",
        "    # using csv.writer method from CSV package\n",
        "    write = csv.writer(f)\n",
        "    write.writerow(fields)\n",
        "    write.writerows(rows)"
      ]
    },
    {
      "cell_type": "code",
      "execution_count": 104,
      "metadata": {
        "colab": {
          "base_uri": "https://localhost:8080/",
          "height": 790
        },
        "id": "F04Xj0CQhDO2",
        "outputId": "d97f2f9e-99e7-403b-dcdb-ca0f2baec574"
      },
      "outputs": [
        {
          "output_type": "execute_result",
          "data": {
            "text/plain": [
              "                                              Disease  \\\n",
              "0                                            Diabetes   \n",
              "1                                         Prediabetes   \n",
              "2                                        Hypoglycemia   \n",
              "3                                            Jaundice   \n",
              "4                        Chronic Myelogenous Leukemia   \n",
              "5                        Acute Lymphoblastic Leukemia   \n",
              "6                                    Prostatic Cancer   \n",
              "7                                       Normal Anemia   \n",
              "8                                   Macrocytic Anemia   \n",
              "9                                   Microcytic Anemia   \n",
              "10                                    Hyperthyroidism   \n",
              "11                                     Hypothyroidism   \n",
              "12                               Rheumatoid Arthritis   \n",
              "13                               Hyperuricemia (Gout)   \n",
              "14                                       Hypouricemia   \n",
              "15                                Hyperparathyroidism   \n",
              "16                                 Hypoparathyroidism   \n",
              "17  Acute Lymphoblastic Lekumia and Chronic Myelog...   \n",
              "18                                    Another Disease   \n",
              "19                        Other Thyroid Abnormalities   \n",
              "\n",
              "                                          Description  \n",
              "0   مرض السكري ، المعروف أيضًا باسم داء السكري ، ه...  \n",
              "1   مقدمات السكري هي أحد مكونات متلازمة التمثيل ال...  \n",
              "2   نقص سكر الدم، ويسمى أيضًا هبوط سكر الدم، هو ان...  \n",
              "3   اليرقان (بالإنجليزية: Jaundice)‏، المعروف أيضً...  \n",
              "4   ابيضاض الدم النقوي المزمن (Chronic myelogenous...  \n",
              "5   ابيضاض الدم الليمفاوي الحاد (Acute lymphoblast...  \n",
              "6   سرطان البروستاتا هو ثاني أكثر الأورام السرطاني...  \n",
              "7   يعد فقر الدم الطبيعي من أكثر أشكال فقر الدم شي...  \n",
              "8   macrocytic anemia هو فقر الدم (يُعرَّف بأنه ال...  \n",
              "9   Microcytic Anemia هو أي نوع من أنواع فقر الدم ...  \n",
              "10  فرط نشاط الغدة الدرقية هو حالة تحدث بسبب فرط إ...  \n",
              "11  قصور الغدة الدرقية (يسمى أيضًا خمول الغدة الدر...  \n",
              "12  التهاب المفاصل الروماتويدي (Rheumatoid Arthrit...  \n",
              "13  فرط حمض يوريك الدم هو ارتفاع في مستوى حمض اليو...  \n",
              "14  نقص حمض يوريك الدم (بالإنجليزية: Hypouricemia)...  \n",
              "15  فرط نشاط جارات الدرقية هو زيادة مستويات الهرمو...  \n",
              "16  قصور جارات الدرقية أو قصور نظيرة الدرقية أو قص...  \n",
              "17  هذا يعني وجود خلل في رينجات الخاصة ب تحليل صور...  \n",
              "18  هذا لا يستوجب وجود  مرض بعينه لكن هو مجرد دليل...  \n",
              "19  هذا ليس مرضا لكن المقصود بالتشوهات في الغدة ال...  "
            ],
            "text/html": [
              "\n",
              "  <div id=\"df-4233a741-7ab0-43da-ba72-033e8bb01637\">\n",
              "    <div class=\"colab-df-container\">\n",
              "      <div>\n",
              "<style scoped>\n",
              "    .dataframe tbody tr th:only-of-type {\n",
              "        vertical-align: middle;\n",
              "    }\n",
              "\n",
              "    .dataframe tbody tr th {\n",
              "        vertical-align: top;\n",
              "    }\n",
              "\n",
              "    .dataframe thead th {\n",
              "        text-align: right;\n",
              "    }\n",
              "</style>\n",
              "<table border=\"1\" class=\"dataframe\">\n",
              "  <thead>\n",
              "    <tr style=\"text-align: right;\">\n",
              "      <th></th>\n",
              "      <th>Disease</th>\n",
              "      <th>Description</th>\n",
              "    </tr>\n",
              "  </thead>\n",
              "  <tbody>\n",
              "    <tr>\n",
              "      <th>0</th>\n",
              "      <td>Diabetes</td>\n",
              "      <td>مرض السكري ، المعروف أيضًا باسم داء السكري ، ه...</td>\n",
              "    </tr>\n",
              "    <tr>\n",
              "      <th>1</th>\n",
              "      <td>Prediabetes</td>\n",
              "      <td>مقدمات السكري هي أحد مكونات متلازمة التمثيل ال...</td>\n",
              "    </tr>\n",
              "    <tr>\n",
              "      <th>2</th>\n",
              "      <td>Hypoglycemia</td>\n",
              "      <td>نقص سكر الدم، ويسمى أيضًا هبوط سكر الدم، هو ان...</td>\n",
              "    </tr>\n",
              "    <tr>\n",
              "      <th>3</th>\n",
              "      <td>Jaundice</td>\n",
              "      <td>اليرقان (بالإنجليزية: Jaundice)‏، المعروف أيضً...</td>\n",
              "    </tr>\n",
              "    <tr>\n",
              "      <th>4</th>\n",
              "      <td>Chronic Myelogenous Leukemia</td>\n",
              "      <td>ابيضاض الدم النقوي المزمن (Chronic myelogenous...</td>\n",
              "    </tr>\n",
              "    <tr>\n",
              "      <th>5</th>\n",
              "      <td>Acute Lymphoblastic Leukemia</td>\n",
              "      <td>ابيضاض الدم الليمفاوي الحاد (Acute lymphoblast...</td>\n",
              "    </tr>\n",
              "    <tr>\n",
              "      <th>6</th>\n",
              "      <td>Prostatic Cancer</td>\n",
              "      <td>سرطان البروستاتا هو ثاني أكثر الأورام السرطاني...</td>\n",
              "    </tr>\n",
              "    <tr>\n",
              "      <th>7</th>\n",
              "      <td>Normal Anemia</td>\n",
              "      <td>يعد فقر الدم الطبيعي من أكثر أشكال فقر الدم شي...</td>\n",
              "    </tr>\n",
              "    <tr>\n",
              "      <th>8</th>\n",
              "      <td>Macrocytic Anemia</td>\n",
              "      <td>macrocytic anemia هو فقر الدم (يُعرَّف بأنه ال...</td>\n",
              "    </tr>\n",
              "    <tr>\n",
              "      <th>9</th>\n",
              "      <td>Microcytic Anemia</td>\n",
              "      <td>Microcytic Anemia هو أي نوع من أنواع فقر الدم ...</td>\n",
              "    </tr>\n",
              "    <tr>\n",
              "      <th>10</th>\n",
              "      <td>Hyperthyroidism</td>\n",
              "      <td>فرط نشاط الغدة الدرقية هو حالة تحدث بسبب فرط إ...</td>\n",
              "    </tr>\n",
              "    <tr>\n",
              "      <th>11</th>\n",
              "      <td>Hypothyroidism</td>\n",
              "      <td>قصور الغدة الدرقية (يسمى أيضًا خمول الغدة الدر...</td>\n",
              "    </tr>\n",
              "    <tr>\n",
              "      <th>12</th>\n",
              "      <td>Rheumatoid Arthritis</td>\n",
              "      <td>التهاب المفاصل الروماتويدي (Rheumatoid Arthrit...</td>\n",
              "    </tr>\n",
              "    <tr>\n",
              "      <th>13</th>\n",
              "      <td>Hyperuricemia (Gout)</td>\n",
              "      <td>فرط حمض يوريك الدم هو ارتفاع في مستوى حمض اليو...</td>\n",
              "    </tr>\n",
              "    <tr>\n",
              "      <th>14</th>\n",
              "      <td>Hypouricemia</td>\n",
              "      <td>نقص حمض يوريك الدم (بالإنجليزية: Hypouricemia)...</td>\n",
              "    </tr>\n",
              "    <tr>\n",
              "      <th>15</th>\n",
              "      <td>Hyperparathyroidism</td>\n",
              "      <td>فرط نشاط جارات الدرقية هو زيادة مستويات الهرمو...</td>\n",
              "    </tr>\n",
              "    <tr>\n",
              "      <th>16</th>\n",
              "      <td>Hypoparathyroidism</td>\n",
              "      <td>قصور جارات الدرقية أو قصور نظيرة الدرقية أو قص...</td>\n",
              "    </tr>\n",
              "    <tr>\n",
              "      <th>17</th>\n",
              "      <td>Acute Lymphoblastic Lekumia and Chronic Myelog...</td>\n",
              "      <td>هذا يعني وجود خلل في رينجات الخاصة ب تحليل صور...</td>\n",
              "    </tr>\n",
              "    <tr>\n",
              "      <th>18</th>\n",
              "      <td>Another Disease</td>\n",
              "      <td>هذا لا يستوجب وجود  مرض بعينه لكن هو مجرد دليل...</td>\n",
              "    </tr>\n",
              "    <tr>\n",
              "      <th>19</th>\n",
              "      <td>Other Thyroid Abnormalities</td>\n",
              "      <td>هذا ليس مرضا لكن المقصود بالتشوهات في الغدة ال...</td>\n",
              "    </tr>\n",
              "  </tbody>\n",
              "</table>\n",
              "</div>\n",
              "      <button class=\"colab-df-convert\" onclick=\"convertToInteractive('df-4233a741-7ab0-43da-ba72-033e8bb01637')\"\n",
              "              title=\"Convert this dataframe to an interactive table.\"\n",
              "              style=\"display:none;\">\n",
              "        \n",
              "  <svg xmlns=\"http://www.w3.org/2000/svg\" height=\"24px\"viewBox=\"0 0 24 24\"\n",
              "       width=\"24px\">\n",
              "    <path d=\"M0 0h24v24H0V0z\" fill=\"none\"/>\n",
              "    <path d=\"M18.56 5.44l.94 2.06.94-2.06 2.06-.94-2.06-.94-.94-2.06-.94 2.06-2.06.94zm-11 1L8.5 8.5l.94-2.06 2.06-.94-2.06-.94L8.5 2.5l-.94 2.06-2.06.94zm10 10l.94 2.06.94-2.06 2.06-.94-2.06-.94-.94-2.06-.94 2.06-2.06.94z\"/><path d=\"M17.41 7.96l-1.37-1.37c-.4-.4-.92-.59-1.43-.59-.52 0-1.04.2-1.43.59L10.3 9.45l-7.72 7.72c-.78.78-.78 2.05 0 2.83L4 21.41c.39.39.9.59 1.41.59.51 0 1.02-.2 1.41-.59l7.78-7.78 2.81-2.81c.8-.78.8-2.07 0-2.86zM5.41 20L4 18.59l7.72-7.72 1.47 1.35L5.41 20z\"/>\n",
              "  </svg>\n",
              "      </button>\n",
              "      \n",
              "  <style>\n",
              "    .colab-df-container {\n",
              "      display:flex;\n",
              "      flex-wrap:wrap;\n",
              "      gap: 12px;\n",
              "    }\n",
              "\n",
              "    .colab-df-convert {\n",
              "      background-color: #E8F0FE;\n",
              "      border: none;\n",
              "      border-radius: 50%;\n",
              "      cursor: pointer;\n",
              "      display: none;\n",
              "      fill: #1967D2;\n",
              "      height: 32px;\n",
              "      padding: 0 0 0 0;\n",
              "      width: 32px;\n",
              "    }\n",
              "\n",
              "    .colab-df-convert:hover {\n",
              "      background-color: #E2EBFA;\n",
              "      box-shadow: 0px 1px 2px rgba(60, 64, 67, 0.3), 0px 1px 3px 1px rgba(60, 64, 67, 0.15);\n",
              "      fill: #174EA6;\n",
              "    }\n",
              "\n",
              "    [theme=dark] .colab-df-convert {\n",
              "      background-color: #3B4455;\n",
              "      fill: #D2E3FC;\n",
              "    }\n",
              "\n",
              "    [theme=dark] .colab-df-convert:hover {\n",
              "      background-color: #434B5C;\n",
              "      box-shadow: 0px 1px 3px 1px rgba(0, 0, 0, 0.15);\n",
              "      filter: drop-shadow(0px 1px 2px rgba(0, 0, 0, 0.3));\n",
              "      fill: #FFFFFF;\n",
              "    }\n",
              "  </style>\n",
              "\n",
              "      <script>\n",
              "        const buttonEl =\n",
              "          document.querySelector('#df-4233a741-7ab0-43da-ba72-033e8bb01637 button.colab-df-convert');\n",
              "        buttonEl.style.display =\n",
              "          google.colab.kernel.accessAllowed ? 'block' : 'none';\n",
              "\n",
              "        async function convertToInteractive(key) {\n",
              "          const element = document.querySelector('#df-4233a741-7ab0-43da-ba72-033e8bb01637');\n",
              "          const dataTable =\n",
              "            await google.colab.kernel.invokeFunction('convertToInteractive',\n",
              "                                                     [key], {});\n",
              "          if (!dataTable) return;\n",
              "\n",
              "          const docLinkHtml = 'Like what you see? Visit the ' +\n",
              "            '<a target=\"_blank\" href=https://colab.research.google.com/notebooks/data_table.ipynb>data table notebook</a>'\n",
              "            + ' to learn more about interactive tables.';\n",
              "          element.innerHTML = '';\n",
              "          dataTable['output_type'] = 'display_data';\n",
              "          await google.colab.output.renderOutput(dataTable, element);\n",
              "          const docLink = document.createElement('div');\n",
              "          docLink.innerHTML = docLinkHtml;\n",
              "          element.appendChild(docLink);\n",
              "        }\n",
              "      </script>\n",
              "    </div>\n",
              "  </div>\n",
              "  "
            ]
          },
          "metadata": {},
          "execution_count": 104
        }
      ],
      "source": [
        "import pandas as pd \n",
        "df = pd.read_csv('Diseases_Description.csv')\n",
        "df"
      ]
    },
    {
      "cell_type": "code",
      "execution_count": 104,
      "metadata": {
        "id": "MNJ9Mh4Nmymj"
      },
      "outputs": [],
      "source": []
    }
  ],
  "metadata": {
    "colab": {
      "provenance": []
    },
    "kernelspec": {
      "display_name": "Python 3",
      "name": "python3"
    },
    "language_info": {
      "name": "python"
    }
  },
  "nbformat": 4,
  "nbformat_minor": 0
}