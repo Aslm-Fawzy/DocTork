{
  "cells": [
    {
      "cell_type": "code",
      "execution_count": null,
      "metadata": {
        "colab": {
          "base_uri": "https://localhost:8080/"
        },
        "id": "AHZTiPY_TQ0s",
        "outputId": "b4a5cb5d-85bb-4a99-c177-2d6d781ea57e"
      },
      "outputs": [
        {
          "name": "stdout",
          "output_type": "stream",
          "text": [
            "Hyperthyroidism\n",
            "Ft3 Hormone (FT3) , Ft4 Hormone (FT4) , TSH Hormone (TSH)\n",
            "['TSH Hormone (TSH)', 'Ft3 Hormone (FT3)', 'Ft4 Hormone (FT4)']\n"
          ]
        }
      ],
      "source": [
        "#Importing Packages \n",
        "import pandas as pd\n",
        "import numpy  as np\n",
        "import joblib\n",
        "\n",
        "#Loading Model\n",
        "model = joblib.load('EnsembleModel(RF-KNN-LR)(Symtypoms).h5')\n",
        "\n",
        "#Return Features in Model \n",
        "features = list(model.feature_names_in_)\n",
        "\n",
        "#Reading Data for Features to Extracting Features for each Disease\n",
        "disease_features = pd.read_excel('Features and Diseases.xlsx')\n",
        "\n",
        "#Reading Data for Lab Test to Extracting Required Tests for each Disease\n",
        "disease_lab_tests = pd.read_excel('Diseases and Lab Test.xlsx')\n",
        "\n",
        "# list come from Application (Testing only keep the comment after test API )\n",
        "'''\n",
        "_symptomscheckedItems =  [\n",
        "       'التعب او الهمدان او الخمول او الأرهاق', \n",
        "       'فقدان الوزن',\n",
        "        'صعوبات في النوم', \n",
        "        'التقلبات المزاجية (الاكتئاب)',\n",
        "        'ضربات قلب غير منتظمة',\n",
        "        'زيادة الحساسية  للحرارة', \n",
        "        'الاسهال',\n",
        "]\n",
        "'''\n",
        "\n",
        "# Returning Prediction of Model (Disease) Based on Symptoms\n",
        "custom_data_dic = {}\n",
        "for feature in features :\n",
        "    custom_data_dic[feature] = 0 \n",
        "for symptom in _symptomscheckedItems : \n",
        "    feature_keys  = list(custom_data_dic.keys()) \n",
        "    if symptom in feature_keys :\n",
        "       custom_data_dic[symptom] = 1\n",
        "custom_data = pd.DataFrame([custom_data_dic])       \n",
        "output = model.predict(custom_data)[0]       \n",
        "print(output)  # Response from Api\n",
        "\n",
        "# Returning Requried Tests for Predicted Disease\n",
        "required_tests = disease_lab_tests[disease_lab_tests['Disease'] == output].iloc[:,1:].dropna(axis=1).values.flatten()\n",
        "required_tests = ' , '.join(str(test) for test in required_tests )\n",
        "print(required_tests)  # Response from Api   \n",
        "\n",
        "# Returning Features (Inputs) for Predicted Disease to be Written in Manual Option\n",
        "diseases_features_list = disease_features[disease_lab_tests['Disease'] == output].iloc[:,1:].dropna(axis=1).values.flatten()\n",
        "diseases_features_list = list(diseases_features_list)\n",
        "print(diseases_features_list)  # Response from Api   \n"
      ]
    },
    {
      "cell_type": "code",
      "execution_count": null,
      "metadata": {
        "id": "sHnoghDZV2DC"
      },
      "outputs": [],
      "source": []
    }
  ],
  "metadata": {
    "colab": {
      "provenance": [],
      "toc_visible": true
    },
    "kernelspec": {
      "display_name": "Python 3",
      "name": "python3"
    },
    "language_info": {
      "name": "python"
    }
  },
  "nbformat": 4,
  "nbformat_minor": 0
}
